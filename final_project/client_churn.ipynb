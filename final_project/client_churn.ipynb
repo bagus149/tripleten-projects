{
 "cells": [
  {
   "cell_type": "markdown",
   "id": "080081e3",
   "metadata": {},
   "source": [
    "## Content\n",
    "* [Project Description]\n",
    "* [Import Library]\n",
    "* [Checking Datasets]\n",
    "    * [Contract]\n",
    "    * [Internet]\n",
    "    * [Personal]\n",
    "    * [Phone]\n",
    "* [Clarifying Questions]\n",
    "* [Steps]\n",
    "* [Pre-processing Datasets]\n",
    "    * [Cleaning Datasets]\n",
    "    * [Merging Datasets]\n",
    "* [EDA]\n",
    "    * [Class Imbalanced]\n",
    "    * [Perbandingan data kategori dengan jumlah klien]\n",
    "    * [Perbandingan klien berdasarkan data numerik]\n",
    "    * [Layanan Telpon vs Layanan Internet]\n",
    "* [Kesimpulan Umum]\n",
    "* [Model Training]\n",
    "    * [For Non-LGBM Model]\n",
    "        * [Label Encode]\n",
    "        * [Split Dataset]\n",
    "        * [Apply Upsampling Function]\n",
    "        * [Feature Scalling]\n",
    "    * [Preparing Feature for LGBM]\n",
    "        * [Split Dataset]\n",
    "        * [Apply Upsampling Function]\n",
    "        * [Feature Scalling]\n",
    "    * [Logistic Regression]\n",
    "    * [Random Forest Classifier]\n",
    "    * [LGBM Classifier]\n",
    "* [Final Test]\n",
    "    * [ROC Curve]\n",
    "* [Conclusion]\n",
    "* [Solution Report]"
   ]
  },
  {
   "cell_type": "markdown",
   "id": "a509dcc5",
   "metadata": {},
   "source": [
    "## Project Description"
   ]
  },
  {
   "cell_type": "markdown",
   "id": "c03c81f5",
   "metadata": {},
   "source": [
    "Operator telekomunikasi bernama Interconnect ingin meramalkan tingkat _churn_ klien mereka. Jika diketahui bahwa seorang klien berencana untuk berhenti, klien tersebut akan ditawari kode promosi dan opsi paket khusus. Tim pemasaran Interconnect telah mengumpulkan beberapa data pribadi klien, termasuk informasi tentang paket data yang dipilih dan kontrak mereka."
   ]
  },
  {
   "cell_type": "markdown",
   "id": "60680ba8",
   "metadata": {},
   "source": [
    "## Import Library"
   ]
  },
  {
   "cell_type": "code",
   "execution_count": 70,
   "id": "a6942cc1",
   "metadata": {},
   "outputs": [],
   "source": [
    "import pandas as pd\n",
    "import matplotlib.pyplot as plt\n",
    "\n",
    "from sklearn.model_selection import train_test_split, cross_val_score, GridSearchCV\n",
    "from sklearn.preprocessing import StandardScaler, OrdinalEncoder\n",
    "from sklearn.utils import shuffle\n",
    "from sklearn.linear_model import LogisticRegression\n",
    "from sklearn.ensemble import RandomForestClassifier\n",
    "from lightgbm import LGBMClassifier\n",
    "\n",
    "from sklearn.metrics import roc_auc_score, roc_curve, accuracy_score"
   ]
  },
  {
   "cell_type": "code",
   "execution_count": 2,
   "id": "bc511808",
   "metadata": {},
   "outputs": [],
   "source": [
    "try:\n",
    "    contract_df = pd.read_csv('D:/datasets/final_provider/contract.csv')\n",
    "    internet_df = pd.read_csv('D:/datasets/final_provider/internet.csv')\n",
    "    personal_df = pd.read_csv('D:/datasets/final_provider/personal.csv')\n",
    "    phone_df = pd.read_csv('D:/datasets/final_provider/phone.csv')\n",
    "except:\n",
    "    contract_df = pd.read_csv('/datasets/final_provider/contract.csv')\n",
    "    internet_df = pd.read_csv('/datasets/final_provider/internet.csv')\n",
    "    personal_df = pd.read_csv('/datasets/final_provider/personal.csv')\n",
    "    phone_df = pd.read_csv('/datasets/final_provider/phone.csv')"
   ]
  },
  {
   "cell_type": "markdown",
   "id": "8b423dc7",
   "metadata": {},
   "source": [
    "## Checking Datasets"
   ]
  },
  {
   "cell_type": "markdown",
   "id": "05c2f325",
   "metadata": {},
   "source": [
    "### Contract"
   ]
  },
  {
   "cell_type": "code",
   "execution_count": 3,
   "id": "4c52d5c9",
   "metadata": {},
   "outputs": [
    {
     "data": {
      "text/html": [
       "<div>\n",
       "<style scoped>\n",
       "    .dataframe tbody tr th:only-of-type {\n",
       "        vertical-align: middle;\n",
       "    }\n",
       "\n",
       "    .dataframe tbody tr th {\n",
       "        vertical-align: top;\n",
       "    }\n",
       "\n",
       "    .dataframe thead th {\n",
       "        text-align: right;\n",
       "    }\n",
       "</style>\n",
       "<table border=\"1\" class=\"dataframe\">\n",
       "  <thead>\n",
       "    <tr style=\"text-align: right;\">\n",
       "      <th></th>\n",
       "      <th>customerID</th>\n",
       "      <th>BeginDate</th>\n",
       "      <th>EndDate</th>\n",
       "      <th>Type</th>\n",
       "      <th>PaperlessBilling</th>\n",
       "      <th>PaymentMethod</th>\n",
       "      <th>MonthlyCharges</th>\n",
       "      <th>TotalCharges</th>\n",
       "    </tr>\n",
       "  </thead>\n",
       "  <tbody>\n",
       "    <tr>\n",
       "      <th>0</th>\n",
       "      <td>7590-VHVEG</td>\n",
       "      <td>2020-01-01</td>\n",
       "      <td>No</td>\n",
       "      <td>Month-to-month</td>\n",
       "      <td>Yes</td>\n",
       "      <td>Electronic check</td>\n",
       "      <td>29.85</td>\n",
       "      <td>29.85</td>\n",
       "    </tr>\n",
       "    <tr>\n",
       "      <th>1</th>\n",
       "      <td>5575-GNVDE</td>\n",
       "      <td>2017-04-01</td>\n",
       "      <td>No</td>\n",
       "      <td>One year</td>\n",
       "      <td>No</td>\n",
       "      <td>Mailed check</td>\n",
       "      <td>56.95</td>\n",
       "      <td>1889.5</td>\n",
       "    </tr>\n",
       "    <tr>\n",
       "      <th>2</th>\n",
       "      <td>3668-QPYBK</td>\n",
       "      <td>2019-10-01</td>\n",
       "      <td>2019-12-01 00:00:00</td>\n",
       "      <td>Month-to-month</td>\n",
       "      <td>Yes</td>\n",
       "      <td>Mailed check</td>\n",
       "      <td>53.85</td>\n",
       "      <td>108.15</td>\n",
       "    </tr>\n",
       "    <tr>\n",
       "      <th>3</th>\n",
       "      <td>7795-CFOCW</td>\n",
       "      <td>2016-05-01</td>\n",
       "      <td>No</td>\n",
       "      <td>One year</td>\n",
       "      <td>No</td>\n",
       "      <td>Bank transfer (automatic)</td>\n",
       "      <td>42.30</td>\n",
       "      <td>1840.75</td>\n",
       "    </tr>\n",
       "    <tr>\n",
       "      <th>4</th>\n",
       "      <td>9237-HQITU</td>\n",
       "      <td>2019-09-01</td>\n",
       "      <td>2019-11-01 00:00:00</td>\n",
       "      <td>Month-to-month</td>\n",
       "      <td>Yes</td>\n",
       "      <td>Electronic check</td>\n",
       "      <td>70.70</td>\n",
       "      <td>151.65</td>\n",
       "    </tr>\n",
       "  </tbody>\n",
       "</table>\n",
       "</div>"
      ],
      "text/plain": [
       "   customerID   BeginDate              EndDate            Type  \\\n",
       "0  7590-VHVEG  2020-01-01                   No  Month-to-month   \n",
       "1  5575-GNVDE  2017-04-01                   No        One year   \n",
       "2  3668-QPYBK  2019-10-01  2019-12-01 00:00:00  Month-to-month   \n",
       "3  7795-CFOCW  2016-05-01                   No        One year   \n",
       "4  9237-HQITU  2019-09-01  2019-11-01 00:00:00  Month-to-month   \n",
       "\n",
       "  PaperlessBilling              PaymentMethod  MonthlyCharges TotalCharges  \n",
       "0              Yes           Electronic check           29.85        29.85  \n",
       "1               No               Mailed check           56.95       1889.5  \n",
       "2              Yes               Mailed check           53.85       108.15  \n",
       "3               No  Bank transfer (automatic)           42.30      1840.75  \n",
       "4              Yes           Electronic check           70.70       151.65  "
      ]
     },
     "execution_count": 3,
     "metadata": {},
     "output_type": "execute_result"
    }
   ],
   "source": [
    "contract_df.head()"
   ]
  },
  {
   "cell_type": "code",
   "execution_count": 4,
   "id": "cc40d6dc",
   "metadata": {},
   "outputs": [
    {
     "name": "stdout",
     "output_type": "stream",
     "text": [
      "<class 'pandas.core.frame.DataFrame'>\n",
      "RangeIndex: 7043 entries, 0 to 7042\n",
      "Data columns (total 8 columns):\n",
      " #   Column            Non-Null Count  Dtype  \n",
      "---  ------            --------------  -----  \n",
      " 0   customerID        7043 non-null   object \n",
      " 1   BeginDate         7043 non-null   object \n",
      " 2   EndDate           7043 non-null   object \n",
      " 3   Type              7043 non-null   object \n",
      " 4   PaperlessBilling  7043 non-null   object \n",
      " 5   PaymentMethod     7043 non-null   object \n",
      " 6   MonthlyCharges    7043 non-null   float64\n",
      " 7   TotalCharges      7043 non-null   object \n",
      "dtypes: float64(1), object(7)\n",
      "memory usage: 440.3+ KB\n"
     ]
    }
   ],
   "source": [
    "contract_df.info()"
   ]
  },
  {
   "cell_type": "markdown",
   "id": "d7acaafb",
   "metadata": {},
   "source": [
    "Pada tabel contract ada beberapa kolom yang perlu diperbaiki untuk tipe datanya. tabel-tabel tersebut diantaranya adalah `BeginDate`, `EndDate`, and `TotalCharges`."
   ]
  },
  {
   "cell_type": "markdown",
   "id": "7a4a5d3f",
   "metadata": {},
   "source": [
    "### Internet"
   ]
  },
  {
   "cell_type": "code",
   "execution_count": 5,
   "id": "e31c775c",
   "metadata": {},
   "outputs": [
    {
     "data": {
      "text/html": [
       "<div>\n",
       "<style scoped>\n",
       "    .dataframe tbody tr th:only-of-type {\n",
       "        vertical-align: middle;\n",
       "    }\n",
       "\n",
       "    .dataframe tbody tr th {\n",
       "        vertical-align: top;\n",
       "    }\n",
       "\n",
       "    .dataframe thead th {\n",
       "        text-align: right;\n",
       "    }\n",
       "</style>\n",
       "<table border=\"1\" class=\"dataframe\">\n",
       "  <thead>\n",
       "    <tr style=\"text-align: right;\">\n",
       "      <th></th>\n",
       "      <th>customerID</th>\n",
       "      <th>InternetService</th>\n",
       "      <th>OnlineSecurity</th>\n",
       "      <th>OnlineBackup</th>\n",
       "      <th>DeviceProtection</th>\n",
       "      <th>TechSupport</th>\n",
       "      <th>StreamingTV</th>\n",
       "      <th>StreamingMovies</th>\n",
       "    </tr>\n",
       "  </thead>\n",
       "  <tbody>\n",
       "    <tr>\n",
       "      <th>0</th>\n",
       "      <td>7590-VHVEG</td>\n",
       "      <td>DSL</td>\n",
       "      <td>No</td>\n",
       "      <td>Yes</td>\n",
       "      <td>No</td>\n",
       "      <td>No</td>\n",
       "      <td>No</td>\n",
       "      <td>No</td>\n",
       "    </tr>\n",
       "    <tr>\n",
       "      <th>1</th>\n",
       "      <td>5575-GNVDE</td>\n",
       "      <td>DSL</td>\n",
       "      <td>Yes</td>\n",
       "      <td>No</td>\n",
       "      <td>Yes</td>\n",
       "      <td>No</td>\n",
       "      <td>No</td>\n",
       "      <td>No</td>\n",
       "    </tr>\n",
       "    <tr>\n",
       "      <th>2</th>\n",
       "      <td>3668-QPYBK</td>\n",
       "      <td>DSL</td>\n",
       "      <td>Yes</td>\n",
       "      <td>Yes</td>\n",
       "      <td>No</td>\n",
       "      <td>No</td>\n",
       "      <td>No</td>\n",
       "      <td>No</td>\n",
       "    </tr>\n",
       "    <tr>\n",
       "      <th>3</th>\n",
       "      <td>7795-CFOCW</td>\n",
       "      <td>DSL</td>\n",
       "      <td>Yes</td>\n",
       "      <td>No</td>\n",
       "      <td>Yes</td>\n",
       "      <td>Yes</td>\n",
       "      <td>No</td>\n",
       "      <td>No</td>\n",
       "    </tr>\n",
       "    <tr>\n",
       "      <th>4</th>\n",
       "      <td>9237-HQITU</td>\n",
       "      <td>Fiber optic</td>\n",
       "      <td>No</td>\n",
       "      <td>No</td>\n",
       "      <td>No</td>\n",
       "      <td>No</td>\n",
       "      <td>No</td>\n",
       "      <td>No</td>\n",
       "    </tr>\n",
       "  </tbody>\n",
       "</table>\n",
       "</div>"
      ],
      "text/plain": [
       "   customerID InternetService OnlineSecurity OnlineBackup DeviceProtection  \\\n",
       "0  7590-VHVEG             DSL             No          Yes               No   \n",
       "1  5575-GNVDE             DSL            Yes           No              Yes   \n",
       "2  3668-QPYBK             DSL            Yes          Yes               No   \n",
       "3  7795-CFOCW             DSL            Yes           No              Yes   \n",
       "4  9237-HQITU     Fiber optic             No           No               No   \n",
       "\n",
       "  TechSupport StreamingTV StreamingMovies  \n",
       "0          No          No              No  \n",
       "1          No          No              No  \n",
       "2          No          No              No  \n",
       "3         Yes          No              No  \n",
       "4          No          No              No  "
      ]
     },
     "execution_count": 5,
     "metadata": {},
     "output_type": "execute_result"
    }
   ],
   "source": [
    "internet_df.head()"
   ]
  },
  {
   "cell_type": "code",
   "execution_count": 6,
   "id": "dbb96b5e",
   "metadata": {},
   "outputs": [
    {
     "name": "stdout",
     "output_type": "stream",
     "text": [
      "<class 'pandas.core.frame.DataFrame'>\n",
      "RangeIndex: 5517 entries, 0 to 5516\n",
      "Data columns (total 8 columns):\n",
      " #   Column            Non-Null Count  Dtype \n",
      "---  ------            --------------  ----- \n",
      " 0   customerID        5517 non-null   object\n",
      " 1   InternetService   5517 non-null   object\n",
      " 2   OnlineSecurity    5517 non-null   object\n",
      " 3   OnlineBackup      5517 non-null   object\n",
      " 4   DeviceProtection  5517 non-null   object\n",
      " 5   TechSupport       5517 non-null   object\n",
      " 6   StreamingTV       5517 non-null   object\n",
      " 7   StreamingMovies   5517 non-null   object\n",
      "dtypes: object(8)\n",
      "memory usage: 344.9+ KB\n"
     ]
    }
   ],
   "source": [
    "internet_df.info()"
   ]
  },
  {
   "cell_type": "markdown",
   "id": "53775f92",
   "metadata": {},
   "source": [
    "Tidak ada yang perlu diubah pada tabel ini. Semua sudah memiliki tipe data yang sesuai."
   ]
  },
  {
   "cell_type": "markdown",
   "id": "c0f9cf28",
   "metadata": {},
   "source": [
    "### Personal"
   ]
  },
  {
   "cell_type": "code",
   "execution_count": 7,
   "id": "1e985321",
   "metadata": {},
   "outputs": [
    {
     "data": {
      "text/html": [
       "<div>\n",
       "<style scoped>\n",
       "    .dataframe tbody tr th:only-of-type {\n",
       "        vertical-align: middle;\n",
       "    }\n",
       "\n",
       "    .dataframe tbody tr th {\n",
       "        vertical-align: top;\n",
       "    }\n",
       "\n",
       "    .dataframe thead th {\n",
       "        text-align: right;\n",
       "    }\n",
       "</style>\n",
       "<table border=\"1\" class=\"dataframe\">\n",
       "  <thead>\n",
       "    <tr style=\"text-align: right;\">\n",
       "      <th></th>\n",
       "      <th>customerID</th>\n",
       "      <th>gender</th>\n",
       "      <th>SeniorCitizen</th>\n",
       "      <th>Partner</th>\n",
       "      <th>Dependents</th>\n",
       "    </tr>\n",
       "  </thead>\n",
       "  <tbody>\n",
       "    <tr>\n",
       "      <th>0</th>\n",
       "      <td>7590-VHVEG</td>\n",
       "      <td>Female</td>\n",
       "      <td>0</td>\n",
       "      <td>Yes</td>\n",
       "      <td>No</td>\n",
       "    </tr>\n",
       "    <tr>\n",
       "      <th>1</th>\n",
       "      <td>5575-GNVDE</td>\n",
       "      <td>Male</td>\n",
       "      <td>0</td>\n",
       "      <td>No</td>\n",
       "      <td>No</td>\n",
       "    </tr>\n",
       "    <tr>\n",
       "      <th>2</th>\n",
       "      <td>3668-QPYBK</td>\n",
       "      <td>Male</td>\n",
       "      <td>0</td>\n",
       "      <td>No</td>\n",
       "      <td>No</td>\n",
       "    </tr>\n",
       "    <tr>\n",
       "      <th>3</th>\n",
       "      <td>7795-CFOCW</td>\n",
       "      <td>Male</td>\n",
       "      <td>0</td>\n",
       "      <td>No</td>\n",
       "      <td>No</td>\n",
       "    </tr>\n",
       "    <tr>\n",
       "      <th>4</th>\n",
       "      <td>9237-HQITU</td>\n",
       "      <td>Female</td>\n",
       "      <td>0</td>\n",
       "      <td>No</td>\n",
       "      <td>No</td>\n",
       "    </tr>\n",
       "  </tbody>\n",
       "</table>\n",
       "</div>"
      ],
      "text/plain": [
       "   customerID  gender  SeniorCitizen Partner Dependents\n",
       "0  7590-VHVEG  Female              0     Yes         No\n",
       "1  5575-GNVDE    Male              0      No         No\n",
       "2  3668-QPYBK    Male              0      No         No\n",
       "3  7795-CFOCW    Male              0      No         No\n",
       "4  9237-HQITU  Female              0      No         No"
      ]
     },
     "execution_count": 7,
     "metadata": {},
     "output_type": "execute_result"
    }
   ],
   "source": [
    "personal_df.head()"
   ]
  },
  {
   "cell_type": "code",
   "execution_count": 8,
   "id": "b72306fd",
   "metadata": {},
   "outputs": [
    {
     "name": "stdout",
     "output_type": "stream",
     "text": [
      "<class 'pandas.core.frame.DataFrame'>\n",
      "RangeIndex: 7043 entries, 0 to 7042\n",
      "Data columns (total 5 columns):\n",
      " #   Column         Non-Null Count  Dtype \n",
      "---  ------         --------------  ----- \n",
      " 0   customerID     7043 non-null   object\n",
      " 1   gender         7043 non-null   object\n",
      " 2   SeniorCitizen  7043 non-null   int64 \n",
      " 3   Partner        7043 non-null   object\n",
      " 4   Dependents     7043 non-null   object\n",
      "dtypes: int64(1), object(4)\n",
      "memory usage: 275.2+ KB\n"
     ]
    }
   ],
   "source": [
    "personal_df.info()"
   ]
  },
  {
   "cell_type": "markdown",
   "id": "7fe363d2",
   "metadata": {},
   "source": [
    "Tidak ada yang perlu diubah pada tabel ini."
   ]
  },
  {
   "cell_type": "markdown",
   "id": "885f1771",
   "metadata": {},
   "source": [
    "### Phone"
   ]
  },
  {
   "cell_type": "code",
   "execution_count": 9,
   "id": "0210432b",
   "metadata": {},
   "outputs": [
    {
     "data": {
      "text/html": [
       "<div>\n",
       "<style scoped>\n",
       "    .dataframe tbody tr th:only-of-type {\n",
       "        vertical-align: middle;\n",
       "    }\n",
       "\n",
       "    .dataframe tbody tr th {\n",
       "        vertical-align: top;\n",
       "    }\n",
       "\n",
       "    .dataframe thead th {\n",
       "        text-align: right;\n",
       "    }\n",
       "</style>\n",
       "<table border=\"1\" class=\"dataframe\">\n",
       "  <thead>\n",
       "    <tr style=\"text-align: right;\">\n",
       "      <th></th>\n",
       "      <th>customerID</th>\n",
       "      <th>MultipleLines</th>\n",
       "    </tr>\n",
       "  </thead>\n",
       "  <tbody>\n",
       "    <tr>\n",
       "      <th>0</th>\n",
       "      <td>5575-GNVDE</td>\n",
       "      <td>No</td>\n",
       "    </tr>\n",
       "    <tr>\n",
       "      <th>1</th>\n",
       "      <td>3668-QPYBK</td>\n",
       "      <td>No</td>\n",
       "    </tr>\n",
       "    <tr>\n",
       "      <th>2</th>\n",
       "      <td>9237-HQITU</td>\n",
       "      <td>No</td>\n",
       "    </tr>\n",
       "    <tr>\n",
       "      <th>3</th>\n",
       "      <td>9305-CDSKC</td>\n",
       "      <td>Yes</td>\n",
       "    </tr>\n",
       "    <tr>\n",
       "      <th>4</th>\n",
       "      <td>1452-KIOVK</td>\n",
       "      <td>Yes</td>\n",
       "    </tr>\n",
       "  </tbody>\n",
       "</table>\n",
       "</div>"
      ],
      "text/plain": [
       "   customerID MultipleLines\n",
       "0  5575-GNVDE            No\n",
       "1  3668-QPYBK            No\n",
       "2  9237-HQITU            No\n",
       "3  9305-CDSKC           Yes\n",
       "4  1452-KIOVK           Yes"
      ]
     },
     "execution_count": 9,
     "metadata": {},
     "output_type": "execute_result"
    }
   ],
   "source": [
    "phone_df.head()"
   ]
  },
  {
   "cell_type": "code",
   "execution_count": 10,
   "id": "ec86fbd0",
   "metadata": {},
   "outputs": [
    {
     "name": "stdout",
     "output_type": "stream",
     "text": [
      "<class 'pandas.core.frame.DataFrame'>\n",
      "RangeIndex: 6361 entries, 0 to 6360\n",
      "Data columns (total 2 columns):\n",
      " #   Column         Non-Null Count  Dtype \n",
      "---  ------         --------------  ----- \n",
      " 0   customerID     6361 non-null   object\n",
      " 1   MultipleLines  6361 non-null   object\n",
      "dtypes: object(2)\n",
      "memory usage: 99.5+ KB\n"
     ]
    }
   ],
   "source": [
    "phone_df.info()"
   ]
  },
  {
   "cell_type": "markdown",
   "id": "ad635bfd",
   "metadata": {},
   "source": [
    "Tidak ada yang perlu diubah pada tabel ini."
   ]
  },
  {
   "cell_type": "markdown",
   "id": "eded2bd8",
   "metadata": {},
   "source": [
    "## Clarifying Questions"
   ]
  },
  {
   "cell_type": "markdown",
   "id": "8524c018",
   "metadata": {},
   "source": [
    "1. Jenis klien apa yang paling banyak? Apakah yang masih berlangganan atau yang sudah berhenti?\n",
    "2. Bagiaman perbandingan klien yang bertahan dan tidak dengan fitur kategori pada layanan internet dan phone? Apakah semua fitur memberikan impact pada target?\n",
    "3. Bagaimana perbandingan klien yang bertahan dan tidak terhadap fitur numerik? Adakah fitur yang kurang berimpact?\n",
    "4. Berapa lama waktu yang dihabiskan oleh klien yang berlangganan dan yang sudah berhenti?\n",
    "5. Layanan apa yang palin disukai oleh para klien?"
   ]
  },
  {
   "cell_type": "markdown",
   "id": "bf0d032e",
   "metadata": {},
   "source": [
    "## Steps"
   ]
  },
  {
   "cell_type": "markdown",
   "id": "31b5b26b",
   "metadata": {},
   "source": [
    "**1. Pre-processing Datasest**\n",
    "\n",
    "Pada tahap ini data akan diproes dulu sebelum ke tahap EDA seperti merubah tipe dataset yang salah dan mebersihkan dataset dari nilai yang hilang dan juga menambahkan kolom sebagai target yaitu kolom yang berisi status klien. Setelah itu akan dilakukan penggabungan dataset sesuai dengan key-nya yaitu `customerID`. \n",
    "\n",
    "**2. EDA**\n",
    "\n",
    "Pada tahap ini akan dilakukan data eskplorasi untuk mencari fitur mana yang diperlukan nanti pada tahap train model.\n",
    "\n",
    "**3. Model Training**\n",
    "\n",
    "Setelah semua fitur sudah ditentukan dan diubah menggunakan fetature engineering data akan ditraining. Model yang digunakan adalah Logistic Regression, Random Forest Classifier, dan yang terakhir menggunakan algoritma optimasi yaitu LGBM Classifier. Data akan dibagi menjadi train set dan test set setelah itu akan dilakukan hyperparamaeter tuning.\n",
    "\n",
    "**4. Kesimpulan**\n",
    "\n",
    "Pada bagian ini, akan diputuskan model mana yang terbaik berdasarkan hasil yang dikeluarkan."
   ]
  },
  {
   "cell_type": "markdown",
   "id": "406a1986",
   "metadata": {},
   "source": [
    "## Pre-processing Datasets"
   ]
  },
  {
   "cell_type": "markdown",
   "id": "8aec6fa6",
   "metadata": {},
   "source": [
    "Sebelum kita melakukan EDA dan pelatihan model, terlebih dahulu saya melakukan pre-processing data agar tidak terjadi kesalahan dalam menganalisa data dan pengembahan suatu model."
   ]
  },
  {
   "cell_type": "markdown",
   "id": "1729ca11",
   "metadata": {},
   "source": [
    "### Cleaning Datasets"
   ]
  },
  {
   "cell_type": "code",
   "execution_count": 11,
   "id": "7c010ef1",
   "metadata": {},
   "outputs": [],
   "source": [
    "'''\n",
    "Data tanggal yang memiliki tipe data yang tidak sesuai diubah menjadi tipe data datetime. Karena pada kolom EndDate memiliki\n",
    "nilai No, maka akan diubah dulu menjadi tanggal 2020-02-01 yang berarti para klien masih aktif berlangganan sampai waktu\n",
    "tersebut.\n",
    "'''\n",
    "contract_df['BeginDate'] = pd.to_datetime(contract_df['BeginDate'], format='%Y-%m-%d')\n",
    "contract_df['EndDate'] = contract_df['EndDate'].replace('No', '2020-02-01 00:00:00')\n",
    "contract_df['EndDate'] = pd.to_datetime(contract_df['EndDate'], format='%Y-%m-%d %H:%M:%S')"
   ]
  },
  {
   "cell_type": "code",
   "execution_count": 12,
   "id": "13e2ccb1",
   "metadata": {},
   "outputs": [],
   "source": [
    "# merubah tipe data pada kolom TotalCharges\n",
    "contract_df['TotalCharges'] = pd.to_numeric(contract_df['TotalCharges'], errors='coerce')"
   ]
  },
  {
   "cell_type": "markdown",
   "id": "834109d1",
   "metadata": {},
   "source": [
    "Selanjutnya adalah kita akan menambahkan kolom yang menandakan status dari klien. Isi dari kolom ini adalah bilangan biner 0 dan 1. Di mana 0 artinya tidak berhenti langganan dan 1 artinya berhenti berlangganan."
   ]
  },
  {
   "cell_type": "code",
   "execution_count": 13,
   "id": "2f28547e",
   "metadata": {},
   "outputs": [],
   "source": [
    "# menambahkan kolom statusclient sebagai target nanti untuk model\n",
    "contract_df['Exited'] = contract_df['EndDate'].apply(lambda x: 0 if x == pd.to_datetime('2020-02-01') else 1)"
   ]
  },
  {
   "cell_type": "code",
   "execution_count": 14,
   "id": "9d28bb4f",
   "metadata": {},
   "outputs": [
    {
     "data": {
      "text/html": [
       "<div>\n",
       "<style scoped>\n",
       "    .dataframe tbody tr th:only-of-type {\n",
       "        vertical-align: middle;\n",
       "    }\n",
       "\n",
       "    .dataframe tbody tr th {\n",
       "        vertical-align: top;\n",
       "    }\n",
       "\n",
       "    .dataframe thead th {\n",
       "        text-align: right;\n",
       "    }\n",
       "</style>\n",
       "<table border=\"1\" class=\"dataframe\">\n",
       "  <thead>\n",
       "    <tr style=\"text-align: right;\">\n",
       "      <th></th>\n",
       "      <th>customerID</th>\n",
       "      <th>BeginDate</th>\n",
       "      <th>EndDate</th>\n",
       "      <th>Type</th>\n",
       "      <th>PaperlessBilling</th>\n",
       "      <th>PaymentMethod</th>\n",
       "      <th>MonthlyCharges</th>\n",
       "      <th>TotalCharges</th>\n",
       "      <th>Exited</th>\n",
       "    </tr>\n",
       "  </thead>\n",
       "  <tbody>\n",
       "    <tr>\n",
       "      <th>0</th>\n",
       "      <td>7590-VHVEG</td>\n",
       "      <td>2020-01-01</td>\n",
       "      <td>2020-02-01</td>\n",
       "      <td>Month-to-month</td>\n",
       "      <td>Yes</td>\n",
       "      <td>Electronic check</td>\n",
       "      <td>29.85</td>\n",
       "      <td>29.85</td>\n",
       "      <td>0</td>\n",
       "    </tr>\n",
       "    <tr>\n",
       "      <th>1</th>\n",
       "      <td>5575-GNVDE</td>\n",
       "      <td>2017-04-01</td>\n",
       "      <td>2020-02-01</td>\n",
       "      <td>One year</td>\n",
       "      <td>No</td>\n",
       "      <td>Mailed check</td>\n",
       "      <td>56.95</td>\n",
       "      <td>1889.50</td>\n",
       "      <td>0</td>\n",
       "    </tr>\n",
       "    <tr>\n",
       "      <th>2</th>\n",
       "      <td>3668-QPYBK</td>\n",
       "      <td>2019-10-01</td>\n",
       "      <td>2019-12-01</td>\n",
       "      <td>Month-to-month</td>\n",
       "      <td>Yes</td>\n",
       "      <td>Mailed check</td>\n",
       "      <td>53.85</td>\n",
       "      <td>108.15</td>\n",
       "      <td>1</td>\n",
       "    </tr>\n",
       "    <tr>\n",
       "      <th>3</th>\n",
       "      <td>7795-CFOCW</td>\n",
       "      <td>2016-05-01</td>\n",
       "      <td>2020-02-01</td>\n",
       "      <td>One year</td>\n",
       "      <td>No</td>\n",
       "      <td>Bank transfer (automatic)</td>\n",
       "      <td>42.30</td>\n",
       "      <td>1840.75</td>\n",
       "      <td>0</td>\n",
       "    </tr>\n",
       "    <tr>\n",
       "      <th>4</th>\n",
       "      <td>9237-HQITU</td>\n",
       "      <td>2019-09-01</td>\n",
       "      <td>2019-11-01</td>\n",
       "      <td>Month-to-month</td>\n",
       "      <td>Yes</td>\n",
       "      <td>Electronic check</td>\n",
       "      <td>70.70</td>\n",
       "      <td>151.65</td>\n",
       "      <td>1</td>\n",
       "    </tr>\n",
       "  </tbody>\n",
       "</table>\n",
       "</div>"
      ],
      "text/plain": [
       "   customerID  BeginDate    EndDate            Type PaperlessBilling  \\\n",
       "0  7590-VHVEG 2020-01-01 2020-02-01  Month-to-month              Yes   \n",
       "1  5575-GNVDE 2017-04-01 2020-02-01        One year               No   \n",
       "2  3668-QPYBK 2019-10-01 2019-12-01  Month-to-month              Yes   \n",
       "3  7795-CFOCW 2016-05-01 2020-02-01        One year               No   \n",
       "4  9237-HQITU 2019-09-01 2019-11-01  Month-to-month              Yes   \n",
       "\n",
       "               PaymentMethod  MonthlyCharges  TotalCharges  Exited  \n",
       "0           Electronic check           29.85         29.85       0  \n",
       "1               Mailed check           56.95       1889.50       0  \n",
       "2               Mailed check           53.85        108.15       1  \n",
       "3  Bank transfer (automatic)           42.30       1840.75       0  \n",
       "4           Electronic check           70.70        151.65       1  "
      ]
     },
     "execution_count": 14,
     "metadata": {},
     "output_type": "execute_result"
    }
   ],
   "source": [
    "contract_df.head()"
   ]
  },
  {
   "cell_type": "markdown",
   "id": "457a0751",
   "metadata": {},
   "source": [
    "Untuk mengetahui berapa lama klien menggunakan layanan, maka akan ditambahkan satu kolom lagi yang berisikan jumlah hari klien menggunakan layanan. Caranya adalah dengan mengurangkan kolom `EndDate` dan kolom `BeginDate`."
   ]
  },
  {
   "cell_type": "code",
   "execution_count": 15,
   "id": "7cc0cd29",
   "metadata": {},
   "outputs": [],
   "source": [
    "# menambahkan kolom hari\n",
    "contract_df['Days'] = (contract_df['EndDate'] - contract_df['BeginDate']).dt.days "
   ]
  },
  {
   "cell_type": "code",
   "execution_count": 16,
   "id": "58233de1",
   "metadata": {},
   "outputs": [
    {
     "data": {
      "text/html": [
       "<div>\n",
       "<style scoped>\n",
       "    .dataframe tbody tr th:only-of-type {\n",
       "        vertical-align: middle;\n",
       "    }\n",
       "\n",
       "    .dataframe tbody tr th {\n",
       "        vertical-align: top;\n",
       "    }\n",
       "\n",
       "    .dataframe thead th {\n",
       "        text-align: right;\n",
       "    }\n",
       "</style>\n",
       "<table border=\"1\" class=\"dataframe\">\n",
       "  <thead>\n",
       "    <tr style=\"text-align: right;\">\n",
       "      <th></th>\n",
       "      <th>customerID</th>\n",
       "      <th>BeginDate</th>\n",
       "      <th>EndDate</th>\n",
       "      <th>Type</th>\n",
       "      <th>PaperlessBilling</th>\n",
       "      <th>PaymentMethod</th>\n",
       "      <th>MonthlyCharges</th>\n",
       "      <th>TotalCharges</th>\n",
       "      <th>Exited</th>\n",
       "      <th>Days</th>\n",
       "    </tr>\n",
       "  </thead>\n",
       "  <tbody>\n",
       "    <tr>\n",
       "      <th>0</th>\n",
       "      <td>7590-VHVEG</td>\n",
       "      <td>2020-01-01</td>\n",
       "      <td>2020-02-01</td>\n",
       "      <td>Month-to-month</td>\n",
       "      <td>Yes</td>\n",
       "      <td>Electronic check</td>\n",
       "      <td>29.85</td>\n",
       "      <td>29.85</td>\n",
       "      <td>0</td>\n",
       "      <td>31</td>\n",
       "    </tr>\n",
       "    <tr>\n",
       "      <th>1</th>\n",
       "      <td>5575-GNVDE</td>\n",
       "      <td>2017-04-01</td>\n",
       "      <td>2020-02-01</td>\n",
       "      <td>One year</td>\n",
       "      <td>No</td>\n",
       "      <td>Mailed check</td>\n",
       "      <td>56.95</td>\n",
       "      <td>1889.50</td>\n",
       "      <td>0</td>\n",
       "      <td>1036</td>\n",
       "    </tr>\n",
       "    <tr>\n",
       "      <th>2</th>\n",
       "      <td>3668-QPYBK</td>\n",
       "      <td>2019-10-01</td>\n",
       "      <td>2019-12-01</td>\n",
       "      <td>Month-to-month</td>\n",
       "      <td>Yes</td>\n",
       "      <td>Mailed check</td>\n",
       "      <td>53.85</td>\n",
       "      <td>108.15</td>\n",
       "      <td>1</td>\n",
       "      <td>61</td>\n",
       "    </tr>\n",
       "    <tr>\n",
       "      <th>3</th>\n",
       "      <td>7795-CFOCW</td>\n",
       "      <td>2016-05-01</td>\n",
       "      <td>2020-02-01</td>\n",
       "      <td>One year</td>\n",
       "      <td>No</td>\n",
       "      <td>Bank transfer (automatic)</td>\n",
       "      <td>42.30</td>\n",
       "      <td>1840.75</td>\n",
       "      <td>0</td>\n",
       "      <td>1371</td>\n",
       "    </tr>\n",
       "    <tr>\n",
       "      <th>4</th>\n",
       "      <td>9237-HQITU</td>\n",
       "      <td>2019-09-01</td>\n",
       "      <td>2019-11-01</td>\n",
       "      <td>Month-to-month</td>\n",
       "      <td>Yes</td>\n",
       "      <td>Electronic check</td>\n",
       "      <td>70.70</td>\n",
       "      <td>151.65</td>\n",
       "      <td>1</td>\n",
       "      <td>61</td>\n",
       "    </tr>\n",
       "  </tbody>\n",
       "</table>\n",
       "</div>"
      ],
      "text/plain": [
       "   customerID  BeginDate    EndDate            Type PaperlessBilling  \\\n",
       "0  7590-VHVEG 2020-01-01 2020-02-01  Month-to-month              Yes   \n",
       "1  5575-GNVDE 2017-04-01 2020-02-01        One year               No   \n",
       "2  3668-QPYBK 2019-10-01 2019-12-01  Month-to-month              Yes   \n",
       "3  7795-CFOCW 2016-05-01 2020-02-01        One year               No   \n",
       "4  9237-HQITU 2019-09-01 2019-11-01  Month-to-month              Yes   \n",
       "\n",
       "               PaymentMethod  MonthlyCharges  TotalCharges  Exited  Days  \n",
       "0           Electronic check           29.85         29.85       0    31  \n",
       "1               Mailed check           56.95       1889.50       0  1036  \n",
       "2               Mailed check           53.85        108.15       1    61  \n",
       "3  Bank transfer (automatic)           42.30       1840.75       0  1371  \n",
       "4           Electronic check           70.70        151.65       1    61  "
      ]
     },
     "execution_count": 16,
     "metadata": {},
     "output_type": "execute_result"
    }
   ],
   "source": [
    "contract_df.head()"
   ]
  },
  {
   "cell_type": "markdown",
   "id": "8f1a345a",
   "metadata": {},
   "source": [
    "Karena kolom `BeginDate` dan `EndDate` tidak diperlukan lagi, maka kolomnya akan dihapus untuk mempermudah EDA. Dan juga kita akan menghapus nilai yang hilang pada kolom `TotalCharges`."
   ]
  },
  {
   "cell_type": "code",
   "execution_count": 17,
   "id": "db4233c3",
   "metadata": {},
   "outputs": [],
   "source": [
    "# menghapus kolom\n",
    "contract_df.drop(['BeginDate', 'EndDate'], axis=1, inplace=True)"
   ]
  },
  {
   "cell_type": "code",
   "execution_count": 18,
   "id": "9d55f504",
   "metadata": {},
   "outputs": [
    {
     "data": {
      "text/html": [
       "<div>\n",
       "<style scoped>\n",
       "    .dataframe tbody tr th:only-of-type {\n",
       "        vertical-align: middle;\n",
       "    }\n",
       "\n",
       "    .dataframe tbody tr th {\n",
       "        vertical-align: top;\n",
       "    }\n",
       "\n",
       "    .dataframe thead th {\n",
       "        text-align: right;\n",
       "    }\n",
       "</style>\n",
       "<table border=\"1\" class=\"dataframe\">\n",
       "  <thead>\n",
       "    <tr style=\"text-align: right;\">\n",
       "      <th></th>\n",
       "      <th>customerID</th>\n",
       "      <th>Type</th>\n",
       "      <th>PaperlessBilling</th>\n",
       "      <th>PaymentMethod</th>\n",
       "      <th>MonthlyCharges</th>\n",
       "      <th>TotalCharges</th>\n",
       "      <th>Exited</th>\n",
       "      <th>Days</th>\n",
       "    </tr>\n",
       "  </thead>\n",
       "  <tbody>\n",
       "    <tr>\n",
       "      <th>0</th>\n",
       "      <td>7590-VHVEG</td>\n",
       "      <td>Month-to-month</td>\n",
       "      <td>Yes</td>\n",
       "      <td>Electronic check</td>\n",
       "      <td>29.85</td>\n",
       "      <td>29.85</td>\n",
       "      <td>0</td>\n",
       "      <td>31</td>\n",
       "    </tr>\n",
       "    <tr>\n",
       "      <th>1</th>\n",
       "      <td>5575-GNVDE</td>\n",
       "      <td>One year</td>\n",
       "      <td>No</td>\n",
       "      <td>Mailed check</td>\n",
       "      <td>56.95</td>\n",
       "      <td>1889.50</td>\n",
       "      <td>0</td>\n",
       "      <td>1036</td>\n",
       "    </tr>\n",
       "    <tr>\n",
       "      <th>2</th>\n",
       "      <td>3668-QPYBK</td>\n",
       "      <td>Month-to-month</td>\n",
       "      <td>Yes</td>\n",
       "      <td>Mailed check</td>\n",
       "      <td>53.85</td>\n",
       "      <td>108.15</td>\n",
       "      <td>1</td>\n",
       "      <td>61</td>\n",
       "    </tr>\n",
       "    <tr>\n",
       "      <th>3</th>\n",
       "      <td>7795-CFOCW</td>\n",
       "      <td>One year</td>\n",
       "      <td>No</td>\n",
       "      <td>Bank transfer (automatic)</td>\n",
       "      <td>42.30</td>\n",
       "      <td>1840.75</td>\n",
       "      <td>0</td>\n",
       "      <td>1371</td>\n",
       "    </tr>\n",
       "    <tr>\n",
       "      <th>4</th>\n",
       "      <td>9237-HQITU</td>\n",
       "      <td>Month-to-month</td>\n",
       "      <td>Yes</td>\n",
       "      <td>Electronic check</td>\n",
       "      <td>70.70</td>\n",
       "      <td>151.65</td>\n",
       "      <td>1</td>\n",
       "      <td>61</td>\n",
       "    </tr>\n",
       "    <tr>\n",
       "      <th>...</th>\n",
       "      <td>...</td>\n",
       "      <td>...</td>\n",
       "      <td>...</td>\n",
       "      <td>...</td>\n",
       "      <td>...</td>\n",
       "      <td>...</td>\n",
       "      <td>...</td>\n",
       "      <td>...</td>\n",
       "    </tr>\n",
       "    <tr>\n",
       "      <th>7027</th>\n",
       "      <td>6840-RESVB</td>\n",
       "      <td>One year</td>\n",
       "      <td>Yes</td>\n",
       "      <td>Mailed check</td>\n",
       "      <td>84.80</td>\n",
       "      <td>1990.50</td>\n",
       "      <td>0</td>\n",
       "      <td>730</td>\n",
       "    </tr>\n",
       "    <tr>\n",
       "      <th>7028</th>\n",
       "      <td>2234-XADUH</td>\n",
       "      <td>One year</td>\n",
       "      <td>Yes</td>\n",
       "      <td>Credit card (automatic)</td>\n",
       "      <td>103.20</td>\n",
       "      <td>7362.90</td>\n",
       "      <td>0</td>\n",
       "      <td>2191</td>\n",
       "    </tr>\n",
       "    <tr>\n",
       "      <th>7029</th>\n",
       "      <td>4801-JZAZL</td>\n",
       "      <td>Month-to-month</td>\n",
       "      <td>Yes</td>\n",
       "      <td>Electronic check</td>\n",
       "      <td>29.60</td>\n",
       "      <td>346.45</td>\n",
       "      <td>0</td>\n",
       "      <td>337</td>\n",
       "    </tr>\n",
       "    <tr>\n",
       "      <th>7030</th>\n",
       "      <td>8361-LTMKD</td>\n",
       "      <td>Month-to-month</td>\n",
       "      <td>Yes</td>\n",
       "      <td>Mailed check</td>\n",
       "      <td>74.40</td>\n",
       "      <td>306.60</td>\n",
       "      <td>1</td>\n",
       "      <td>123</td>\n",
       "    </tr>\n",
       "    <tr>\n",
       "      <th>7031</th>\n",
       "      <td>3186-AJIEK</td>\n",
       "      <td>Two year</td>\n",
       "      <td>Yes</td>\n",
       "      <td>Bank transfer (automatic)</td>\n",
       "      <td>105.65</td>\n",
       "      <td>6844.50</td>\n",
       "      <td>0</td>\n",
       "      <td>2010</td>\n",
       "    </tr>\n",
       "  </tbody>\n",
       "</table>\n",
       "<p>7032 rows × 8 columns</p>\n",
       "</div>"
      ],
      "text/plain": [
       "      customerID            Type PaperlessBilling              PaymentMethod  \\\n",
       "0     7590-VHVEG  Month-to-month              Yes           Electronic check   \n",
       "1     5575-GNVDE        One year               No               Mailed check   \n",
       "2     3668-QPYBK  Month-to-month              Yes               Mailed check   \n",
       "3     7795-CFOCW        One year               No  Bank transfer (automatic)   \n",
       "4     9237-HQITU  Month-to-month              Yes           Electronic check   \n",
       "...          ...             ...              ...                        ...   \n",
       "7027  6840-RESVB        One year              Yes               Mailed check   \n",
       "7028  2234-XADUH        One year              Yes    Credit card (automatic)   \n",
       "7029  4801-JZAZL  Month-to-month              Yes           Electronic check   \n",
       "7030  8361-LTMKD  Month-to-month              Yes               Mailed check   \n",
       "7031  3186-AJIEK        Two year              Yes  Bank transfer (automatic)   \n",
       "\n",
       "      MonthlyCharges  TotalCharges  Exited  Days  \n",
       "0              29.85         29.85       0    31  \n",
       "1              56.95       1889.50       0  1036  \n",
       "2              53.85        108.15       1    61  \n",
       "3              42.30       1840.75       0  1371  \n",
       "4              70.70        151.65       1    61  \n",
       "...              ...           ...     ...   ...  \n",
       "7027           84.80       1990.50       0   730  \n",
       "7028          103.20       7362.90       0  2191  \n",
       "7029           29.60        346.45       0   337  \n",
       "7030           74.40        306.60       1   123  \n",
       "7031          105.65       6844.50       0  2010  \n",
       "\n",
       "[7032 rows x 8 columns]"
      ]
     },
     "execution_count": 18,
     "metadata": {},
     "output_type": "execute_result"
    }
   ],
   "source": [
    "# menghilangkan nilai NaN\n",
    "contract_df.dropna(inplace=True)\n",
    "contract_df.reset_index(drop=True, inplace=True)\n",
    "contract_df"
   ]
  },
  {
   "cell_type": "markdown",
   "id": "24e39ea2",
   "metadata": {},
   "source": [
    "Karena tabel yang memiliki masalah adalah tabel contract, maka untuk tabel lain tidak mengalami perubahan. Selanjutnya akan digabungkan tabel-tabel tersebut menjadi satu dataframe."
   ]
  },
  {
   "cell_type": "markdown",
   "id": "78809521",
   "metadata": {},
   "source": [
    "### Merging Datasets"
   ]
  },
  {
   "cell_type": "code",
   "execution_count": 19,
   "id": "d99b60e4",
   "metadata": {},
   "outputs": [],
   "source": [
    "# first merge\n",
    "merge1 = pd.merge(contract_df, personal_df, on='customerID', how='left')"
   ]
  },
  {
   "cell_type": "code",
   "execution_count": 20,
   "id": "9516f194",
   "metadata": {},
   "outputs": [
    {
     "data": {
      "text/html": [
       "<div>\n",
       "<style scoped>\n",
       "    .dataframe tbody tr th:only-of-type {\n",
       "        vertical-align: middle;\n",
       "    }\n",
       "\n",
       "    .dataframe tbody tr th {\n",
       "        vertical-align: top;\n",
       "    }\n",
       "\n",
       "    .dataframe thead th {\n",
       "        text-align: right;\n",
       "    }\n",
       "</style>\n",
       "<table border=\"1\" class=\"dataframe\">\n",
       "  <thead>\n",
       "    <tr style=\"text-align: right;\">\n",
       "      <th></th>\n",
       "      <th>customerID</th>\n",
       "      <th>Type</th>\n",
       "      <th>PaperlessBilling</th>\n",
       "      <th>PaymentMethod</th>\n",
       "      <th>MonthlyCharges</th>\n",
       "      <th>TotalCharges</th>\n",
       "      <th>Exited</th>\n",
       "      <th>Days</th>\n",
       "      <th>gender</th>\n",
       "      <th>SeniorCitizen</th>\n",
       "      <th>Partner</th>\n",
       "      <th>Dependents</th>\n",
       "    </tr>\n",
       "  </thead>\n",
       "  <tbody>\n",
       "    <tr>\n",
       "      <th>0</th>\n",
       "      <td>7590-VHVEG</td>\n",
       "      <td>Month-to-month</td>\n",
       "      <td>Yes</td>\n",
       "      <td>Electronic check</td>\n",
       "      <td>29.85</td>\n",
       "      <td>29.85</td>\n",
       "      <td>0</td>\n",
       "      <td>31</td>\n",
       "      <td>Female</td>\n",
       "      <td>0</td>\n",
       "      <td>Yes</td>\n",
       "      <td>No</td>\n",
       "    </tr>\n",
       "    <tr>\n",
       "      <th>1</th>\n",
       "      <td>5575-GNVDE</td>\n",
       "      <td>One year</td>\n",
       "      <td>No</td>\n",
       "      <td>Mailed check</td>\n",
       "      <td>56.95</td>\n",
       "      <td>1889.50</td>\n",
       "      <td>0</td>\n",
       "      <td>1036</td>\n",
       "      <td>Male</td>\n",
       "      <td>0</td>\n",
       "      <td>No</td>\n",
       "      <td>No</td>\n",
       "    </tr>\n",
       "    <tr>\n",
       "      <th>2</th>\n",
       "      <td>3668-QPYBK</td>\n",
       "      <td>Month-to-month</td>\n",
       "      <td>Yes</td>\n",
       "      <td>Mailed check</td>\n",
       "      <td>53.85</td>\n",
       "      <td>108.15</td>\n",
       "      <td>1</td>\n",
       "      <td>61</td>\n",
       "      <td>Male</td>\n",
       "      <td>0</td>\n",
       "      <td>No</td>\n",
       "      <td>No</td>\n",
       "    </tr>\n",
       "    <tr>\n",
       "      <th>3</th>\n",
       "      <td>7795-CFOCW</td>\n",
       "      <td>One year</td>\n",
       "      <td>No</td>\n",
       "      <td>Bank transfer (automatic)</td>\n",
       "      <td>42.30</td>\n",
       "      <td>1840.75</td>\n",
       "      <td>0</td>\n",
       "      <td>1371</td>\n",
       "      <td>Male</td>\n",
       "      <td>0</td>\n",
       "      <td>No</td>\n",
       "      <td>No</td>\n",
       "    </tr>\n",
       "    <tr>\n",
       "      <th>4</th>\n",
       "      <td>9237-HQITU</td>\n",
       "      <td>Month-to-month</td>\n",
       "      <td>Yes</td>\n",
       "      <td>Electronic check</td>\n",
       "      <td>70.70</td>\n",
       "      <td>151.65</td>\n",
       "      <td>1</td>\n",
       "      <td>61</td>\n",
       "      <td>Female</td>\n",
       "      <td>0</td>\n",
       "      <td>No</td>\n",
       "      <td>No</td>\n",
       "    </tr>\n",
       "  </tbody>\n",
       "</table>\n",
       "</div>"
      ],
      "text/plain": [
       "   customerID            Type PaperlessBilling              PaymentMethod  \\\n",
       "0  7590-VHVEG  Month-to-month              Yes           Electronic check   \n",
       "1  5575-GNVDE        One year               No               Mailed check   \n",
       "2  3668-QPYBK  Month-to-month              Yes               Mailed check   \n",
       "3  7795-CFOCW        One year               No  Bank transfer (automatic)   \n",
       "4  9237-HQITU  Month-to-month              Yes           Electronic check   \n",
       "\n",
       "   MonthlyCharges  TotalCharges  Exited  Days  gender  SeniorCitizen Partner  \\\n",
       "0           29.85         29.85       0    31  Female              0     Yes   \n",
       "1           56.95       1889.50       0  1036    Male              0      No   \n",
       "2           53.85        108.15       1    61    Male              0      No   \n",
       "3           42.30       1840.75       0  1371    Male              0      No   \n",
       "4           70.70        151.65       1    61  Female              0      No   \n",
       "\n",
       "  Dependents  \n",
       "0         No  \n",
       "1         No  \n",
       "2         No  \n",
       "3         No  \n",
       "4         No  "
      ]
     },
     "execution_count": 20,
     "metadata": {},
     "output_type": "execute_result"
    }
   ],
   "source": [
    "merge1.head()"
   ]
  },
  {
   "cell_type": "code",
   "execution_count": 21,
   "id": "f92a808c",
   "metadata": {},
   "outputs": [
    {
     "name": "stdout",
     "output_type": "stream",
     "text": [
      "<class 'pandas.core.frame.DataFrame'>\n",
      "Int64Index: 7032 entries, 0 to 7031\n",
      "Data columns (total 12 columns):\n",
      " #   Column            Non-Null Count  Dtype  \n",
      "---  ------            --------------  -----  \n",
      " 0   customerID        7032 non-null   object \n",
      " 1   Type              7032 non-null   object \n",
      " 2   PaperlessBilling  7032 non-null   object \n",
      " 3   PaymentMethod     7032 non-null   object \n",
      " 4   MonthlyCharges    7032 non-null   float64\n",
      " 5   TotalCharges      7032 non-null   float64\n",
      " 6   Exited            7032 non-null   int64  \n",
      " 7   Days              7032 non-null   int64  \n",
      " 8   gender            7032 non-null   object \n",
      " 9   SeniorCitizen     7032 non-null   int64  \n",
      " 10  Partner           7032 non-null   object \n",
      " 11  Dependents        7032 non-null   object \n",
      "dtypes: float64(2), int64(3), object(7)\n",
      "memory usage: 714.2+ KB\n"
     ]
    }
   ],
   "source": [
    "merge1.info()"
   ]
  },
  {
   "cell_type": "code",
   "execution_count": 22,
   "id": "8b94a367",
   "metadata": {},
   "outputs": [],
   "source": [
    "# second merge\n",
    "merge2 = pd.merge(merge1, internet_df, on='customerID', how='left')"
   ]
  },
  {
   "cell_type": "code",
   "execution_count": 23,
   "id": "7400bccf",
   "metadata": {},
   "outputs": [
    {
     "data": {
      "text/html": [
       "<div>\n",
       "<style scoped>\n",
       "    .dataframe tbody tr th:only-of-type {\n",
       "        vertical-align: middle;\n",
       "    }\n",
       "\n",
       "    .dataframe tbody tr th {\n",
       "        vertical-align: top;\n",
       "    }\n",
       "\n",
       "    .dataframe thead th {\n",
       "        text-align: right;\n",
       "    }\n",
       "</style>\n",
       "<table border=\"1\" class=\"dataframe\">\n",
       "  <thead>\n",
       "    <tr style=\"text-align: right;\">\n",
       "      <th></th>\n",
       "      <th>customerID</th>\n",
       "      <th>Type</th>\n",
       "      <th>PaperlessBilling</th>\n",
       "      <th>PaymentMethod</th>\n",
       "      <th>MonthlyCharges</th>\n",
       "      <th>TotalCharges</th>\n",
       "      <th>Exited</th>\n",
       "      <th>Days</th>\n",
       "      <th>gender</th>\n",
       "      <th>SeniorCitizen</th>\n",
       "      <th>Partner</th>\n",
       "      <th>Dependents</th>\n",
       "      <th>InternetService</th>\n",
       "      <th>OnlineSecurity</th>\n",
       "      <th>OnlineBackup</th>\n",
       "      <th>DeviceProtection</th>\n",
       "      <th>TechSupport</th>\n",
       "      <th>StreamingTV</th>\n",
       "      <th>StreamingMovies</th>\n",
       "    </tr>\n",
       "  </thead>\n",
       "  <tbody>\n",
       "    <tr>\n",
       "      <th>0</th>\n",
       "      <td>7590-VHVEG</td>\n",
       "      <td>Month-to-month</td>\n",
       "      <td>Yes</td>\n",
       "      <td>Electronic check</td>\n",
       "      <td>29.85</td>\n",
       "      <td>29.85</td>\n",
       "      <td>0</td>\n",
       "      <td>31</td>\n",
       "      <td>Female</td>\n",
       "      <td>0</td>\n",
       "      <td>Yes</td>\n",
       "      <td>No</td>\n",
       "      <td>DSL</td>\n",
       "      <td>No</td>\n",
       "      <td>Yes</td>\n",
       "      <td>No</td>\n",
       "      <td>No</td>\n",
       "      <td>No</td>\n",
       "      <td>No</td>\n",
       "    </tr>\n",
       "    <tr>\n",
       "      <th>1</th>\n",
       "      <td>5575-GNVDE</td>\n",
       "      <td>One year</td>\n",
       "      <td>No</td>\n",
       "      <td>Mailed check</td>\n",
       "      <td>56.95</td>\n",
       "      <td>1889.50</td>\n",
       "      <td>0</td>\n",
       "      <td>1036</td>\n",
       "      <td>Male</td>\n",
       "      <td>0</td>\n",
       "      <td>No</td>\n",
       "      <td>No</td>\n",
       "      <td>DSL</td>\n",
       "      <td>Yes</td>\n",
       "      <td>No</td>\n",
       "      <td>Yes</td>\n",
       "      <td>No</td>\n",
       "      <td>No</td>\n",
       "      <td>No</td>\n",
       "    </tr>\n",
       "    <tr>\n",
       "      <th>2</th>\n",
       "      <td>3668-QPYBK</td>\n",
       "      <td>Month-to-month</td>\n",
       "      <td>Yes</td>\n",
       "      <td>Mailed check</td>\n",
       "      <td>53.85</td>\n",
       "      <td>108.15</td>\n",
       "      <td>1</td>\n",
       "      <td>61</td>\n",
       "      <td>Male</td>\n",
       "      <td>0</td>\n",
       "      <td>No</td>\n",
       "      <td>No</td>\n",
       "      <td>DSL</td>\n",
       "      <td>Yes</td>\n",
       "      <td>Yes</td>\n",
       "      <td>No</td>\n",
       "      <td>No</td>\n",
       "      <td>No</td>\n",
       "      <td>No</td>\n",
       "    </tr>\n",
       "    <tr>\n",
       "      <th>3</th>\n",
       "      <td>7795-CFOCW</td>\n",
       "      <td>One year</td>\n",
       "      <td>No</td>\n",
       "      <td>Bank transfer (automatic)</td>\n",
       "      <td>42.30</td>\n",
       "      <td>1840.75</td>\n",
       "      <td>0</td>\n",
       "      <td>1371</td>\n",
       "      <td>Male</td>\n",
       "      <td>0</td>\n",
       "      <td>No</td>\n",
       "      <td>No</td>\n",
       "      <td>DSL</td>\n",
       "      <td>Yes</td>\n",
       "      <td>No</td>\n",
       "      <td>Yes</td>\n",
       "      <td>Yes</td>\n",
       "      <td>No</td>\n",
       "      <td>No</td>\n",
       "    </tr>\n",
       "    <tr>\n",
       "      <th>4</th>\n",
       "      <td>9237-HQITU</td>\n",
       "      <td>Month-to-month</td>\n",
       "      <td>Yes</td>\n",
       "      <td>Electronic check</td>\n",
       "      <td>70.70</td>\n",
       "      <td>151.65</td>\n",
       "      <td>1</td>\n",
       "      <td>61</td>\n",
       "      <td>Female</td>\n",
       "      <td>0</td>\n",
       "      <td>No</td>\n",
       "      <td>No</td>\n",
       "      <td>Fiber optic</td>\n",
       "      <td>No</td>\n",
       "      <td>No</td>\n",
       "      <td>No</td>\n",
       "      <td>No</td>\n",
       "      <td>No</td>\n",
       "      <td>No</td>\n",
       "    </tr>\n",
       "  </tbody>\n",
       "</table>\n",
       "</div>"
      ],
      "text/plain": [
       "   customerID            Type PaperlessBilling              PaymentMethod  \\\n",
       "0  7590-VHVEG  Month-to-month              Yes           Electronic check   \n",
       "1  5575-GNVDE        One year               No               Mailed check   \n",
       "2  3668-QPYBK  Month-to-month              Yes               Mailed check   \n",
       "3  7795-CFOCW        One year               No  Bank transfer (automatic)   \n",
       "4  9237-HQITU  Month-to-month              Yes           Electronic check   \n",
       "\n",
       "   MonthlyCharges  TotalCharges  Exited  Days  gender  SeniorCitizen Partner  \\\n",
       "0           29.85         29.85       0    31  Female              0     Yes   \n",
       "1           56.95       1889.50       0  1036    Male              0      No   \n",
       "2           53.85        108.15       1    61    Male              0      No   \n",
       "3           42.30       1840.75       0  1371    Male              0      No   \n",
       "4           70.70        151.65       1    61  Female              0      No   \n",
       "\n",
       "  Dependents InternetService OnlineSecurity OnlineBackup DeviceProtection  \\\n",
       "0         No             DSL             No          Yes               No   \n",
       "1         No             DSL            Yes           No              Yes   \n",
       "2         No             DSL            Yes          Yes               No   \n",
       "3         No             DSL            Yes           No              Yes   \n",
       "4         No     Fiber optic             No           No               No   \n",
       "\n",
       "  TechSupport StreamingTV StreamingMovies  \n",
       "0          No          No              No  \n",
       "1          No          No              No  \n",
       "2          No          No              No  \n",
       "3         Yes          No              No  \n",
       "4          No          No              No  "
      ]
     },
     "execution_count": 23,
     "metadata": {},
     "output_type": "execute_result"
    }
   ],
   "source": [
    "merge2.head()"
   ]
  },
  {
   "cell_type": "code",
   "execution_count": 24,
   "id": "56a7c036",
   "metadata": {},
   "outputs": [
    {
     "name": "stdout",
     "output_type": "stream",
     "text": [
      "<class 'pandas.core.frame.DataFrame'>\n",
      "Int64Index: 7032 entries, 0 to 7031\n",
      "Data columns (total 19 columns):\n",
      " #   Column            Non-Null Count  Dtype  \n",
      "---  ------            --------------  -----  \n",
      " 0   customerID        7032 non-null   object \n",
      " 1   Type              7032 non-null   object \n",
      " 2   PaperlessBilling  7032 non-null   object \n",
      " 3   PaymentMethod     7032 non-null   object \n",
      " 4   MonthlyCharges    7032 non-null   float64\n",
      " 5   TotalCharges      7032 non-null   float64\n",
      " 6   Exited            7032 non-null   int64  \n",
      " 7   Days              7032 non-null   int64  \n",
      " 8   gender            7032 non-null   object \n",
      " 9   SeniorCitizen     7032 non-null   int64  \n",
      " 10  Partner           7032 non-null   object \n",
      " 11  Dependents        7032 non-null   object \n",
      " 12  InternetService   5512 non-null   object \n",
      " 13  OnlineSecurity    5512 non-null   object \n",
      " 14  OnlineBackup      5512 non-null   object \n",
      " 15  DeviceProtection  5512 non-null   object \n",
      " 16  TechSupport       5512 non-null   object \n",
      " 17  StreamingTV       5512 non-null   object \n",
      " 18  StreamingMovies   5512 non-null   object \n",
      "dtypes: float64(2), int64(3), object(14)\n",
      "memory usage: 1.1+ MB\n"
     ]
    }
   ],
   "source": [
    "merge2.info()"
   ]
  },
  {
   "cell_type": "code",
   "execution_count": 25,
   "id": "61f4852e",
   "metadata": {},
   "outputs": [],
   "source": [
    "# final merge\n",
    "data_final = pd.merge(merge2, phone_df, on='customerID', how='left')"
   ]
  },
  {
   "cell_type": "code",
   "execution_count": 26,
   "id": "316a91e4",
   "metadata": {},
   "outputs": [
    {
     "data": {
      "text/html": [
       "<div>\n",
       "<style scoped>\n",
       "    .dataframe tbody tr th:only-of-type {\n",
       "        vertical-align: middle;\n",
       "    }\n",
       "\n",
       "    .dataframe tbody tr th {\n",
       "        vertical-align: top;\n",
       "    }\n",
       "\n",
       "    .dataframe thead th {\n",
       "        text-align: right;\n",
       "    }\n",
       "</style>\n",
       "<table border=\"1\" class=\"dataframe\">\n",
       "  <thead>\n",
       "    <tr style=\"text-align: right;\">\n",
       "      <th></th>\n",
       "      <th>customerID</th>\n",
       "      <th>Type</th>\n",
       "      <th>PaperlessBilling</th>\n",
       "      <th>PaymentMethod</th>\n",
       "      <th>MonthlyCharges</th>\n",
       "      <th>TotalCharges</th>\n",
       "      <th>Exited</th>\n",
       "      <th>Days</th>\n",
       "      <th>gender</th>\n",
       "      <th>SeniorCitizen</th>\n",
       "      <th>Partner</th>\n",
       "      <th>Dependents</th>\n",
       "      <th>InternetService</th>\n",
       "      <th>OnlineSecurity</th>\n",
       "      <th>OnlineBackup</th>\n",
       "      <th>DeviceProtection</th>\n",
       "      <th>TechSupport</th>\n",
       "      <th>StreamingTV</th>\n",
       "      <th>StreamingMovies</th>\n",
       "      <th>MultipleLines</th>\n",
       "    </tr>\n",
       "  </thead>\n",
       "  <tbody>\n",
       "    <tr>\n",
       "      <th>0</th>\n",
       "      <td>7590-VHVEG</td>\n",
       "      <td>Month-to-month</td>\n",
       "      <td>Yes</td>\n",
       "      <td>Electronic check</td>\n",
       "      <td>29.85</td>\n",
       "      <td>29.85</td>\n",
       "      <td>0</td>\n",
       "      <td>31</td>\n",
       "      <td>Female</td>\n",
       "      <td>0</td>\n",
       "      <td>Yes</td>\n",
       "      <td>No</td>\n",
       "      <td>DSL</td>\n",
       "      <td>No</td>\n",
       "      <td>Yes</td>\n",
       "      <td>No</td>\n",
       "      <td>No</td>\n",
       "      <td>No</td>\n",
       "      <td>No</td>\n",
       "      <td>NaN</td>\n",
       "    </tr>\n",
       "    <tr>\n",
       "      <th>1</th>\n",
       "      <td>5575-GNVDE</td>\n",
       "      <td>One year</td>\n",
       "      <td>No</td>\n",
       "      <td>Mailed check</td>\n",
       "      <td>56.95</td>\n",
       "      <td>1889.50</td>\n",
       "      <td>0</td>\n",
       "      <td>1036</td>\n",
       "      <td>Male</td>\n",
       "      <td>0</td>\n",
       "      <td>No</td>\n",
       "      <td>No</td>\n",
       "      <td>DSL</td>\n",
       "      <td>Yes</td>\n",
       "      <td>No</td>\n",
       "      <td>Yes</td>\n",
       "      <td>No</td>\n",
       "      <td>No</td>\n",
       "      <td>No</td>\n",
       "      <td>No</td>\n",
       "    </tr>\n",
       "    <tr>\n",
       "      <th>2</th>\n",
       "      <td>3668-QPYBK</td>\n",
       "      <td>Month-to-month</td>\n",
       "      <td>Yes</td>\n",
       "      <td>Mailed check</td>\n",
       "      <td>53.85</td>\n",
       "      <td>108.15</td>\n",
       "      <td>1</td>\n",
       "      <td>61</td>\n",
       "      <td>Male</td>\n",
       "      <td>0</td>\n",
       "      <td>No</td>\n",
       "      <td>No</td>\n",
       "      <td>DSL</td>\n",
       "      <td>Yes</td>\n",
       "      <td>Yes</td>\n",
       "      <td>No</td>\n",
       "      <td>No</td>\n",
       "      <td>No</td>\n",
       "      <td>No</td>\n",
       "      <td>No</td>\n",
       "    </tr>\n",
       "    <tr>\n",
       "      <th>3</th>\n",
       "      <td>7795-CFOCW</td>\n",
       "      <td>One year</td>\n",
       "      <td>No</td>\n",
       "      <td>Bank transfer (automatic)</td>\n",
       "      <td>42.30</td>\n",
       "      <td>1840.75</td>\n",
       "      <td>0</td>\n",
       "      <td>1371</td>\n",
       "      <td>Male</td>\n",
       "      <td>0</td>\n",
       "      <td>No</td>\n",
       "      <td>No</td>\n",
       "      <td>DSL</td>\n",
       "      <td>Yes</td>\n",
       "      <td>No</td>\n",
       "      <td>Yes</td>\n",
       "      <td>Yes</td>\n",
       "      <td>No</td>\n",
       "      <td>No</td>\n",
       "      <td>NaN</td>\n",
       "    </tr>\n",
       "    <tr>\n",
       "      <th>4</th>\n",
       "      <td>9237-HQITU</td>\n",
       "      <td>Month-to-month</td>\n",
       "      <td>Yes</td>\n",
       "      <td>Electronic check</td>\n",
       "      <td>70.70</td>\n",
       "      <td>151.65</td>\n",
       "      <td>1</td>\n",
       "      <td>61</td>\n",
       "      <td>Female</td>\n",
       "      <td>0</td>\n",
       "      <td>No</td>\n",
       "      <td>No</td>\n",
       "      <td>Fiber optic</td>\n",
       "      <td>No</td>\n",
       "      <td>No</td>\n",
       "      <td>No</td>\n",
       "      <td>No</td>\n",
       "      <td>No</td>\n",
       "      <td>No</td>\n",
       "      <td>No</td>\n",
       "    </tr>\n",
       "  </tbody>\n",
       "</table>\n",
       "</div>"
      ],
      "text/plain": [
       "   customerID            Type PaperlessBilling              PaymentMethod  \\\n",
       "0  7590-VHVEG  Month-to-month              Yes           Electronic check   \n",
       "1  5575-GNVDE        One year               No               Mailed check   \n",
       "2  3668-QPYBK  Month-to-month              Yes               Mailed check   \n",
       "3  7795-CFOCW        One year               No  Bank transfer (automatic)   \n",
       "4  9237-HQITU  Month-to-month              Yes           Electronic check   \n",
       "\n",
       "   MonthlyCharges  TotalCharges  Exited  Days  gender  SeniorCitizen Partner  \\\n",
       "0           29.85         29.85       0    31  Female              0     Yes   \n",
       "1           56.95       1889.50       0  1036    Male              0      No   \n",
       "2           53.85        108.15       1    61    Male              0      No   \n",
       "3           42.30       1840.75       0  1371    Male              0      No   \n",
       "4           70.70        151.65       1    61  Female              0      No   \n",
       "\n",
       "  Dependents InternetService OnlineSecurity OnlineBackup DeviceProtection  \\\n",
       "0         No             DSL             No          Yes               No   \n",
       "1         No             DSL            Yes           No              Yes   \n",
       "2         No             DSL            Yes          Yes               No   \n",
       "3         No             DSL            Yes           No              Yes   \n",
       "4         No     Fiber optic             No           No               No   \n",
       "\n",
       "  TechSupport StreamingTV StreamingMovies MultipleLines  \n",
       "0          No          No              No           NaN  \n",
       "1          No          No              No            No  \n",
       "2          No          No              No            No  \n",
       "3         Yes          No              No           NaN  \n",
       "4          No          No              No            No  "
      ]
     },
     "execution_count": 26,
     "metadata": {},
     "output_type": "execute_result"
    }
   ],
   "source": [
    "data_final.head()"
   ]
  },
  {
   "cell_type": "code",
   "execution_count": 27,
   "id": "4c0f70cc",
   "metadata": {},
   "outputs": [
    {
     "name": "stdout",
     "output_type": "stream",
     "text": [
      "<class 'pandas.core.frame.DataFrame'>\n",
      "Int64Index: 7032 entries, 0 to 7031\n",
      "Data columns (total 20 columns):\n",
      " #   Column            Non-Null Count  Dtype  \n",
      "---  ------            --------------  -----  \n",
      " 0   customerID        7032 non-null   object \n",
      " 1   Type              7032 non-null   object \n",
      " 2   PaperlessBilling  7032 non-null   object \n",
      " 3   PaymentMethod     7032 non-null   object \n",
      " 4   MonthlyCharges    7032 non-null   float64\n",
      " 5   TotalCharges      7032 non-null   float64\n",
      " 6   Exited            7032 non-null   int64  \n",
      " 7   Days              7032 non-null   int64  \n",
      " 8   gender            7032 non-null   object \n",
      " 9   SeniorCitizen     7032 non-null   int64  \n",
      " 10  Partner           7032 non-null   object \n",
      " 11  Dependents        7032 non-null   object \n",
      " 12  InternetService   5512 non-null   object \n",
      " 13  OnlineSecurity    5512 non-null   object \n",
      " 14  OnlineBackup      5512 non-null   object \n",
      " 15  DeviceProtection  5512 non-null   object \n",
      " 16  TechSupport       5512 non-null   object \n",
      " 17  StreamingTV       5512 non-null   object \n",
      " 18  StreamingMovies   5512 non-null   object \n",
      " 19  MultipleLines     6352 non-null   object \n",
      "dtypes: float64(2), int64(3), object(15)\n",
      "memory usage: 1.1+ MB\n"
     ]
    }
   ],
   "source": [
    "data_final.info()"
   ]
  },
  {
   "cell_type": "code",
   "execution_count": 28,
   "id": "912d3fd9",
   "metadata": {},
   "outputs": [
    {
     "data": {
      "text/plain": [
       "customerID             0\n",
       "Type                   0\n",
       "PaperlessBilling       0\n",
       "PaymentMethod          0\n",
       "MonthlyCharges         0\n",
       "TotalCharges           0\n",
       "Exited                 0\n",
       "Days                   0\n",
       "gender                 0\n",
       "SeniorCitizen          0\n",
       "Partner                0\n",
       "Dependents             0\n",
       "InternetService     1520\n",
       "OnlineSecurity      1520\n",
       "OnlineBackup        1520\n",
       "DeviceProtection    1520\n",
       "TechSupport         1520\n",
       "StreamingTV         1520\n",
       "StreamingMovies     1520\n",
       "MultipleLines        680\n",
       "dtype: int64"
      ]
     },
     "execution_count": 28,
     "metadata": {},
     "output_type": "execute_result"
    }
   ],
   "source": [
    "data_final.isna().sum()"
   ]
  },
  {
   "cell_type": "markdown",
   "id": "0db87d62",
   "metadata": {},
   "source": [
    "Pada tabel `data_final` terdapat begitu banyak nilai yang hilang jadi sangat mustahil untuk menghapus itu semua. Jadi, nilai yang hilang akan diisi dengan nilai yang sesuai.\n",
    "\n",
    "Data yang hilang tidak terisi karena beberapa klien tidak memilih akses yang sama. Jadi, untuk nilai yang sama bisa kita isi dengan nilai No."
   ]
  },
  {
   "cell_type": "code",
   "execution_count": 29,
   "id": "4d3eb131",
   "metadata": {},
   "outputs": [],
   "source": [
    "# mengisi nilai yang hilang dengan nilai yang hilang\n",
    "str_col = data_final.columns[data_final.dtypes == 'object']\n",
    "data_final[str_col] = data_final[str_col].fillna(\"No\")"
   ]
  },
  {
   "cell_type": "code",
   "execution_count": 30,
   "id": "1cffe57b",
   "metadata": {},
   "outputs": [
    {
     "name": "stdout",
     "output_type": "stream",
     "text": [
      "<class 'pandas.core.frame.DataFrame'>\n",
      "Int64Index: 7032 entries, 0 to 7031\n",
      "Data columns (total 20 columns):\n",
      " #   Column            Non-Null Count  Dtype  \n",
      "---  ------            --------------  -----  \n",
      " 0   customerID        7032 non-null   object \n",
      " 1   Type              7032 non-null   object \n",
      " 2   PaperlessBilling  7032 non-null   object \n",
      " 3   PaymentMethod     7032 non-null   object \n",
      " 4   MonthlyCharges    7032 non-null   float64\n",
      " 5   TotalCharges      7032 non-null   float64\n",
      " 6   Exited            7032 non-null   int64  \n",
      " 7   Days              7032 non-null   int64  \n",
      " 8   gender            7032 non-null   object \n",
      " 9   SeniorCitizen     7032 non-null   int64  \n",
      " 10  Partner           7032 non-null   object \n",
      " 11  Dependents        7032 non-null   object \n",
      " 12  InternetService   7032 non-null   object \n",
      " 13  OnlineSecurity    7032 non-null   object \n",
      " 14  OnlineBackup      7032 non-null   object \n",
      " 15  DeviceProtection  7032 non-null   object \n",
      " 16  TechSupport       7032 non-null   object \n",
      " 17  StreamingTV       7032 non-null   object \n",
      " 18  StreamingMovies   7032 non-null   object \n",
      " 19  MultipleLines     7032 non-null   object \n",
      "dtypes: float64(2), int64(3), object(15)\n",
      "memory usage: 1.1+ MB\n"
     ]
    }
   ],
   "source": [
    "data_final.info()"
   ]
  },
  {
   "cell_type": "markdown",
   "id": "eba916ef",
   "metadata": {},
   "source": [
    "## EDA"
   ]
  },
  {
   "cell_type": "markdown",
   "id": "c7fc306b",
   "metadata": {},
   "source": [
    "### Class Imbalanced\n",
    "\n",
    "Pada data terdapat kolom yang isinya status dari klien. Data akan dicek dulu tentang keseimbangan class yang ada."
   ]
  },
  {
   "cell_type": "code",
   "execution_count": 31,
   "id": "288730dd",
   "metadata": {},
   "outputs": [
    {
     "data": {
      "text/plain": [
       "<AxesSubplot:ylabel='Frequency'>"
      ]
     },
     "execution_count": 31,
     "metadata": {},
     "output_type": "execute_result"
    },
    {
     "data": {
      "image/png": "[encoded data removed]",
      "text/plain": [
       "<Figure size 500x400 with 1 Axes>"
      ]
     },
     "metadata": {},
     "output_type": "display_data"
    }
   ],
   "source": [
    "# tabel histogram\n",
    "data_final['Exited'].plot(kind='hist', figsize=(5,4))"
   ]
  },
  {
   "cell_type": "markdown",
   "id": "eead4a76",
   "metadata": {},
   "source": [
    "Pada tabel tersebut ditunjukkan bahwa klien yang belum berehenti layanan lebih banyak sekitar lebih dari 5000 dan orang yang sudah berhenti berlayanan itu kurang dari 2000. Jelas terdapat imbalanced class di sini yang akan mempengaruhi kerja model nantinya."
   ]
  },
  {
   "cell_type": "markdown",
   "id": "12fcceb2",
   "metadata": {},
   "source": [
    "### Perbandingan data kategori dengan jumlah klien"
   ]
  },
  {
   "cell_type": "code",
   "execution_count": 32,
   "id": "555cc99e",
   "metadata": {
    "scrolled": false
   },
   "outputs": [
    {
     "data": {
      "image/png": "[encoded data removed]",
      "text/plain": [
       "<Figure size 2000x2000 with 12 Axes>"
      ]
     },
     "metadata": {},
     "output_type": "display_data"
    }
   ],
   "source": [
    "# membuat bar chart klien terhadap data kategori\n",
    "col = list(data_final.columns[data_final.dtypes == 'object'])\n",
    "col.remove('customerID')\n",
    "fig, ax = plt.subplots(4, len(col)//4, figsize=(20,20))\n",
    "ax = ax.flatten()\n",
    "for c, a in zip(col, ax):\n",
    "    data = data_final.groupby([c, 'Exited'])['Exited'].count().unstack()\n",
    "    data.plot(kind='bar', ax=a,)\n",
    "plt.tight_layout()\n",
    "plt.show() "
   ]
  },
  {
   "cell_type": "markdown",
   "id": "3064abaf",
   "metadata": {},
   "source": [
    "**Untuk klien yang masih berlangganan:**\n",
    "- Klien lebih suka melakukan langganan secara bulanan dan melakukan paperless billing.\n",
    "- Untuk internet service lebih banyak menggunakan DSL.\n",
    "- Kebanyak tidak menggunakan layanan internet dan layanan telpon.\n",
    "- Pada bagian gender lebih banyak laki-laki daripada perempuan.\n",
    "\n",
    "**Untuk klien yang berhenti:**\n",
    "- Sama seperti klien masih berlangganan, mereka lebih suka melakukan pembayaran secara per-bulan, melakukan paperless billing, dan metode pembayaran menggunakan electronic check.\n",
    "- Untuk layanan internet lebih banyak menggunakan field optic dan untuk layanan lain tidak banyak yang menggunakan.\n",
    "- Untuk layanan telpon tidak banyak klien yang menggunakan.\n",
    "- Pada bagian gender lebih banyak perempuan sedikit daripada laki-laki."
   ]
  },
  {
   "cell_type": "markdown",
   "id": "14db8d35",
   "metadata": {},
   "source": [
    "### Perbandingan klien berdasarkan data numerik"
   ]
  },
  {
   "cell_type": "code",
   "execution_count": 33,
   "id": "86cc6795",
   "metadata": {},
   "outputs": [
    {
     "name": "stdout",
     "output_type": "stream",
     "text": [
      "count    7032.000000\n",
      "mean       64.798208\n",
      "std        30.085974\n",
      "min        18.250000\n",
      "25%        35.587500\n",
      "50%        70.350000\n",
      "75%        89.862500\n",
      "max       118.750000\n",
      "Name: MonthlyCharges, dtype: float64\n"
     ]
    },
    {
     "data": {
      "image/png": "[encoded data removed]",
      "text/plain": [
       "<Figure size 700x500 with 1 Axes>"
      ]
     },
     "metadata": {},
     "output_type": "display_data"
    }
   ],
   "source": [
    "# boxplot Monthly charges\n",
    "data_final.boxplot(column='MonthlyCharges', by='Exited', figsize=(7,5))\n",
    "print(data_final['MonthlyCharges'].describe())"
   ]
  },
  {
   "cell_type": "code",
   "execution_count": 34,
   "id": "a14bfe3e",
   "metadata": {},
   "outputs": [
    {
     "name": "stdout",
     "output_type": "stream",
     "text": [
      "count    7032.000000\n",
      "mean     2283.300441\n",
      "std      2266.771362\n",
      "min        18.800000\n",
      "25%       401.450000\n",
      "50%      1397.475000\n",
      "75%      3794.737500\n",
      "max      8684.800000\n",
      "Name: TotalCharges, dtype: float64\n"
     ]
    },
    {
     "data": {
      "image/png": "[encoded data removed]",
      "text/plain": [
       "<Figure size 700x500 with 1 Axes>"
      ]
     },
     "metadata": {},
     "output_type": "display_data"
    }
   ],
   "source": [
    "# boxplot Total charges\n",
    "data_final.boxplot(column='TotalCharges', by='Exited', figsize=(7,5))\n",
    "print(data_final['TotalCharges'].describe())"
   ]
  },
  {
   "cell_type": "code",
   "execution_count": 35,
   "id": "5b816609",
   "metadata": {},
   "outputs": [
    {
     "name": "stdout",
     "output_type": "stream",
     "text": [
      "count    7032.000000\n",
      "mean      987.538538\n",
      "std       747.153663\n",
      "min        30.000000\n",
      "25%       275.000000\n",
      "50%       883.000000\n",
      "75%      1676.000000\n",
      "max      2191.000000\n",
      "Name: Days, dtype: float64\n"
     ]
    },
    {
     "data": {
      "image/png": "[encoded data removed]",
      "text/plain": [
       "<Figure size 700x500 with 1 Axes>"
      ]
     },
     "metadata": {},
     "output_type": "display_data"
    }
   ],
   "source": [
    "# boxplot Days\n",
    "data_final.boxplot(column='Days', by='Exited', figsize=(7,5))\n",
    "print(data_final['Days'].describe())"
   ]
  },
  {
   "cell_type": "code",
   "execution_count": 36,
   "id": "4f415cc4",
   "metadata": {},
   "outputs": [
    {
     "data": {
      "image/png": "[encoded data removed]",
      "text/plain": [
       "<Figure size 400x400 with 1 Axes>"
      ]
     },
     "metadata": {},
     "output_type": "display_data"
    }
   ],
   "source": [
    "# barchart Senior citizen\n",
    "citizen = data_final.groupby(['SeniorCitizen', 'Exited'])['Exited'].count().unstack()\n",
    "citizen.plot(kind='bar', figsize=(4,4))\n",
    "plt.xlabel('isSeniorCitizen')\n",
    "plt.show()"
   ]
  },
  {
   "cell_type": "markdown",
   "id": "df4dc517",
   "metadata": {},
   "source": [
    "**Untuk klien yang masih berlangganan:**\n",
    "- Pada kolom `MonthlyCharges`, banyak klien yang melakukan pembayaran perbulan. Namun, mereka jumlah pembayarannya tidak banyak dengan rata-ratanya adalah sekitar 60-an.\n",
    "- Pada kolom `TotalCharges`, karena banyak klien yang belum berhenti berlangganan, maka banyak datanya lebih condong ke kanan. Dengan rata-rata pembayarannya lebih tinggi disebabkan oleh lamanya klien berlangganan.\n",
    "- Pada kolom `Days`, klien yang belum pergi lebih lama berlangganan dengan rata-rata adalah 1000 hari.\n",
    "- Pada kolom `SeniorCitizen`, banyak klien yang merupakan senior citizen.\n",
    "\n",
    "**Untuk klien yang berhenti:**\n",
    "- Pada kolom `MonthlyCharges`, klien lebih banyak melakukan pembayaran dengan jumlah yang besar dari pada klien yang masih berlangganan.\n",
    "- Pada kolom `TotalCharges`, karena klien tidak bertahan selama yang berlangganan maka total charges nya lebih sedikit.\n",
    "- Pada kolom `Days`, rata-rata klien berlanggana di bawah 500 hari.\n",
    "- Pada kolom `SeniorCitize`, tidak ada yang merupakan senior citizen untuk klien yang berhenti."
   ]
  },
  {
   "cell_type": "code",
   "execution_count": 37,
   "id": "b3f4d93b",
   "metadata": {},
   "outputs": [
    {
     "data": {
      "text/html": [
       "<div>\n",
       "<style scoped>\n",
       "    .dataframe tbody tr th:only-of-type {\n",
       "        vertical-align: middle;\n",
       "    }\n",
       "\n",
       "    .dataframe tbody tr th {\n",
       "        vertical-align: top;\n",
       "    }\n",
       "\n",
       "    .dataframe thead th {\n",
       "        text-align: right;\n",
       "    }\n",
       "</style>\n",
       "<table border=\"1\" class=\"dataframe\">\n",
       "  <thead>\n",
       "    <tr style=\"text-align: right;\">\n",
       "      <th></th>\n",
       "      <th>MonthlyCharges</th>\n",
       "      <th>TotalCharges</th>\n",
       "      <th>Exited</th>\n",
       "      <th>Days</th>\n",
       "      <th>SeniorCitizen</th>\n",
       "    </tr>\n",
       "  </thead>\n",
       "  <tbody>\n",
       "    <tr>\n",
       "      <th>MonthlyCharges</th>\n",
       "      <td>1.000000</td>\n",
       "      <td>0.651065</td>\n",
       "      <td>0.192858</td>\n",
       "      <td>0.246715</td>\n",
       "      <td>0.219874</td>\n",
       "    </tr>\n",
       "    <tr>\n",
       "      <th>TotalCharges</th>\n",
       "      <td>0.651065</td>\n",
       "      <td>1.000000</td>\n",
       "      <td>-0.199484</td>\n",
       "      <td>0.825811</td>\n",
       "      <td>0.102411</td>\n",
       "    </tr>\n",
       "    <tr>\n",
       "      <th>Exited</th>\n",
       "      <td>0.192858</td>\n",
       "      <td>-0.199484</td>\n",
       "      <td>1.000000</td>\n",
       "      <td>-0.354496</td>\n",
       "      <td>0.150541</td>\n",
       "    </tr>\n",
       "    <tr>\n",
       "      <th>Days</th>\n",
       "      <td>0.246715</td>\n",
       "      <td>0.825811</td>\n",
       "      <td>-0.354496</td>\n",
       "      <td>1.000000</td>\n",
       "      <td>0.015630</td>\n",
       "    </tr>\n",
       "    <tr>\n",
       "      <th>SeniorCitizen</th>\n",
       "      <td>0.219874</td>\n",
       "      <td>0.102411</td>\n",
       "      <td>0.150541</td>\n",
       "      <td>0.015630</td>\n",
       "      <td>1.000000</td>\n",
       "    </tr>\n",
       "  </tbody>\n",
       "</table>\n",
       "</div>"
      ],
      "text/plain": [
       "                MonthlyCharges  TotalCharges    Exited      Days  \\\n",
       "MonthlyCharges        1.000000      0.651065  0.192858  0.246715   \n",
       "TotalCharges          0.651065      1.000000 -0.199484  0.825811   \n",
       "Exited                0.192858     -0.199484  1.000000 -0.354496   \n",
       "Days                  0.246715      0.825811 -0.354496  1.000000   \n",
       "SeniorCitizen         0.219874      0.102411  0.150541  0.015630   \n",
       "\n",
       "                SeniorCitizen  \n",
       "MonthlyCharges       0.219874  \n",
       "TotalCharges         0.102411  \n",
       "Exited               0.150541  \n",
       "Days                 0.015630  \n",
       "SeniorCitizen        1.000000  "
      ]
     },
     "execution_count": 37,
     "metadata": {},
     "output_type": "execute_result"
    }
   ],
   "source": [
    "# cek korelasi\n",
    "data_final.corr()"
   ]
  },
  {
   "cell_type": "markdown",
   "id": "bec49d9b",
   "metadata": {},
   "source": [
    "Antar kolom tidak memiliki korelasi yang begitu kuat, hanya antara kolom `Days` dan juga kolom `TotalCharges` yang memiliki korelasi tinggi. Ini bisa terjadi karena semakin lama orang berlangganan, maka total biayanya semakin tinggi."
   ]
  },
  {
   "cell_type": "markdown",
   "id": "f98bf86e",
   "metadata": {},
   "source": [
    "### Layanan Telpon vs Layanan Internet\n",
    "\n",
    "Karena di perusahaan memiliki dua layanan, yaitu layanan telpon dan layanan internet. Maka, akan dilihat distribusi dari setiap layanan tersebut"
   ]
  },
  {
   "cell_type": "code",
   "execution_count": 38,
   "id": "644b0316",
   "metadata": {},
   "outputs": [],
   "source": [
    "# internet service\n",
    "internet_serv = data_final[data_final['customerID'].isin(internet_df['customerID'])]"
   ]
  },
  {
   "cell_type": "code",
   "execution_count": 39,
   "id": "dd8e3667",
   "metadata": {},
   "outputs": [
    {
     "name": "stdout",
     "output_type": "stream",
     "text": [
      "<class 'pandas.core.frame.DataFrame'>\n",
      "Int64Index: 5512 entries, 0 to 7031\n",
      "Data columns (total 20 columns):\n",
      " #   Column            Non-Null Count  Dtype  \n",
      "---  ------            --------------  -----  \n",
      " 0   customerID        5512 non-null   object \n",
      " 1   Type              5512 non-null   object \n",
      " 2   PaperlessBilling  5512 non-null   object \n",
      " 3   PaymentMethod     5512 non-null   object \n",
      " 4   MonthlyCharges    5512 non-null   float64\n",
      " 5   TotalCharges      5512 non-null   float64\n",
      " 6   Exited            5512 non-null   int64  \n",
      " 7   Days              5512 non-null   int64  \n",
      " 8   gender            5512 non-null   object \n",
      " 9   SeniorCitizen     5512 non-null   int64  \n",
      " 10  Partner           5512 non-null   object \n",
      " 11  Dependents        5512 non-null   object \n",
      " 12  InternetService   5512 non-null   object \n",
      " 13  OnlineSecurity    5512 non-null   object \n",
      " 14  OnlineBackup      5512 non-null   object \n",
      " 15  DeviceProtection  5512 non-null   object \n",
      " 16  TechSupport       5512 non-null   object \n",
      " 17  StreamingTV       5512 non-null   object \n",
      " 18  StreamingMovies   5512 non-null   object \n",
      " 19  MultipleLines     5512 non-null   object \n",
      "dtypes: float64(2), int64(3), object(15)\n",
      "memory usage: 904.3+ KB\n"
     ]
    }
   ],
   "source": [
    "internet_serv.info()"
   ]
  },
  {
   "cell_type": "code",
   "execution_count": 40,
   "id": "d5afb65f",
   "metadata": {},
   "outputs": [
    {
     "data": {
      "image/png": "[encoded data removed]",
      "text/plain": [
       "<Figure size 400x400 with 1 Axes>"
      ]
     },
     "metadata": {},
     "output_type": "display_data"
    }
   ],
   "source": [
    "# histogram kolom monthly charges\n",
    "internet_serv['MonthlyCharges'].hist(bins=10, figsize=(4,4))\n",
    "plt.xlabel(\"Monthly Charges\")\n",
    "plt.ylabel(\"Frequency\")\n",
    "plt.show()"
   ]
  },
  {
   "cell_type": "code",
   "execution_count": 41,
   "id": "3a9805af",
   "metadata": {},
   "outputs": [
    {
     "name": "stdout",
     "output_type": "stream",
     "text": [
      "count    3756.000000\n",
      "mean       76.356709\n",
      "std        22.272199\n",
      "min        24.150000\n",
      "25%        59.137500\n",
      "50%        78.725000\n",
      "75%        94.312500\n",
      "max       118.750000\n",
      "Name: MonthlyCharges, dtype: float64\n",
      "\n",
      "count    1756.000000\n",
      "mean       77.920985\n",
      "std        21.144147\n",
      "min        23.450000\n",
      "25%        69.350000\n",
      "50%        80.450000\n",
      "75%        94.650000\n",
      "max       118.350000\n",
      "Name: MonthlyCharges, dtype: float64\n"
     ]
    },
    {
     "data": {
      "image/png": "[encoded data removed]",
      "text/plain": [
       "<Figure size 400x400 with 1 Axes>"
      ]
     },
     "metadata": {},
     "output_type": "display_data"
    }
   ],
   "source": [
    "# describe data per status klien\n",
    "print(internet_serv[internet_serv['Exited']==0]['MonthlyCharges'].describe())\n",
    "print()\n",
    "print(internet_serv[internet_serv['Exited']==1]['MonthlyCharges'].describe())\n",
    "\n",
    "# grafik histogram per status klien\n",
    "internet_serv[internet_serv['Exited']==0]['MonthlyCharges'].hist(bins=10, figsize=(4,4), alpha=0.7, label=0)\n",
    "internet_serv[internet_serv['Exited']==1]['MonthlyCharges'].hist(bins=10, figsize=(4,4), alpha=0.7, label=1)\n",
    "plt.legend(loc=\"upper right\")\n",
    "plt.xlabel(\"Monthly Charges\")\n",
    "plt.ylabel(\"Frequency\")\n",
    "plt.show()"
   ]
  },
  {
   "cell_type": "markdown",
   "id": "4d43dd5d",
   "metadata": {},
   "source": [
    "**Kesimpulan kolom MonthylCharges:**\n",
    "- Secara umum, banyak klien yang membayar di sekitar angka 80-an.\n",
    "- Ketika dibedakan antara klien yang tetap dan klien yang pergi, mereka sama-sama memiliki distribusi yang hampir sama.\n",
    "- Memiliki rata-rata angka yang sama serta nilai minimal dan maximal charge yang sama."
   ]
  },
  {
   "cell_type": "code",
   "execution_count": 42,
   "id": "4e18b212",
   "metadata": {},
   "outputs": [
    {
     "data": {
      "image/png": "[encoded data removed]",
      "text/plain": [
       "<Figure size 400x400 with 1 Axes>"
      ]
     },
     "metadata": {},
     "output_type": "display_data"
    }
   ],
   "source": [
    "# histogram kolom days\n",
    "internet_serv['Days'].hist(bins=10, figsize=(4,4))\n",
    "plt.xlabel(\"Days\")\n",
    "plt.ylabel(\"Frequency\")\n",
    "plt.show()"
   ]
  },
  {
   "cell_type": "code",
   "execution_count": 43,
   "id": "34eeab96",
   "metadata": {},
   "outputs": [
    {
     "name": "stdout",
     "output_type": "stream",
     "text": [
      "count    3756.000000\n",
      "mean     1205.955804\n",
      "std       723.904224\n",
      "min        31.000000\n",
      "25%       549.000000\n",
      "50%      1248.000000\n",
      "75%      1888.000000\n",
      "max      2191.000000\n",
      "Name: Days, dtype: float64\n",
      "\n",
      "count    1756.000000\n",
      "mean      566.432802\n",
      "std       598.823271\n",
      "min        30.000000\n",
      "25%        83.500000\n",
      "50%       306.000000\n",
      "75%       914.000000\n",
      "max      2191.000000\n",
      "Name: Days, dtype: float64\n"
     ]
    },
    {
     "data": {
      "image/png": "[encoded data removed]",
      "text/plain": [
       "<Figure size 400x400 with 1 Axes>"
      ]
     },
     "metadata": {},
     "output_type": "display_data"
    }
   ],
   "source": [
    "# describe data per status klien\n",
    "print(internet_serv[internet_serv['Exited']==0]['Days'].describe())\n",
    "print()\n",
    "print(internet_serv[internet_serv['Exited']==1]['Days'].describe())\n",
    "\n",
    "# grafik per status klien\n",
    "internet_serv[internet_serv['Exited']==0]['Days'].hist(bins=10, figsize=(4,4), alpha=0.7, label=0)\n",
    "internet_serv[internet_serv['Exited']==1]['Days'].hist(bins=10, figsize=(4,4), alpha=0.7, label=1)\n",
    "plt.legend(loc=\"upper right\")\n",
    "plt.xlabel(\"Days\")\n",
    "plt.ylabel(\"Frequency\")\n",
    "plt.show()\n",
    "plt.show()"
   ]
  },
  {
   "cell_type": "markdown",
   "id": "7ba81dc9",
   "metadata": {},
   "source": [
    "**Kesimpulan kolom Days:**\n",
    "- Total hari klien berlangganan paling banyak kurang dari 500 hari.\n",
    "- Rata-rata hari yang dihabiskan untuk klien yang berhenti adalah sekitar 566 hari.\n",
    "- Klien yang berhenti kebanyakan menghabiskan hari sekitar 83.\n",
    "- Klien yang berhenti, kebanyakan adalah klien yang berlangganan secara bulanan."
   ]
  },
  {
   "cell_type": "code",
   "execution_count": 44,
   "id": "26d610b0",
   "metadata": {},
   "outputs": [],
   "source": [
    "# phone service\n",
    "phone_serv = data_final[data_final['customerID'].isin(phone_df['customerID'])]"
   ]
  },
  {
   "cell_type": "code",
   "execution_count": 45,
   "id": "29b20441",
   "metadata": {},
   "outputs": [
    {
     "name": "stdout",
     "output_type": "stream",
     "text": [
      "<class 'pandas.core.frame.DataFrame'>\n",
      "Int64Index: 6352 entries, 1 to 7031\n",
      "Data columns (total 20 columns):\n",
      " #   Column            Non-Null Count  Dtype  \n",
      "---  ------            --------------  -----  \n",
      " 0   customerID        6352 non-null   object \n",
      " 1   Type              6352 non-null   object \n",
      " 2   PaperlessBilling  6352 non-null   object \n",
      " 3   PaymentMethod     6352 non-null   object \n",
      " 4   MonthlyCharges    6352 non-null   float64\n",
      " 5   TotalCharges      6352 non-null   float64\n",
      " 6   Exited            6352 non-null   int64  \n",
      " 7   Days              6352 non-null   int64  \n",
      " 8   gender            6352 non-null   object \n",
      " 9   SeniorCitizen     6352 non-null   int64  \n",
      " 10  Partner           6352 non-null   object \n",
      " 11  Dependents        6352 non-null   object \n",
      " 12  InternetService   6352 non-null   object \n",
      " 13  OnlineSecurity    6352 non-null   object \n",
      " 14  OnlineBackup      6352 non-null   object \n",
      " 15  DeviceProtection  6352 non-null   object \n",
      " 16  TechSupport       6352 non-null   object \n",
      " 17  StreamingTV       6352 non-null   object \n",
      " 18  StreamingMovies   6352 non-null   object \n",
      " 19  MultipleLines     6352 non-null   object \n",
      "dtypes: float64(2), int64(3), object(15)\n",
      "memory usage: 1.0+ MB\n"
     ]
    }
   ],
   "source": [
    "phone_serv.info()"
   ]
  },
  {
   "cell_type": "code",
   "execution_count": 46,
   "id": "f3b6caf0",
   "metadata": {},
   "outputs": [
    {
     "data": {
      "image/png": "[encoded data removed]",
      "text/plain": [
       "<Figure size 500x500 with 1 Axes>"
      ]
     },
     "metadata": {},
     "output_type": "display_data"
    }
   ],
   "source": [
    "# kolom Monthlycharges\n",
    "phone_serv['MonthlyCharges'].hist(bins=10, figsize=(5,5))\n",
    "plt.xlabel(\"Monthly Charges\")\n",
    "plt.ylabel(\"Frequency\")\n",
    "plt.show()"
   ]
  },
  {
   "cell_type": "code",
   "execution_count": 47,
   "id": "d83c65ee",
   "metadata": {},
   "outputs": [
    {
     "name": "stdout",
     "output_type": "stream",
     "text": [
      "count    4653.000000\n",
      "mean       63.261552\n",
      "std        31.934310\n",
      "min        18.250000\n",
      "25%        24.500000\n",
      "50%        69.900000\n",
      "75%        90.050000\n",
      "max       118.750000\n",
      "Name: MonthlyCharges, dtype: float64\n",
      "\n",
      "count    1699.000000\n",
      "mean       78.134255\n",
      "std        22.567643\n",
      "min        18.850000\n",
      "25%        69.975000\n",
      "50%        80.950000\n",
      "75%        94.850000\n",
      "max       118.350000\n",
      "Name: MonthlyCharges, dtype: float64\n"
     ]
    },
    {
     "data": {
      "image/png": "[encoded data removed]",
      "text/plain": [
       "<Figure size 400x400 with 1 Axes>"
      ]
     },
     "metadata": {},
     "output_type": "display_data"
    }
   ],
   "source": [
    "# describe data per status klien\n",
    "print(phone_serv[phone_serv['Exited']==0]['MonthlyCharges'].describe())\n",
    "print()\n",
    "print(phone_serv[phone_serv['Exited']==1]['MonthlyCharges'].describe())\n",
    "\n",
    "# grafik per status klien\n",
    "phone_serv[phone_serv['Exited']==0]['MonthlyCharges'].hist(bins=10, figsize=(4,4), alpha=0.7, label=0)\n",
    "phone_serv[phone_serv['Exited']==1]['MonthlyCharges'].hist(bins=10, figsize=(4,4), alpha=0.7, label=1)\n",
    "plt.legend(loc=\"upper right\")\n",
    "plt.xlabel(\"Monthly Charges\")\n",
    "plt.ylabel(\"Frequency\")\n",
    "plt.show()\n",
    "plt.show()"
   ]
  },
  {
   "cell_type": "markdown",
   "id": "dbc2e904",
   "metadata": {},
   "source": [
    "**Untuk kolom MonthlyCharges:**\n",
    "- Secara umum para klien memilih biaya perbulan paling sedikit yaitu sekitar 20-an.\n",
    "- Setelah histogram dipisahkan antara klien yang pergi dan tetap, ditemukan bahwa klien yang pergi lebih banyak membayar di sekitar 80.\n",
    "- Klien yang menetap membayar sekitar 24 sampai 90, sedangkan untuk klien yang pergi membayar sekitar 69 sampai 94."
   ]
  },
  {
   "cell_type": "code",
   "execution_count": 48,
   "id": "1956343b",
   "metadata": {},
   "outputs": [
    {
     "data": {
      "image/png": "[encoded data removed]",
      "text/plain": [
       "<Figure size 500x500 with 1 Axes>"
      ]
     },
     "metadata": {},
     "output_type": "display_data"
    }
   ],
   "source": [
    "# kolom Days\n",
    "phone_serv['Days'].hist(bins=10, figsize=(5,5))\n",
    "plt.xlabel(\"Days\")\n",
    "plt.ylabel(\"Frequency\")\n",
    "plt.show()"
   ]
  },
  {
   "cell_type": "code",
   "execution_count": 49,
   "id": "f1870573",
   "metadata": {},
   "outputs": [
    {
     "name": "stdout",
     "output_type": "stream",
     "text": [
      "count    4653.000000\n",
      "mean     1148.512573\n",
      "std       734.785934\n",
      "min        31.000000\n",
      "25%       457.000000\n",
      "50%      1157.000000\n",
      "75%      1857.000000\n",
      "max      2191.000000\n",
      "Name: Days, dtype: float64\n",
      "\n",
      "count    1699.000000\n",
      "mean      553.880518\n",
      "std       596.568794\n",
      "min        30.000000\n",
      "25%        61.000000\n",
      "50%       304.000000\n",
      "75%       883.000000\n",
      "max      2191.000000\n",
      "Name: Days, dtype: float64\n"
     ]
    },
    {
     "data": {
      "image/png": "[encoded data removed]",
      "text/plain": [
       "<Figure size 400x400 with 1 Axes>"
      ]
     },
     "metadata": {},
     "output_type": "display_data"
    }
   ],
   "source": [
    "# describe data per status klien\n",
    "print(phone_serv[phone_serv['Exited']==0]['Days'].describe())\n",
    "print()\n",
    "print(phone_serv[phone_serv['Exited']==1]['Days'].describe())\n",
    "\n",
    "# grafik per status klien\n",
    "phone_serv[phone_serv['Exited']==0]['Days'].hist(bins=10, figsize=(4,4), alpha=0.7, label=0)\n",
    "phone_serv[phone_serv['Exited']==1]['Days'].hist(bins=10, figsize=(4,4), alpha=0.7, label=1)\n",
    "plt.legend(loc=\"upper right\")\n",
    "plt.xlabel(\"Days\")\n",
    "plt.ylabel(\"Frequency\")\n",
    "plt.show()\n",
    "plt.show()"
   ]
  },
  {
   "cell_type": "markdown",
   "id": "c7fa166b",
   "metadata": {},
   "source": [
    "**Untuk kolom Days:**\n",
    "- Memiliki grafik yang hampir sama dengan layanan internet. Klien lebih banyak menghabiskan langganannya sekitar 200-an hari.\n",
    "- Klien yang menetap dan klien yang pergi memiliki jumlah hari yang sama di hari 200-an.\n",
    "- Klien yang menetap lebih banyak menghabiskan hari sekitar 2000-an. Hal ini dipicu karena jumlah klien yang sudah berlangganan lama."
   ]
  },
  {
   "cell_type": "markdown",
   "id": "ed03d725",
   "metadata": {},
   "source": [
    "## Kesimpulan Umum"
   ]
  },
  {
   "cell_type": "markdown",
   "id": "42387bb4",
   "metadata": {},
   "source": [
    "Setelah melakukan EDA, jawaban yanng diajukan terjawab:\n",
    "1. Klien yang paling banyak adalah klien yang masih berlangganan, dan diantara mereka ada lah klien yang memiliki masa berlangganan paling lama. Namun, saking banyaknya klien tersebut membuat kelas menjadi tidak seimbang.\n",
    "2. Perbandingan klien terhadap fitur kategori memberi tahukan bahwa klien yang sudah berhenti memiliki jumlah langganan yang lebih sedikit dibandingkan yang masih berlangganan.\n",
    "3. Berdasarkan perbadingan pada data numerik: \n",
    "    - Klien yang sudah berhenti memiliki rata-rata pembayaran yang lebih tinggi.\n",
    "    - Klien yang berhenti bukan merupakan senior citizen. Kebanyakan dari mereka adalah orang baru atau orang yang masih muda.\n",
    "4. Klienyang sudah berhenti cenderung tidak berlangganan cukup lama.\n",
    "5. Ketika membandingkan antara layanan telpon dan layanan internet, ini yang saya temukan:\n",
    "    - Untuk layanan internet, para klien lebih banyak membayar di sekitar 80-an. Kedua klien memiliki habit yang sama dalam jumlah tagihan yang perlu dibayarkan. Klien yang sudah berhenti suka dengan layanan internet. Dilihat dari histogram hari yang menunjukkan bahwa jumlah pengguna saat itu melebihi klien yang masih berlangganan.\n",
    "    - Untuk layanan phone, para klien lebih banyak terkena biaya perbulan yaitu sekitar 20-an. Klien tersebut kebanyakan adalah klien yang masih berlangganan dan merupakan senior citizen. Untuk klien yang sudah berhenti, klien tersebut kurang suka dengan layanan phone yang disediakan. Tidak sebanyak layanan internet.\n",
    "    \n",
    "**Fitur-fitur yang akan dipakai dalam proses training**\n",
    "\n",
    "Berdasarkan hasil analisis, fitur yang akan dipakai adalah:\n",
    "- `Type`\n",
    "- `PaperlessBilling`\n",
    "- `PaymentMethod`\n",
    "- `MonthlyCharges`\n",
    "- `TotalCharges`\n",
    "- `Days`\n",
    "- `SeniorCitizen`\n",
    "- `Partner`\n",
    "- `Dependents`\n",
    "- `InternetService`\n",
    "- `OnlineSecurity`\n",
    "- `OnlineBackup`\n",
    "- `DeviceProtection`\n",
    "- `TechSupport`\n",
    "- `StreamingTV`\n",
    "- `StreamingMovies`\n",
    "- `MultipleLines`\n",
    "\n",
    "**Target**\n",
    "- `Exited`"
   ]
  },
  {
   "cell_type": "markdown",
   "id": "10d683b1",
   "metadata": {},
   "source": [
    "## Model Training"
   ]
  },
  {
   "cell_type": "markdown",
   "id": "f03fe218",
   "metadata": {},
   "source": [
    "Karena model akan dibuat, maka akan dihapus fitur-fitur yang tidak dibutuhkan oleh data set pada proses pengembangan model."
   ]
  },
  {
   "cell_type": "code",
   "execution_count": 50,
   "id": "9083ab2a",
   "metadata": {},
   "outputs": [],
   "source": [
    "new_data = data_final.drop(['customerID', 'gender'], axis=1)"
   ]
  },
  {
   "cell_type": "code",
   "execution_count": 51,
   "id": "37696447",
   "metadata": {},
   "outputs": [
    {
     "data": {
      "text/html": [
       "<div>\n",
       "<style scoped>\n",
       "    .dataframe tbody tr th:only-of-type {\n",
       "        vertical-align: middle;\n",
       "    }\n",
       "\n",
       "    .dataframe tbody tr th {\n",
       "        vertical-align: top;\n",
       "    }\n",
       "\n",
       "    .dataframe thead th {\n",
       "        text-align: right;\n",
       "    }\n",
       "</style>\n",
       "<table border=\"1\" class=\"dataframe\">\n",
       "  <thead>\n",
       "    <tr style=\"text-align: right;\">\n",
       "      <th></th>\n",
       "      <th>Type</th>\n",
       "      <th>PaperlessBilling</th>\n",
       "      <th>PaymentMethod</th>\n",
       "      <th>MonthlyCharges</th>\n",
       "      <th>TotalCharges</th>\n",
       "      <th>Exited</th>\n",
       "      <th>Days</th>\n",
       "      <th>SeniorCitizen</th>\n",
       "      <th>Partner</th>\n",
       "      <th>Dependents</th>\n",
       "      <th>InternetService</th>\n",
       "      <th>OnlineSecurity</th>\n",
       "      <th>OnlineBackup</th>\n",
       "      <th>DeviceProtection</th>\n",
       "      <th>TechSupport</th>\n",
       "      <th>StreamingTV</th>\n",
       "      <th>StreamingMovies</th>\n",
       "      <th>MultipleLines</th>\n",
       "    </tr>\n",
       "  </thead>\n",
       "  <tbody>\n",
       "    <tr>\n",
       "      <th>0</th>\n",
       "      <td>Month-to-month</td>\n",
       "      <td>Yes</td>\n",
       "      <td>Electronic check</td>\n",
       "      <td>29.85</td>\n",
       "      <td>29.85</td>\n",
       "      <td>0</td>\n",
       "      <td>31</td>\n",
       "      <td>0</td>\n",
       "      <td>Yes</td>\n",
       "      <td>No</td>\n",
       "      <td>DSL</td>\n",
       "      <td>No</td>\n",
       "      <td>Yes</td>\n",
       "      <td>No</td>\n",
       "      <td>No</td>\n",
       "      <td>No</td>\n",
       "      <td>No</td>\n",
       "      <td>No</td>\n",
       "    </tr>\n",
       "    <tr>\n",
       "      <th>1</th>\n",
       "      <td>One year</td>\n",
       "      <td>No</td>\n",
       "      <td>Mailed check</td>\n",
       "      <td>56.95</td>\n",
       "      <td>1889.50</td>\n",
       "      <td>0</td>\n",
       "      <td>1036</td>\n",
       "      <td>0</td>\n",
       "      <td>No</td>\n",
       "      <td>No</td>\n",
       "      <td>DSL</td>\n",
       "      <td>Yes</td>\n",
       "      <td>No</td>\n",
       "      <td>Yes</td>\n",
       "      <td>No</td>\n",
       "      <td>No</td>\n",
       "      <td>No</td>\n",
       "      <td>No</td>\n",
       "    </tr>\n",
       "    <tr>\n",
       "      <th>2</th>\n",
       "      <td>Month-to-month</td>\n",
       "      <td>Yes</td>\n",
       "      <td>Mailed check</td>\n",
       "      <td>53.85</td>\n",
       "      <td>108.15</td>\n",
       "      <td>1</td>\n",
       "      <td>61</td>\n",
       "      <td>0</td>\n",
       "      <td>No</td>\n",
       "      <td>No</td>\n",
       "      <td>DSL</td>\n",
       "      <td>Yes</td>\n",
       "      <td>Yes</td>\n",
       "      <td>No</td>\n",
       "      <td>No</td>\n",
       "      <td>No</td>\n",
       "      <td>No</td>\n",
       "      <td>No</td>\n",
       "    </tr>\n",
       "    <tr>\n",
       "      <th>3</th>\n",
       "      <td>One year</td>\n",
       "      <td>No</td>\n",
       "      <td>Bank transfer (automatic)</td>\n",
       "      <td>42.30</td>\n",
       "      <td>1840.75</td>\n",
       "      <td>0</td>\n",
       "      <td>1371</td>\n",
       "      <td>0</td>\n",
       "      <td>No</td>\n",
       "      <td>No</td>\n",
       "      <td>DSL</td>\n",
       "      <td>Yes</td>\n",
       "      <td>No</td>\n",
       "      <td>Yes</td>\n",
       "      <td>Yes</td>\n",
       "      <td>No</td>\n",
       "      <td>No</td>\n",
       "      <td>No</td>\n",
       "    </tr>\n",
       "    <tr>\n",
       "      <th>4</th>\n",
       "      <td>Month-to-month</td>\n",
       "      <td>Yes</td>\n",
       "      <td>Electronic check</td>\n",
       "      <td>70.70</td>\n",
       "      <td>151.65</td>\n",
       "      <td>1</td>\n",
       "      <td>61</td>\n",
       "      <td>0</td>\n",
       "      <td>No</td>\n",
       "      <td>No</td>\n",
       "      <td>Fiber optic</td>\n",
       "      <td>No</td>\n",
       "      <td>No</td>\n",
       "      <td>No</td>\n",
       "      <td>No</td>\n",
       "      <td>No</td>\n",
       "      <td>No</td>\n",
       "      <td>No</td>\n",
       "    </tr>\n",
       "  </tbody>\n",
       "</table>\n",
       "</div>"
      ],
      "text/plain": [
       "             Type PaperlessBilling              PaymentMethod  MonthlyCharges  \\\n",
       "0  Month-to-month              Yes           Electronic check           29.85   \n",
       "1        One year               No               Mailed check           56.95   \n",
       "2  Month-to-month              Yes               Mailed check           53.85   \n",
       "3        One year               No  Bank transfer (automatic)           42.30   \n",
       "4  Month-to-month              Yes           Electronic check           70.70   \n",
       "\n",
       "   TotalCharges  Exited  Days  SeniorCitizen Partner Dependents  \\\n",
       "0         29.85       0    31              0     Yes         No   \n",
       "1       1889.50       0  1036              0      No         No   \n",
       "2        108.15       1    61              0      No         No   \n",
       "3       1840.75       0  1371              0      No         No   \n",
       "4        151.65       1    61              0      No         No   \n",
       "\n",
       "  InternetService OnlineSecurity OnlineBackup DeviceProtection TechSupport  \\\n",
       "0             DSL             No          Yes               No          No   \n",
       "1             DSL            Yes           No              Yes          No   \n",
       "2             DSL            Yes          Yes               No          No   \n",
       "3             DSL            Yes           No              Yes         Yes   \n",
       "4     Fiber optic             No           No               No          No   \n",
       "\n",
       "  StreamingTV StreamingMovies MultipleLines  \n",
       "0          No              No            No  \n",
       "1          No              No            No  \n",
       "2          No              No            No  \n",
       "3          No              No            No  \n",
       "4          No              No            No  "
      ]
     },
     "execution_count": 51,
     "metadata": {},
     "output_type": "execute_result"
    }
   ],
   "source": [
    "new_data.head()"
   ]
  },
  {
   "cell_type": "markdown",
   "id": "39f350e9",
   "metadata": {},
   "source": [
    "Karena datanya Imbalaced maka akan diubah menjadi balanced dengan menggunakan teknik *upsampling*."
   ]
  },
  {
   "cell_type": "code",
   "execution_count": 52,
   "id": "b57f838e",
   "metadata": {},
   "outputs": [],
   "source": [
    "# fungsi upsampling\n",
    "def upsample(features, target, repeat):\n",
    "    features_zeros = features[target == 0]\n",
    "    features_ones = features[target == 1]\n",
    "    target_zeros = target[target == 0]\n",
    "    target_ones = target[target == 1]\n",
    "    \n",
    "    features_upsampled = pd.concat([features_zeros] + [features_ones] * repeat)\n",
    "    target_upsampled = pd.concat([target_zeros] + [target_ones] * repeat)\n",
    "    \n",
    "    features_upsampled, target_upsampled = shuffle(features_upsampled, target_upsampled, random_state=12345)\n",
    "    return features_upsampled, target_upsampled"
   ]
  },
  {
   "cell_type": "markdown",
   "id": "a2ffb2f3",
   "metadata": {},
   "source": [
    "### For Non-LGBM Model"
   ]
  },
  {
   "cell_type": "markdown",
   "id": "8ea0f99b",
   "metadata": {},
   "source": [
    "#### Label Encode"
   ]
  },
  {
   "cell_type": "code",
   "execution_count": 53,
   "id": "83154143",
   "metadata": {},
   "outputs": [],
   "source": [
    "encoder = OrdinalEncoder()\n",
    "category = new_data.columns[new_data.dtypes=='object'] # mengambil kolom tipe data object\n",
    "new_data[category] = encoder.fit_transform(new_data[category]) # encoding tipe data object"
   ]
  },
  {
   "cell_type": "code",
   "execution_count": 54,
   "id": "6fa05638",
   "metadata": {},
   "outputs": [
    {
     "name": "stdout",
     "output_type": "stream",
     "text": [
      "<class 'pandas.core.frame.DataFrame'>\n",
      "Int64Index: 7032 entries, 0 to 7031\n",
      "Data columns (total 18 columns):\n",
      " #   Column            Non-Null Count  Dtype  \n",
      "---  ------            --------------  -----  \n",
      " 0   Type              7032 non-null   float64\n",
      " 1   PaperlessBilling  7032 non-null   float64\n",
      " 2   PaymentMethod     7032 non-null   float64\n",
      " 3   MonthlyCharges    7032 non-null   float64\n",
      " 4   TotalCharges      7032 non-null   float64\n",
      " 5   Exited            7032 non-null   int64  \n",
      " 6   Days              7032 non-null   int64  \n",
      " 7   SeniorCitizen     7032 non-null   int64  \n",
      " 8   Partner           7032 non-null   float64\n",
      " 9   Dependents        7032 non-null   float64\n",
      " 10  InternetService   7032 non-null   float64\n",
      " 11  OnlineSecurity    7032 non-null   float64\n",
      " 12  OnlineBackup      7032 non-null   float64\n",
      " 13  DeviceProtection  7032 non-null   float64\n",
      " 14  TechSupport       7032 non-null   float64\n",
      " 15  StreamingTV       7032 non-null   float64\n",
      " 16  StreamingMovies   7032 non-null   float64\n",
      " 17  MultipleLines     7032 non-null   float64\n",
      "dtypes: float64(15), int64(3)\n",
      "memory usage: 1.0 MB\n"
     ]
    }
   ],
   "source": [
    "new_data.info()"
   ]
  },
  {
   "cell_type": "markdown",
   "id": "3cf3231f",
   "metadata": {},
   "source": [
    "#### Split Dataset"
   ]
  },
  {
   "cell_type": "code",
   "execution_count": 55,
   "id": "916ca696",
   "metadata": {},
   "outputs": [
    {
     "name": "stdout",
     "output_type": "stream",
     "text": [
      "(5274, 17)\n",
      "(1758, 17)\n",
      "(5274,)\n",
      "(1758,)\n"
     ]
    }
   ],
   "source": [
    "features = new_data.drop(['Exited'], axis=1)\n",
    "target = new_data['Exited']\n",
    "\n",
    "# split dataset sebesar 75%\n",
    "features_train, features_test, target_train, target_test = train_test_split(features, target, test_size=0.25,\\\n",
    "                                                                            random_state=12345)\n",
    "print(features_train.shape)\n",
    "print(features_test.shape)\n",
    "print(target_train.shape)\n",
    "print(target_test.shape)"
   ]
  },
  {
   "cell_type": "markdown",
   "id": "f4a4d865",
   "metadata": {},
   "source": [
    "#### Apply Upsampling Function"
   ]
  },
  {
   "cell_type": "code",
   "execution_count": 56,
   "id": "5ca1f236",
   "metadata": {},
   "outputs": [
    {
     "data": {
      "text/plain": [
       "0    3870\n",
       "1    1404\n",
       "Name: Exited, dtype: int64"
      ]
     },
     "execution_count": 56,
     "metadata": {},
     "output_type": "execute_result"
    }
   ],
   "source": [
    "target_train.value_counts() # class imbalanced"
   ]
  },
  {
   "cell_type": "code",
   "execution_count": 57,
   "id": "367c4cd8",
   "metadata": {},
   "outputs": [
    {
     "name": "stdout",
     "output_type": "stream",
     "text": [
      "(10890, 17)\n",
      "(10890,)\n"
     ]
    }
   ],
   "source": [
    "# upsampling\n",
    "features_upsampled, target_upsampled = upsample(features_train, target_train, 5)\n",
    "print(features_upsampled.shape)\n",
    "print(target_upsampled.shape)"
   ]
  },
  {
   "cell_type": "markdown",
   "id": "73c7b018",
   "metadata": {},
   "source": [
    "#### Feature Scalling"
   ]
  },
  {
   "cell_type": "code",
   "execution_count": 58,
   "id": "b604f832",
   "metadata": {},
   "outputs": [],
   "source": [
    "numeric = ['MonthlyCharges', 'TotalCharges', 'Days']\n",
    "scaler = StandardScaler()\n",
    "scaler.fit(features_upsampled[numeric])\n",
    "\n",
    "features_upsampled[numeric] = scaler.transform(features_upsampled[numeric])\n",
    "features_test[numeric] = scaler.transform(features_test[numeric])"
   ]
  },
  {
   "cell_type": "code",
   "execution_count": 59,
   "id": "ed21cf8e",
   "metadata": {},
   "outputs": [
    {
     "data": {
      "text/html": [
       "<div>\n",
       "<style scoped>\n",
       "    .dataframe tbody tr th:only-of-type {\n",
       "        vertical-align: middle;\n",
       "    }\n",
       "\n",
       "    .dataframe tbody tr th {\n",
       "        vertical-align: top;\n",
       "    }\n",
       "\n",
       "    .dataframe thead th {\n",
       "        text-align: right;\n",
       "    }\n",
       "</style>\n",
       "<table border=\"1\" class=\"dataframe\">\n",
       "  <thead>\n",
       "    <tr style=\"text-align: right;\">\n",
       "      <th></th>\n",
       "      <th>Type</th>\n",
       "      <th>PaperlessBilling</th>\n",
       "      <th>PaymentMethod</th>\n",
       "      <th>MonthlyCharges</th>\n",
       "      <th>TotalCharges</th>\n",
       "      <th>Days</th>\n",
       "      <th>SeniorCitizen</th>\n",
       "      <th>Partner</th>\n",
       "      <th>Dependents</th>\n",
       "      <th>InternetService</th>\n",
       "      <th>OnlineSecurity</th>\n",
       "      <th>OnlineBackup</th>\n",
       "      <th>DeviceProtection</th>\n",
       "      <th>TechSupport</th>\n",
       "      <th>StreamingTV</th>\n",
       "      <th>StreamingMovies</th>\n",
       "      <th>MultipleLines</th>\n",
       "    </tr>\n",
       "  </thead>\n",
       "  <tbody>\n",
       "    <tr>\n",
       "      <th>3475</th>\n",
       "      <td>0.0</td>\n",
       "      <td>0.0</td>\n",
       "      <td>2.0</td>\n",
       "      <td>-0.685950</td>\n",
       "      <td>-0.796508</td>\n",
       "      <td>-0.903470</td>\n",
       "      <td>0</td>\n",
       "      <td>0.0</td>\n",
       "      <td>0.0</td>\n",
       "      <td>0.0</td>\n",
       "      <td>0.0</td>\n",
       "      <td>0.0</td>\n",
       "      <td>0.0</td>\n",
       "      <td>0.0</td>\n",
       "      <td>0.0</td>\n",
       "      <td>0.0</td>\n",
       "      <td>1.0</td>\n",
       "    </tr>\n",
       "    <tr>\n",
       "      <th>1056</th>\n",
       "      <td>0.0</td>\n",
       "      <td>1.0</td>\n",
       "      <td>2.0</td>\n",
       "      <td>0.749202</td>\n",
       "      <td>0.014304</td>\n",
       "      <td>-0.094754</td>\n",
       "      <td>0</td>\n",
       "      <td>0.0</td>\n",
       "      <td>0.0</td>\n",
       "      <td>1.0</td>\n",
       "      <td>0.0</td>\n",
       "      <td>0.0</td>\n",
       "      <td>0.0</td>\n",
       "      <td>1.0</td>\n",
       "      <td>1.0</td>\n",
       "      <td>0.0</td>\n",
       "      <td>1.0</td>\n",
       "    </tr>\n",
       "    <tr>\n",
       "      <th>3778</th>\n",
       "      <td>0.0</td>\n",
       "      <td>1.0</td>\n",
       "      <td>2.0</td>\n",
       "      <td>1.137665</td>\n",
       "      <td>0.742775</td>\n",
       "      <td>0.417713</td>\n",
       "      <td>1</td>\n",
       "      <td>0.0</td>\n",
       "      <td>0.0</td>\n",
       "      <td>1.0</td>\n",
       "      <td>0.0</td>\n",
       "      <td>0.0</td>\n",
       "      <td>1.0</td>\n",
       "      <td>0.0</td>\n",
       "      <td>1.0</td>\n",
       "      <td>1.0</td>\n",
       "      <td>1.0</td>\n",
       "    </tr>\n",
       "    <tr>\n",
       "      <th>1804</th>\n",
       "      <td>0.0</td>\n",
       "      <td>1.0</td>\n",
       "      <td>2.0</td>\n",
       "      <td>0.547777</td>\n",
       "      <td>0.342094</td>\n",
       "      <td>0.292755</td>\n",
       "      <td>1</td>\n",
       "      <td>1.0</td>\n",
       "      <td>0.0</td>\n",
       "      <td>1.0</td>\n",
       "      <td>0.0</td>\n",
       "      <td>0.0</td>\n",
       "      <td>0.0</td>\n",
       "      <td>0.0</td>\n",
       "      <td>0.0</td>\n",
       "      <td>1.0</td>\n",
       "      <td>1.0</td>\n",
       "    </tr>\n",
       "    <tr>\n",
       "      <th>5783</th>\n",
       "      <td>0.0</td>\n",
       "      <td>1.0</td>\n",
       "      <td>3.0</td>\n",
       "      <td>0.954224</td>\n",
       "      <td>-0.227934</td>\n",
       "      <td>-0.434527</td>\n",
       "      <td>1</td>\n",
       "      <td>0.0</td>\n",
       "      <td>0.0</td>\n",
       "      <td>1.0</td>\n",
       "      <td>1.0</td>\n",
       "      <td>0.0</td>\n",
       "      <td>1.0</td>\n",
       "      <td>1.0</td>\n",
       "      <td>0.0</td>\n",
       "      <td>1.0</td>\n",
       "      <td>0.0</td>\n",
       "    </tr>\n",
       "  </tbody>\n",
       "</table>\n",
       "</div>"
      ],
      "text/plain": [
       "      Type  PaperlessBilling  PaymentMethod  MonthlyCharges  TotalCharges  \\\n",
       "3475   0.0               0.0            2.0       -0.685950     -0.796508   \n",
       "1056   0.0               1.0            2.0        0.749202      0.014304   \n",
       "3778   0.0               1.0            2.0        1.137665      0.742775   \n",
       "1804   0.0               1.0            2.0        0.547777      0.342094   \n",
       "5783   0.0               1.0            3.0        0.954224     -0.227934   \n",
       "\n",
       "          Days  SeniorCitizen  Partner  Dependents  InternetService  \\\n",
       "3475 -0.903470              0      0.0         0.0              0.0   \n",
       "1056 -0.094754              0      0.0         0.0              1.0   \n",
       "3778  0.417713              1      0.0         0.0              1.0   \n",
       "1804  0.292755              1      1.0         0.0              1.0   \n",
       "5783 -0.434527              1      0.0         0.0              1.0   \n",
       "\n",
       "      OnlineSecurity  OnlineBackup  DeviceProtection  TechSupport  \\\n",
       "3475             0.0           0.0               0.0          0.0   \n",
       "1056             0.0           0.0               0.0          1.0   \n",
       "3778             0.0           0.0               1.0          0.0   \n",
       "1804             0.0           0.0               0.0          0.0   \n",
       "5783             1.0           0.0               1.0          1.0   \n",
       "\n",
       "      StreamingTV  StreamingMovies  MultipleLines  \n",
       "3475          0.0              0.0            1.0  \n",
       "1056          1.0              0.0            1.0  \n",
       "3778          1.0              1.0            1.0  \n",
       "1804          0.0              1.0            1.0  \n",
       "5783          0.0              1.0            0.0  "
      ]
     },
     "execution_count": 59,
     "metadata": {},
     "output_type": "execute_result"
    }
   ],
   "source": [
    "features_upsampled.head()"
   ]
  },
  {
   "cell_type": "markdown",
   "id": "a9f9eb28",
   "metadata": {},
   "source": [
    "### Preparing Feature for LGBM"
   ]
  },
  {
   "cell_type": "code",
   "execution_count": 60,
   "id": "926583de",
   "metadata": {},
   "outputs": [
    {
     "name": "stdout",
     "output_type": "stream",
     "text": [
      "<class 'pandas.core.frame.DataFrame'>\n",
      "Int64Index: 7032 entries, 0 to 7031\n",
      "Data columns (total 18 columns):\n",
      " #   Column            Non-Null Count  Dtype   \n",
      "---  ------            --------------  -----   \n",
      " 0   Type              7032 non-null   category\n",
      " 1   PaperlessBilling  7032 non-null   category\n",
      " 2   PaymentMethod     7032 non-null   category\n",
      " 3   MonthlyCharges    7032 non-null   float64 \n",
      " 4   TotalCharges      7032 non-null   float64 \n",
      " 5   Exited            7032 non-null   int64   \n",
      " 6   Days              7032 non-null   int64   \n",
      " 7   SeniorCitizen     7032 non-null   int64   \n",
      " 8   Partner           7032 non-null   category\n",
      " 9   Dependents        7032 non-null   category\n",
      " 10  InternetService   7032 non-null   category\n",
      " 11  OnlineSecurity    7032 non-null   category\n",
      " 12  OnlineBackup      7032 non-null   category\n",
      " 13  DeviceProtection  7032 non-null   category\n",
      " 14  TechSupport       7032 non-null   category\n",
      " 15  StreamingTV       7032 non-null   category\n",
      " 16  StreamingMovies   7032 non-null   category\n",
      " 17  MultipleLines     7032 non-null   category\n",
      "dtypes: category(13), float64(2), int64(3)\n",
      "memory usage: 420.6 KB\n"
     ]
    }
   ],
   "source": [
    "'''\n",
    "Karena LGBM bekerja langsung dengan fitur-fitur kategorik, maka akan diubah terlebih dahulu untuk\n",
    "fitur yang memiliki tipe data objek\n",
    "'''\n",
    "no_encode = data_final.drop(['customerID', 'gender'], axis=1)\n",
    "cat_features = no_encode.columns[no_encode.dtypes=='object'] # fitur dengan tipe data objek\n",
    "no_encode[cat_features] = no_encode[cat_features].astype('category')\n",
    "no_encode.info()"
   ]
  },
  {
   "cell_type": "markdown",
   "id": "5e626c64",
   "metadata": {},
   "source": [
    "####  Split Dataset"
   ]
  },
  {
   "cell_type": "code",
   "execution_count": 61,
   "id": "97d83043",
   "metadata": {},
   "outputs": [
    {
     "name": "stdout",
     "output_type": "stream",
     "text": [
      "(5274, 17)\n",
      "(1758, 17)\n",
      "(5274,)\n",
      "(1758,)\n"
     ]
    }
   ],
   "source": [
    "# determine feature and target\n",
    "features_no_en = no_encode.drop(['Exited'], axis=1)\n",
    "target_no_en = no_encode['Exited']\n",
    "\n",
    "#split dataset\n",
    "ft_no_en_train, ft_no_en_test, t_no_en_train, t_no_en_test = train_test_split(features_no_en, target_no_en,\\\n",
    "                                                                             test_size=0.25, random_state=12345)\n",
    "print(ft_no_en_train.shape)\n",
    "print(ft_no_en_test.shape)\n",
    "print(t_no_en_train.shape)\n",
    "print(t_no_en_test.shape)"
   ]
  },
  {
   "cell_type": "markdown",
   "id": "4b393298",
   "metadata": {},
   "source": [
    "#### Apply Upsampling Function"
   ]
  },
  {
   "cell_type": "code",
   "execution_count": 62,
   "id": "9b27fc3d",
   "metadata": {},
   "outputs": [
    {
     "data": {
      "text/plain": [
       "0    3870\n",
       "1    1404\n",
       "Name: Exited, dtype: int64"
      ]
     },
     "execution_count": 62,
     "metadata": {},
     "output_type": "execute_result"
    }
   ],
   "source": [
    "t_no_en_train.value_counts()"
   ]
  },
  {
   "cell_type": "code",
   "execution_count": 63,
   "id": "b5a4a4a5",
   "metadata": {},
   "outputs": [],
   "source": [
    "# upsampling\n",
    "ft_upsampled, t_upsampled = upsample(ft_no_en_train, t_no_en_train, 5)"
   ]
  },
  {
   "cell_type": "code",
   "execution_count": 64,
   "id": "3f74ddbd",
   "metadata": {},
   "outputs": [
    {
     "name": "stdout",
     "output_type": "stream",
     "text": [
      "(10890, 17)\n",
      "(10890,)\n"
     ]
    }
   ],
   "source": [
    "print(ft_upsampled.shape)\n",
    "print(t_upsampled.shape)"
   ]
  },
  {
   "cell_type": "markdown",
   "id": "90e9ee87",
   "metadata": {},
   "source": [
    "#### Feature Scalling"
   ]
  },
  {
   "cell_type": "code",
   "execution_count": 65,
   "id": "77e62b5e",
   "metadata": {},
   "outputs": [],
   "source": [
    "num_feat = ['MonthlyCharges', 'TotalCharges', 'Days']\n",
    "scaler = StandardScaler()\n",
    "scaler.fit(ft_upsampled[num_feat])\n",
    "ft_upsampled[num_feat] = scaler.transform(ft_upsampled[num_feat])\n",
    "ft_no_en_test[num_feat] = scaler.transform(ft_no_en_test[num_feat])"
   ]
  },
  {
   "cell_type": "code",
   "execution_count": 66,
   "id": "0ea18c3e",
   "metadata": {},
   "outputs": [
    {
     "data": {
      "text/html": [
       "<div>\n",
       "<style scoped>\n",
       "    .dataframe tbody tr th:only-of-type {\n",
       "        vertical-align: middle;\n",
       "    }\n",
       "\n",
       "    .dataframe tbody tr th {\n",
       "        vertical-align: top;\n",
       "    }\n",
       "\n",
       "    .dataframe thead th {\n",
       "        text-align: right;\n",
       "    }\n",
       "</style>\n",
       "<table border=\"1\" class=\"dataframe\">\n",
       "  <thead>\n",
       "    <tr style=\"text-align: right;\">\n",
       "      <th></th>\n",
       "      <th>Type</th>\n",
       "      <th>PaperlessBilling</th>\n",
       "      <th>PaymentMethod</th>\n",
       "      <th>MonthlyCharges</th>\n",
       "      <th>TotalCharges</th>\n",
       "      <th>Days</th>\n",
       "      <th>SeniorCitizen</th>\n",
       "      <th>Partner</th>\n",
       "      <th>Dependents</th>\n",
       "      <th>InternetService</th>\n",
       "      <th>OnlineSecurity</th>\n",
       "      <th>OnlineBackup</th>\n",
       "      <th>DeviceProtection</th>\n",
       "      <th>TechSupport</th>\n",
       "      <th>StreamingTV</th>\n",
       "      <th>StreamingMovies</th>\n",
       "      <th>MultipleLines</th>\n",
       "    </tr>\n",
       "  </thead>\n",
       "  <tbody>\n",
       "    <tr>\n",
       "      <th>3475</th>\n",
       "      <td>Month-to-month</td>\n",
       "      <td>No</td>\n",
       "      <td>Electronic check</td>\n",
       "      <td>-0.685950</td>\n",
       "      <td>-0.796508</td>\n",
       "      <td>-0.903470</td>\n",
       "      <td>0</td>\n",
       "      <td>No</td>\n",
       "      <td>No</td>\n",
       "      <td>DSL</td>\n",
       "      <td>No</td>\n",
       "      <td>No</td>\n",
       "      <td>No</td>\n",
       "      <td>No</td>\n",
       "      <td>No</td>\n",
       "      <td>No</td>\n",
       "      <td>Yes</td>\n",
       "    </tr>\n",
       "    <tr>\n",
       "      <th>1056</th>\n",
       "      <td>Month-to-month</td>\n",
       "      <td>Yes</td>\n",
       "      <td>Electronic check</td>\n",
       "      <td>0.749202</td>\n",
       "      <td>0.014304</td>\n",
       "      <td>-0.094754</td>\n",
       "      <td>0</td>\n",
       "      <td>No</td>\n",
       "      <td>No</td>\n",
       "      <td>Fiber optic</td>\n",
       "      <td>No</td>\n",
       "      <td>No</td>\n",
       "      <td>No</td>\n",
       "      <td>Yes</td>\n",
       "      <td>Yes</td>\n",
       "      <td>No</td>\n",
       "      <td>Yes</td>\n",
       "    </tr>\n",
       "    <tr>\n",
       "      <th>3778</th>\n",
       "      <td>Month-to-month</td>\n",
       "      <td>Yes</td>\n",
       "      <td>Electronic check</td>\n",
       "      <td>1.137665</td>\n",
       "      <td>0.742775</td>\n",
       "      <td>0.417713</td>\n",
       "      <td>1</td>\n",
       "      <td>No</td>\n",
       "      <td>No</td>\n",
       "      <td>Fiber optic</td>\n",
       "      <td>No</td>\n",
       "      <td>No</td>\n",
       "      <td>Yes</td>\n",
       "      <td>No</td>\n",
       "      <td>Yes</td>\n",
       "      <td>Yes</td>\n",
       "      <td>Yes</td>\n",
       "    </tr>\n",
       "    <tr>\n",
       "      <th>1804</th>\n",
       "      <td>Month-to-month</td>\n",
       "      <td>Yes</td>\n",
       "      <td>Electronic check</td>\n",
       "      <td>0.547777</td>\n",
       "      <td>0.342094</td>\n",
       "      <td>0.292755</td>\n",
       "      <td>1</td>\n",
       "      <td>Yes</td>\n",
       "      <td>No</td>\n",
       "      <td>Fiber optic</td>\n",
       "      <td>No</td>\n",
       "      <td>No</td>\n",
       "      <td>No</td>\n",
       "      <td>No</td>\n",
       "      <td>No</td>\n",
       "      <td>Yes</td>\n",
       "      <td>Yes</td>\n",
       "    </tr>\n",
       "    <tr>\n",
       "      <th>5783</th>\n",
       "      <td>Month-to-month</td>\n",
       "      <td>Yes</td>\n",
       "      <td>Mailed check</td>\n",
       "      <td>0.954224</td>\n",
       "      <td>-0.227934</td>\n",
       "      <td>-0.434527</td>\n",
       "      <td>1</td>\n",
       "      <td>No</td>\n",
       "      <td>No</td>\n",
       "      <td>Fiber optic</td>\n",
       "      <td>Yes</td>\n",
       "      <td>No</td>\n",
       "      <td>Yes</td>\n",
       "      <td>Yes</td>\n",
       "      <td>No</td>\n",
       "      <td>Yes</td>\n",
       "      <td>No</td>\n",
       "    </tr>\n",
       "  </tbody>\n",
       "</table>\n",
       "</div>"
      ],
      "text/plain": [
       "                Type PaperlessBilling     PaymentMethod  MonthlyCharges  \\\n",
       "3475  Month-to-month               No  Electronic check       -0.685950   \n",
       "1056  Month-to-month              Yes  Electronic check        0.749202   \n",
       "3778  Month-to-month              Yes  Electronic check        1.137665   \n",
       "1804  Month-to-month              Yes  Electronic check        0.547777   \n",
       "5783  Month-to-month              Yes      Mailed check        0.954224   \n",
       "\n",
       "      TotalCharges      Days  SeniorCitizen Partner Dependents  \\\n",
       "3475     -0.796508 -0.903470              0      No         No   \n",
       "1056      0.014304 -0.094754              0      No         No   \n",
       "3778      0.742775  0.417713              1      No         No   \n",
       "1804      0.342094  0.292755              1     Yes         No   \n",
       "5783     -0.227934 -0.434527              1      No         No   \n",
       "\n",
       "     InternetService OnlineSecurity OnlineBackup DeviceProtection TechSupport  \\\n",
       "3475             DSL             No           No               No          No   \n",
       "1056     Fiber optic             No           No               No         Yes   \n",
       "3778     Fiber optic             No           No              Yes          No   \n",
       "1804     Fiber optic             No           No               No          No   \n",
       "5783     Fiber optic            Yes           No              Yes         Yes   \n",
       "\n",
       "     StreamingTV StreamingMovies MultipleLines  \n",
       "3475          No              No           Yes  \n",
       "1056         Yes              No           Yes  \n",
       "3778         Yes             Yes           Yes  \n",
       "1804          No             Yes           Yes  \n",
       "5783          No             Yes            No  "
      ]
     },
     "execution_count": 66,
     "metadata": {},
     "output_type": "execute_result"
    }
   ],
   "source": [
    "ft_upsampled.head()"
   ]
  },
  {
   "cell_type": "markdown",
   "id": "273465f7",
   "metadata": {},
   "source": [
    "Karena data sudah disiapkan dari features dan juga targetnya, maka data akan langsung diuji coba dalam model. Sebelum memasukkan data ke dalam tahap pengujian, terlebih dahulu melakukan evaluasi. Teknik yang digunakan untuk menentukan model mana yang terbaik adalah menggunakan *cross validation* dan untuk *hyper parameter tuning* menggunakan *grid search cv*."
   ]
  },
  {
   "cell_type": "markdown",
   "id": "7b6539e8",
   "metadata": {},
   "source": [
    "### Logistic Regression"
   ]
  },
  {
   "cell_type": "code",
   "execution_count": 67,
   "id": "b2151ecf",
   "metadata": {},
   "outputs": [
    {
     "name": "stdout",
     "output_type": "stream",
     "text": [
      "Hasil Cross Validation: 0.8368718574467928\n"
     ]
    }
   ],
   "source": [
    "# evaluasi model logistic regression\n",
    "lr = LogisticRegression(solver='liblinear', random_state=12345)\n",
    "lr_score = cross_val_score(lr, features_upsampled, target_upsampled, scoring='roc_auc',cv=5)\n",
    "print(\"Hasil Cross Validation:\",lr_score.mean())"
   ]
  },
  {
   "cell_type": "markdown",
   "id": "b9f4a597",
   "metadata": {},
   "source": [
    "### Random Forest Classifier"
   ]
  },
  {
   "cell_type": "code",
   "execution_count": 68,
   "id": "a8e1e091",
   "metadata": {},
   "outputs": [
    {
     "name": "stdout",
     "output_type": "stream",
     "text": [
      "Max Depth: 5 Score: 0.8631099221861497\n",
      "Max Depth: 6 Score: 0.8735664804140256\n",
      "Max Depth: 7 Score: 0.887395278900447\n",
      "Max Depth: 8 Score: 0.9035690754360006\n",
      "Max Depth: 9 Score: 0.9214690216951199\n",
      "Max Depth: 10 Score: 0.9403567327016941\n",
      "Max Depth: 11 Score: 0.9582914632979233\n",
      "Max Depth: 12 Score: 0.9701162974741786\n",
      "Max Depth: 13 Score: 0.9799481179649139\n",
      "Max Depth: 14 Score: 0.9856304799134257\n"
     ]
    }
   ],
   "source": [
    "# evaluasi model Random Forest Classifier\n",
    "for depth in range(5, 15):\n",
    "    rfc = RandomForestClassifier(n_estimators=50, max_depth=depth, random_state=12345)\n",
    "    rfc_score = cross_val_score(rfc, features_upsampled, target_upsampled, scoring='roc_auc', cv=5)\n",
    "    print(\"Max Depth:\", depth, \"Score:\", rfc_score.mean())"
   ]
  },
  {
   "cell_type": "markdown",
   "id": "fe6045f1",
   "metadata": {},
   "source": [
    "### LGBM Classifier"
   ]
  },
  {
   "cell_type": "code",
   "execution_count": 71,
   "id": "e4af00f5",
   "metadata": {},
   "outputs": [],
   "source": [
    "lgbm_c = LGBMClassifier()\n",
    "params = {\n",
    "    'num_leaves':[30, 50],\n",
    "    'learning_rate':[0.5, 0.01],\n",
    "    'n_estimators':[40, 100],\n",
    "    'random_seed':[12345]\n",
    "}\n",
    "\n",
    "# mencari parameter terbaik untuk LGBM\n",
    "grid_lgbm_c = GridSearchCV(estimator=lgbm_c, param_grid=params, scoring='roc_auc', cv=5)\n",
    "grid_lgbm_c.fit(ft_upsampled, t_upsampled)\n",
    "best_params = grid_lgbm_c.best_params_"
   ]
  },
  {
   "cell_type": "code",
   "execution_count": 72,
   "id": "e49db646",
   "metadata": {},
   "outputs": [
    {
     "name": "stdout",
     "output_type": "stream",
     "text": [
      "Skor Terbaik: 0.9888667115734299\n",
      "Parameter: {'learning_rate': 0.5, 'n_estimators': 100, 'num_leaves': 50, 'random_seed': 12345}\n"
     ]
    }
   ],
   "source": [
    "print(\"Skor Terbaik:\", grid_lgbm_c.best_score_)\n",
    "print(\"Parameter:\", best_params)"
   ]
  },
  {
   "cell_type": "markdown",
   "id": "cd23de82",
   "metadata": {},
   "source": [
    "## Final Test"
   ]
  },
  {
   "cell_type": "markdown",
   "id": "5e5ee3fc",
   "metadata": {},
   "source": [
    "Berdasarkan hasilnya, ternyata model yang paling baik adalah model LGBM Classifier dengan parameternya adalah learning rate: 0.5, n_estimators: 100, dan num_leaves: 50."
   ]
  },
  {
   "cell_type": "code",
   "execution_count": 73,
   "id": "f7145ea9",
   "metadata": {},
   "outputs": [
    {
     "name": "stdout",
     "output_type": "stream",
     "text": [
      "AUC-ROC: 0.9025072973579823\n",
      "Accuracy: 0.8469852104664392\n"
     ]
    }
   ],
   "source": [
    "model = LGBMClassifier(learning_rate=0.5, n_estimators=100, num_leaves=50, random_seed=12345)\n",
    "model.fit(ft_upsampled, t_upsampled)\n",
    "predict = model.predict(ft_no_en_test)\n",
    "accuracy = accuracy_score(t_no_en_test, predict)\n",
    "proba = model.predict_proba(ft_no_en_test)\n",
    "auc_roc = roc_auc_score(t_no_en_test, proba[:, 1])\n",
    "print(\"AUC-ROC:\", auc_roc)\n",
    "print(\"Accuracy:\", accuracy)"
   ]
  },
  {
   "cell_type": "markdown",
   "id": "6bd85caf",
   "metadata": {},
   "source": [
    "### ROC Curve"
   ]
  },
  {
   "cell_type": "code",
   "execution_count": 76,
   "id": "f380a95e",
   "metadata": {},
   "outputs": [
    {
     "data": {
      "image/png": "[encoded data removed]",
      "text/plain": [
       "<Figure size 640x480 with 1 Axes>"
      ]
     },
     "metadata": {},
     "output_type": "display_data"
    }
   ],
   "source": [
    "fpr, tpr, thresholds = roc_curve(t_no_en_test, proba[:, 1])\n",
    "\n",
    "plt.figure()\n",
    "plt.plot(fpr, tpr)\n",
    "plt.plot([0, 1], [0, 1], linestyle='--')\n",
    "plt.xlim([0.0, 1.0])\n",
    "plt.ylim([0.0, 1.0])\n",
    "plt.xlabel('False Positive Rate')\n",
    "plt.ylabel('True Positive Rate')\n",
    "plt.title('Kurva ROC')\n",
    "plt.show()"
   ]
  },
  {
   "cell_type": "markdown",
   "id": "e659e29c",
   "metadata": {},
   "source": [
    "Berdasarkan hasil dari AUC-ROC menggunakan LGBM Classifier Model, saya mendapatkan hasil **0.90** dan skor akurasi sebesar **0.84**. Hal ini menunjukkan bahwa model bisa sangat baik dalam membedakan hasil klien yang akan masih tinggal atau yang akan meninggalkan layanan."
   ]
  },
  {
   "cell_type": "markdown",
   "id": "6483b554",
   "metadata": {},
   "source": [
    "## Conclusion"
   ]
  },
  {
   "cell_type": "markdown",
   "id": "a9f07d2e",
   "metadata": {},
   "source": [
    "Berdasarkan Analisis Data Eskploratif:\n",
    "- Orang yang sudah tidak berlangganan memiliki jumlah yang sedikit dibandingkan orang yang masih berlangganan.\n",
    "- Orang yang sudah berhenti lebih suka bayar secara bulanan dan jenis pembayaran secara electronic.\n",
    "- Orang yang sudah berhenti ternyata memiliki jumlah biaya perbulan yang lebih tinggi.\n",
    "- Orang yang sudah berhenti bukan merupakan senior citizen.\n",
    "- Layanan internet ternyata lebih disukai oleh orang yang sudah berhenti.\n",
    "- Layanan telpon lebih disukai oleh orang yang masih berlangganan.\n",
    "\n",
    "Berdasarkan Hasil Pemodelan:\n",
    "- Model yang dipakai ada 3 yaitu Logistic Regression, Random Forest Classifier, dan LGBM Classifier.\n",
    "- Dari ketiga model tersebut ternyata LGBM memiliki nilai AUC-ROC yang tinggi ketika diujikan pada training set yaitu sekitar **0.98**.\n",
    "- Ketika diujikan pada data testing, LGBM memiliki nilai AUC-ROC **0.90** dan akurasi sebesar **0.84**.\n",
    "- Sebenarnya menggunakan Random Forest Classifier saja sudah cukup, namun untuk hasil yang lebih akurat lagi saya menggunakan algoritma optimasi LGBM Classifier."
   ]
  },
  {
   "cell_type": "markdown",
   "id": "ee8fa45f",
   "metadata": {},
   "source": [
    "## Solution Report"
   ]
  },
  {
   "cell_type": "markdown",
   "id": "6ac886f8",
   "metadata": {},
   "source": [
    "Saat melakukan rencana kerja langkah yang saya lakukan adalah data pre-processing, data analysis, dan melatih 3 jenis model yang berbeda yaitu Logistic Regression, Random Forest Classifier, dan LGBM Classifier. Semua langkah sudah dilakukan dengan lengkap tanpa melangkahi langkah yang sudah diketik pada saat rencana kerja. \n",
    "\n",
    "Adapun kesulitan yang saya temui adalah bagaimana cara menentukan fitur apa yang sangat berpengaruh dalam target dan metode apa yang cocok dalam menjawab pertanyaan-pertanyaan yang sudah diklarifikasi. Cara saya mengatasi hal tersebut adalah dengan membaca artikel-artikel mengenai apa yang sangat memengaruhi tingkat *churn* klien dan saya juga membuka materi-materi sebelumnya untuk menemukan metode apa yang paling cocok untuk setiap pertanyaan.\n",
    "\n",
    "Langkah kunci dalam menyelesaikan tugas ini adalah menetapkan fitur apa saja yang mendukung suatu model dalam mengklasifikasikan klien dan bagimana menyeimbangkan data yang sebenarnya imbalanced sehingga model bisa menunjukkan performa terbaik.\n",
    "\n",
    "Jawaban: Model terakhir yang digunakan dalam pengujian adalah LGBM Classifier dengan parameter-nya adalah: leanring_rate= 0.5, n_estimators=100, dan num_leaves=50. Dengan menggunakan model tersebut, model berhasil mendapatkan nilai AUC-ROC sebesar **0.90** dan akurasi sebesar **0.84**."
   ]
  },
  {
   "cell_type": "code",
   "execution_count": null,
   "id": "bac347b6",
   "metadata": {},
   "outputs": [],
   "source": []
  }
 ],
 "metadata": {
  "kernelspec": {
   "display_name": "Python 3 (ipykernel)",
   "language": "python",
   "name": "python3"
  },
  "language_info": {
   "codemirror_mode": {
    "name": "ipython",
    "version": 3
   },
   "file_extension": ".py",
   "mimetype": "text/x-python",
   "name": "python",
   "nbconvert_exporter": "python",
   "pygments_lexer": "ipython3",
   "version": "3.9.13"
  },
  "toc": {
   "base_numbering": 1,
   "nav_menu": {},
   "number_sections": true,
   "sideBar": true,
   "skip_h1_title": true,
   "title_cell": "Table of Contents",
   "title_sidebar": "Contents",
   "toc_cell": false,
   "toc_position": {},
   "toc_section_display": true,
   "toc_window_display": false
  }
 },
 "nbformat": 4,
 "nbformat_minor": 5
}
