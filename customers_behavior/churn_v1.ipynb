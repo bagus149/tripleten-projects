{
 "cells": [
  {
   "cell_type": "markdown",
   "id": "cafcd968",
   "metadata": {},
   "source": [
    "# Content\n",
    "* [Project Description]\n",
    "* [Step 1 Import Module]\n",
    "* [Step 2 Import Datasets]\n",
    "* [Step 3 Checking Datasets]\n",
    "* [Step 4 Fixing Datasets]\n",
    "    * [Step 4.1 Fixing Name Column]\n",
    "    * [Step 4.2 Filling The Missing Values]\n",
    "* [Step 5 Model Development]\n",
    "    * [Step 5.1 Label Encoding]\n",
    "    * [Step 5.2 Determining the Target and Features]\n",
    "    * [Step 5.3 Splitting Data into 3 Parts]\n",
    "    * [Step 5.4 Features Scalling]\n",
    "* [Step 6 Training The Model]\n",
    "    * [Step 6.1 Random Forest]\n",
    "    * [Step 6.2 Decision Tree]\n",
    "    * [Step 6.3 Logistic Regression]\n",
    "* [Step 7 Class Checking]\n",
    "    * [Step 7.1 Sanity Check]\n",
    "    * [Step 7.2 Menghitung Hasil Prediksi Kelas]\n",
    "* [Step 8 Checking The Imbalanced Class]\n",
    "    * [Step 8.1 Confusion Matrix]\n",
    "    * [Step 8.2 Recall]\n",
    "    * [Step 8.3 Precision]\n",
    "    * [Step 8.4 F1 Score]\n",
    "* [Step 9 Improving Model Quality]\n",
    "    * [Step 9.1 Upsampling]\n",
    "    * [Step 9.2 Class Weight Adjustment]\n",
    "* [Step 10 ROC Curve and AUC-ROC Value]\n",
    "    * [Step 10.1 Random Forest]\n",
    "    * [Step 10.2 Decision Tree]\n",
    "    * [Step 10.3 Logistic Regression]\n",
    "* [Step 11 Conclusion]"
   ]
  },
  {
   "cell_type": "markdown",
   "id": "81fe630f",
   "metadata": {},
   "source": [
    "# Project Description\n",
    "In this project, we are tasked with predicting whether customers will soon leave the bank or not based on historical data. Our task is to create a model that achieves a minimum F1 score of 0.59 when tested with the test data."
   ]
  },
  {
   "cell_type": "markdown",
   "id": "a549b871",
   "metadata": {},
   "source": [
    "# Import Module"
   ]
  },
  {
   "cell_type": "code",
   "execution_count": 10,
   "id": "27b31115",
   "metadata": {},
   "outputs": [],
   "source": [
    "import pandas as pd\n",
    "import numpy as np\n",
    "import matplotlib.pyplot as plt\n",
    "from sklearn.preprocessing import StandardScaler\n",
    "from sklearn.model_selection import train_test_split\n",
    "from sklearn.ensemble import RandomForestClassifier\n",
    "from sklearn.tree import DecisionTreeClassifier\n",
    "from sklearn.linear_model import LogisticRegression\n",
    "from sklearn.preprocessing import OrdinalEncoder\n",
    "from sklearn.utils import shuffle\n",
    "from sklearn.metrics import confusion_matrix, accuracy_score, recall_score, precision_score, f1_score, roc_curve, roc_auc_score"
   ]
  },
  {
   "cell_type": "markdown",
   "id": "9f120d0d",
   "metadata": {},
   "source": [
    "# Import Datasets"
   ]
  },
  {
   "cell_type": "code",
   "execution_count": 11,
   "id": "e11e947c",
   "metadata": {},
   "outputs": [],
   "source": [
    "try:\n",
    "    data = pd.read_csv('D:\\datasets\\Churn.csv')\n",
    "except:\n",
    "    data = pd.read_csv('datasets/Churn.csv')"
   ]
  },
  {
   "cell_type": "markdown",
   "id": "62df2c18",
   "metadata": {},
   "source": [
    "# Checking Datasets"
   ]
  },
  {
   "cell_type": "code",
   "execution_count": 12,
   "id": "11541155",
   "metadata": {},
   "outputs": [
    {
     "data": {
      "text/html": [
       "<div>\n",
       "<style scoped>\n",
       "    .dataframe tbody tr th:only-of-type {\n",
       "        vertical-align: middle;\n",
       "    }\n",
       "\n",
       "    .dataframe tbody tr th {\n",
       "        vertical-align: top;\n",
       "    }\n",
       "\n",
       "    .dataframe thead th {\n",
       "        text-align: right;\n",
       "    }\n",
       "</style>\n",
       "<table border=\"1\" class=\"dataframe\">\n",
       "  <thead>\n",
       "    <tr style=\"text-align: right;\">\n",
       "      <th></th>\n",
       "      <th>RowNumber</th>\n",
       "      <th>CustomerId</th>\n",
       "      <th>Surname</th>\n",
       "      <th>CreditScore</th>\n",
       "      <th>Geography</th>\n",
       "      <th>Gender</th>\n",
       "      <th>Age</th>\n",
       "      <th>Tenure</th>\n",
       "      <th>Balance</th>\n",
       "      <th>NumOfProducts</th>\n",
       "      <th>HasCrCard</th>\n",
       "      <th>IsActiveMember</th>\n",
       "      <th>EstimatedSalary</th>\n",
       "      <th>Exited</th>\n",
       "    </tr>\n",
       "  </thead>\n",
       "  <tbody>\n",
       "    <tr>\n",
       "      <th>0</th>\n",
       "      <td>1</td>\n",
       "      <td>15634602</td>\n",
       "      <td>Hargrave</td>\n",
       "      <td>619</td>\n",
       "      <td>France</td>\n",
       "      <td>Female</td>\n",
       "      <td>42</td>\n",
       "      <td>2.0</td>\n",
       "      <td>0.00</td>\n",
       "      <td>1</td>\n",
       "      <td>1</td>\n",
       "      <td>1</td>\n",
       "      <td>101348.88</td>\n",
       "      <td>1</td>\n",
       "    </tr>\n",
       "    <tr>\n",
       "      <th>1</th>\n",
       "      <td>2</td>\n",
       "      <td>15647311</td>\n",
       "      <td>Hill</td>\n",
       "      <td>608</td>\n",
       "      <td>Spain</td>\n",
       "      <td>Female</td>\n",
       "      <td>41</td>\n",
       "      <td>1.0</td>\n",
       "      <td>83807.86</td>\n",
       "      <td>1</td>\n",
       "      <td>0</td>\n",
       "      <td>1</td>\n",
       "      <td>112542.58</td>\n",
       "      <td>0</td>\n",
       "    </tr>\n",
       "    <tr>\n",
       "      <th>2</th>\n",
       "      <td>3</td>\n",
       "      <td>15619304</td>\n",
       "      <td>Onio</td>\n",
       "      <td>502</td>\n",
       "      <td>France</td>\n",
       "      <td>Female</td>\n",
       "      <td>42</td>\n",
       "      <td>8.0</td>\n",
       "      <td>159660.80</td>\n",
       "      <td>3</td>\n",
       "      <td>1</td>\n",
       "      <td>0</td>\n",
       "      <td>113931.57</td>\n",
       "      <td>1</td>\n",
       "    </tr>\n",
       "    <tr>\n",
       "      <th>3</th>\n",
       "      <td>4</td>\n",
       "      <td>15701354</td>\n",
       "      <td>Boni</td>\n",
       "      <td>699</td>\n",
       "      <td>France</td>\n",
       "      <td>Female</td>\n",
       "      <td>39</td>\n",
       "      <td>1.0</td>\n",
       "      <td>0.00</td>\n",
       "      <td>2</td>\n",
       "      <td>0</td>\n",
       "      <td>0</td>\n",
       "      <td>93826.63</td>\n",
       "      <td>0</td>\n",
       "    </tr>\n",
       "    <tr>\n",
       "      <th>4</th>\n",
       "      <td>5</td>\n",
       "      <td>15737888</td>\n",
       "      <td>Mitchell</td>\n",
       "      <td>850</td>\n",
       "      <td>Spain</td>\n",
       "      <td>Female</td>\n",
       "      <td>43</td>\n",
       "      <td>2.0</td>\n",
       "      <td>125510.82</td>\n",
       "      <td>1</td>\n",
       "      <td>1</td>\n",
       "      <td>1</td>\n",
       "      <td>79084.10</td>\n",
       "      <td>0</td>\n",
       "    </tr>\n",
       "  </tbody>\n",
       "</table>\n",
       "</div>"
      ],
      "text/plain": [
       "   RowNumber  CustomerId   Surname  CreditScore Geography  Gender  Age  \\\n",
       "0          1    15634602  Hargrave          619    France  Female   42   \n",
       "1          2    15647311      Hill          608     Spain  Female   41   \n",
       "2          3    15619304      Onio          502    France  Female   42   \n",
       "3          4    15701354      Boni          699    France  Female   39   \n",
       "4          5    15737888  Mitchell          850     Spain  Female   43   \n",
       "\n",
       "   Tenure    Balance  NumOfProducts  HasCrCard  IsActiveMember  \\\n",
       "0     2.0       0.00              1          1               1   \n",
       "1     1.0   83807.86              1          0               1   \n",
       "2     8.0  159660.80              3          1               0   \n",
       "3     1.0       0.00              2          0               0   \n",
       "4     2.0  125510.82              1          1               1   \n",
       "\n",
       "   EstimatedSalary  Exited  \n",
       "0        101348.88       1  \n",
       "1        112542.58       0  \n",
       "2        113931.57       1  \n",
       "3         93826.63       0  \n",
       "4         79084.10       0  "
      ]
     },
     "execution_count": 12,
     "metadata": {},
     "output_type": "execute_result"
    }
   ],
   "source": [
    "data.head()"
   ]
  },
  {
   "cell_type": "code",
   "execution_count": 13,
   "id": "5f47528b",
   "metadata": {},
   "outputs": [
    {
     "name": "stdout",
     "output_type": "stream",
     "text": [
      "<class 'pandas.core.frame.DataFrame'>\n",
      "RangeIndex: 10000 entries, 0 to 9999\n",
      "Data columns (total 14 columns):\n",
      " #   Column           Non-Null Count  Dtype  \n",
      "---  ------           --------------  -----  \n",
      " 0   RowNumber        10000 non-null  int64  \n",
      " 1   CustomerId       10000 non-null  int64  \n",
      " 2   Surname          10000 non-null  object \n",
      " 3   CreditScore      10000 non-null  int64  \n",
      " 4   Geography        10000 non-null  object \n",
      " 5   Gender           10000 non-null  object \n",
      " 6   Age              10000 non-null  int64  \n",
      " 7   Tenure           9091 non-null   float64\n",
      " 8   Balance          10000 non-null  float64\n",
      " 9   NumOfProducts    10000 non-null  int64  \n",
      " 10  HasCrCard        10000 non-null  int64  \n",
      " 11  IsActiveMember   10000 non-null  int64  \n",
      " 12  EstimatedSalary  10000 non-null  float64\n",
      " 13  Exited           10000 non-null  int64  \n",
      "dtypes: float64(3), int64(8), object(3)\n",
      "memory usage: 1.1+ MB\n"
     ]
    }
   ],
   "source": [
    "data.info()"
   ]
  },
  {
   "cell_type": "code",
   "execution_count": 14,
   "id": "99543b8e",
   "metadata": {},
   "outputs": [
    {
     "data": {
      "text/plain": [
       "RowNumber            0\n",
       "CustomerId           0\n",
       "Surname              0\n",
       "CreditScore          0\n",
       "Geography            0\n",
       "Gender               0\n",
       "Age                  0\n",
       "Tenure             909\n",
       "Balance              0\n",
       "NumOfProducts        0\n",
       "HasCrCard            0\n",
       "IsActiveMember       0\n",
       "EstimatedSalary      0\n",
       "Exited               0\n",
       "dtype: int64"
      ]
     },
     "execution_count": 14,
     "metadata": {},
     "output_type": "execute_result"
    }
   ],
   "source": [
    "data.isna().sum()"
   ]
  },
  {
   "cell_type": "markdown",
   "id": "c97e579c",
   "metadata": {},
   "source": [
    "Information obtained:\n",
    "- The data consists of 13 columns and 10,000 rows.\n",
    "- The `Tenure` column has 909 rows with missing values.\n",
    "- Inappropriate data type is found in the `Tenure` column because the data in it represents years, so the appropriate data type is `int64`."
   ]
  },
  {
   "cell_type": "markdown",
   "id": "8cf23115",
   "metadata": {},
   "source": [
    "# Fixing Datasets"
   ]
  },
  {
   "cell_type": "markdown",
   "id": "4f9b02f0",
   "metadata": {},
   "source": [
    "## Fixing Column Name"
   ]
  },
  {
   "cell_type": "code",
   "execution_count": 15,
   "id": "b4db983f",
   "metadata": {},
   "outputs": [],
   "source": [
    "data.columns = data.columns.str.lower()"
   ]
  },
  {
   "cell_type": "code",
   "execution_count": 16,
   "id": "3d199918",
   "metadata": {},
   "outputs": [
    {
     "data": {
      "text/html": [
       "<div>\n",
       "<style scoped>\n",
       "    .dataframe tbody tr th:only-of-type {\n",
       "        vertical-align: middle;\n",
       "    }\n",
       "\n",
       "    .dataframe tbody tr th {\n",
       "        vertical-align: top;\n",
       "    }\n",
       "\n",
       "    .dataframe thead th {\n",
       "        text-align: right;\n",
       "    }\n",
       "</style>\n",
       "<table border=\"1\" class=\"dataframe\">\n",
       "  <thead>\n",
       "    <tr style=\"text-align: right;\">\n",
       "      <th></th>\n",
       "      <th>rownumber</th>\n",
       "      <th>customerid</th>\n",
       "      <th>surname</th>\n",
       "      <th>creditscore</th>\n",
       "      <th>geography</th>\n",
       "      <th>gender</th>\n",
       "      <th>age</th>\n",
       "      <th>tenure</th>\n",
       "      <th>balance</th>\n",
       "      <th>numofproducts</th>\n",
       "      <th>hascrcard</th>\n",
       "      <th>isactivemember</th>\n",
       "      <th>estimatedsalary</th>\n",
       "      <th>exited</th>\n",
       "    </tr>\n",
       "  </thead>\n",
       "  <tbody>\n",
       "    <tr>\n",
       "      <th>0</th>\n",
       "      <td>1</td>\n",
       "      <td>15634602</td>\n",
       "      <td>Hargrave</td>\n",
       "      <td>619</td>\n",
       "      <td>France</td>\n",
       "      <td>Female</td>\n",
       "      <td>42</td>\n",
       "      <td>2.0</td>\n",
       "      <td>0.00</td>\n",
       "      <td>1</td>\n",
       "      <td>1</td>\n",
       "      <td>1</td>\n",
       "      <td>101348.88</td>\n",
       "      <td>1</td>\n",
       "    </tr>\n",
       "    <tr>\n",
       "      <th>1</th>\n",
       "      <td>2</td>\n",
       "      <td>15647311</td>\n",
       "      <td>Hill</td>\n",
       "      <td>608</td>\n",
       "      <td>Spain</td>\n",
       "      <td>Female</td>\n",
       "      <td>41</td>\n",
       "      <td>1.0</td>\n",
       "      <td>83807.86</td>\n",
       "      <td>1</td>\n",
       "      <td>0</td>\n",
       "      <td>1</td>\n",
       "      <td>112542.58</td>\n",
       "      <td>0</td>\n",
       "    </tr>\n",
       "    <tr>\n",
       "      <th>2</th>\n",
       "      <td>3</td>\n",
       "      <td>15619304</td>\n",
       "      <td>Onio</td>\n",
       "      <td>502</td>\n",
       "      <td>France</td>\n",
       "      <td>Female</td>\n",
       "      <td>42</td>\n",
       "      <td>8.0</td>\n",
       "      <td>159660.80</td>\n",
       "      <td>3</td>\n",
       "      <td>1</td>\n",
       "      <td>0</td>\n",
       "      <td>113931.57</td>\n",
       "      <td>1</td>\n",
       "    </tr>\n",
       "    <tr>\n",
       "      <th>3</th>\n",
       "      <td>4</td>\n",
       "      <td>15701354</td>\n",
       "      <td>Boni</td>\n",
       "      <td>699</td>\n",
       "      <td>France</td>\n",
       "      <td>Female</td>\n",
       "      <td>39</td>\n",
       "      <td>1.0</td>\n",
       "      <td>0.00</td>\n",
       "      <td>2</td>\n",
       "      <td>0</td>\n",
       "      <td>0</td>\n",
       "      <td>93826.63</td>\n",
       "      <td>0</td>\n",
       "    </tr>\n",
       "    <tr>\n",
       "      <th>4</th>\n",
       "      <td>5</td>\n",
       "      <td>15737888</td>\n",
       "      <td>Mitchell</td>\n",
       "      <td>850</td>\n",
       "      <td>Spain</td>\n",
       "      <td>Female</td>\n",
       "      <td>43</td>\n",
       "      <td>2.0</td>\n",
       "      <td>125510.82</td>\n",
       "      <td>1</td>\n",
       "      <td>1</td>\n",
       "      <td>1</td>\n",
       "      <td>79084.10</td>\n",
       "      <td>0</td>\n",
       "    </tr>\n",
       "    <tr>\n",
       "      <th>...</th>\n",
       "      <td>...</td>\n",
       "      <td>...</td>\n",
       "      <td>...</td>\n",
       "      <td>...</td>\n",
       "      <td>...</td>\n",
       "      <td>...</td>\n",
       "      <td>...</td>\n",
       "      <td>...</td>\n",
       "      <td>...</td>\n",
       "      <td>...</td>\n",
       "      <td>...</td>\n",
       "      <td>...</td>\n",
       "      <td>...</td>\n",
       "      <td>...</td>\n",
       "    </tr>\n",
       "    <tr>\n",
       "      <th>9995</th>\n",
       "      <td>9996</td>\n",
       "      <td>15606229</td>\n",
       "      <td>Obijiaku</td>\n",
       "      <td>771</td>\n",
       "      <td>France</td>\n",
       "      <td>Male</td>\n",
       "      <td>39</td>\n",
       "      <td>5.0</td>\n",
       "      <td>0.00</td>\n",
       "      <td>2</td>\n",
       "      <td>1</td>\n",
       "      <td>0</td>\n",
       "      <td>96270.64</td>\n",
       "      <td>0</td>\n",
       "    </tr>\n",
       "    <tr>\n",
       "      <th>9996</th>\n",
       "      <td>9997</td>\n",
       "      <td>15569892</td>\n",
       "      <td>Johnstone</td>\n",
       "      <td>516</td>\n",
       "      <td>France</td>\n",
       "      <td>Male</td>\n",
       "      <td>35</td>\n",
       "      <td>10.0</td>\n",
       "      <td>57369.61</td>\n",
       "      <td>1</td>\n",
       "      <td>1</td>\n",
       "      <td>1</td>\n",
       "      <td>101699.77</td>\n",
       "      <td>0</td>\n",
       "    </tr>\n",
       "    <tr>\n",
       "      <th>9997</th>\n",
       "      <td>9998</td>\n",
       "      <td>15584532</td>\n",
       "      <td>Liu</td>\n",
       "      <td>709</td>\n",
       "      <td>France</td>\n",
       "      <td>Female</td>\n",
       "      <td>36</td>\n",
       "      <td>7.0</td>\n",
       "      <td>0.00</td>\n",
       "      <td>1</td>\n",
       "      <td>0</td>\n",
       "      <td>1</td>\n",
       "      <td>42085.58</td>\n",
       "      <td>1</td>\n",
       "    </tr>\n",
       "    <tr>\n",
       "      <th>9998</th>\n",
       "      <td>9999</td>\n",
       "      <td>15682355</td>\n",
       "      <td>Sabbatini</td>\n",
       "      <td>772</td>\n",
       "      <td>Germany</td>\n",
       "      <td>Male</td>\n",
       "      <td>42</td>\n",
       "      <td>3.0</td>\n",
       "      <td>75075.31</td>\n",
       "      <td>2</td>\n",
       "      <td>1</td>\n",
       "      <td>0</td>\n",
       "      <td>92888.52</td>\n",
       "      <td>1</td>\n",
       "    </tr>\n",
       "    <tr>\n",
       "      <th>9999</th>\n",
       "      <td>10000</td>\n",
       "      <td>15628319</td>\n",
       "      <td>Walker</td>\n",
       "      <td>792</td>\n",
       "      <td>France</td>\n",
       "      <td>Female</td>\n",
       "      <td>28</td>\n",
       "      <td>NaN</td>\n",
       "      <td>130142.79</td>\n",
       "      <td>1</td>\n",
       "      <td>1</td>\n",
       "      <td>0</td>\n",
       "      <td>38190.78</td>\n",
       "      <td>0</td>\n",
       "    </tr>\n",
       "  </tbody>\n",
       "</table>\n",
       "<p>10000 rows × 14 columns</p>\n",
       "</div>"
      ],
      "text/plain": [
       "      rownumber  customerid    surname  creditscore geography  gender  age  \\\n",
       "0             1    15634602   Hargrave          619    France  Female   42   \n",
       "1             2    15647311       Hill          608     Spain  Female   41   \n",
       "2             3    15619304       Onio          502    France  Female   42   \n",
       "3             4    15701354       Boni          699    France  Female   39   \n",
       "4             5    15737888   Mitchell          850     Spain  Female   43   \n",
       "...         ...         ...        ...          ...       ...     ...  ...   \n",
       "9995       9996    15606229   Obijiaku          771    France    Male   39   \n",
       "9996       9997    15569892  Johnstone          516    France    Male   35   \n",
       "9997       9998    15584532        Liu          709    France  Female   36   \n",
       "9998       9999    15682355  Sabbatini          772   Germany    Male   42   \n",
       "9999      10000    15628319     Walker          792    France  Female   28   \n",
       "\n",
       "      tenure    balance  numofproducts  hascrcard  isactivemember  \\\n",
       "0        2.0       0.00              1          1               1   \n",
       "1        1.0   83807.86              1          0               1   \n",
       "2        8.0  159660.80              3          1               0   \n",
       "3        1.0       0.00              2          0               0   \n",
       "4        2.0  125510.82              1          1               1   \n",
       "...      ...        ...            ...        ...             ...   \n",
       "9995     5.0       0.00              2          1               0   \n",
       "9996    10.0   57369.61              1          1               1   \n",
       "9997     7.0       0.00              1          0               1   \n",
       "9998     3.0   75075.31              2          1               0   \n",
       "9999     NaN  130142.79              1          1               0   \n",
       "\n",
       "      estimatedsalary  exited  \n",
       "0           101348.88       1  \n",
       "1           112542.58       0  \n",
       "2           113931.57       1  \n",
       "3            93826.63       0  \n",
       "4            79084.10       0  \n",
       "...               ...     ...  \n",
       "9995         96270.64       0  \n",
       "9996        101699.77       0  \n",
       "9997         42085.58       1  \n",
       "9998         92888.52       1  \n",
       "9999         38190.78       0  \n",
       "\n",
       "[10000 rows x 14 columns]"
      ]
     },
     "execution_count": 16,
     "metadata": {},
     "output_type": "execute_result"
    }
   ],
   "source": [
    "data"
   ]
  },
  {
   "cell_type": "code",
   "execution_count": 17,
   "id": "767208f8",
   "metadata": {},
   "outputs": [],
   "source": [
    "data = data.rename(columns={'rownumber':'row_number',\n",
    "                                   'customerid':'customer_id',\n",
    "                                    'creditscore':'credit_score',\n",
    "                                    'numofproducts':'num_of_products',\n",
    "                                    'hascrcard':'has_cr_card',\n",
    "                                    'isactivemember':'is_active_member',\n",
    "                                    'estimatedsalary':'estimated_salary'\n",
    "                                   })"
   ]
  },
  {
   "cell_type": "code",
   "execution_count": 18,
   "id": "595f423e",
   "metadata": {
    "scrolled": true
   },
   "outputs": [
    {
     "data": {
      "text/html": [
       "<div>\n",
       "<style scoped>\n",
       "    .dataframe tbody tr th:only-of-type {\n",
       "        vertical-align: middle;\n",
       "    }\n",
       "\n",
       "    .dataframe tbody tr th {\n",
       "        vertical-align: top;\n",
       "    }\n",
       "\n",
       "    .dataframe thead th {\n",
       "        text-align: right;\n",
       "    }\n",
       "</style>\n",
       "<table border=\"1\" class=\"dataframe\">\n",
       "  <thead>\n",
       "    <tr style=\"text-align: right;\">\n",
       "      <th></th>\n",
       "      <th>row_number</th>\n",
       "      <th>customer_id</th>\n",
       "      <th>surname</th>\n",
       "      <th>credit_score</th>\n",
       "      <th>geography</th>\n",
       "      <th>gender</th>\n",
       "      <th>age</th>\n",
       "      <th>tenure</th>\n",
       "      <th>balance</th>\n",
       "      <th>num_of_products</th>\n",
       "      <th>has_cr_card</th>\n",
       "      <th>is_active_member</th>\n",
       "      <th>estimated_salary</th>\n",
       "      <th>exited</th>\n",
       "    </tr>\n",
       "  </thead>\n",
       "  <tbody>\n",
       "    <tr>\n",
       "      <th>0</th>\n",
       "      <td>1</td>\n",
       "      <td>15634602</td>\n",
       "      <td>Hargrave</td>\n",
       "      <td>619</td>\n",
       "      <td>France</td>\n",
       "      <td>Female</td>\n",
       "      <td>42</td>\n",
       "      <td>2.0</td>\n",
       "      <td>0.00</td>\n",
       "      <td>1</td>\n",
       "      <td>1</td>\n",
       "      <td>1</td>\n",
       "      <td>101348.88</td>\n",
       "      <td>1</td>\n",
       "    </tr>\n",
       "    <tr>\n",
       "      <th>1</th>\n",
       "      <td>2</td>\n",
       "      <td>15647311</td>\n",
       "      <td>Hill</td>\n",
       "      <td>608</td>\n",
       "      <td>Spain</td>\n",
       "      <td>Female</td>\n",
       "      <td>41</td>\n",
       "      <td>1.0</td>\n",
       "      <td>83807.86</td>\n",
       "      <td>1</td>\n",
       "      <td>0</td>\n",
       "      <td>1</td>\n",
       "      <td>112542.58</td>\n",
       "      <td>0</td>\n",
       "    </tr>\n",
       "    <tr>\n",
       "      <th>2</th>\n",
       "      <td>3</td>\n",
       "      <td>15619304</td>\n",
       "      <td>Onio</td>\n",
       "      <td>502</td>\n",
       "      <td>France</td>\n",
       "      <td>Female</td>\n",
       "      <td>42</td>\n",
       "      <td>8.0</td>\n",
       "      <td>159660.80</td>\n",
       "      <td>3</td>\n",
       "      <td>1</td>\n",
       "      <td>0</td>\n",
       "      <td>113931.57</td>\n",
       "      <td>1</td>\n",
       "    </tr>\n",
       "    <tr>\n",
       "      <th>3</th>\n",
       "      <td>4</td>\n",
       "      <td>15701354</td>\n",
       "      <td>Boni</td>\n",
       "      <td>699</td>\n",
       "      <td>France</td>\n",
       "      <td>Female</td>\n",
       "      <td>39</td>\n",
       "      <td>1.0</td>\n",
       "      <td>0.00</td>\n",
       "      <td>2</td>\n",
       "      <td>0</td>\n",
       "      <td>0</td>\n",
       "      <td>93826.63</td>\n",
       "      <td>0</td>\n",
       "    </tr>\n",
       "    <tr>\n",
       "      <th>4</th>\n",
       "      <td>5</td>\n",
       "      <td>15737888</td>\n",
       "      <td>Mitchell</td>\n",
       "      <td>850</td>\n",
       "      <td>Spain</td>\n",
       "      <td>Female</td>\n",
       "      <td>43</td>\n",
       "      <td>2.0</td>\n",
       "      <td>125510.82</td>\n",
       "      <td>1</td>\n",
       "      <td>1</td>\n",
       "      <td>1</td>\n",
       "      <td>79084.10</td>\n",
       "      <td>0</td>\n",
       "    </tr>\n",
       "  </tbody>\n",
       "</table>\n",
       "</div>"
      ],
      "text/plain": [
       "   row_number  customer_id   surname  credit_score geography  gender  age  \\\n",
       "0           1     15634602  Hargrave           619    France  Female   42   \n",
       "1           2     15647311      Hill           608     Spain  Female   41   \n",
       "2           3     15619304      Onio           502    France  Female   42   \n",
       "3           4     15701354      Boni           699    France  Female   39   \n",
       "4           5     15737888  Mitchell           850     Spain  Female   43   \n",
       "\n",
       "   tenure    balance  num_of_products  has_cr_card  is_active_member  \\\n",
       "0     2.0       0.00                1            1                 1   \n",
       "1     1.0   83807.86                1            0                 1   \n",
       "2     8.0  159660.80                3            1                 0   \n",
       "3     1.0       0.00                2            0                 0   \n",
       "4     2.0  125510.82                1            1                 1   \n",
       "\n",
       "   estimated_salary  exited  \n",
       "0         101348.88       1  \n",
       "1         112542.58       0  \n",
       "2         113931.57       1  \n",
       "3          93826.63       0  \n",
       "4          79084.10       0  "
      ]
     },
     "execution_count": 18,
     "metadata": {},
     "output_type": "execute_result"
    }
   ],
   "source": [
    "data.head()"
   ]
  },
  {
   "cell_type": "markdown",
   "id": "e5d43cc4",
   "metadata": {},
   "source": [
    "## Filling The Missing Value"
   ]
  },
  {
   "cell_type": "code",
   "execution_count": 19,
   "id": "36455a26",
   "metadata": {},
   "outputs": [
    {
     "data": {
      "text/plain": [
       "array([ 0.,  1.,  2.,  3.,  4.,  5.,  6.,  7.,  8.,  9., 10., nan])"
      ]
     },
     "execution_count": 19,
     "metadata": {},
     "output_type": "execute_result"
    }
   ],
   "source": [
    "data['tenure'].sort_values().unique()"
   ]
  },
  {
   "cell_type": "code",
   "execution_count": 20,
   "id": "8237c9b2",
   "metadata": {},
   "outputs": [],
   "source": [
    "data['tenure'] = data['tenure'].fillna(0)"
   ]
  },
  {
   "cell_type": "code",
   "execution_count": 21,
   "id": "eccffb5b",
   "metadata": {},
   "outputs": [
    {
     "name": "stdout",
     "output_type": "stream",
     "text": [
      "<class 'pandas.core.frame.DataFrame'>\n",
      "RangeIndex: 10000 entries, 0 to 9999\n",
      "Data columns (total 14 columns):\n",
      " #   Column            Non-Null Count  Dtype  \n",
      "---  ------            --------------  -----  \n",
      " 0   row_number        10000 non-null  int64  \n",
      " 1   customer_id       10000 non-null  int64  \n",
      " 2   surname           10000 non-null  object \n",
      " 3   credit_score      10000 non-null  int64  \n",
      " 4   geography         10000 non-null  object \n",
      " 5   gender            10000 non-null  object \n",
      " 6   age               10000 non-null  int64  \n",
      " 7   tenure            10000 non-null  float64\n",
      " 8   balance           10000 non-null  float64\n",
      " 9   num_of_products   10000 non-null  int64  \n",
      " 10  has_cr_card       10000 non-null  int64  \n",
      " 11  is_active_member  10000 non-null  int64  \n",
      " 12  estimated_salary  10000 non-null  float64\n",
      " 13  exited            10000 non-null  int64  \n",
      "dtypes: float64(3), int64(8), object(3)\n",
      "memory usage: 1.1+ MB\n"
     ]
    }
   ],
   "source": [
    "data.info()"
   ]
  },
  {
   "cell_type": "markdown",
   "id": "9dc140d9",
   "metadata": {},
   "source": [
    "Missing values are filled with the value 0. This is done because during data entry, it's possible that when 0 is not needed to be explicitly stated, the result is represented as **NaN** (Not-a-Number)."
   ]
  },
  {
   "cell_type": "markdown",
   "id": "6209b15b",
   "metadata": {},
   "source": [
    "# Model Development"
   ]
  },
  {
   "cell_type": "markdown",
   "id": "129aee5c",
   "metadata": {},
   "source": [
    "### Label Encoding"
   ]
  },
  {
   "cell_type": "code",
   "execution_count": 22,
   "id": "f9fe4279",
   "metadata": {},
   "outputs": [
    {
     "data": {
      "text/plain": [
       "array(['Female', 'Male'], dtype=object)"
      ]
     },
     "execution_count": 22,
     "metadata": {},
     "output_type": "execute_result"
    }
   ],
   "source": [
    "data['gender'].unique()"
   ]
  },
  {
   "cell_type": "code",
   "execution_count": 23,
   "id": "aa328e22",
   "metadata": {},
   "outputs": [],
   "source": [
    "new_data = data.drop('surname', axis=1)"
   ]
  },
  {
   "cell_type": "code",
   "execution_count": 24,
   "id": "0b7fa980",
   "metadata": {},
   "outputs": [],
   "source": [
    "encoder = OrdinalEncoder()"
   ]
  },
  {
   "cell_type": "code",
   "execution_count": 25,
   "id": "bd6b637d",
   "metadata": {},
   "outputs": [],
   "source": [
    "data_ordinal = pd.DataFrame(encoder.fit_transform(new_data), columns=new_data.columns)"
   ]
  },
  {
   "cell_type": "code",
   "execution_count": 26,
   "id": "c4f9dc24",
   "metadata": {},
   "outputs": [
    {
     "data": {
      "text/html": [
       "<div>\n",
       "<style scoped>\n",
       "    .dataframe tbody tr th:only-of-type {\n",
       "        vertical-align: middle;\n",
       "    }\n",
       "\n",
       "    .dataframe tbody tr th {\n",
       "        vertical-align: top;\n",
       "    }\n",
       "\n",
       "    .dataframe thead th {\n",
       "        text-align: right;\n",
       "    }\n",
       "</style>\n",
       "<table border=\"1\" class=\"dataframe\">\n",
       "  <thead>\n",
       "    <tr style=\"text-align: right;\">\n",
       "      <th></th>\n",
       "      <th>row_number</th>\n",
       "      <th>customer_id</th>\n",
       "      <th>credit_score</th>\n",
       "      <th>geography</th>\n",
       "      <th>gender</th>\n",
       "      <th>age</th>\n",
       "      <th>tenure</th>\n",
       "      <th>balance</th>\n",
       "      <th>num_of_products</th>\n",
       "      <th>has_cr_card</th>\n",
       "      <th>is_active_member</th>\n",
       "      <th>estimated_salary</th>\n",
       "      <th>exited</th>\n",
       "    </tr>\n",
       "  </thead>\n",
       "  <tbody>\n",
       "    <tr>\n",
       "      <th>0</th>\n",
       "      <td>0.0</td>\n",
       "      <td>2736.0</td>\n",
       "      <td>228.0</td>\n",
       "      <td>0.0</td>\n",
       "      <td>0.0</td>\n",
       "      <td>24.0</td>\n",
       "      <td>2.0</td>\n",
       "      <td>0.0</td>\n",
       "      <td>0.0</td>\n",
       "      <td>1.0</td>\n",
       "      <td>1.0</td>\n",
       "      <td>5068.0</td>\n",
       "      <td>1.0</td>\n",
       "    </tr>\n",
       "    <tr>\n",
       "      <th>1</th>\n",
       "      <td>1.0</td>\n",
       "      <td>3258.0</td>\n",
       "      <td>217.0</td>\n",
       "      <td>2.0</td>\n",
       "      <td>0.0</td>\n",
       "      <td>23.0</td>\n",
       "      <td>1.0</td>\n",
       "      <td>743.0</td>\n",
       "      <td>0.0</td>\n",
       "      <td>0.0</td>\n",
       "      <td>1.0</td>\n",
       "      <td>5639.0</td>\n",
       "      <td>0.0</td>\n",
       "    </tr>\n",
       "    <tr>\n",
       "      <th>2</th>\n",
       "      <td>2.0</td>\n",
       "      <td>2104.0</td>\n",
       "      <td>111.0</td>\n",
       "      <td>0.0</td>\n",
       "      <td>0.0</td>\n",
       "      <td>24.0</td>\n",
       "      <td>8.0</td>\n",
       "      <td>5793.0</td>\n",
       "      <td>2.0</td>\n",
       "      <td>1.0</td>\n",
       "      <td>0.0</td>\n",
       "      <td>5707.0</td>\n",
       "      <td>1.0</td>\n",
       "    </tr>\n",
       "    <tr>\n",
       "      <th>3</th>\n",
       "      <td>3.0</td>\n",
       "      <td>5435.0</td>\n",
       "      <td>308.0</td>\n",
       "      <td>0.0</td>\n",
       "      <td>0.0</td>\n",
       "      <td>21.0</td>\n",
       "      <td>1.0</td>\n",
       "      <td>0.0</td>\n",
       "      <td>1.0</td>\n",
       "      <td>0.0</td>\n",
       "      <td>0.0</td>\n",
       "      <td>4704.0</td>\n",
       "      <td>0.0</td>\n",
       "    </tr>\n",
       "    <tr>\n",
       "      <th>4</th>\n",
       "      <td>4.0</td>\n",
       "      <td>6899.0</td>\n",
       "      <td>459.0</td>\n",
       "      <td>2.0</td>\n",
       "      <td>0.0</td>\n",
       "      <td>25.0</td>\n",
       "      <td>2.0</td>\n",
       "      <td>3696.0</td>\n",
       "      <td>0.0</td>\n",
       "      <td>1.0</td>\n",
       "      <td>1.0</td>\n",
       "      <td>3925.0</td>\n",
       "      <td>0.0</td>\n",
       "    </tr>\n",
       "  </tbody>\n",
       "</table>\n",
       "</div>"
      ],
      "text/plain": [
       "   row_number  customer_id  credit_score  geography  gender   age  tenure  \\\n",
       "0         0.0       2736.0         228.0        0.0     0.0  24.0     2.0   \n",
       "1         1.0       3258.0         217.0        2.0     0.0  23.0     1.0   \n",
       "2         2.0       2104.0         111.0        0.0     0.0  24.0     8.0   \n",
       "3         3.0       5435.0         308.0        0.0     0.0  21.0     1.0   \n",
       "4         4.0       6899.0         459.0        2.0     0.0  25.0     2.0   \n",
       "\n",
       "   balance  num_of_products  has_cr_card  is_active_member  estimated_salary  \\\n",
       "0      0.0              0.0          1.0               1.0            5068.0   \n",
       "1    743.0              0.0          0.0               1.0            5639.0   \n",
       "2   5793.0              2.0          1.0               0.0            5707.0   \n",
       "3      0.0              1.0          0.0               0.0            4704.0   \n",
       "4   3696.0              0.0          1.0               1.0            3925.0   \n",
       "\n",
       "   exited  \n",
       "0     1.0  \n",
       "1     0.0  \n",
       "2     1.0  \n",
       "3     0.0  \n",
       "4     0.0  "
      ]
     },
     "execution_count": 26,
     "metadata": {},
     "output_type": "execute_result"
    }
   ],
   "source": [
    "data_ordinal.head()"
   ]
  },
  {
   "cell_type": "markdown",
   "id": "5e1d50e4",
   "metadata": {},
   "source": [
    "From the information provided, we can conclude the following:\n",
    "\n",
    "- Before training the model, it's better to convert string features or columns into numerical values.\n",
    "- The `surname` column is discarded because it is unlikely to significantly impact the model's performance even if encoding is applied.\n",
    "- Ordinal encoding is performed because it is more suitable for models that use a tree-based system like Decision Trees and Random Forests."
   ]
  },
  {
   "cell_type": "markdown",
   "id": "4ba1952a",
   "metadata": {},
   "source": [
    "## Determining the Target and Features"
   ]
  },
  {
   "cell_type": "code",
   "execution_count": 27,
   "id": "37abcbe9",
   "metadata": {},
   "outputs": [],
   "source": [
    "target = data_ordinal['exited']"
   ]
  },
  {
   "cell_type": "code",
   "execution_count": 28,
   "id": "60ee61e0",
   "metadata": {},
   "outputs": [
    {
     "data": {
      "text/plain": [
       "(10000,)"
      ]
     },
     "execution_count": 28,
     "metadata": {},
     "output_type": "execute_result"
    }
   ],
   "source": [
    "target.shape"
   ]
  },
  {
   "cell_type": "code",
   "execution_count": 29,
   "id": "4f6eeff1",
   "metadata": {},
   "outputs": [],
   "source": [
    "features = data_ordinal.drop(['row_number', 'exited'], axis=1)"
   ]
  },
  {
   "cell_type": "code",
   "execution_count": 30,
   "id": "66da60ee",
   "metadata": {},
   "outputs": [
    {
     "data": {
      "text/plain": [
       "(10000, 11)"
      ]
     },
     "execution_count": 30,
     "metadata": {},
     "output_type": "execute_result"
    }
   ],
   "source": [
    "features.shape"
   ]
  },
  {
   "cell_type": "markdown",
   "id": "f1cb0320",
   "metadata": {},
   "source": [
    "## Splitting Data into 3 Parts"
   ]
  },
  {
   "cell_type": "code",
   "execution_count": 31,
   "id": "ca96e9c6",
   "metadata": {},
   "outputs": [],
   "source": [
    "features_train, features_valid, target_train, target_valid = train_test_split(features, target, test_size=0.25, random_state=12345)"
   ]
  },
  {
   "cell_type": "code",
   "execution_count": 32,
   "id": "a06679ce",
   "metadata": {},
   "outputs": [
    {
     "data": {
      "text/plain": [
       "(7500, 11)"
      ]
     },
     "execution_count": 32,
     "metadata": {},
     "output_type": "execute_result"
    }
   ],
   "source": [
    "features_train.shape"
   ]
  },
  {
   "cell_type": "code",
   "execution_count": 33,
   "id": "f8c99263",
   "metadata": {},
   "outputs": [
    {
     "data": {
      "text/plain": [
       "(2500, 11)"
      ]
     },
     "execution_count": 33,
     "metadata": {},
     "output_type": "execute_result"
    }
   ],
   "source": [
    "features_valid.shape"
   ]
  },
  {
   "cell_type": "code",
   "execution_count": 34,
   "id": "e94f8da9",
   "metadata": {},
   "outputs": [
    {
     "data": {
      "text/plain": [
       "(7500,)"
      ]
     },
     "execution_count": 34,
     "metadata": {},
     "output_type": "execute_result"
    }
   ],
   "source": [
    "target_train.shape"
   ]
  },
  {
   "cell_type": "code",
   "execution_count": 35,
   "id": "b2335269",
   "metadata": {},
   "outputs": [
    {
     "data": {
      "text/plain": [
       "(2500,)"
      ]
     },
     "execution_count": 35,
     "metadata": {},
     "output_type": "execute_result"
    }
   ],
   "source": [
    "target_valid.shape"
   ]
  },
  {
   "cell_type": "markdown",
   "id": "c78529c7",
   "metadata": {},
   "source": [
    "## Features Scalling"
   ]
  },
  {
   "cell_type": "code",
   "execution_count": 36,
   "id": "2a4a4711",
   "metadata": {},
   "outputs": [
    {
     "data": {
      "text/html": [
       "<div>\n",
       "<style scoped>\n",
       "    .dataframe tbody tr th:only-of-type {\n",
       "        vertical-align: middle;\n",
       "    }\n",
       "\n",
       "    .dataframe tbody tr th {\n",
       "        vertical-align: top;\n",
       "    }\n",
       "\n",
       "    .dataframe thead th {\n",
       "        text-align: right;\n",
       "    }\n",
       "</style>\n",
       "<table border=\"1\" class=\"dataframe\">\n",
       "  <thead>\n",
       "    <tr style=\"text-align: right;\">\n",
       "      <th></th>\n",
       "      <th>customer_id</th>\n",
       "      <th>credit_score</th>\n",
       "      <th>geography</th>\n",
       "      <th>gender</th>\n",
       "      <th>age</th>\n",
       "      <th>tenure</th>\n",
       "      <th>balance</th>\n",
       "      <th>num_of_products</th>\n",
       "      <th>has_cr_card</th>\n",
       "      <th>is_active_member</th>\n",
       "      <th>estimated_salary</th>\n",
       "    </tr>\n",
       "  </thead>\n",
       "  <tbody>\n",
       "    <tr>\n",
       "      <th>226</th>\n",
       "      <td>8349.0</td>\n",
       "      <td>303.0</td>\n",
       "      <td>0.0</td>\n",
       "      <td>0.0</td>\n",
       "      <td>12.0</td>\n",
       "      <td>9.0</td>\n",
       "      <td>0.0</td>\n",
       "      <td>1.0</td>\n",
       "      <td>1.0</td>\n",
       "      <td>1.0</td>\n",
       "      <td>1322.0</td>\n",
       "    </tr>\n",
       "    <tr>\n",
       "      <th>7756</th>\n",
       "      <td>1600.0</td>\n",
       "      <td>230.0</td>\n",
       "      <td>2.0</td>\n",
       "      <td>0.0</td>\n",
       "      <td>18.0</td>\n",
       "      <td>7.0</td>\n",
       "      <td>2900.0</td>\n",
       "      <td>0.0</td>\n",
       "      <td>1.0</td>\n",
       "      <td>1.0</td>\n",
       "      <td>7790.0</td>\n",
       "    </tr>\n",
       "    <tr>\n",
       "      <th>2065</th>\n",
       "      <td>616.0</td>\n",
       "      <td>235.0</td>\n",
       "      <td>0.0</td>\n",
       "      <td>1.0</td>\n",
       "      <td>15.0</td>\n",
       "      <td>8.0</td>\n",
       "      <td>0.0</td>\n",
       "      <td>1.0</td>\n",
       "      <td>1.0</td>\n",
       "      <td>0.0</td>\n",
       "      <td>6954.0</td>\n",
       "    </tr>\n",
       "    <tr>\n",
       "      <th>2800</th>\n",
       "      <td>3240.0</td>\n",
       "      <td>378.0</td>\n",
       "      <td>0.0</td>\n",
       "      <td>1.0</td>\n",
       "      <td>33.0</td>\n",
       "      <td>9.0</td>\n",
       "      <td>5709.0</td>\n",
       "      <td>1.0</td>\n",
       "      <td>1.0</td>\n",
       "      <td>0.0</td>\n",
       "      <td>1965.0</td>\n",
       "    </tr>\n",
       "    <tr>\n",
       "      <th>7028</th>\n",
       "      <td>2078.0</td>\n",
       "      <td>327.0</td>\n",
       "      <td>1.0</td>\n",
       "      <td>1.0</td>\n",
       "      <td>8.0</td>\n",
       "      <td>0.0</td>\n",
       "      <td>5283.0</td>\n",
       "      <td>0.0</td>\n",
       "      <td>0.0</td>\n",
       "      <td>0.0</td>\n",
       "      <td>2501.0</td>\n",
       "    </tr>\n",
       "  </tbody>\n",
       "</table>\n",
       "</div>"
      ],
      "text/plain": [
       "      customer_id  credit_score  geography  gender   age  tenure  balance  \\\n",
       "226        8349.0         303.0        0.0     0.0  12.0     9.0      0.0   \n",
       "7756       1600.0         230.0        2.0     0.0  18.0     7.0   2900.0   \n",
       "2065        616.0         235.0        0.0     1.0  15.0     8.0      0.0   \n",
       "2800       3240.0         378.0        0.0     1.0  33.0     9.0   5709.0   \n",
       "7028       2078.0         327.0        1.0     1.0   8.0     0.0   5283.0   \n",
       "\n",
       "      num_of_products  has_cr_card  is_active_member  estimated_salary  \n",
       "226               1.0          1.0               1.0            1322.0  \n",
       "7756              0.0          1.0               1.0            7790.0  \n",
       "2065              1.0          1.0               0.0            6954.0  \n",
       "2800              1.0          1.0               0.0            1965.0  \n",
       "7028              0.0          0.0               0.0            2501.0  "
      ]
     },
     "execution_count": 36,
     "metadata": {},
     "output_type": "execute_result"
    }
   ],
   "source": [
    "features_train.head()"
   ]
  },
  {
   "cell_type": "code",
   "execution_count": 37,
   "id": "cc4831a1",
   "metadata": {},
   "outputs": [],
   "source": [
    "numeric = ['credit_score', 'age', 'tenure', 'balance', 'estimated_salary']"
   ]
  },
  {
   "cell_type": "code",
   "execution_count": 38,
   "id": "480288ec",
   "metadata": {},
   "outputs": [],
   "source": [
    "scaler = StandardScaler()"
   ]
  },
  {
   "cell_type": "code",
   "execution_count": 39,
   "id": "6e63fbc1",
   "metadata": {},
   "outputs": [
    {
     "data": {
      "text/plain": [
       "StandardScaler()"
      ]
     },
     "execution_count": 39,
     "metadata": {},
     "output_type": "execute_result"
    }
   ],
   "source": [
    "scaler.fit(features_train[numeric])"
   ]
  },
  {
   "cell_type": "code",
   "execution_count": 40,
   "id": "a91b511d",
   "metadata": {},
   "outputs": [],
   "source": [
    "features_train[numeric] = scaler.transform(features_train[numeric])"
   ]
  },
  {
   "cell_type": "code",
   "execution_count": 41,
   "id": "599458e2",
   "metadata": {},
   "outputs": [],
   "source": [
    "features_valid[numeric] = scaler.transform(features_valid[numeric])"
   ]
  },
  {
   "cell_type": "code",
   "execution_count": 42,
   "id": "e56c2a11",
   "metadata": {
    "scrolled": true
   },
   "outputs": [
    {
     "data": {
      "text/html": [
       "<div>\n",
       "<style scoped>\n",
       "    .dataframe tbody tr th:only-of-type {\n",
       "        vertical-align: middle;\n",
       "    }\n",
       "\n",
       "    .dataframe tbody tr th {\n",
       "        vertical-align: top;\n",
       "    }\n",
       "\n",
       "    .dataframe thead th {\n",
       "        text-align: right;\n",
       "    }\n",
       "</style>\n",
       "<table border=\"1\" class=\"dataframe\">\n",
       "  <thead>\n",
       "    <tr style=\"text-align: right;\">\n",
       "      <th></th>\n",
       "      <th>customer_id</th>\n",
       "      <th>credit_score</th>\n",
       "      <th>geography</th>\n",
       "      <th>gender</th>\n",
       "      <th>age</th>\n",
       "      <th>tenure</th>\n",
       "      <th>balance</th>\n",
       "      <th>num_of_products</th>\n",
       "      <th>has_cr_card</th>\n",
       "      <th>is_active_member</th>\n",
       "      <th>estimated_salary</th>\n",
       "    </tr>\n",
       "  </thead>\n",
       "  <tbody>\n",
       "    <tr>\n",
       "      <th>226</th>\n",
       "      <td>8349.0</td>\n",
       "      <td>0.442946</td>\n",
       "      <td>0.0</td>\n",
       "      <td>0.0</td>\n",
       "      <td>-0.841540</td>\n",
       "      <td>1.426885</td>\n",
       "      <td>-0.954573</td>\n",
       "      <td>1.0</td>\n",
       "      <td>1.0</td>\n",
       "      <td>1.0</td>\n",
       "      <td>-1.271910</td>\n",
       "    </tr>\n",
       "    <tr>\n",
       "      <th>7756</th>\n",
       "      <td>1600.0</td>\n",
       "      <td>-0.311975</td>\n",
       "      <td>2.0</td>\n",
       "      <td>0.0</td>\n",
       "      <td>-0.270755</td>\n",
       "      <td>0.784858</td>\n",
       "      <td>0.409643</td>\n",
       "      <td>0.0</td>\n",
       "      <td>1.0</td>\n",
       "      <td>1.0</td>\n",
       "      <td>0.959687</td>\n",
       "    </tr>\n",
       "    <tr>\n",
       "      <th>2065</th>\n",
       "      <td>616.0</td>\n",
       "      <td>-0.260268</td>\n",
       "      <td>0.0</td>\n",
       "      <td>1.0</td>\n",
       "      <td>-0.556148</td>\n",
       "      <td>1.105871</td>\n",
       "      <td>-0.954573</td>\n",
       "      <td>1.0</td>\n",
       "      <td>1.0</td>\n",
       "      <td>0.0</td>\n",
       "      <td>0.671249</td>\n",
       "    </tr>\n",
       "    <tr>\n",
       "      <th>2800</th>\n",
       "      <td>3240.0</td>\n",
       "      <td>1.218550</td>\n",
       "      <td>0.0</td>\n",
       "      <td>1.0</td>\n",
       "      <td>1.156208</td>\n",
       "      <td>1.426885</td>\n",
       "      <td>1.731050</td>\n",
       "      <td>1.0</td>\n",
       "      <td>1.0</td>\n",
       "      <td>0.0</td>\n",
       "      <td>-1.050061</td>\n",
       "    </tr>\n",
       "    <tr>\n",
       "      <th>7028</th>\n",
       "      <td>2078.0</td>\n",
       "      <td>0.691140</td>\n",
       "      <td>1.0</td>\n",
       "      <td>1.0</td>\n",
       "      <td>-1.222064</td>\n",
       "      <td>-1.462240</td>\n",
       "      <td>1.530652</td>\n",
       "      <td>0.0</td>\n",
       "      <td>0.0</td>\n",
       "      <td>0.0</td>\n",
       "      <td>-0.865130</td>\n",
       "    </tr>\n",
       "  </tbody>\n",
       "</table>\n",
       "</div>"
      ],
      "text/plain": [
       "      customer_id  credit_score  geography  gender       age    tenure  \\\n",
       "226        8349.0      0.442946        0.0     0.0 -0.841540  1.426885   \n",
       "7756       1600.0     -0.311975        2.0     0.0 -0.270755  0.784858   \n",
       "2065        616.0     -0.260268        0.0     1.0 -0.556148  1.105871   \n",
       "2800       3240.0      1.218550        0.0     1.0  1.156208  1.426885   \n",
       "7028       2078.0      0.691140        1.0     1.0 -1.222064 -1.462240   \n",
       "\n",
       "       balance  num_of_products  has_cr_card  is_active_member  \\\n",
       "226  -0.954573              1.0          1.0               1.0   \n",
       "7756  0.409643              0.0          1.0               1.0   \n",
       "2065 -0.954573              1.0          1.0               0.0   \n",
       "2800  1.731050              1.0          1.0               0.0   \n",
       "7028  1.530652              0.0          0.0               0.0   \n",
       "\n",
       "      estimated_salary  \n",
       "226          -1.271910  \n",
       "7756          0.959687  \n",
       "2065          0.671249  \n",
       "2800         -1.050061  \n",
       "7028         -0.865130  "
      ]
     },
     "execution_count": 42,
     "metadata": {},
     "output_type": "execute_result"
    }
   ],
   "source": [
    "features_train.head()"
   ]
  },
  {
   "cell_type": "markdown",
   "id": "c75348e3",
   "metadata": {},
   "source": [
    "# Training The Model"
   ]
  },
  {
   "cell_type": "markdown",
   "id": "e0ac5c24",
   "metadata": {},
   "source": [
    "## Random Forest"
   ]
  },
  {
   "cell_type": "code",
   "execution_count": 43,
   "id": "ebe60019",
   "metadata": {},
   "outputs": [],
   "source": [
    "model_rfc = RandomForestClassifier(random_state=12345, max_depth=8, n_estimators=50)"
   ]
  },
  {
   "cell_type": "code",
   "execution_count": 44,
   "id": "300da817",
   "metadata": {},
   "outputs": [
    {
     "data": {
      "text/plain": [
       "RandomForestClassifier(max_depth=8, n_estimators=50, random_state=12345)"
      ]
     },
     "execution_count": 44,
     "metadata": {},
     "output_type": "execute_result"
    }
   ],
   "source": [
    "model_rfc.fit(features_train, target_train)"
   ]
  },
  {
   "cell_type": "code",
   "execution_count": 45,
   "id": "2fd8d8f3",
   "metadata": {},
   "outputs": [],
   "source": [
    "predict_valid_rfc = model_rfc.predict(features_valid)"
   ]
  },
  {
   "cell_type": "code",
   "execution_count": 46,
   "id": "e2849e6d",
   "metadata": {},
   "outputs": [
    {
     "data": {
      "text/plain": [
       "0.8516"
      ]
     },
     "execution_count": 46,
     "metadata": {},
     "output_type": "execute_result"
    }
   ],
   "source": [
    "accuracy_score(target_valid, predict_valid_rfc)"
   ]
  },
  {
   "cell_type": "markdown",
   "id": "f75b4556",
   "metadata": {},
   "source": [
    "## Decision Tree"
   ]
  },
  {
   "cell_type": "code",
   "execution_count": 47,
   "id": "a54c5708",
   "metadata": {},
   "outputs": [],
   "source": [
    "model_dst = DecisionTreeClassifier(random_state=12345, max_depth=8)"
   ]
  },
  {
   "cell_type": "code",
   "execution_count": 48,
   "id": "eacc19f2",
   "metadata": {},
   "outputs": [
    {
     "data": {
      "text/plain": [
       "DecisionTreeClassifier(max_depth=8, random_state=12345)"
      ]
     },
     "execution_count": 48,
     "metadata": {},
     "output_type": "execute_result"
    }
   ],
   "source": [
    "model_dst.fit(features_train, target_train)"
   ]
  },
  {
   "cell_type": "code",
   "execution_count": 49,
   "id": "812ad25e",
   "metadata": {},
   "outputs": [],
   "source": [
    "predict_valid_dst = model_dst.predict(features_valid)"
   ]
  },
  {
   "cell_type": "code",
   "execution_count": 50,
   "id": "1572f1c4",
   "metadata": {},
   "outputs": [
    {
     "data": {
      "text/plain": [
       "0.8476"
      ]
     },
     "execution_count": 50,
     "metadata": {},
     "output_type": "execute_result"
    }
   ],
   "source": [
    "accuracy_score(target_valid, predict_valid_dst)"
   ]
  },
  {
   "cell_type": "markdown",
   "id": "8ae5ab81",
   "metadata": {},
   "source": [
    "## Logistic Regression"
   ]
  },
  {
   "cell_type": "code",
   "execution_count": 51,
   "id": "cae7cb50",
   "metadata": {},
   "outputs": [],
   "source": [
    "model_lr = LogisticRegression(random_state=12345, solver='liblinear')"
   ]
  },
  {
   "cell_type": "code",
   "execution_count": 52,
   "id": "fe492c20",
   "metadata": {},
   "outputs": [
    {
     "data": {
      "text/plain": [
       "LogisticRegression(random_state=12345, solver='liblinear')"
      ]
     },
     "execution_count": 52,
     "metadata": {},
     "output_type": "execute_result"
    }
   ],
   "source": [
    "model_lr.fit(features_valid, target_valid)"
   ]
  },
  {
   "cell_type": "code",
   "execution_count": 53,
   "id": "7116f06d",
   "metadata": {},
   "outputs": [],
   "source": [
    "predict_valid_lr = model_lr.predict(features_valid)"
   ]
  },
  {
   "cell_type": "code",
   "execution_count": 54,
   "id": "c0186d17",
   "metadata": {},
   "outputs": [
    {
     "data": {
      "text/plain": [
       "0.7844"
      ]
     },
     "execution_count": 54,
     "metadata": {},
     "output_type": "execute_result"
    }
   ],
   "source": [
    "accuracy_score(target_valid, predict_valid_lr)"
   ]
  },
  {
   "cell_type": "markdown",
   "id": "929fbecd",
   "metadata": {},
   "source": [
    "**Conclusion:**\n",
    "- The model with the highest accuracy rate is Random Forest with an accuracy rate of **85%**.\n",
    "- The second-highest accuracy rate is achieved by Logistic Regression with an accuracy rate of **79%**.\n",
    "- Lastly, Decision Tree has an accuracy rate of **84%**.\n",
    "- Based on the information provided, all three models have relatively good accuracy rates. However, accuracy alone does not determine whether a model performs well or not. Further evaluation and checks will be conducted on this matter."
   ]
  },
  {
   "cell_type": "markdown",
   "id": "d208124b",
   "metadata": {},
   "source": [
    "# Class Checking"
   ]
  },
  {
   "cell_type": "markdown",
   "id": "291ef7c0",
   "metadata": {},
   "source": [
    "## Sanity Check"
   ]
  },
  {
   "cell_type": "code",
   "execution_count": 55,
   "id": "fdd96d8f",
   "metadata": {},
   "outputs": [],
   "source": [
    "# Calculating Class Frequencies\n",
    "class_frequency = data_ordinal['exited'].value_counts(normalize=True)"
   ]
  },
  {
   "cell_type": "code",
   "execution_count": 56,
   "id": "60a63e57",
   "metadata": {},
   "outputs": [
    {
     "data": {
      "text/plain": [
       "0.0    0.7963\n",
       "1.0    0.2037\n",
       "Name: exited, dtype: float64"
      ]
     },
     "execution_count": 56,
     "metadata": {},
     "output_type": "execute_result"
    }
   ],
   "source": [
    "class_frequency"
   ]
  },
  {
   "cell_type": "code",
   "execution_count": 57,
   "id": "0f168988",
   "metadata": {},
   "outputs": [
    {
     "data": {
      "text/plain": [
       "<AxesSubplot:>"
      ]
     },
     "execution_count": 57,
     "metadata": {},
     "output_type": "execute_result"
    },
    {
     "data": {
      "image/png": "[encoded data removed]",
      "text/plain": [
       "<Figure size 640x480 with 1 Axes>"
      ]
     },
     "metadata": {},
     "output_type": "display_data"
    }
   ],
   "source": [
    "# Plot the class frequency results\n",
    "class_frequency.plot(kind='bar')"
   ]
  },
  {
   "cell_type": "markdown",
   "id": "c707975d",
   "metadata": {},
   "source": [
    "#### Random Forest"
   ]
  },
  {
   "cell_type": "code",
   "execution_count": 58,
   "id": "b72cc1b9",
   "metadata": {},
   "outputs": [],
   "source": [
    "# Creating the prediction results as a series\n",
    "predicted_valid_rfc = pd.Series(model_rfc.predict(features_valid))"
   ]
  },
  {
   "cell_type": "code",
   "execution_count": 59,
   "id": "7683e59a",
   "metadata": {},
   "outputs": [],
   "source": [
    "# Calculating the class frequencies of the Random Forest model's prediction results\n",
    "class_frequency1 = predicted_valid_rfc.value_counts(normalize=True)"
   ]
  },
  {
   "cell_type": "code",
   "execution_count": 60,
   "id": "9a91ac74",
   "metadata": {},
   "outputs": [
    {
     "data": {
      "text/plain": [
       "0.0    0.9\n",
       "1.0    0.1\n",
       "dtype: float64"
      ]
     },
     "execution_count": 60,
     "metadata": {},
     "output_type": "execute_result"
    }
   ],
   "source": [
    "class_frequency1"
   ]
  },
  {
   "cell_type": "markdown",
   "id": "ece0bd18",
   "metadata": {},
   "source": [
    "#### Decision Tree"
   ]
  },
  {
   "cell_type": "code",
   "execution_count": 61,
   "id": "dd136504",
   "metadata": {},
   "outputs": [],
   "source": [
    "# Creating the prediction results as a series\n",
    "predicted_valid_dst = pd.Series(model_dst.predict(features_valid))"
   ]
  },
  {
   "cell_type": "code",
   "execution_count": 62,
   "id": "a5176cee",
   "metadata": {},
   "outputs": [],
   "source": [
    "# Calculating the class frequencies of the Decision Tree model's prediction results\n",
    "class_frequency2 = predicted_valid_dst.value_counts(normalize=True)"
   ]
  },
  {
   "cell_type": "code",
   "execution_count": 63,
   "id": "6ad86e98",
   "metadata": {},
   "outputs": [
    {
     "data": {
      "text/plain": [
       "0.0    0.8864\n",
       "1.0    0.1136\n",
       "dtype: float64"
      ]
     },
     "execution_count": 63,
     "metadata": {},
     "output_type": "execute_result"
    }
   ],
   "source": [
    "class_frequency2"
   ]
  },
  {
   "cell_type": "markdown",
   "id": "d261c793",
   "metadata": {},
   "source": [
    "#### Logistic Regression"
   ]
  },
  {
   "cell_type": "code",
   "execution_count": 64,
   "id": "b6e1727f",
   "metadata": {},
   "outputs": [],
   "source": [
    "# Creating the prediction results as a series\n",
    "predicted_valid_lr = pd.Series(model_lr.predict(features_valid))"
   ]
  },
  {
   "cell_type": "code",
   "execution_count": 65,
   "id": "2658d9e8",
   "metadata": {},
   "outputs": [],
   "source": [
    "# Calculating the class frequencies of the Logistic Regression model's prediction results\n",
    "class_frequency3 = predicted_valid_lr.value_counts(normalize=True)"
   ]
  },
  {
   "cell_type": "code",
   "execution_count": 66,
   "id": "673c4845",
   "metadata": {},
   "outputs": [
    {
     "data": {
      "text/plain": [
       "0.0    0.9472\n",
       "1.0    0.0528\n",
       "dtype: float64"
      ]
     },
     "execution_count": 66,
     "metadata": {},
     "output_type": "execute_result"
    }
   ],
   "source": [
    "class_frequency3"
   ]
  },
  {
   "cell_type": "markdown",
   "id": "08e69d45",
   "metadata": {},
   "source": [
    "## Calculating Constant Prediction Results"
   ]
  },
  {
   "cell_type": "code",
   "execution_count": 67,
   "id": "502c2484",
   "metadata": {},
   "outputs": [],
   "source": [
    "target_pred_constant = pd.Series(0, index=target_valid.index)"
   ]
  },
  {
   "cell_type": "code",
   "execution_count": 68,
   "id": "8c9a0533",
   "metadata": {
    "scrolled": true
   },
   "outputs": [
    {
     "data": {
      "text/plain": [
       "0.786"
      ]
     },
     "execution_count": 68,
     "metadata": {},
     "output_type": "execute_result"
    }
   ],
   "source": [
    "accuracy_score(target_valid, target_pred_constant)"
   ]
  },
  {
   "cell_type": "markdown",
   "id": "be4e172d",
   "metadata": {},
   "source": [
    "**Conclusion:**\n",
    "A Sanity Check is performed to verify if the model you've created has an accuracy that is close to a certain benchmark or baseline. From the experiment using the above models, some conclusions that can be drawn include:\n",
    "\n",
    "**Random Forest:**\n",
    "In this model, an accuracy of **0.9** is achieved for class 0, which means the current model struggles to predict class 1 effectively. There is a need for class weight adjustment in this model. Considering the model has an overall accuracy of **85%**, the difference in the model's predictions for class 0 is only **5%**.\n",
    "\n",
    "**Decision Tree:**\n",
    "In this model, an accuracy rate of **79%** is achieved for class 0. This accuracy rate is not significantly different from the model's overall accuracy of **77%**. The appearance of class 0 in the model's predictions is also **77%**. It's possible that this model is experiencing underfitting.\n",
    "\n",
    "**Logistic Regression:**\n",
    "In this model, an accuracy rate of **93%** is achieved for class 0. This accuracy is higher than the model's overall accuracy of **79%**. This suggests that the model is only good at predicting class 0. The model's overall accuracy is not significantly different from the constant prediction accuracy of **78%**, with only a **1%** difference, indicating that the current model's performance is poor."
   ]
  },
  {
   "cell_type": "markdown",
   "id": "2746fa3f",
   "metadata": {},
   "source": [
    "# Checking The Imbalanced Class"
   ]
  },
  {
   "cell_type": "markdown",
   "id": "83b0563f",
   "metadata": {},
   "source": [
    "## Confusion Matrix"
   ]
  },
  {
   "cell_type": "markdown",
   "id": "1191d1e9",
   "metadata": {},
   "source": [
    "#### Random Forest"
   ]
  },
  {
   "cell_type": "code",
   "execution_count": 69,
   "id": "be30ce3e",
   "metadata": {},
   "outputs": [
    {
     "data": {
      "text/plain": [
       "array([[1922,   43],\n",
       "       [ 328,  207]], dtype=int64)"
      ]
     },
     "execution_count": 69,
     "metadata": {},
     "output_type": "execute_result"
    }
   ],
   "source": [
    "confusion_matrix(target_valid, predict_valid_rfc)"
   ]
  },
  {
   "cell_type": "markdown",
   "id": "d2ca44f1",
   "metadata": {},
   "source": [
    "#### Decision Tree"
   ]
  },
  {
   "cell_type": "code",
   "execution_count": 70,
   "id": "144cf638",
   "metadata": {},
   "outputs": [
    {
     "data": {
      "text/plain": [
       "array([[1900,   65],\n",
       "       [ 316,  219]], dtype=int64)"
      ]
     },
     "execution_count": 70,
     "metadata": {},
     "output_type": "execute_result"
    }
   ],
   "source": [
    "confusion_matrix(target_valid, predict_valid_dst)"
   ]
  },
  {
   "cell_type": "markdown",
   "id": "5d52198e",
   "metadata": {},
   "source": [
    "#### Logistic Regression"
   ]
  },
  {
   "cell_type": "code",
   "execution_count": 71,
   "id": "23e7c26f",
   "metadata": {
    "scrolled": true
   },
   "outputs": [
    {
     "data": {
      "text/plain": [
       "array([[1897,   68],\n",
       "       [ 471,   64]], dtype=int64)"
      ]
     },
     "execution_count": 71,
     "metadata": {},
     "output_type": "execute_result"
    }
   ],
   "source": [
    "confusion_matrix(target_valid, predict_valid_lr)"
   ]
  },
  {
   "cell_type": "markdown",
   "id": "e24e732c",
   "metadata": {},
   "source": [
    "## Recall"
   ]
  },
  {
   "cell_type": "markdown",
   "id": "95957773",
   "metadata": {},
   "source": [
    "#### Random Forest"
   ]
  },
  {
   "cell_type": "code",
   "execution_count": 72,
   "id": "36e9472e",
   "metadata": {},
   "outputs": [
    {
     "data": {
      "text/plain": [
       "0.38691588785046727"
      ]
     },
     "execution_count": 72,
     "metadata": {},
     "output_type": "execute_result"
    }
   ],
   "source": [
    "recall_score(target_valid, predict_valid_rfc)"
   ]
  },
  {
   "cell_type": "markdown",
   "id": "a10898f1",
   "metadata": {},
   "source": [
    "#### Decision Tree"
   ]
  },
  {
   "cell_type": "code",
   "execution_count": 73,
   "id": "aaab71c3",
   "metadata": {},
   "outputs": [
    {
     "data": {
      "text/plain": [
       "0.4093457943925234"
      ]
     },
     "execution_count": 73,
     "metadata": {},
     "output_type": "execute_result"
    }
   ],
   "source": [
    "recall_score(target_valid, predict_valid_dst)"
   ]
  },
  {
   "cell_type": "markdown",
   "id": "7c79c1ce",
   "metadata": {},
   "source": [
    "#### Logistic Regression"
   ]
  },
  {
   "cell_type": "code",
   "execution_count": 74,
   "id": "827a1503",
   "metadata": {
    "scrolled": true
   },
   "outputs": [
    {
     "data": {
      "text/plain": [
       "0.11962616822429907"
      ]
     },
     "execution_count": 74,
     "metadata": {},
     "output_type": "execute_result"
    }
   ],
   "source": [
    "recall_score(target_valid, predict_valid_lr)"
   ]
  },
  {
   "cell_type": "markdown",
   "id": "d07c15b7",
   "metadata": {},
   "source": [
    "## Precision"
   ]
  },
  {
   "cell_type": "markdown",
   "id": "e9d637ab",
   "metadata": {},
   "source": [
    "#### Random Forest"
   ]
  },
  {
   "cell_type": "code",
   "execution_count": 75,
   "id": "05a72bba",
   "metadata": {},
   "outputs": [
    {
     "data": {
      "text/plain": [
       "0.828"
      ]
     },
     "execution_count": 75,
     "metadata": {},
     "output_type": "execute_result"
    }
   ],
   "source": [
    "precision_score(target_valid, predict_valid_rfc)"
   ]
  },
  {
   "cell_type": "markdown",
   "id": "7c044c0c",
   "metadata": {},
   "source": [
    "#### Decision Tree"
   ]
  },
  {
   "cell_type": "code",
   "execution_count": 76,
   "id": "451b55e6",
   "metadata": {},
   "outputs": [
    {
     "data": {
      "text/plain": [
       "0.7711267605633803"
      ]
     },
     "execution_count": 76,
     "metadata": {},
     "output_type": "execute_result"
    }
   ],
   "source": [
    "precision_score(target_valid, predict_valid_dst)"
   ]
  },
  {
   "cell_type": "markdown",
   "id": "32eb6fe8",
   "metadata": {},
   "source": [
    "#### Logistic Regression"
   ]
  },
  {
   "cell_type": "code",
   "execution_count": 77,
   "id": "8f2326ca",
   "metadata": {
    "scrolled": true
   },
   "outputs": [
    {
     "data": {
      "text/plain": [
       "0.48484848484848486"
      ]
     },
     "execution_count": 77,
     "metadata": {},
     "output_type": "execute_result"
    }
   ],
   "source": [
    "precision_score(target_valid, predict_valid_lr)"
   ]
  },
  {
   "cell_type": "markdown",
   "id": "c520a557",
   "metadata": {},
   "source": [
    "## F1 Score"
   ]
  },
  {
   "cell_type": "markdown",
   "id": "fff4e09d",
   "metadata": {},
   "source": [
    "#### Random Forest"
   ]
  },
  {
   "cell_type": "code",
   "execution_count": 78,
   "id": "c3c9f9ec",
   "metadata": {},
   "outputs": [
    {
     "data": {
      "text/plain": [
       "0.527388535031847"
      ]
     },
     "execution_count": 78,
     "metadata": {},
     "output_type": "execute_result"
    }
   ],
   "source": [
    "f1_score(target_valid, predict_valid_rfc)"
   ]
  },
  {
   "cell_type": "markdown",
   "id": "b9c1fd3f",
   "metadata": {},
   "source": [
    "#### Decision Tree"
   ]
  },
  {
   "cell_type": "code",
   "execution_count": 79,
   "id": "212997d7",
   "metadata": {
    "scrolled": true
   },
   "outputs": [
    {
     "data": {
      "text/plain": [
       "0.5347985347985348"
      ]
     },
     "execution_count": 79,
     "metadata": {},
     "output_type": "execute_result"
    }
   ],
   "source": [
    "f1_score(target_valid, predict_valid_dst)"
   ]
  },
  {
   "cell_type": "markdown",
   "id": "b36a3966",
   "metadata": {},
   "source": [
    "#### Logistic Regression"
   ]
  },
  {
   "cell_type": "code",
   "execution_count": 80,
   "id": "3bf72260",
   "metadata": {},
   "outputs": [
    {
     "data": {
      "text/plain": [
       "0.19190404797601202"
      ]
     },
     "execution_count": 80,
     "metadata": {},
     "output_type": "execute_result"
    }
   ],
   "source": [
    "f1_score(target_valid, predict_valid_lr)"
   ]
  },
  {
   "cell_type": "markdown",
   "id": "a9453d50",
   "metadata": {},
   "source": [
    "From the information above, it can be concluded that:\n",
    "\n",
    "**Random Forest:**\n",
    "- The Confusion Matrix values indicate that the most frequently occurring value is True Negative. This means that the model being developed more often predicts negative values.\n",
    "- The obtained Recall value is close to 0. This implies that our model is not good at identifying True Positives. The model needs improvement.\n",
    "- In contrast to the Recall value, the Precision value obtained is close to one. This indicates that our model is good at identifying negative answers when searching for positive answers.\n",
    "- The F1 Score obtained using validation data is **0.52**, which is lower than the defined threshold.\n",
    "\n",
    "**Decision Tree:**\n",
    "- The Confusion Matrix values indicate that the most frequently occurring value is True Negative. This suggests that the trained model more often predicts negative values.\n",
    "- The obtained recall value is 0.5, which is far from 1. The precision value is also far from one, with a value of 0.77.\n",
    "- The F1 Score obtained is 0.43.\n",
    "\n",
    "**Logistic Regression:**\n",
    "- The Confusion Matrix values indicate that the most frequently occurring value is True Negative. This suggests that the trained model more often predicts negative values.\n",
    "- The obtained recall value is 0.18, and the precision value is 0.59. Both values are far from 1.\n",
    "- The F1 Score obtained is around 0.28, which is significantly below the defined threshold.\n",
    "\n",
    "**Conclusion:**\n",
    "The models' performance falls far short of the desired level, with very low precision, recall, and F1-scores. Given the high imbalance in precision and recall, these models will need significant improvements."
   ]
  },
  {
   "cell_type": "markdown",
   "id": "df292201",
   "metadata": {},
   "source": [
    "# Improving Model Quality"
   ]
  },
  {
   "cell_type": "markdown",
   "id": "806dfb4a",
   "metadata": {},
   "source": [
    "## Upsampling"
   ]
  },
  {
   "cell_type": "code",
   "execution_count": 81,
   "id": "08000789",
   "metadata": {},
   "outputs": [],
   "source": [
    "# Creating an upsampling model\n",
    "def upsample(features, target, repeat):\n",
    "    features_zeros = features[target == 0]\n",
    "    features_ones = features[target == 1]\n",
    "    target_zeros = target[target == 0]\n",
    "    target_ones = target[target == 1]\n",
    "    features_upsampled = pd.concat([features_zeros] + [features_ones] * repeat)\n",
    "    target_upsampled = pd.concat([target_zeros] + [target_ones] * repeat)\n",
    "    features_upsampled, target_upsampled = shuffle(features_upsampled, target_upsampled, random_state=12345)\n",
    "    return features_upsampled, target_upsampled"
   ]
  },
  {
   "cell_type": "markdown",
   "id": "9e3bd732",
   "metadata": {},
   "source": [
    "### Random Forest"
   ]
  },
  {
   "cell_type": "code",
   "execution_count": 82,
   "id": "38f34227",
   "metadata": {},
   "outputs": [],
   "source": [
    "features_sampled, target_sampled = upsample(features_train, target_train, 5)"
   ]
  },
  {
   "cell_type": "code",
   "execution_count": 83,
   "id": "8e944bb4",
   "metadata": {},
   "outputs": [
    {
     "data": {
      "text/plain": [
       "RandomForestClassifier(max_depth=8, n_estimators=50, random_state=12345)"
      ]
     },
     "execution_count": 83,
     "metadata": {},
     "output_type": "execute_result"
    }
   ],
   "source": [
    "model_rfc.fit(features_sampled, target_sampled)"
   ]
  },
  {
   "cell_type": "code",
   "execution_count": 84,
   "id": "5b4790f9",
   "metadata": {},
   "outputs": [],
   "source": [
    "# Testing the model using validation datasets\n",
    "new_predict_valid_rfc1 = model_rfc.predict(features_valid)"
   ]
  },
  {
   "cell_type": "code",
   "execution_count": 85,
   "id": "5c9860c9",
   "metadata": {},
   "outputs": [
    {
     "data": {
      "text/plain": [
       "0.5957446808510637"
      ]
     },
     "execution_count": 85,
     "metadata": {},
     "output_type": "execute_result"
    }
   ],
   "source": [
    "f1_score(target_valid, new_predict_valid_rfc1)"
   ]
  },
  {
   "cell_type": "markdown",
   "id": "3a7ef521",
   "metadata": {},
   "source": [
    "### Decision Tree"
   ]
  },
  {
   "cell_type": "code",
   "execution_count": 86,
   "id": "1379e374",
   "metadata": {},
   "outputs": [
    {
     "data": {
      "text/plain": [
       "DecisionTreeClassifier(max_depth=8, random_state=12345)"
      ]
     },
     "execution_count": 86,
     "metadata": {},
     "output_type": "execute_result"
    }
   ],
   "source": [
    "model_dst.fit(features_sampled, target_sampled)"
   ]
  },
  {
   "cell_type": "code",
   "execution_count": 87,
   "id": "992fc871",
   "metadata": {},
   "outputs": [],
   "source": [
    "new_predict_valid_dst1 = model_dst.predict(features_valid)"
   ]
  },
  {
   "cell_type": "code",
   "execution_count": 88,
   "id": "f039e3ea",
   "metadata": {},
   "outputs": [
    {
     "data": {
      "text/plain": [
       "0.5739385065885798"
      ]
     },
     "execution_count": 88,
     "metadata": {},
     "output_type": "execute_result"
    }
   ],
   "source": [
    "f1_score(target_valid, new_predict_valid_dst1)"
   ]
  },
  {
   "cell_type": "markdown",
   "id": "9b0a0360",
   "metadata": {},
   "source": [
    "### Logistic Regression"
   ]
  },
  {
   "cell_type": "code",
   "execution_count": 89,
   "id": "48ffa8e9",
   "metadata": {},
   "outputs": [
    {
     "data": {
      "text/plain": [
       "LogisticRegression(random_state=12345, solver='liblinear')"
      ]
     },
     "execution_count": 89,
     "metadata": {},
     "output_type": "execute_result"
    }
   ],
   "source": [
    "model_lr.fit(features_sampled, target_sampled)"
   ]
  },
  {
   "cell_type": "code",
   "execution_count": 90,
   "id": "42889c56",
   "metadata": {},
   "outputs": [],
   "source": [
    "new_predict_valid_lr1 = model_lr.predict(features_valid)"
   ]
  },
  {
   "cell_type": "code",
   "execution_count": 91,
   "id": "95caa85f",
   "metadata": {},
   "outputs": [
    {
     "data": {
      "text/plain": [
       "0.49434187016081005"
      ]
     },
     "execution_count": 91,
     "metadata": {},
     "output_type": "execute_result"
    }
   ],
   "source": [
    "f1_score(target_valid, new_predict_valid_lr1)"
   ]
  },
  {
   "cell_type": "markdown",
   "id": "559b715b",
   "metadata": {},
   "source": [
    "## Class Weight Adjustment"
   ]
  },
  {
   "cell_type": "markdown",
   "id": "c6144603",
   "metadata": {},
   "source": [
    "### Random Forest"
   ]
  },
  {
   "cell_type": "code",
   "execution_count": 92,
   "id": "9341186d",
   "metadata": {},
   "outputs": [],
   "source": [
    "# Increasing the weight on classes\n",
    "new_model_rfc = RandomForestClassifier(random_state=12345, max_depth=10, n_estimators=50, class_weight='balanced')"
   ]
  },
  {
   "cell_type": "code",
   "execution_count": 93,
   "id": "9ab5919b",
   "metadata": {},
   "outputs": [
    {
     "data": {
      "text/plain": [
       "RandomForestClassifier(class_weight='balanced', max_depth=10, n_estimators=50,\n",
       "                       random_state=12345)"
      ]
     },
     "execution_count": 93,
     "metadata": {},
     "output_type": "execute_result"
    }
   ],
   "source": [
    "new_model_rfc.fit(features_train, target_train)"
   ]
  },
  {
   "cell_type": "code",
   "execution_count": 94,
   "id": "6fe427bb",
   "metadata": {},
   "outputs": [],
   "source": [
    "# Testing the model using validation datasets\n",
    "new_predict_valid_rfc = new_model_rfc.predict(features_valid)"
   ]
  },
  {
   "cell_type": "code",
   "execution_count": 95,
   "id": "6503f437",
   "metadata": {
    "scrolled": true
   },
   "outputs": [
    {
     "data": {
      "text/plain": [
       "0.6073102155576383"
      ]
     },
     "execution_count": 95,
     "metadata": {},
     "output_type": "execute_result"
    }
   ],
   "source": [
    "f1_score(target_valid, new_predict_valid_rfc)"
   ]
  },
  {
   "cell_type": "markdown",
   "id": "30d4481f",
   "metadata": {},
   "source": [
    "### Decision Tree"
   ]
  },
  {
   "cell_type": "code",
   "execution_count": 96,
   "id": "0e880d66",
   "metadata": {},
   "outputs": [],
   "source": [
    "new_model_dst = DecisionTreeClassifier(random_state=12345, max_depth=6, class_weight='balanced')"
   ]
  },
  {
   "cell_type": "code",
   "execution_count": 97,
   "id": "eb65d0aa",
   "metadata": {},
   "outputs": [
    {
     "data": {
      "text/plain": [
       "DecisionTreeClassifier(class_weight='balanced', max_depth=6, random_state=12345)"
      ]
     },
     "execution_count": 97,
     "metadata": {},
     "output_type": "execute_result"
    }
   ],
   "source": [
    "new_model_dst.fit(features_train, target_train)"
   ]
  },
  {
   "cell_type": "code",
   "execution_count": 98,
   "id": "972e988c",
   "metadata": {},
   "outputs": [],
   "source": [
    "new_predict_valid_dst = new_model_dst.predict(features_valid)"
   ]
  },
  {
   "cell_type": "code",
   "execution_count": 99,
   "id": "0f0bc5a6",
   "metadata": {},
   "outputs": [
    {
     "data": {
      "text/plain": [
       "0.5841584158415841"
      ]
     },
     "execution_count": 99,
     "metadata": {},
     "output_type": "execute_result"
    }
   ],
   "source": [
    "f1_score(target_valid, new_predict_valid_dst)"
   ]
  },
  {
   "cell_type": "markdown",
   "id": "c6fe3550",
   "metadata": {},
   "source": [
    "### Logistic Regression"
   ]
  },
  {
   "cell_type": "code",
   "execution_count": 100,
   "id": "93583873",
   "metadata": {},
   "outputs": [],
   "source": [
    "new_model_lr = LogisticRegression(random_state=12345, solver='liblinear', class_weight='balanced')"
   ]
  },
  {
   "cell_type": "code",
   "execution_count": 101,
   "id": "fd8592fd",
   "metadata": {},
   "outputs": [
    {
     "data": {
      "text/plain": [
       "LogisticRegression(class_weight='balanced', random_state=12345,\n",
       "                   solver='liblinear')"
      ]
     },
     "execution_count": 101,
     "metadata": {},
     "output_type": "execute_result"
    }
   ],
   "source": [
    "new_model_lr.fit(features_train, target_train)"
   ]
  },
  {
   "cell_type": "code",
   "execution_count": 102,
   "id": "fb7615d5",
   "metadata": {},
   "outputs": [],
   "source": [
    "new_predict_valid_lr = new_model_lr.predict(features_valid)"
   ]
  },
  {
   "cell_type": "code",
   "execution_count": 103,
   "id": "27a7a2ae",
   "metadata": {},
   "outputs": [
    {
     "data": {
      "text/plain": [
       "0.49136786188579024"
      ]
     },
     "execution_count": 103,
     "metadata": {},
     "output_type": "execute_result"
    }
   ],
   "source": [
    "f1_score(target_valid, new_predict_valid_lr)"
   ]
  },
  {
   "cell_type": "markdown",
   "id": "c9f93959",
   "metadata": {},
   "source": [
    "**Conclusion:**\n",
    "\n",
    "- Based on the information above, it can be seen that the model has improved. Here, we have added the upsample method and class weight adjustment method. Upsampling is chosen to help the model better recognize positive values since the confusion matrix results indicate that the model is more familiar with negative class than the positive class.\n",
    "- Class weight adjustment is performed to give more weight to the rarely occurring class compared to the frequently occurring class.\n",
    "\n",
    "The results of the two methods are as follows:\n",
    "\n",
    "- Random Forest is able to reach the predefined threshold. Using upsampling, the model achieves an F1 Score of **59%**, and with class weight adjustment, it reaches an F1 Score of **60%**.\n",
    "\n",
    "- Decision Tree cannot reach the predefined threshold. Despite the difference being only 1-2%, it's still not sufficient. For the upsampling method, this model obtains an F1 Score of **57%**, and for class weight adjustment, it achieves an F1 Score of **58%**.\n",
    "\n",
    "- Logistic Regression is unable to reach the predefined threshold. Even though two different methods were used, the F1 Score obtained is quite far from the target. For the upsampling method, the F1 Score obtained is **47%**, and with class weight adjustment, it reaches an F1 Score of **49%**."
   ]
  },
  {
   "cell_type": "markdown",
   "id": "bda24ea9",
   "metadata": {},
   "source": [
    "## ROC Curve and AUC-ROC Value"
   ]
  },
  {
   "cell_type": "markdown",
   "id": "92d13151",
   "metadata": {},
   "source": [
    "## Random Forest"
   ]
  },
  {
   "cell_type": "code",
   "execution_count": 104,
   "id": "372fab22",
   "metadata": {},
   "outputs": [],
   "source": [
    "# Threshold Adjustment\n",
    "probabilities_valid_rfc = new_model_rfc.predict_proba(features_valid)"
   ]
  },
  {
   "cell_type": "code",
   "execution_count": 105,
   "id": "179b7744",
   "metadata": {},
   "outputs": [],
   "source": [
    "probabilities_one_valid_rfc = probabilities_valid_rfc[:, 1]"
   ]
  },
  {
   "cell_type": "code",
   "execution_count": 106,
   "id": "f6f04011",
   "metadata": {},
   "outputs": [
    {
     "data": {
      "text/plain": [
       "array([0.49656804, 0.25800135, 0.08638598, 0.38647168, 0.03858509,\n",
       "       0.06359534, 0.07449224, 0.26810747, 0.11806798, 0.88512467])"
      ]
     },
     "execution_count": 106,
     "metadata": {},
     "output_type": "execute_result"
    }
   ],
   "source": [
    "probabilities_one_valid_rfc[:10]"
   ]
  },
  {
   "cell_type": "code",
   "execution_count": 107,
   "id": "e2195ea7",
   "metadata": {},
   "outputs": [],
   "source": [
    "fpr_rfc, tpr_rfc, thresholds_rfc = roc_curve(target_valid, probabilities_one_valid_rfc)"
   ]
  },
  {
   "cell_type": "code",
   "execution_count": 108,
   "id": "3d691cb1",
   "metadata": {},
   "outputs": [
    {
     "data": {
      "image/png": "[encoded data removed]",
      "text/plain": [
       "<Figure size 640x480 with 1 Axes>"
      ]
     },
     "metadata": {},
     "output_type": "display_data"
    }
   ],
   "source": [
    "# Creating the ROC Curve\n",
    "plt.figure()\n",
    "plt.plot(fpr_rfc, tpr_rfc)\n",
    "plt.plot([0, 1], [0, 1], linestyle='--')\n",
    "plt.xlim([0.0, 1.0])\n",
    "plt.ylim([0.0, 1.0])\n",
    "plt.xlabel('False Positive Rate')\n",
    "plt.ylabel('True Positive Rate')\n",
    "plt.title('Kurva ROC')\n",
    "plt.show()"
   ]
  },
  {
   "cell_type": "code",
   "execution_count": 109,
   "id": "0086e6d1",
   "metadata": {},
   "outputs": [],
   "source": [
    "# AUC-ROC Score\n",
    "auc_roc_rfc = roc_auc_score(target_valid, probabilities_one_valid_rfc)"
   ]
  },
  {
   "cell_type": "code",
   "execution_count": 110,
   "id": "c441fcfd",
   "metadata": {},
   "outputs": [
    {
     "data": {
      "text/plain": [
       "0.8570459679912487"
      ]
     },
     "execution_count": 110,
     "metadata": {},
     "output_type": "execute_result"
    }
   ],
   "source": [
    "auc_roc_rfc"
   ]
  },
  {
   "cell_type": "markdown",
   "id": "2a15dac1",
   "metadata": {},
   "source": [
    "## Decision Tree"
   ]
  },
  {
   "cell_type": "code",
   "execution_count": 111,
   "id": "a238f320",
   "metadata": {},
   "outputs": [],
   "source": [
    "probabilities_valid_dst = new_model_dst.predict_proba(features_valid)"
   ]
  },
  {
   "cell_type": "code",
   "execution_count": 112,
   "id": "5e1b743f",
   "metadata": {},
   "outputs": [],
   "source": [
    "probabilities_one_valid_dst = probabilities_valid_dst[:, 1]"
   ]
  },
  {
   "cell_type": "code",
   "execution_count": 113,
   "id": "d4eb2dee",
   "metadata": {},
   "outputs": [],
   "source": [
    "fpr_dst, tpr_dst, thresholds_dst = roc_curve(target_valid, probabilities_one_valid_dst)"
   ]
  },
  {
   "cell_type": "code",
   "execution_count": 114,
   "id": "9a2db089",
   "metadata": {},
   "outputs": [
    {
     "data": {
      "image/png": "[encoded data removed]",
      "text/plain": [
       "<Figure size 640x480 with 1 Axes>"
      ]
     },
     "metadata": {},
     "output_type": "display_data"
    }
   ],
   "source": [
    "plt.figure()\n",
    "plt.plot(fpr_dst, tpr_dst)\n",
    "plt.plot([0, 1], [0, 1], linestyle='--')\n",
    "plt.xlim([0.0, 1.0])\n",
    "plt.ylim([0.0, 1.0])\n",
    "plt.xlabel('False Positive Rate')\n",
    "plt.ylabel('True Positive Rate')\n",
    "plt.title('Kurva ROC')\n",
    "plt.show()"
   ]
  },
  {
   "cell_type": "code",
   "execution_count": 115,
   "id": "625c438e",
   "metadata": {},
   "outputs": [],
   "source": [
    "auc_roc_dst = roc_auc_score(target_valid, probabilities_one_valid_dst)"
   ]
  },
  {
   "cell_type": "code",
   "execution_count": 116,
   "id": "b383d395",
   "metadata": {},
   "outputs": [
    {
     "data": {
      "text/plain": [
       "0.8343701695560153"
      ]
     },
     "execution_count": 116,
     "metadata": {},
     "output_type": "execute_result"
    }
   ],
   "source": [
    "auc_roc_dst"
   ]
  },
  {
   "cell_type": "markdown",
   "id": "0de2497f",
   "metadata": {},
   "source": [
    "## Logistic Regression"
   ]
  },
  {
   "cell_type": "code",
   "execution_count": 117,
   "id": "5d5433c8",
   "metadata": {},
   "outputs": [],
   "source": [
    "probabilities_valid_lr = new_model_lr.predict_proba(features_valid)"
   ]
  },
  {
   "cell_type": "code",
   "execution_count": 118,
   "id": "06e49d06",
   "metadata": {},
   "outputs": [],
   "source": [
    "probabilities_one_valid_lr = probabilities_valid_lr[:, 1]"
   ]
  },
  {
   "cell_type": "code",
   "execution_count": 119,
   "id": "24d547fc",
   "metadata": {},
   "outputs": [],
   "source": [
    "fpr_lr, tpr_lr, thresholds_lr = roc_curve(target_valid, probabilities_one_valid_lr)"
   ]
  },
  {
   "cell_type": "code",
   "execution_count": 120,
   "id": "fa59fe46",
   "metadata": {},
   "outputs": [
    {
     "data": {
      "image/png": "[encoded data removed]",
      "text/plain": [
       "<Figure size 640x480 with 1 Axes>"
      ]
     },
     "metadata": {},
     "output_type": "display_data"
    }
   ],
   "source": [
    "plt.figure()\n",
    "plt.plot(fpr_lr, tpr_lr)\n",
    "plt.plot([0, 1], [0, 1], linestyle='--')\n",
    "plt.xlim([0.0, 1.0])\n",
    "plt.ylim([0.0, 1.0])\n",
    "plt.xlabel('False Positive Rate')\n",
    "plt.ylabel('True Positive Rate')\n",
    "plt.title('Kurva ROC')\n",
    "plt.show()"
   ]
  },
  {
   "cell_type": "code",
   "execution_count": 121,
   "id": "16056cf2",
   "metadata": {},
   "outputs": [],
   "source": [
    "auc_roc_lr = roc_auc_score(target_valid, probabilities_one_valid_lr)"
   ]
  },
  {
   "cell_type": "code",
   "execution_count": 122,
   "id": "8c02c542",
   "metadata": {},
   "outputs": [
    {
     "data": {
      "text/plain": [
       "0.7509395733751872"
      ]
     },
     "execution_count": 122,
     "metadata": {},
     "output_type": "execute_result"
    }
   ],
   "source": [
    "auc_roc_lr"
   ]
  },
  {
   "cell_type": "markdown",
   "id": "262f3917",
   "metadata": {},
   "source": [
    "**Conclusion:**\n",
    "- Based on the created curves, the model with the best performance is the Random Forest Classifier.\n",
    "- The model with the lowest performance is Logistic Regression.\n",
    "- The AUC-ROC values for the models are as follows: Random Forest is **85%**, Decision Tree is **83%**, and Logistic Regression is **75%**.\n",
    "- Overall, it can be observed that the Decision Tree model performs the best."
   ]
  },
  {
   "cell_type": "markdown",
   "id": "6eb93a59",
   "metadata": {},
   "source": [
    "# Conclusion"
   ]
  },
  {
   "cell_type": "markdown",
   "id": "f5c37845",
   "metadata": {},
   "source": [
    "Before creating the model, we need to perform preprocessing first:\n",
    "\n",
    "- Renaming columns.\n",
    "- Handling missing values in the `tenure` column.\n",
    "\n",
    "Model Development:\n",
    "- Since the features are in string format, encoding techniques need to be applied.\n",
    "- Next is to split the data into features and target. Because our target is identifying customers who have exited, our target column is `exited`.\n",
    "- After the features are transformed, the next step is feature scaling to standardize the features.\n",
    "\n",
    "Model Training:\n",
    "Random Forest:\n",
    "- Had an accuracy rate of 85% before adjusting its weights.\n",
    "- The F1 Score value before weight adjustment was 52%. After weight adjustment, it increased to 59% using upsampling and 60% using class weight adjustment.\n",
    "- The AUC-ROC value is 85%, which, although not perfect, is a decent result for prediction.\n",
    "\n",
    "Decision Tree:\n",
    "- Achieved an accuracy rate of 84%.\n",
    "- The obtained F1 Score is 53%, which is still far from the predefined threshold. After using upsampling, the F1 Score increased to 57%, and it reached 58% after using class weight adjustment.\n",
    "- The AUC-ROC value is 84%, which is only 1% different from Random Forest. This indicates that this model can still be used.\n",
    "\n",
    "Logistic Regression:\n",
    "- Achieved an accuracy rate of 78%.\n",
    "- The obtained F1 Score is 19%, which is very low.\n",
    "- The AUC-ROC value obtained is 75%. Compared to the values of the other models, it seems like this model may not be suitable for the task.\n",
    "\n",
    "**Conclusion:** Based on the above discussion, the Random Forest model performs the best in predicting whether customers will exit or not. This model produces a significant number of True Negatives (0), indicating that many customers are likely to stay. This is influenced by the number of products used and the activity level of the customers at the bank."
   ]
  }
 ],
 "metadata": {
  "kernelspec": {
   "display_name": "Python 3 (ipykernel)",
   "language": "python",
   "name": "python3"
  },
  "language_info": {
   "codemirror_mode": {
    "name": "ipython",
    "version": 3
   },
   "file_extension": ".py",
   "mimetype": "text/x-python",
   "name": "python",
   "nbconvert_exporter": "python",
   "pygments_lexer": "ipython3",
   "version": "3.9.13"
  },
  "toc": {
   "base_numbering": 1,
   "nav_menu": {},
   "number_sections": true,
   "sideBar": true,
   "skip_h1_title": true,
   "title_cell": "Table of Contents",
   "title_sidebar": "Contents",
   "toc_cell": false,
   "toc_position": {},
   "toc_section_display": true,
   "toc_window_display": false
  }
 },
 "nbformat": 4,
 "nbformat_minor": 5
}
