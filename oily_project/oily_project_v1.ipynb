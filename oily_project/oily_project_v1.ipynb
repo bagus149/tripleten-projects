{
 "cells": [
  {
   "cell_type": "markdown",
   "id": "1e51750e",
   "metadata": {},
   "source": [
    "# Content\n",
    "* [Project Description]\n",
    "* [Step 1 Import Module]\n",
    "* [Step 2 Import Datasets]\n",
    "* [Step 3 Checking Datasets]\n",
    "* [Step 4 Training and Testing Model]\n",
    "    * [Step 4.1 Standard Scaler Function]\n",
    "    * [Step 4.2 Region 1]\n",
    "    * [Step 4.3 Region 2]\n",
    "    * [Step 4.4 Region 3]\n",
    "    * [Step 4.5 Analysis Result]\n",
    "* [Step 5 Preparing for Calculating Profit]\n",
    "* [Step 6 Calculating Profit]\n",
    "* [Step 7 Calculating Risk and Profit for Every Regions]"
   ]
  },
  {
   "cell_type": "markdown",
   "id": "1d76cf50",
   "metadata": {},
   "source": [
    "# Project Description\n",
    "In this project, we are tasked with finding a suitable location for drilling a new oil well. The steps to select a new location are as follows:\n",
    "- Gather parameters for drilling oil wells in several selected regions: oil quality and oil reserve volume.\n",
    "- Create a model capable of predicting the oil reserve volume in a new well.\n",
    "- Choose the oil well with the highest estimated value.\n",
    "- Select the region with the highest total profit for the selected oil well.\n",
    "\n",
    "The data used is oil data from three regions. From this data, a model will be created to assist in the selection of a region."
   ]
  },
  {
   "cell_type": "markdown",
   "id": "e265c4af",
   "metadata": {},
   "source": [
    "# Import Module"
   ]
  },
  {
   "cell_type": "code",
   "execution_count": 1,
   "id": "b36b7057",
   "metadata": {},
   "outputs": [],
   "source": [
    "import pandas as pd\n",
    "import numpy as np\n",
    "import matplotlib.pyplot as plt\n",
    "from sklearn.model_selection import train_test_split\n",
    "from sklearn.linear_model import LinearRegression\n",
    "from sklearn.metrics import mean_squared_error\n",
    "from sklearn.preprocessing import StandardScaler"
   ]
  },
  {
   "cell_type": "markdown",
   "id": "f774d7ee",
   "metadata": {},
   "source": [
    "# Import Datasets"
   ]
  },
  {
   "cell_type": "code",
   "execution_count": 2,
   "id": "8ec022b2",
   "metadata": {},
   "outputs": [],
   "source": [
    "try:\n",
    "    df1 = pd.read_csv('D:\\datasets\\projek_9\\geo_data_0.csv')\n",
    "    df2 = pd.read_csv('D:\\datasets\\projek_9\\geo_data_1.csv')\n",
    "    df3 = pd.read_csv('D:\\datasets\\projek_9\\geo_data_2.csv')\n",
    "except:\n",
    "    df1 = pd.read_csv('/datasets/geo_data_0.csv')\n",
    "    df2 = pd.read_csv('/datasets/geo_data_1.csv')\n",
    "    df3 = pd.read_csv('/datasets/geo_data_2.csv')"
   ]
  },
  {
   "cell_type": "code",
   "execution_count": 3,
   "id": "19387b51",
   "metadata": {},
   "outputs": [
    {
     "data": {
      "text/html": [
       "<div>\n",
       "<style scoped>\n",
       "    .dataframe tbody tr th:only-of-type {\n",
       "        vertical-align: middle;\n",
       "    }\n",
       "\n",
       "    .dataframe tbody tr th {\n",
       "        vertical-align: top;\n",
       "    }\n",
       "\n",
       "    .dataframe thead th {\n",
       "        text-align: right;\n",
       "    }\n",
       "</style>\n",
       "<table border=\"1\" class=\"dataframe\">\n",
       "  <thead>\n",
       "    <tr style=\"text-align: right;\">\n",
       "      <th></th>\n",
       "      <th>id</th>\n",
       "      <th>f0</th>\n",
       "      <th>f1</th>\n",
       "      <th>f2</th>\n",
       "      <th>product</th>\n",
       "    </tr>\n",
       "  </thead>\n",
       "  <tbody>\n",
       "    <tr>\n",
       "      <th>0</th>\n",
       "      <td>txEyH</td>\n",
       "      <td>0.705745</td>\n",
       "      <td>-0.497823</td>\n",
       "      <td>1.221170</td>\n",
       "      <td>105.280062</td>\n",
       "    </tr>\n",
       "    <tr>\n",
       "      <th>1</th>\n",
       "      <td>2acmU</td>\n",
       "      <td>1.334711</td>\n",
       "      <td>-0.340164</td>\n",
       "      <td>4.365080</td>\n",
       "      <td>73.037750</td>\n",
       "    </tr>\n",
       "    <tr>\n",
       "      <th>2</th>\n",
       "      <td>409Wp</td>\n",
       "      <td>1.022732</td>\n",
       "      <td>0.151990</td>\n",
       "      <td>1.419926</td>\n",
       "      <td>85.265647</td>\n",
       "    </tr>\n",
       "    <tr>\n",
       "      <th>3</th>\n",
       "      <td>iJLyR</td>\n",
       "      <td>-0.032172</td>\n",
       "      <td>0.139033</td>\n",
       "      <td>2.978566</td>\n",
       "      <td>168.620776</td>\n",
       "    </tr>\n",
       "    <tr>\n",
       "      <th>4</th>\n",
       "      <td>Xdl7t</td>\n",
       "      <td>1.988431</td>\n",
       "      <td>0.155413</td>\n",
       "      <td>4.751769</td>\n",
       "      <td>154.036647</td>\n",
       "    </tr>\n",
       "  </tbody>\n",
       "</table>\n",
       "</div>"
      ],
      "text/plain": [
       "      id        f0        f1        f2     product\n",
       "0  txEyH  0.705745 -0.497823  1.221170  105.280062\n",
       "1  2acmU  1.334711 -0.340164  4.365080   73.037750\n",
       "2  409Wp  1.022732  0.151990  1.419926   85.265647\n",
       "3  iJLyR -0.032172  0.139033  2.978566  168.620776\n",
       "4  Xdl7t  1.988431  0.155413  4.751769  154.036647"
      ]
     },
     "execution_count": 3,
     "metadata": {},
     "output_type": "execute_result"
    }
   ],
   "source": [
    "df1.head()"
   ]
  },
  {
   "cell_type": "code",
   "execution_count": 4,
   "id": "40011f3d",
   "metadata": {},
   "outputs": [
    {
     "data": {
      "text/html": [
       "<div>\n",
       "<style scoped>\n",
       "    .dataframe tbody tr th:only-of-type {\n",
       "        vertical-align: middle;\n",
       "    }\n",
       "\n",
       "    .dataframe tbody tr th {\n",
       "        vertical-align: top;\n",
       "    }\n",
       "\n",
       "    .dataframe thead th {\n",
       "        text-align: right;\n",
       "    }\n",
       "</style>\n",
       "<table border=\"1\" class=\"dataframe\">\n",
       "  <thead>\n",
       "    <tr style=\"text-align: right;\">\n",
       "      <th></th>\n",
       "      <th>id</th>\n",
       "      <th>f0</th>\n",
       "      <th>f1</th>\n",
       "      <th>f2</th>\n",
       "      <th>product</th>\n",
       "    </tr>\n",
       "  </thead>\n",
       "  <tbody>\n",
       "    <tr>\n",
       "      <th>0</th>\n",
       "      <td>kBEdx</td>\n",
       "      <td>-15.001348</td>\n",
       "      <td>-8.276000</td>\n",
       "      <td>-0.005876</td>\n",
       "      <td>3.179103</td>\n",
       "    </tr>\n",
       "    <tr>\n",
       "      <th>1</th>\n",
       "      <td>62mP7</td>\n",
       "      <td>14.272088</td>\n",
       "      <td>-3.475083</td>\n",
       "      <td>0.999183</td>\n",
       "      <td>26.953261</td>\n",
       "    </tr>\n",
       "    <tr>\n",
       "      <th>2</th>\n",
       "      <td>vyE1P</td>\n",
       "      <td>6.263187</td>\n",
       "      <td>-5.948386</td>\n",
       "      <td>5.001160</td>\n",
       "      <td>134.766305</td>\n",
       "    </tr>\n",
       "    <tr>\n",
       "      <th>3</th>\n",
       "      <td>KcrkZ</td>\n",
       "      <td>-13.081196</td>\n",
       "      <td>-11.506057</td>\n",
       "      <td>4.999415</td>\n",
       "      <td>137.945408</td>\n",
       "    </tr>\n",
       "    <tr>\n",
       "      <th>4</th>\n",
       "      <td>AHL4O</td>\n",
       "      <td>12.702195</td>\n",
       "      <td>-8.147433</td>\n",
       "      <td>5.004363</td>\n",
       "      <td>134.766305</td>\n",
       "    </tr>\n",
       "  </tbody>\n",
       "</table>\n",
       "</div>"
      ],
      "text/plain": [
       "      id         f0         f1        f2     product\n",
       "0  kBEdx -15.001348  -8.276000 -0.005876    3.179103\n",
       "1  62mP7  14.272088  -3.475083  0.999183   26.953261\n",
       "2  vyE1P   6.263187  -5.948386  5.001160  134.766305\n",
       "3  KcrkZ -13.081196 -11.506057  4.999415  137.945408\n",
       "4  AHL4O  12.702195  -8.147433  5.004363  134.766305"
      ]
     },
     "execution_count": 4,
     "metadata": {},
     "output_type": "execute_result"
    }
   ],
   "source": [
    "df2.head()"
   ]
  },
  {
   "cell_type": "code",
   "execution_count": 5,
   "id": "e121f97d",
   "metadata": {},
   "outputs": [
    {
     "data": {
      "text/html": [
       "<div>\n",
       "<style scoped>\n",
       "    .dataframe tbody tr th:only-of-type {\n",
       "        vertical-align: middle;\n",
       "    }\n",
       "\n",
       "    .dataframe tbody tr th {\n",
       "        vertical-align: top;\n",
       "    }\n",
       "\n",
       "    .dataframe thead th {\n",
       "        text-align: right;\n",
       "    }\n",
       "</style>\n",
       "<table border=\"1\" class=\"dataframe\">\n",
       "  <thead>\n",
       "    <tr style=\"text-align: right;\">\n",
       "      <th></th>\n",
       "      <th>id</th>\n",
       "      <th>f0</th>\n",
       "      <th>f1</th>\n",
       "      <th>f2</th>\n",
       "      <th>product</th>\n",
       "    </tr>\n",
       "  </thead>\n",
       "  <tbody>\n",
       "    <tr>\n",
       "      <th>0</th>\n",
       "      <td>fwXo0</td>\n",
       "      <td>-1.146987</td>\n",
       "      <td>0.963328</td>\n",
       "      <td>-0.828965</td>\n",
       "      <td>27.758673</td>\n",
       "    </tr>\n",
       "    <tr>\n",
       "      <th>1</th>\n",
       "      <td>WJtFt</td>\n",
       "      <td>0.262778</td>\n",
       "      <td>0.269839</td>\n",
       "      <td>-2.530187</td>\n",
       "      <td>56.069697</td>\n",
       "    </tr>\n",
       "    <tr>\n",
       "      <th>2</th>\n",
       "      <td>ovLUW</td>\n",
       "      <td>0.194587</td>\n",
       "      <td>0.289035</td>\n",
       "      <td>-5.586433</td>\n",
       "      <td>62.871910</td>\n",
       "    </tr>\n",
       "    <tr>\n",
       "      <th>3</th>\n",
       "      <td>q6cA6</td>\n",
       "      <td>2.236060</td>\n",
       "      <td>-0.553760</td>\n",
       "      <td>0.930038</td>\n",
       "      <td>114.572842</td>\n",
       "    </tr>\n",
       "    <tr>\n",
       "      <th>4</th>\n",
       "      <td>WPMUX</td>\n",
       "      <td>-0.515993</td>\n",
       "      <td>1.716266</td>\n",
       "      <td>5.899011</td>\n",
       "      <td>149.600746</td>\n",
       "    </tr>\n",
       "  </tbody>\n",
       "</table>\n",
       "</div>"
      ],
      "text/plain": [
       "      id        f0        f1        f2     product\n",
       "0  fwXo0 -1.146987  0.963328 -0.828965   27.758673\n",
       "1  WJtFt  0.262778  0.269839 -2.530187   56.069697\n",
       "2  ovLUW  0.194587  0.289035 -5.586433   62.871910\n",
       "3  q6cA6  2.236060 -0.553760  0.930038  114.572842\n",
       "4  WPMUX -0.515993  1.716266  5.899011  149.600746"
      ]
     },
     "execution_count": 5,
     "metadata": {},
     "output_type": "execute_result"
    }
   ],
   "source": [
    "df3.head()"
   ]
  },
  {
   "cell_type": "markdown",
   "id": "c6506c69",
   "metadata": {},
   "source": [
    "Based on the information provided, the data consists of four columns, namely:\n",
    "- `id`: Unique ID for the oil well\n",
    "- `f0`, `f1`, and `f2`: Three feature points (the specific meaning is not important, but the features themselves are significant)\n",
    "- `product`: Oil reserve volume in the well (in thousands of barrels)."
   ]
  },
  {
   "cell_type": "markdown",
   "id": "3edb0f8c",
   "metadata": {},
   "source": [
    "# Checking Dataset"
   ]
  },
  {
   "cell_type": "code",
   "execution_count": 6,
   "id": "cb4b4501",
   "metadata": {},
   "outputs": [
    {
     "name": "stdout",
     "output_type": "stream",
     "text": [
      "<class 'pandas.core.frame.DataFrame'>\n",
      "RangeIndex: 100000 entries, 0 to 99999\n",
      "Data columns (total 5 columns):\n",
      " #   Column   Non-Null Count   Dtype  \n",
      "---  ------   --------------   -----  \n",
      " 0   id       100000 non-null  object \n",
      " 1   f0       100000 non-null  float64\n",
      " 2   f1       100000 non-null  float64\n",
      " 3   f2       100000 non-null  float64\n",
      " 4   product  100000 non-null  float64\n",
      "dtypes: float64(4), object(1)\n",
      "memory usage: 3.8+ MB\n"
     ]
    }
   ],
   "source": [
    "df1.info()"
   ]
  },
  {
   "cell_type": "code",
   "execution_count": 7,
   "id": "89a899b9",
   "metadata": {},
   "outputs": [
    {
     "data": {
      "text/plain": [
       "0"
      ]
     },
     "execution_count": 7,
     "metadata": {},
     "output_type": "execute_result"
    }
   ],
   "source": [
    "df1.duplicated().sum()"
   ]
  },
  {
   "cell_type": "code",
   "execution_count": 8,
   "id": "23c1fb45",
   "metadata": {},
   "outputs": [
    {
     "name": "stdout",
     "output_type": "stream",
     "text": [
      "<class 'pandas.core.frame.DataFrame'>\n",
      "RangeIndex: 100000 entries, 0 to 99999\n",
      "Data columns (total 5 columns):\n",
      " #   Column   Non-Null Count   Dtype  \n",
      "---  ------   --------------   -----  \n",
      " 0   id       100000 non-null  object \n",
      " 1   f0       100000 non-null  float64\n",
      " 2   f1       100000 non-null  float64\n",
      " 3   f2       100000 non-null  float64\n",
      " 4   product  100000 non-null  float64\n",
      "dtypes: float64(4), object(1)\n",
      "memory usage: 3.8+ MB\n"
     ]
    }
   ],
   "source": [
    "df2.info()"
   ]
  },
  {
   "cell_type": "code",
   "execution_count": 9,
   "id": "8b9aba66",
   "metadata": {},
   "outputs": [
    {
     "data": {
      "text/plain": [
       "0"
      ]
     },
     "execution_count": 9,
     "metadata": {},
     "output_type": "execute_result"
    }
   ],
   "source": [
    "df2.duplicated().sum()"
   ]
  },
  {
   "cell_type": "code",
   "execution_count": 10,
   "id": "4dea64a3",
   "metadata": {},
   "outputs": [
    {
     "name": "stdout",
     "output_type": "stream",
     "text": [
      "<class 'pandas.core.frame.DataFrame'>\n",
      "RangeIndex: 100000 entries, 0 to 99999\n",
      "Data columns (total 5 columns):\n",
      " #   Column   Non-Null Count   Dtype  \n",
      "---  ------   --------------   -----  \n",
      " 0   id       100000 non-null  object \n",
      " 1   f0       100000 non-null  float64\n",
      " 2   f1       100000 non-null  float64\n",
      " 3   f2       100000 non-null  float64\n",
      " 4   product  100000 non-null  float64\n",
      "dtypes: float64(4), object(1)\n",
      "memory usage: 3.8+ MB\n"
     ]
    }
   ],
   "source": [
    "df3.info()"
   ]
  },
  {
   "cell_type": "code",
   "execution_count": 11,
   "id": "1d7b239d",
   "metadata": {},
   "outputs": [
    {
     "data": {
      "text/plain": [
       "0"
      ]
     },
     "execution_count": 11,
     "metadata": {},
     "output_type": "execute_result"
    }
   ],
   "source": [
    "df3.duplicated().sum()"
   ]
  },
  {
   "cell_type": "markdown",
   "id": "c44453b2",
   "metadata": {},
   "source": [
    "**Based on the information provided:**\n",
    "- There are no missing values in any column in each dataset. They all have the same number of rows, which is **10,000**.\n",
    "- For the data types, each column has the appropriate data type.\n",
    "- There are no missing values for each dataset. Therefore, we can proceed with further analysis of this data."
   ]
  },
  {
   "cell_type": "code",
   "execution_count": 12,
   "id": "bffd82e3",
   "metadata": {},
   "outputs": [
    {
     "data": {
      "text/html": [
       "<div>\n",
       "<style scoped>\n",
       "    .dataframe tbody tr th:only-of-type {\n",
       "        vertical-align: middle;\n",
       "    }\n",
       "\n",
       "    .dataframe tbody tr th {\n",
       "        vertical-align: top;\n",
       "    }\n",
       "\n",
       "    .dataframe thead th {\n",
       "        text-align: right;\n",
       "    }\n",
       "</style>\n",
       "<table border=\"1\" class=\"dataframe\">\n",
       "  <thead>\n",
       "    <tr style=\"text-align: right;\">\n",
       "      <th></th>\n",
       "      <th>f0</th>\n",
       "      <th>f1</th>\n",
       "      <th>f2</th>\n",
       "      <th>product</th>\n",
       "    </tr>\n",
       "  </thead>\n",
       "  <tbody>\n",
       "    <tr>\n",
       "      <th>count</th>\n",
       "      <td>100000.000000</td>\n",
       "      <td>100000.000000</td>\n",
       "      <td>100000.000000</td>\n",
       "      <td>100000.000000</td>\n",
       "    </tr>\n",
       "    <tr>\n",
       "      <th>mean</th>\n",
       "      <td>0.500419</td>\n",
       "      <td>0.250143</td>\n",
       "      <td>2.502647</td>\n",
       "      <td>92.500000</td>\n",
       "    </tr>\n",
       "    <tr>\n",
       "      <th>std</th>\n",
       "      <td>0.871832</td>\n",
       "      <td>0.504433</td>\n",
       "      <td>3.248248</td>\n",
       "      <td>44.288691</td>\n",
       "    </tr>\n",
       "    <tr>\n",
       "      <th>min</th>\n",
       "      <td>-1.408605</td>\n",
       "      <td>-0.848218</td>\n",
       "      <td>-12.088328</td>\n",
       "      <td>0.000000</td>\n",
       "    </tr>\n",
       "    <tr>\n",
       "      <th>25%</th>\n",
       "      <td>-0.072580</td>\n",
       "      <td>-0.200881</td>\n",
       "      <td>0.287748</td>\n",
       "      <td>56.497507</td>\n",
       "    </tr>\n",
       "    <tr>\n",
       "      <th>50%</th>\n",
       "      <td>0.502360</td>\n",
       "      <td>0.250252</td>\n",
       "      <td>2.515969</td>\n",
       "      <td>91.849972</td>\n",
       "    </tr>\n",
       "    <tr>\n",
       "      <th>75%</th>\n",
       "      <td>1.073581</td>\n",
       "      <td>0.700646</td>\n",
       "      <td>4.715088</td>\n",
       "      <td>128.564089</td>\n",
       "    </tr>\n",
       "    <tr>\n",
       "      <th>max</th>\n",
       "      <td>2.362331</td>\n",
       "      <td>1.343769</td>\n",
       "      <td>16.003790</td>\n",
       "      <td>185.364347</td>\n",
       "    </tr>\n",
       "  </tbody>\n",
       "</table>\n",
       "</div>"
      ],
      "text/plain": [
       "                  f0             f1             f2        product\n",
       "count  100000.000000  100000.000000  100000.000000  100000.000000\n",
       "mean        0.500419       0.250143       2.502647      92.500000\n",
       "std         0.871832       0.504433       3.248248      44.288691\n",
       "min        -1.408605      -0.848218     -12.088328       0.000000\n",
       "25%        -0.072580      -0.200881       0.287748      56.497507\n",
       "50%         0.502360       0.250252       2.515969      91.849972\n",
       "75%         1.073581       0.700646       4.715088     128.564089\n",
       "max         2.362331       1.343769      16.003790     185.364347"
      ]
     },
     "execution_count": 12,
     "metadata": {},
     "output_type": "execute_result"
    }
   ],
   "source": [
    "df1.describe()"
   ]
  },
  {
   "cell_type": "code",
   "execution_count": 13,
   "id": "0ec8cac4",
   "metadata": {},
   "outputs": [
    {
     "data": {
      "text/html": [
       "<div>\n",
       "<style scoped>\n",
       "    .dataframe tbody tr th:only-of-type {\n",
       "        vertical-align: middle;\n",
       "    }\n",
       "\n",
       "    .dataframe tbody tr th {\n",
       "        vertical-align: top;\n",
       "    }\n",
       "\n",
       "    .dataframe thead th {\n",
       "        text-align: right;\n",
       "    }\n",
       "</style>\n",
       "<table border=\"1\" class=\"dataframe\">\n",
       "  <thead>\n",
       "    <tr style=\"text-align: right;\">\n",
       "      <th></th>\n",
       "      <th>f0</th>\n",
       "      <th>f1</th>\n",
       "      <th>f2</th>\n",
       "      <th>product</th>\n",
       "    </tr>\n",
       "  </thead>\n",
       "  <tbody>\n",
       "    <tr>\n",
       "      <th>count</th>\n",
       "      <td>100000.000000</td>\n",
       "      <td>100000.000000</td>\n",
       "      <td>100000.000000</td>\n",
       "      <td>100000.000000</td>\n",
       "    </tr>\n",
       "    <tr>\n",
       "      <th>mean</th>\n",
       "      <td>1.141296</td>\n",
       "      <td>-4.796579</td>\n",
       "      <td>2.494541</td>\n",
       "      <td>68.825000</td>\n",
       "    </tr>\n",
       "    <tr>\n",
       "      <th>std</th>\n",
       "      <td>8.965932</td>\n",
       "      <td>5.119872</td>\n",
       "      <td>1.703572</td>\n",
       "      <td>45.944423</td>\n",
       "    </tr>\n",
       "    <tr>\n",
       "      <th>min</th>\n",
       "      <td>-31.609576</td>\n",
       "      <td>-26.358598</td>\n",
       "      <td>-0.018144</td>\n",
       "      <td>0.000000</td>\n",
       "    </tr>\n",
       "    <tr>\n",
       "      <th>25%</th>\n",
       "      <td>-6.298551</td>\n",
       "      <td>-8.267985</td>\n",
       "      <td>1.000021</td>\n",
       "      <td>26.953261</td>\n",
       "    </tr>\n",
       "    <tr>\n",
       "      <th>50%</th>\n",
       "      <td>1.153055</td>\n",
       "      <td>-4.813172</td>\n",
       "      <td>2.011479</td>\n",
       "      <td>57.085625</td>\n",
       "    </tr>\n",
       "    <tr>\n",
       "      <th>75%</th>\n",
       "      <td>8.621015</td>\n",
       "      <td>-1.332816</td>\n",
       "      <td>3.999904</td>\n",
       "      <td>107.813044</td>\n",
       "    </tr>\n",
       "    <tr>\n",
       "      <th>max</th>\n",
       "      <td>29.421755</td>\n",
       "      <td>18.734063</td>\n",
       "      <td>5.019721</td>\n",
       "      <td>137.945408</td>\n",
       "    </tr>\n",
       "  </tbody>\n",
       "</table>\n",
       "</div>"
      ],
      "text/plain": [
       "                  f0             f1             f2        product\n",
       "count  100000.000000  100000.000000  100000.000000  100000.000000\n",
       "mean        1.141296      -4.796579       2.494541      68.825000\n",
       "std         8.965932       5.119872       1.703572      45.944423\n",
       "min       -31.609576     -26.358598      -0.018144       0.000000\n",
       "25%        -6.298551      -8.267985       1.000021      26.953261\n",
       "50%         1.153055      -4.813172       2.011479      57.085625\n",
       "75%         8.621015      -1.332816       3.999904     107.813044\n",
       "max        29.421755      18.734063       5.019721     137.945408"
      ]
     },
     "execution_count": 13,
     "metadata": {},
     "output_type": "execute_result"
    }
   ],
   "source": [
    "df2.describe()"
   ]
  },
  {
   "cell_type": "code",
   "execution_count": 14,
   "id": "62ded7b6",
   "metadata": {},
   "outputs": [
    {
     "data": {
      "text/html": [
       "<div>\n",
       "<style scoped>\n",
       "    .dataframe tbody tr th:only-of-type {\n",
       "        vertical-align: middle;\n",
       "    }\n",
       "\n",
       "    .dataframe tbody tr th {\n",
       "        vertical-align: top;\n",
       "    }\n",
       "\n",
       "    .dataframe thead th {\n",
       "        text-align: right;\n",
       "    }\n",
       "</style>\n",
       "<table border=\"1\" class=\"dataframe\">\n",
       "  <thead>\n",
       "    <tr style=\"text-align: right;\">\n",
       "      <th></th>\n",
       "      <th>f0</th>\n",
       "      <th>f1</th>\n",
       "      <th>f2</th>\n",
       "      <th>product</th>\n",
       "    </tr>\n",
       "  </thead>\n",
       "  <tbody>\n",
       "    <tr>\n",
       "      <th>count</th>\n",
       "      <td>100000.000000</td>\n",
       "      <td>100000.000000</td>\n",
       "      <td>100000.000000</td>\n",
       "      <td>100000.000000</td>\n",
       "    </tr>\n",
       "    <tr>\n",
       "      <th>mean</th>\n",
       "      <td>0.002023</td>\n",
       "      <td>-0.002081</td>\n",
       "      <td>2.495128</td>\n",
       "      <td>95.000000</td>\n",
       "    </tr>\n",
       "    <tr>\n",
       "      <th>std</th>\n",
       "      <td>1.732045</td>\n",
       "      <td>1.730417</td>\n",
       "      <td>3.473445</td>\n",
       "      <td>44.749921</td>\n",
       "    </tr>\n",
       "    <tr>\n",
       "      <th>min</th>\n",
       "      <td>-8.760004</td>\n",
       "      <td>-7.084020</td>\n",
       "      <td>-11.970335</td>\n",
       "      <td>0.000000</td>\n",
       "    </tr>\n",
       "    <tr>\n",
       "      <th>25%</th>\n",
       "      <td>-1.162288</td>\n",
       "      <td>-1.174820</td>\n",
       "      <td>0.130359</td>\n",
       "      <td>59.450441</td>\n",
       "    </tr>\n",
       "    <tr>\n",
       "      <th>50%</th>\n",
       "      <td>0.009424</td>\n",
       "      <td>-0.009482</td>\n",
       "      <td>2.484236</td>\n",
       "      <td>94.925613</td>\n",
       "    </tr>\n",
       "    <tr>\n",
       "      <th>75%</th>\n",
       "      <td>1.158535</td>\n",
       "      <td>1.163678</td>\n",
       "      <td>4.858794</td>\n",
       "      <td>130.595027</td>\n",
       "    </tr>\n",
       "    <tr>\n",
       "      <th>max</th>\n",
       "      <td>7.238262</td>\n",
       "      <td>7.844801</td>\n",
       "      <td>16.739402</td>\n",
       "      <td>190.029838</td>\n",
       "    </tr>\n",
       "  </tbody>\n",
       "</table>\n",
       "</div>"
      ],
      "text/plain": [
       "                  f0             f1             f2        product\n",
       "count  100000.000000  100000.000000  100000.000000  100000.000000\n",
       "mean        0.002023      -0.002081       2.495128      95.000000\n",
       "std         1.732045       1.730417       3.473445      44.749921\n",
       "min        -8.760004      -7.084020     -11.970335       0.000000\n",
       "25%        -1.162288      -1.174820       0.130359      59.450441\n",
       "50%         0.009424      -0.009482       2.484236      94.925613\n",
       "75%         1.158535       1.163678       4.858794     130.595027\n",
       "max         7.238262       7.844801      16.739402     190.029838"
      ]
     },
     "execution_count": 14,
     "metadata": {},
     "output_type": "execute_result"
    }
   ],
   "source": [
    "df3.describe()"
   ]
  },
  {
   "cell_type": "markdown",
   "id": "fb2f7f2e",
   "metadata": {},
   "source": [
    "**Based on the information above:**\n",
    "- Based on the average product values, df3 has the highest value, and df2 has the lowest value.\n",
    "- In terms of standard deviation, df1 and df3 have standard deviations that are far from the mean value, indicating that the data in these datasets is less variable.\n",
    "- In contrast, the standard deviation value in df2 is not too far from the mean, indicating that the product data in df2 is more variable.\n",
    "- Therefore, we can tentatively conclude that the data in df2 is good because it has a wider range of values compared to df1 and df3."
   ]
  },
  {
   "cell_type": "code",
   "execution_count": 15,
   "id": "a57c7065",
   "metadata": {},
   "outputs": [
    {
     "data": {
      "text/html": [
       "<div>\n",
       "<style scoped>\n",
       "    .dataframe tbody tr th:only-of-type {\n",
       "        vertical-align: middle;\n",
       "    }\n",
       "\n",
       "    .dataframe tbody tr th {\n",
       "        vertical-align: top;\n",
       "    }\n",
       "\n",
       "    .dataframe thead th {\n",
       "        text-align: right;\n",
       "    }\n",
       "</style>\n",
       "<table border=\"1\" class=\"dataframe\">\n",
       "  <thead>\n",
       "    <tr style=\"text-align: right;\">\n",
       "      <th></th>\n",
       "      <th>f0</th>\n",
       "      <th>f1</th>\n",
       "      <th>f2</th>\n",
       "      <th>product</th>\n",
       "    </tr>\n",
       "  </thead>\n",
       "  <tbody>\n",
       "    <tr>\n",
       "      <th>f0</th>\n",
       "      <td>1.000000</td>\n",
       "      <td>-0.440723</td>\n",
       "      <td>-0.003153</td>\n",
       "      <td>0.143536</td>\n",
       "    </tr>\n",
       "    <tr>\n",
       "      <th>f1</th>\n",
       "      <td>-0.440723</td>\n",
       "      <td>1.000000</td>\n",
       "      <td>0.001724</td>\n",
       "      <td>-0.192356</td>\n",
       "    </tr>\n",
       "    <tr>\n",
       "      <th>f2</th>\n",
       "      <td>-0.003153</td>\n",
       "      <td>0.001724</td>\n",
       "      <td>1.000000</td>\n",
       "      <td>0.483663</td>\n",
       "    </tr>\n",
       "    <tr>\n",
       "      <th>product</th>\n",
       "      <td>0.143536</td>\n",
       "      <td>-0.192356</td>\n",
       "      <td>0.483663</td>\n",
       "      <td>1.000000</td>\n",
       "    </tr>\n",
       "  </tbody>\n",
       "</table>\n",
       "</div>"
      ],
      "text/plain": [
       "               f0        f1        f2   product\n",
       "f0       1.000000 -0.440723 -0.003153  0.143536\n",
       "f1      -0.440723  1.000000  0.001724 -0.192356\n",
       "f2      -0.003153  0.001724  1.000000  0.483663\n",
       "product  0.143536 -0.192356  0.483663  1.000000"
      ]
     },
     "execution_count": 15,
     "metadata": {},
     "output_type": "execute_result"
    }
   ],
   "source": [
    "df1.corr()"
   ]
  },
  {
   "cell_type": "code",
   "execution_count": 16,
   "id": "724f4fc7",
   "metadata": {},
   "outputs": [
    {
     "data": {
      "text/html": [
       "<div>\n",
       "<style scoped>\n",
       "    .dataframe tbody tr th:only-of-type {\n",
       "        vertical-align: middle;\n",
       "    }\n",
       "\n",
       "    .dataframe tbody tr th {\n",
       "        vertical-align: top;\n",
       "    }\n",
       "\n",
       "    .dataframe thead th {\n",
       "        text-align: right;\n",
       "    }\n",
       "</style>\n",
       "<table border=\"1\" class=\"dataframe\">\n",
       "  <thead>\n",
       "    <tr style=\"text-align: right;\">\n",
       "      <th></th>\n",
       "      <th>f0</th>\n",
       "      <th>f1</th>\n",
       "      <th>f2</th>\n",
       "      <th>product</th>\n",
       "    </tr>\n",
       "  </thead>\n",
       "  <tbody>\n",
       "    <tr>\n",
       "      <th>f0</th>\n",
       "      <td>1.000000</td>\n",
       "      <td>0.182287</td>\n",
       "      <td>-0.001777</td>\n",
       "      <td>-0.030491</td>\n",
       "    </tr>\n",
       "    <tr>\n",
       "      <th>f1</th>\n",
       "      <td>0.182287</td>\n",
       "      <td>1.000000</td>\n",
       "      <td>-0.002595</td>\n",
       "      <td>-0.010155</td>\n",
       "    </tr>\n",
       "    <tr>\n",
       "      <th>f2</th>\n",
       "      <td>-0.001777</td>\n",
       "      <td>-0.002595</td>\n",
       "      <td>1.000000</td>\n",
       "      <td>0.999397</td>\n",
       "    </tr>\n",
       "    <tr>\n",
       "      <th>product</th>\n",
       "      <td>-0.030491</td>\n",
       "      <td>-0.010155</td>\n",
       "      <td>0.999397</td>\n",
       "      <td>1.000000</td>\n",
       "    </tr>\n",
       "  </tbody>\n",
       "</table>\n",
       "</div>"
      ],
      "text/plain": [
       "               f0        f1        f2   product\n",
       "f0       1.000000  0.182287 -0.001777 -0.030491\n",
       "f1       0.182287  1.000000 -0.002595 -0.010155\n",
       "f2      -0.001777 -0.002595  1.000000  0.999397\n",
       "product -0.030491 -0.010155  0.999397  1.000000"
      ]
     },
     "execution_count": 16,
     "metadata": {},
     "output_type": "execute_result"
    }
   ],
   "source": [
    "df2.corr()"
   ]
  },
  {
   "cell_type": "code",
   "execution_count": 17,
   "id": "803ad7b0",
   "metadata": {},
   "outputs": [
    {
     "data": {
      "text/html": [
       "<div>\n",
       "<style scoped>\n",
       "    .dataframe tbody tr th:only-of-type {\n",
       "        vertical-align: middle;\n",
       "    }\n",
       "\n",
       "    .dataframe tbody tr th {\n",
       "        vertical-align: top;\n",
       "    }\n",
       "\n",
       "    .dataframe thead th {\n",
       "        text-align: right;\n",
       "    }\n",
       "</style>\n",
       "<table border=\"1\" class=\"dataframe\">\n",
       "  <thead>\n",
       "    <tr style=\"text-align: right;\">\n",
       "      <th></th>\n",
       "      <th>f0</th>\n",
       "      <th>f1</th>\n",
       "      <th>f2</th>\n",
       "      <th>product</th>\n",
       "    </tr>\n",
       "  </thead>\n",
       "  <tbody>\n",
       "    <tr>\n",
       "      <th>f0</th>\n",
       "      <td>1.000000</td>\n",
       "      <td>0.000528</td>\n",
       "      <td>-0.000448</td>\n",
       "      <td>-0.001987</td>\n",
       "    </tr>\n",
       "    <tr>\n",
       "      <th>f1</th>\n",
       "      <td>0.000528</td>\n",
       "      <td>1.000000</td>\n",
       "      <td>0.000779</td>\n",
       "      <td>-0.001012</td>\n",
       "    </tr>\n",
       "    <tr>\n",
       "      <th>f2</th>\n",
       "      <td>-0.000448</td>\n",
       "      <td>0.000779</td>\n",
       "      <td>1.000000</td>\n",
       "      <td>0.445871</td>\n",
       "    </tr>\n",
       "    <tr>\n",
       "      <th>product</th>\n",
       "      <td>-0.001987</td>\n",
       "      <td>-0.001012</td>\n",
       "      <td>0.445871</td>\n",
       "      <td>1.000000</td>\n",
       "    </tr>\n",
       "  </tbody>\n",
       "</table>\n",
       "</div>"
      ],
      "text/plain": [
       "               f0        f1        f2   product\n",
       "f0       1.000000  0.000528 -0.000448 -0.001987\n",
       "f1       0.000528  1.000000  0.000779 -0.001012\n",
       "f2      -0.000448  0.000779  1.000000  0.445871\n",
       "product -0.001987 -0.001012  0.445871  1.000000"
      ]
     },
     "execution_count": 17,
     "metadata": {},
     "output_type": "execute_result"
    }
   ],
   "source": [
    "df3.corr()"
   ]
  },
  {
   "cell_type": "markdown",
   "id": "2f0e7bb8",
   "metadata": {},
   "source": [
    "**Based on the information above:**\n",
    "In general, there is little to no correlation with all the features. However, for df2, the `f2` column has a high correlation with the `product` column."
   ]
  },
  {
   "cell_type": "code",
   "execution_count": 18,
   "id": "668646e7",
   "metadata": {},
   "outputs": [],
   "source": [
    "columns = ['f0', 'f1', 'f2', 'product']\n",
    "titles = ['f0', 'f1', 'f2', 'product']\n",
    "def plot_hist(data):\n",
    "    data.hist(column=columns, figsize=(10,10))"
   ]
  },
  {
   "cell_type": "code",
   "execution_count": 19,
   "id": "b323d892",
   "metadata": {},
   "outputs": [
    {
     "data": {
      "image/png": "[encoded data removed]",
      "text/plain": [
       "<Figure size 1000x1000 with 4 Axes>"
      ]
     },
     "metadata": {},
     "output_type": "display_data"
    }
   ],
   "source": [
    "plot_hist(df1)"
   ]
  },
  {
   "cell_type": "code",
   "execution_count": 20,
   "id": "f9aecedf",
   "metadata": {},
   "outputs": [
    {
     "data": {
      "image/png": "[encoded data removed]",
      "text/plain": [
       "<Figure size 1000x1000 with 4 Axes>"
      ]
     },
     "metadata": {},
     "output_type": "display_data"
    }
   ],
   "source": [
    "plot_hist(df2)"
   ]
  },
  {
   "cell_type": "code",
   "execution_count": 21,
   "id": "5937c2cf",
   "metadata": {},
   "outputs": [
    {
     "data": {
      "image/png": "[encoded data removed]",
      "text/plain": [
       "<Figure size 1000x1000 with 4 Axes>"
      ]
     },
     "metadata": {},
     "output_type": "display_data"
    }
   ],
   "source": [
    "plot_hist(df3)"
   ]
  },
  {
   "cell_type": "markdown",
   "id": "bbaa7b8d",
   "metadata": {},
   "source": [
    "**Based on the information above:** From the given data, there are many outliers in the `f0`, `f1`, and `f2` columns. However, these data points cannot be removed because they represent the points of the well features. In the `product` column, there appear to be no outliers."
   ]
  },
  {
   "cell_type": "code",
   "execution_count": 22,
   "id": "501763e2",
   "metadata": {},
   "outputs": [
    {
     "data": {
      "text/plain": [
       "<AxesSubplot:>"
      ]
     },
     "execution_count": 22,
     "metadata": {},
     "output_type": "execute_result"
    },
    {
     "data": {
      "image/png": "[encoded data removed]",
      "text/plain": [
       "<Figure size 640x480 with 1 Axes>"
      ]
     },
     "metadata": {},
     "output_type": "display_data"
    }
   ],
   "source": [
    "df1.boxplot()"
   ]
  },
  {
   "cell_type": "code",
   "execution_count": 23,
   "id": "bab83e82",
   "metadata": {},
   "outputs": [
    {
     "data": {
      "text/plain": [
       "<AxesSubplot:>"
      ]
     },
     "execution_count": 23,
     "metadata": {},
     "output_type": "execute_result"
    },
    {
     "data": {
      "image/png": "[encoded data removed]",
      "text/plain": [
       "<Figure size 640x480 with 1 Axes>"
      ]
     },
     "metadata": {},
     "output_type": "display_data"
    }
   ],
   "source": [
    "df2.boxplot()"
   ]
  },
  {
   "cell_type": "code",
   "execution_count": 24,
   "id": "ffb48ce7",
   "metadata": {},
   "outputs": [
    {
     "data": {
      "text/plain": [
       "<AxesSubplot:>"
      ]
     },
     "execution_count": 24,
     "metadata": {},
     "output_type": "execute_result"
    },
    {
     "data": {
      "image/png": "[encoded data removed]",
      "text/plain": [
       "<Figure size 640x480 with 1 Axes>"
      ]
     },
     "metadata": {},
     "output_type": "display_data"
    }
   ],
   "source": [
    "df3.boxplot()"
   ]
  },
  {
   "cell_type": "markdown",
   "id": "0f668cb4",
   "metadata": {},
   "source": [
    "**Based on the information above:** As we can see, there are many outliers in the three columns `f0`, `f1`, and `f2`. However, since these are well feature data, they cannot be removed."
   ]
  },
  {
   "cell_type": "markdown",
   "id": "fbdbc1b0",
   "metadata": {},
   "source": [
    "# Training and Testing The Model"
   ]
  },
  {
   "cell_type": "code",
   "execution_count": 25,
   "id": "6124cd00",
   "metadata": {},
   "outputs": [],
   "source": [
    "# Create an initial for model\n",
    "model = LinearRegression()"
   ]
  },
  {
   "cell_type": "markdown",
   "id": "5bf339fc",
   "metadata": {},
   "source": [
    "## Standard Scaler Function"
   ]
  },
  {
   "cell_type": "code",
   "execution_count": 26,
   "id": "ff03d89e",
   "metadata": {},
   "outputs": [],
   "source": [
    "# function to apply standard scaler on numeric dataset\n",
    "def standard_scaler(features_train, features_valid):\n",
    "    scaler = StandardScaler()\n",
    "    numeric = ['f0','f1','f2'] # tabel numerik\n",
    "    scaler.fit(features_train[numeric]) \n",
    "    features_train[numeric] = scaler.transform(features_train[numeric]) # merubah tabel numerik dengan standard scaler\n",
    "    features_valid[numeric] = scaler.transform(features_valid[numeric]) # merubah tabel numerik dengan standard scaler"
   ]
  },
  {
   "cell_type": "markdown",
   "id": "2c344941",
   "metadata": {},
   "source": [
    "This function is designed to apply standard scaling to numerical columns, standardizing features by removing the mean and scaling to unit variance. Instead of repeating the same code, this function is created for convenience."
   ]
  },
  {
   "cell_type": "markdown",
   "id": "2966c6f3",
   "metadata": {},
   "source": [
    "## Region 1"
   ]
  },
  {
   "cell_type": "code",
   "execution_count": 27,
   "id": "ba89483e",
   "metadata": {},
   "outputs": [],
   "source": [
    "# Creating features by removing the `id` and `product` columns\n",
    "df1_features = df1.drop(['id', 'product'], axis=1)"
   ]
  },
  {
   "cell_type": "code",
   "execution_count": 28,
   "id": "3dda70ab",
   "metadata": {},
   "outputs": [],
   "source": [
    "# Creating the target by taking the `product` column\n",
    "df1_target = df1['product']"
   ]
  },
  {
   "cell_type": "code",
   "execution_count": 29,
   "id": "bf0670e7",
   "metadata": {},
   "outputs": [],
   "source": [
    "# Splitting the data into training and validation sets with a 75:25 ratio\n",
    "df1_features_train, df1_features_valid, df1_target_train, df1_target_valid = train_test_split(df1_features, df1_target, test_size=0.25, random_state=12345)"
   ]
  },
  {
   "cell_type": "code",
   "execution_count": 30,
   "id": "a7b47d75",
   "metadata": {},
   "outputs": [],
   "source": [
    "standard_scaler(df1_features_train, df1_features_valid)"
   ]
  },
  {
   "cell_type": "code",
   "execution_count": 31,
   "id": "c21c1b59",
   "metadata": {},
   "outputs": [
    {
     "data": {
      "text/html": [
       "<div>\n",
       "<style scoped>\n",
       "    .dataframe tbody tr th:only-of-type {\n",
       "        vertical-align: middle;\n",
       "    }\n",
       "\n",
       "    .dataframe tbody tr th {\n",
       "        vertical-align: top;\n",
       "    }\n",
       "\n",
       "    .dataframe thead th {\n",
       "        text-align: right;\n",
       "    }\n",
       "</style>\n",
       "<table border=\"1\" class=\"dataframe\">\n",
       "  <thead>\n",
       "    <tr style=\"text-align: right;\">\n",
       "      <th></th>\n",
       "      <th>f0</th>\n",
       "      <th>f1</th>\n",
       "      <th>f2</th>\n",
       "    </tr>\n",
       "  </thead>\n",
       "  <tbody>\n",
       "    <tr>\n",
       "      <th>27212</th>\n",
       "      <td>-0.544828</td>\n",
       "      <td>1.390264</td>\n",
       "      <td>-0.094959</td>\n",
       "    </tr>\n",
       "    <tr>\n",
       "      <th>7866</th>\n",
       "      <td>1.455912</td>\n",
       "      <td>-0.480422</td>\n",
       "      <td>1.209567</td>\n",
       "    </tr>\n",
       "    <tr>\n",
       "      <th>62041</th>\n",
       "      <td>0.260460</td>\n",
       "      <td>0.825069</td>\n",
       "      <td>-0.204865</td>\n",
       "    </tr>\n",
       "    <tr>\n",
       "      <th>70185</th>\n",
       "      <td>-1.837105</td>\n",
       "      <td>0.010321</td>\n",
       "      <td>-0.147634</td>\n",
       "    </tr>\n",
       "    <tr>\n",
       "      <th>82230</th>\n",
       "      <td>-1.299243</td>\n",
       "      <td>0.987558</td>\n",
       "      <td>1.273181</td>\n",
       "    </tr>\n",
       "  </tbody>\n",
       "</table>\n",
       "</div>"
      ],
      "text/plain": [
       "             f0        f1        f2\n",
       "27212 -0.544828  1.390264 -0.094959\n",
       "7866   1.455912 -0.480422  1.209567\n",
       "62041  0.260460  0.825069 -0.204865\n",
       "70185 -1.837105  0.010321 -0.147634\n",
       "82230 -1.299243  0.987558  1.273181"
      ]
     },
     "execution_count": 31,
     "metadata": {},
     "output_type": "execute_result"
    }
   ],
   "source": [
    "df1_features_train.head()"
   ]
  },
  {
   "cell_type": "code",
   "execution_count": 32,
   "id": "20955651",
   "metadata": {},
   "outputs": [
    {
     "data": {
      "text/html": [
       "<div>\n",
       "<style scoped>\n",
       "    .dataframe tbody tr th:only-of-type {\n",
       "        vertical-align: middle;\n",
       "    }\n",
       "\n",
       "    .dataframe tbody tr th {\n",
       "        vertical-align: top;\n",
       "    }\n",
       "\n",
       "    .dataframe thead th {\n",
       "        text-align: right;\n",
       "    }\n",
       "</style>\n",
       "<table border=\"1\" class=\"dataframe\">\n",
       "  <thead>\n",
       "    <tr style=\"text-align: right;\">\n",
       "      <th></th>\n",
       "      <th>f0</th>\n",
       "      <th>f1</th>\n",
       "      <th>f2</th>\n",
       "    </tr>\n",
       "  </thead>\n",
       "  <tbody>\n",
       "    <tr>\n",
       "      <th>71751</th>\n",
       "      <td>0.517917</td>\n",
       "      <td>-0.610097</td>\n",
       "      <td>-0.126226</td>\n",
       "    </tr>\n",
       "    <tr>\n",
       "      <th>80493</th>\n",
       "      <td>0.568391</td>\n",
       "      <td>-0.086063</td>\n",
       "      <td>-0.814914</td>\n",
       "    </tr>\n",
       "    <tr>\n",
       "      <th>2655</th>\n",
       "      <td>0.805688</td>\n",
       "      <td>-1.613289</td>\n",
       "      <td>-1.341342</td>\n",
       "    </tr>\n",
       "    <tr>\n",
       "      <th>53233</th>\n",
       "      <td>0.222503</td>\n",
       "      <td>-1.355437</td>\n",
       "      <td>-0.597275</td>\n",
       "    </tr>\n",
       "    <tr>\n",
       "      <th>91141</th>\n",
       "      <td>-0.087941</td>\n",
       "      <td>1.433113</td>\n",
       "      <td>-0.544588</td>\n",
       "    </tr>\n",
       "  </tbody>\n",
       "</table>\n",
       "</div>"
      ],
      "text/plain": [
       "             f0        f1        f2\n",
       "71751  0.517917 -0.610097 -0.126226\n",
       "80493  0.568391 -0.086063 -0.814914\n",
       "2655   0.805688 -1.613289 -1.341342\n",
       "53233  0.222503 -1.355437 -0.597275\n",
       "91141 -0.087941  1.433113 -0.544588"
      ]
     },
     "execution_count": 32,
     "metadata": {},
     "output_type": "execute_result"
    }
   ],
   "source": [
    "df1_features_valid.head()"
   ]
  },
  {
   "cell_type": "markdown",
   "id": "2d1a7cda",
   "metadata": {},
   "source": [
    "The result of standard scaling makes the numerical data values have a similar range."
   ]
  },
  {
   "cell_type": "code",
   "execution_count": 33,
   "id": "8836e4c1",
   "metadata": {},
   "outputs": [
    {
     "data": {
      "text/html": [
       "<style>#sk-container-id-1 {color: black;}#sk-container-id-1 pre{padding: 0;}#sk-container-id-1 div.sk-toggleable {background-color: white;}#sk-container-id-1 label.sk-toggleable__label {cursor: pointer;display: block;width: 100%;margin-bottom: 0;padding: 0.3em;box-sizing: border-box;text-align: center;}#sk-container-id-1 label.sk-toggleable__label-arrow:before {content: \"▸\";float: left;margin-right: 0.25em;color: #696969;}#sk-container-id-1 label.sk-toggleable__label-arrow:hover:before {color: black;}#sk-container-id-1 div.sk-estimator:hover label.sk-toggleable__label-arrow:before {color: black;}#sk-container-id-1 div.sk-toggleable__content {max-height: 0;max-width: 0;overflow: hidden;text-align: left;background-color: #f0f8ff;}#sk-container-id-1 div.sk-toggleable__content pre {margin: 0.2em;color: black;border-radius: 0.25em;background-color: #f0f8ff;}#sk-container-id-1 input.sk-toggleable__control:checked~div.sk-toggleable__content {max-height: 200px;max-width: 100%;overflow: auto;}#sk-container-id-1 input.sk-toggleable__control:checked~label.sk-toggleable__label-arrow:before {content: \"▾\";}#sk-container-id-1 div.sk-estimator input.sk-toggleable__control:checked~label.sk-toggleable__label {background-color: #d4ebff;}#sk-container-id-1 div.sk-label input.sk-toggleable__control:checked~label.sk-toggleable__label {background-color: #d4ebff;}#sk-container-id-1 input.sk-hidden--visually {border: 0;clip: rect(1px 1px 1px 1px);clip: rect(1px, 1px, 1px, 1px);height: 1px;margin: -1px;overflow: hidden;padding: 0;position: absolute;width: 1px;}#sk-container-id-1 div.sk-estimator {font-family: monospace;background-color: #f0f8ff;border: 1px dotted black;border-radius: 0.25em;box-sizing: border-box;margin-bottom: 0.5em;}#sk-container-id-1 div.sk-estimator:hover {background-color: #d4ebff;}#sk-container-id-1 div.sk-parallel-item::after {content: \"\";width: 100%;border-bottom: 1px solid gray;flex-grow: 1;}#sk-container-id-1 div.sk-label:hover label.sk-toggleable__label {background-color: #d4ebff;}#sk-container-id-1 div.sk-serial::before {content: \"\";position: absolute;border-left: 1px solid gray;box-sizing: border-box;top: 0;bottom: 0;left: 50%;z-index: 0;}#sk-container-id-1 div.sk-serial {display: flex;flex-direction: column;align-items: center;background-color: white;padding-right: 0.2em;padding-left: 0.2em;position: relative;}#sk-container-id-1 div.sk-item {position: relative;z-index: 1;}#sk-container-id-1 div.sk-parallel {display: flex;align-items: stretch;justify-content: center;background-color: white;position: relative;}#sk-container-id-1 div.sk-item::before, #sk-container-id-1 div.sk-parallel-item::before {content: \"\";position: absolute;border-left: 1px solid gray;box-sizing: border-box;top: 0;bottom: 0;left: 50%;z-index: -1;}#sk-container-id-1 div.sk-parallel-item {display: flex;flex-direction: column;z-index: 1;position: relative;background-color: white;}#sk-container-id-1 div.sk-parallel-item:first-child::after {align-self: flex-end;width: 50%;}#sk-container-id-1 div.sk-parallel-item:last-child::after {align-self: flex-start;width: 50%;}#sk-container-id-1 div.sk-parallel-item:only-child::after {width: 0;}#sk-container-id-1 div.sk-dashed-wrapped {border: 1px dashed gray;margin: 0 0.4em 0.5em 0.4em;box-sizing: border-box;padding-bottom: 0.4em;background-color: white;}#sk-container-id-1 div.sk-label label {font-family: monospace;font-weight: bold;display: inline-block;line-height: 1.2em;}#sk-container-id-1 div.sk-label-container {text-align: center;}#sk-container-id-1 div.sk-container {/* jupyter's `normalize.less` sets `[hidden] { display: none; }` but bootstrap.min.css set `[hidden] { display: none !important; }` so we also need the `!important` here to be able to override the default hidden behavior on the sphinx rendered scikit-learn.org. See: https://github.com/scikit-learn/scikit-learn/issues/21755 */display: inline-block !important;position: relative;}#sk-container-id-1 div.sk-text-repr-fallback {display: none;}</style><div id=\"sk-container-id-1\" class=\"sk-top-container\"><div class=\"sk-text-repr-fallback\"><pre>LinearRegression()</pre><b>In a Jupyter environment, please rerun this cell to show the HTML representation or trust the notebook. <br />On GitHub, the HTML representation is unable to render, please try loading this page with nbviewer.org.</b></div><div class=\"sk-container\" hidden><div class=\"sk-item\"><div class=\"sk-estimator sk-toggleable\"><input class=\"sk-toggleable__control sk-hidden--visually\" id=\"sk-estimator-id-1\" type=\"checkbox\" checked><label for=\"sk-estimator-id-1\" class=\"sk-toggleable__label sk-toggleable__label-arrow\">LinearRegression</label><div class=\"sk-toggleable__content\"><pre>LinearRegression()</pre></div></div></div></div></div>"
      ],
      "text/plain": [
       "LinearRegression()"
      ]
     },
     "execution_count": 33,
     "metadata": {},
     "output_type": "execute_result"
    }
   ],
   "source": [
    "# Training the model\n",
    "model.fit(df1_features_train, df1_target_train)"
   ]
  },
  {
   "cell_type": "code",
   "execution_count": 34,
   "id": "bcfad9ae",
   "metadata": {},
   "outputs": [],
   "source": [
    "# predict the target using data valid\n",
    "df1_predictions_valid = model.predict(df1_features_valid)"
   ]
  },
  {
   "cell_type": "code",
   "execution_count": 35,
   "id": "f8cdbc14",
   "metadata": {},
   "outputs": [],
   "source": [
    "# Calculating the MSE\n",
    "mse_geo1 = mean_squared_error(df1_target_valid, df1_predictions_valid)"
   ]
  },
  {
   "cell_type": "code",
   "execution_count": 36,
   "id": "355850eb",
   "metadata": {},
   "outputs": [
    {
     "name": "stdout",
     "output_type": "stream",
     "text": [
      "Average: 92.59256778438035\n",
      "RMSE: 37.5794217150813\n"
     ]
    }
   ],
   "source": [
    "# Calculating the average and the RMSE\n",
    "print('Average:', df1_predictions_valid.mean())\n",
    "print('RMSE:', mse_geo1**0.5)"
   ]
  },
  {
   "cell_type": "markdown",
   "id": "d9ec8652",
   "metadata": {},
   "source": [
    "## Region 2"
   ]
  },
  {
   "cell_type": "code",
   "execution_count": 37,
   "id": "264a46c8",
   "metadata": {},
   "outputs": [],
   "source": [
    "# Creating features by removing the `id` and `product` columns\n",
    "df2_features = df2.drop(['id', 'product'], axis=1)"
   ]
  },
  {
   "cell_type": "code",
   "execution_count": 38,
   "id": "fc48e026",
   "metadata": {},
   "outputs": [],
   "source": [
    "# Creating the target by taking the `product` column\n",
    "df2_target = df2['product']"
   ]
  },
  {
   "cell_type": "code",
   "execution_count": 39,
   "id": "71b278ee",
   "metadata": {},
   "outputs": [],
   "source": [
    "# Splitting the data into training and validation sets with a 75:25 ratio\n",
    "df2_features_train, df2_features_valid, df2_target_train, df2_target_valid = train_test_split(df2_features, df2_target, test_size=0.25, random_state=12345)"
   ]
  },
  {
   "cell_type": "code",
   "execution_count": 40,
   "id": "f1033573",
   "metadata": {},
   "outputs": [],
   "source": [
    "standard_scaler(df2_features_train, df2_features_valid)"
   ]
  },
  {
   "cell_type": "code",
   "execution_count": 41,
   "id": "4e1d147f",
   "metadata": {},
   "outputs": [
    {
     "data": {
      "text/html": [
       "<div>\n",
       "<style scoped>\n",
       "    .dataframe tbody tr th:only-of-type {\n",
       "        vertical-align: middle;\n",
       "    }\n",
       "\n",
       "    .dataframe tbody tr th {\n",
       "        vertical-align: top;\n",
       "    }\n",
       "\n",
       "    .dataframe thead th {\n",
       "        text-align: right;\n",
       "    }\n",
       "</style>\n",
       "<table border=\"1\" class=\"dataframe\">\n",
       "  <thead>\n",
       "    <tr style=\"text-align: right;\">\n",
       "      <th></th>\n",
       "      <th>f0</th>\n",
       "      <th>f1</th>\n",
       "      <th>f2</th>\n",
       "    </tr>\n",
       "  </thead>\n",
       "  <tbody>\n",
       "    <tr>\n",
       "      <th>27212</th>\n",
       "      <td>-0.850855</td>\n",
       "      <td>0.624428</td>\n",
       "      <td>0.296943</td>\n",
       "    </tr>\n",
       "    <tr>\n",
       "      <th>7866</th>\n",
       "      <td>1.971935</td>\n",
       "      <td>1.832275</td>\n",
       "      <td>0.294333</td>\n",
       "    </tr>\n",
       "    <tr>\n",
       "      <th>62041</th>\n",
       "      <td>1.079305</td>\n",
       "      <td>0.170127</td>\n",
       "      <td>-0.296418</td>\n",
       "    </tr>\n",
       "    <tr>\n",
       "      <th>70185</th>\n",
       "      <td>-1.512028</td>\n",
       "      <td>-0.887837</td>\n",
       "      <td>-0.880471</td>\n",
       "    </tr>\n",
       "    <tr>\n",
       "      <th>82230</th>\n",
       "      <td>-1.804775</td>\n",
       "      <td>-0.718311</td>\n",
       "      <td>-0.293255</td>\n",
       "    </tr>\n",
       "  </tbody>\n",
       "</table>\n",
       "</div>"
      ],
      "text/plain": [
       "             f0        f1        f2\n",
       "27212 -0.850855  0.624428  0.296943\n",
       "7866   1.971935  1.832275  0.294333\n",
       "62041  1.079305  0.170127 -0.296418\n",
       "70185 -1.512028 -0.887837 -0.880471\n",
       "82230 -1.804775 -0.718311 -0.293255"
      ]
     },
     "execution_count": 41,
     "metadata": {},
     "output_type": "execute_result"
    }
   ],
   "source": [
    "df2_features_train.head()"
   ]
  },
  {
   "cell_type": "code",
   "execution_count": 42,
   "id": "cde1b920",
   "metadata": {},
   "outputs": [
    {
     "data": {
      "text/html": [
       "<div>\n",
       "<style scoped>\n",
       "    .dataframe tbody tr th:only-of-type {\n",
       "        vertical-align: middle;\n",
       "    }\n",
       "\n",
       "    .dataframe tbody tr th {\n",
       "        vertical-align: top;\n",
       "    }\n",
       "\n",
       "    .dataframe thead th {\n",
       "        text-align: right;\n",
       "    }\n",
       "</style>\n",
       "<table border=\"1\" class=\"dataframe\">\n",
       "  <thead>\n",
       "    <tr style=\"text-align: right;\">\n",
       "      <th></th>\n",
       "      <th>f0</th>\n",
       "      <th>f1</th>\n",
       "      <th>f2</th>\n",
       "    </tr>\n",
       "  </thead>\n",
       "  <tbody>\n",
       "    <tr>\n",
       "      <th>71751</th>\n",
       "      <td>-0.168616</td>\n",
       "      <td>0.571372</td>\n",
       "      <td>0.297471</td>\n",
       "    </tr>\n",
       "    <tr>\n",
       "      <th>80493</th>\n",
       "      <td>0.878384</td>\n",
       "      <td>-1.772903</td>\n",
       "      <td>-0.293901</td>\n",
       "    </tr>\n",
       "    <tr>\n",
       "      <th>2655</th>\n",
       "      <td>-0.852976</td>\n",
       "      <td>-0.004986</td>\n",
       "      <td>-0.876502</td>\n",
       "    </tr>\n",
       "    <tr>\n",
       "      <th>53233</th>\n",
       "      <td>1.496940</td>\n",
       "      <td>-1.146077</td>\n",
       "      <td>-0.294011</td>\n",
       "    </tr>\n",
       "    <tr>\n",
       "      <th>91141</th>\n",
       "      <td>0.552177</td>\n",
       "      <td>0.057961</td>\n",
       "      <td>-1.457764</td>\n",
       "    </tr>\n",
       "  </tbody>\n",
       "</table>\n",
       "</div>"
      ],
      "text/plain": [
       "             f0        f1        f2\n",
       "71751 -0.168616  0.571372  0.297471\n",
       "80493  0.878384 -1.772903 -0.293901\n",
       "2655  -0.852976 -0.004986 -0.876502\n",
       "53233  1.496940 -1.146077 -0.294011\n",
       "91141  0.552177  0.057961 -1.457764"
      ]
     },
     "execution_count": 42,
     "metadata": {},
     "output_type": "execute_result"
    }
   ],
   "source": [
    "df2_features_valid.head()"
   ]
  },
  {
   "cell_type": "markdown",
   "id": "2b798c51",
   "metadata": {},
   "source": [
    "The result of standard scaling makes the numerical data values have a similar range."
   ]
  },
  {
   "cell_type": "code",
   "execution_count": 43,
   "id": "1a2df153",
   "metadata": {},
   "outputs": [
    {
     "data": {
      "text/html": [
       "<style>#sk-container-id-2 {color: black;}#sk-container-id-2 pre{padding: 0;}#sk-container-id-2 div.sk-toggleable {background-color: white;}#sk-container-id-2 label.sk-toggleable__label {cursor: pointer;display: block;width: 100%;margin-bottom: 0;padding: 0.3em;box-sizing: border-box;text-align: center;}#sk-container-id-2 label.sk-toggleable__label-arrow:before {content: \"▸\";float: left;margin-right: 0.25em;color: #696969;}#sk-container-id-2 label.sk-toggleable__label-arrow:hover:before {color: black;}#sk-container-id-2 div.sk-estimator:hover label.sk-toggleable__label-arrow:before {color: black;}#sk-container-id-2 div.sk-toggleable__content {max-height: 0;max-width: 0;overflow: hidden;text-align: left;background-color: #f0f8ff;}#sk-container-id-2 div.sk-toggleable__content pre {margin: 0.2em;color: black;border-radius: 0.25em;background-color: #f0f8ff;}#sk-container-id-2 input.sk-toggleable__control:checked~div.sk-toggleable__content {max-height: 200px;max-width: 100%;overflow: auto;}#sk-container-id-2 input.sk-toggleable__control:checked~label.sk-toggleable__label-arrow:before {content: \"▾\";}#sk-container-id-2 div.sk-estimator input.sk-toggleable__control:checked~label.sk-toggleable__label {background-color: #d4ebff;}#sk-container-id-2 div.sk-label input.sk-toggleable__control:checked~label.sk-toggleable__label {background-color: #d4ebff;}#sk-container-id-2 input.sk-hidden--visually {border: 0;clip: rect(1px 1px 1px 1px);clip: rect(1px, 1px, 1px, 1px);height: 1px;margin: -1px;overflow: hidden;padding: 0;position: absolute;width: 1px;}#sk-container-id-2 div.sk-estimator {font-family: monospace;background-color: #f0f8ff;border: 1px dotted black;border-radius: 0.25em;box-sizing: border-box;margin-bottom: 0.5em;}#sk-container-id-2 div.sk-estimator:hover {background-color: #d4ebff;}#sk-container-id-2 div.sk-parallel-item::after {content: \"\";width: 100%;border-bottom: 1px solid gray;flex-grow: 1;}#sk-container-id-2 div.sk-label:hover label.sk-toggleable__label {background-color: #d4ebff;}#sk-container-id-2 div.sk-serial::before {content: \"\";position: absolute;border-left: 1px solid gray;box-sizing: border-box;top: 0;bottom: 0;left: 50%;z-index: 0;}#sk-container-id-2 div.sk-serial {display: flex;flex-direction: column;align-items: center;background-color: white;padding-right: 0.2em;padding-left: 0.2em;position: relative;}#sk-container-id-2 div.sk-item {position: relative;z-index: 1;}#sk-container-id-2 div.sk-parallel {display: flex;align-items: stretch;justify-content: center;background-color: white;position: relative;}#sk-container-id-2 div.sk-item::before, #sk-container-id-2 div.sk-parallel-item::before {content: \"\";position: absolute;border-left: 1px solid gray;box-sizing: border-box;top: 0;bottom: 0;left: 50%;z-index: -1;}#sk-container-id-2 div.sk-parallel-item {display: flex;flex-direction: column;z-index: 1;position: relative;background-color: white;}#sk-container-id-2 div.sk-parallel-item:first-child::after {align-self: flex-end;width: 50%;}#sk-container-id-2 div.sk-parallel-item:last-child::after {align-self: flex-start;width: 50%;}#sk-container-id-2 div.sk-parallel-item:only-child::after {width: 0;}#sk-container-id-2 div.sk-dashed-wrapped {border: 1px dashed gray;margin: 0 0.4em 0.5em 0.4em;box-sizing: border-box;padding-bottom: 0.4em;background-color: white;}#sk-container-id-2 div.sk-label label {font-family: monospace;font-weight: bold;display: inline-block;line-height: 1.2em;}#sk-container-id-2 div.sk-label-container {text-align: center;}#sk-container-id-2 div.sk-container {/* jupyter's `normalize.less` sets `[hidden] { display: none; }` but bootstrap.min.css set `[hidden] { display: none !important; }` so we also need the `!important` here to be able to override the default hidden behavior on the sphinx rendered scikit-learn.org. See: https://github.com/scikit-learn/scikit-learn/issues/21755 */display: inline-block !important;position: relative;}#sk-container-id-2 div.sk-text-repr-fallback {display: none;}</style><div id=\"sk-container-id-2\" class=\"sk-top-container\"><div class=\"sk-text-repr-fallback\"><pre>LinearRegression()</pre><b>In a Jupyter environment, please rerun this cell to show the HTML representation or trust the notebook. <br />On GitHub, the HTML representation is unable to render, please try loading this page with nbviewer.org.</b></div><div class=\"sk-container\" hidden><div class=\"sk-item\"><div class=\"sk-estimator sk-toggleable\"><input class=\"sk-toggleable__control sk-hidden--visually\" id=\"sk-estimator-id-2\" type=\"checkbox\" checked><label for=\"sk-estimator-id-2\" class=\"sk-toggleable__label sk-toggleable__label-arrow\">LinearRegression</label><div class=\"sk-toggleable__content\"><pre>LinearRegression()</pre></div></div></div></div></div>"
      ],
      "text/plain": [
       "LinearRegression()"
      ]
     },
     "execution_count": 43,
     "metadata": {},
     "output_type": "execute_result"
    }
   ],
   "source": [
    "# Training the model\n",
    "model.fit(df2_features_train, df2_target_train)"
   ]
  },
  {
   "cell_type": "code",
   "execution_count": 44,
   "id": "0b6ed40e",
   "metadata": {},
   "outputs": [],
   "source": [
    "# predict the target using data valid\n",
    "df2_predictions_valid = model.predict(df2_features_valid)"
   ]
  },
  {
   "cell_type": "code",
   "execution_count": 45,
   "id": "5c188808",
   "metadata": {},
   "outputs": [],
   "source": [
    "# calculating the MSE\n",
    "mse_geo2 = mean_squared_error(df2_target_valid, df2_predictions_valid)"
   ]
  },
  {
   "cell_type": "code",
   "execution_count": 46,
   "id": "b1fff6fe",
   "metadata": {},
   "outputs": [
    {
     "name": "stdout",
     "output_type": "stream",
     "text": [
      "Average: 68.728546895446\n",
      "RMSE: 0.8930992867756168\n"
     ]
    }
   ],
   "source": [
    "# calculating the average and the RMSE\n",
    "print('Average:', df2_predictions_valid.mean())\n",
    "print('RMSE:', mse_geo2**0.5)"
   ]
  },
  {
   "cell_type": "markdown",
   "id": "4a561a55",
   "metadata": {},
   "source": [
    "## Region 3"
   ]
  },
  {
   "cell_type": "code",
   "execution_count": 47,
   "id": "15d531dc",
   "metadata": {},
   "outputs": [],
   "source": [
    "# Creating features by removing the `id` and `product` columns\n",
    "df3_features = df3.drop(['id', 'product'], axis=1)"
   ]
  },
  {
   "cell_type": "code",
   "execution_count": 48,
   "id": "b85d9231",
   "metadata": {},
   "outputs": [],
   "source": [
    "# Creating the target by taking the `product` column\n",
    "df3_target = df3['product']"
   ]
  },
  {
   "cell_type": "code",
   "execution_count": 49,
   "id": "21a45c62",
   "metadata": {},
   "outputs": [],
   "source": [
    "# Splitting the data into training and validation sets with a 75:25 ratio\n",
    "df3_features_train, df3_features_valid, df3_target_train, df3_target_valid = train_test_split(df3_features, df3_target, test_size=0.25, random_state=42)"
   ]
  },
  {
   "cell_type": "code",
   "execution_count": 50,
   "id": "70078580",
   "metadata": {},
   "outputs": [],
   "source": [
    "standard_scaler(df3_features_train, df3_features_valid)"
   ]
  },
  {
   "cell_type": "code",
   "execution_count": 51,
   "id": "02c62cc1",
   "metadata": {},
   "outputs": [
    {
     "data": {
      "text/html": [
       "<div>\n",
       "<style scoped>\n",
       "    .dataframe tbody tr th:only-of-type {\n",
       "        vertical-align: middle;\n",
       "    }\n",
       "\n",
       "    .dataframe tbody tr th {\n",
       "        vertical-align: top;\n",
       "    }\n",
       "\n",
       "    .dataframe thead th {\n",
       "        text-align: right;\n",
       "    }\n",
       "</style>\n",
       "<table border=\"1\" class=\"dataframe\">\n",
       "  <thead>\n",
       "    <tr style=\"text-align: right;\">\n",
       "      <th></th>\n",
       "      <th>f0</th>\n",
       "      <th>f1</th>\n",
       "      <th>f2</th>\n",
       "    </tr>\n",
       "  </thead>\n",
       "  <tbody>\n",
       "    <tr>\n",
       "      <th>98980</th>\n",
       "      <td>-0.343864</td>\n",
       "      <td>-1.338311</td>\n",
       "      <td>0.817572</td>\n",
       "    </tr>\n",
       "    <tr>\n",
       "      <th>69824</th>\n",
       "      <td>-0.400431</td>\n",
       "      <td>0.993613</td>\n",
       "      <td>-1.102974</td>\n",
       "    </tr>\n",
       "    <tr>\n",
       "      <th>9928</th>\n",
       "      <td>1.004849</td>\n",
       "      <td>-0.923485</td>\n",
       "      <td>-0.576264</td>\n",
       "    </tr>\n",
       "    <tr>\n",
       "      <th>75599</th>\n",
       "      <td>-0.784031</td>\n",
       "      <td>0.571573</td>\n",
       "      <td>0.914886</td>\n",
       "    </tr>\n",
       "    <tr>\n",
       "      <th>95621</th>\n",
       "      <td>0.619771</td>\n",
       "      <td>0.681588</td>\n",
       "      <td>-0.429467</td>\n",
       "    </tr>\n",
       "  </tbody>\n",
       "</table>\n",
       "</div>"
      ],
      "text/plain": [
       "             f0        f1        f2\n",
       "98980 -0.343864 -1.338311  0.817572\n",
       "69824 -0.400431  0.993613 -1.102974\n",
       "9928   1.004849 -0.923485 -0.576264\n",
       "75599 -0.784031  0.571573  0.914886\n",
       "95621  0.619771  0.681588 -0.429467"
      ]
     },
     "execution_count": 51,
     "metadata": {},
     "output_type": "execute_result"
    }
   ],
   "source": [
    "df3_features_train.head()"
   ]
  },
  {
   "cell_type": "code",
   "execution_count": 52,
   "id": "0a1f0723",
   "metadata": {},
   "outputs": [
    {
     "data": {
      "text/html": [
       "<div>\n",
       "<style scoped>\n",
       "    .dataframe tbody tr th:only-of-type {\n",
       "        vertical-align: middle;\n",
       "    }\n",
       "\n",
       "    .dataframe tbody tr th {\n",
       "        vertical-align: top;\n",
       "    }\n",
       "\n",
       "    .dataframe thead th {\n",
       "        text-align: right;\n",
       "    }\n",
       "</style>\n",
       "<table border=\"1\" class=\"dataframe\">\n",
       "  <thead>\n",
       "    <tr style=\"text-align: right;\">\n",
       "      <th></th>\n",
       "      <th>f0</th>\n",
       "      <th>f1</th>\n",
       "      <th>f2</th>\n",
       "    </tr>\n",
       "  </thead>\n",
       "  <tbody>\n",
       "    <tr>\n",
       "      <th>75721</th>\n",
       "      <td>1.218275</td>\n",
       "      <td>-0.966868</td>\n",
       "      <td>0.175298</td>\n",
       "    </tr>\n",
       "    <tr>\n",
       "      <th>80184</th>\n",
       "      <td>0.423146</td>\n",
       "      <td>0.434841</td>\n",
       "      <td>0.336007</td>\n",
       "    </tr>\n",
       "    <tr>\n",
       "      <th>19864</th>\n",
       "      <td>-1.453162</td>\n",
       "      <td>0.490760</td>\n",
       "      <td>-2.136247</td>\n",
       "    </tr>\n",
       "    <tr>\n",
       "      <th>76699</th>\n",
       "      <td>-1.177130</td>\n",
       "      <td>-0.876338</td>\n",
       "      <td>0.739322</td>\n",
       "    </tr>\n",
       "    <tr>\n",
       "      <th>92991</th>\n",
       "      <td>1.583978</td>\n",
       "      <td>0.828733</td>\n",
       "      <td>-1.114918</td>\n",
       "    </tr>\n",
       "  </tbody>\n",
       "</table>\n",
       "</div>"
      ],
      "text/plain": [
       "             f0        f1        f2\n",
       "75721  1.218275 -0.966868  0.175298\n",
       "80184  0.423146  0.434841  0.336007\n",
       "19864 -1.453162  0.490760 -2.136247\n",
       "76699 -1.177130 -0.876338  0.739322\n",
       "92991  1.583978  0.828733 -1.114918"
      ]
     },
     "execution_count": 52,
     "metadata": {},
     "output_type": "execute_result"
    }
   ],
   "source": [
    "df3_features_valid.head()"
   ]
  },
  {
   "cell_type": "markdown",
   "id": "76e91fc7",
   "metadata": {},
   "source": [
    "Hasil dari standard scaler membuat jarak nilai data numerik menjadi tidak jauh."
   ]
  },
  {
   "cell_type": "code",
   "execution_count": 53,
   "id": "1251e919",
   "metadata": {},
   "outputs": [
    {
     "data": {
      "text/html": [
       "<style>#sk-container-id-3 {color: black;}#sk-container-id-3 pre{padding: 0;}#sk-container-id-3 div.sk-toggleable {background-color: white;}#sk-container-id-3 label.sk-toggleable__label {cursor: pointer;display: block;width: 100%;margin-bottom: 0;padding: 0.3em;box-sizing: border-box;text-align: center;}#sk-container-id-3 label.sk-toggleable__label-arrow:before {content: \"▸\";float: left;margin-right: 0.25em;color: #696969;}#sk-container-id-3 label.sk-toggleable__label-arrow:hover:before {color: black;}#sk-container-id-3 div.sk-estimator:hover label.sk-toggleable__label-arrow:before {color: black;}#sk-container-id-3 div.sk-toggleable__content {max-height: 0;max-width: 0;overflow: hidden;text-align: left;background-color: #f0f8ff;}#sk-container-id-3 div.sk-toggleable__content pre {margin: 0.2em;color: black;border-radius: 0.25em;background-color: #f0f8ff;}#sk-container-id-3 input.sk-toggleable__control:checked~div.sk-toggleable__content {max-height: 200px;max-width: 100%;overflow: auto;}#sk-container-id-3 input.sk-toggleable__control:checked~label.sk-toggleable__label-arrow:before {content: \"▾\";}#sk-container-id-3 div.sk-estimator input.sk-toggleable__control:checked~label.sk-toggleable__label {background-color: #d4ebff;}#sk-container-id-3 div.sk-label input.sk-toggleable__control:checked~label.sk-toggleable__label {background-color: #d4ebff;}#sk-container-id-3 input.sk-hidden--visually {border: 0;clip: rect(1px 1px 1px 1px);clip: rect(1px, 1px, 1px, 1px);height: 1px;margin: -1px;overflow: hidden;padding: 0;position: absolute;width: 1px;}#sk-container-id-3 div.sk-estimator {font-family: monospace;background-color: #f0f8ff;border: 1px dotted black;border-radius: 0.25em;box-sizing: border-box;margin-bottom: 0.5em;}#sk-container-id-3 div.sk-estimator:hover {background-color: #d4ebff;}#sk-container-id-3 div.sk-parallel-item::after {content: \"\";width: 100%;border-bottom: 1px solid gray;flex-grow: 1;}#sk-container-id-3 div.sk-label:hover label.sk-toggleable__label {background-color: #d4ebff;}#sk-container-id-3 div.sk-serial::before {content: \"\";position: absolute;border-left: 1px solid gray;box-sizing: border-box;top: 0;bottom: 0;left: 50%;z-index: 0;}#sk-container-id-3 div.sk-serial {display: flex;flex-direction: column;align-items: center;background-color: white;padding-right: 0.2em;padding-left: 0.2em;position: relative;}#sk-container-id-3 div.sk-item {position: relative;z-index: 1;}#sk-container-id-3 div.sk-parallel {display: flex;align-items: stretch;justify-content: center;background-color: white;position: relative;}#sk-container-id-3 div.sk-item::before, #sk-container-id-3 div.sk-parallel-item::before {content: \"\";position: absolute;border-left: 1px solid gray;box-sizing: border-box;top: 0;bottom: 0;left: 50%;z-index: -1;}#sk-container-id-3 div.sk-parallel-item {display: flex;flex-direction: column;z-index: 1;position: relative;background-color: white;}#sk-container-id-3 div.sk-parallel-item:first-child::after {align-self: flex-end;width: 50%;}#sk-container-id-3 div.sk-parallel-item:last-child::after {align-self: flex-start;width: 50%;}#sk-container-id-3 div.sk-parallel-item:only-child::after {width: 0;}#sk-container-id-3 div.sk-dashed-wrapped {border: 1px dashed gray;margin: 0 0.4em 0.5em 0.4em;box-sizing: border-box;padding-bottom: 0.4em;background-color: white;}#sk-container-id-3 div.sk-label label {font-family: monospace;font-weight: bold;display: inline-block;line-height: 1.2em;}#sk-container-id-3 div.sk-label-container {text-align: center;}#sk-container-id-3 div.sk-container {/* jupyter's `normalize.less` sets `[hidden] { display: none; }` but bootstrap.min.css set `[hidden] { display: none !important; }` so we also need the `!important` here to be able to override the default hidden behavior on the sphinx rendered scikit-learn.org. See: https://github.com/scikit-learn/scikit-learn/issues/21755 */display: inline-block !important;position: relative;}#sk-container-id-3 div.sk-text-repr-fallback {display: none;}</style><div id=\"sk-container-id-3\" class=\"sk-top-container\"><div class=\"sk-text-repr-fallback\"><pre>LinearRegression()</pre><b>In a Jupyter environment, please rerun this cell to show the HTML representation or trust the notebook. <br />On GitHub, the HTML representation is unable to render, please try loading this page with nbviewer.org.</b></div><div class=\"sk-container\" hidden><div class=\"sk-item\"><div class=\"sk-estimator sk-toggleable\"><input class=\"sk-toggleable__control sk-hidden--visually\" id=\"sk-estimator-id-3\" type=\"checkbox\" checked><label for=\"sk-estimator-id-3\" class=\"sk-toggleable__label sk-toggleable__label-arrow\">LinearRegression</label><div class=\"sk-toggleable__content\"><pre>LinearRegression()</pre></div></div></div></div></div>"
      ],
      "text/plain": [
       "LinearRegression()"
      ]
     },
     "execution_count": 53,
     "metadata": {},
     "output_type": "execute_result"
    }
   ],
   "source": [
    "# Training the model using train set\n",
    "model.fit(df3_features_train, df3_target_train)"
   ]
  },
  {
   "cell_type": "code",
   "execution_count": 54,
   "id": "9d60ee23",
   "metadata": {},
   "outputs": [],
   "source": [
    "# Predict the target using data valid\n",
    "df3_predictions_valid = model.predict(df3_features_valid)"
   ]
  },
  {
   "cell_type": "code",
   "execution_count": 55,
   "id": "eea00f84",
   "metadata": {},
   "outputs": [],
   "source": [
    "# Calculating the MSE\n",
    "mse_geo3 = mean_squared_error(df3_target_valid, df3_predictions_valid)"
   ]
  },
  {
   "cell_type": "code",
   "execution_count": 56,
   "id": "6ab04d30",
   "metadata": {},
   "outputs": [
    {
     "name": "stdout",
     "output_type": "stream",
     "text": [
      "Average: 94.77102387765939\n",
      "RMSE: 40.14587231134218\n"
     ]
    }
   ],
   "source": [
    "# Calculating the average and the RMSE\n",
    "print('Average:', df3_predictions_valid.mean())\n",
    "print('RMSE:', mse_geo3**0.5)"
   ]
  },
  {
   "cell_type": "markdown",
   "id": "868c7e1a",
   "metadata": {},
   "source": [
    "## Comparing The Result"
   ]
  },
  {
   "cell_type": "markdown",
   "id": "d2d51e07",
   "metadata": {},
   "source": [
    "### Region 1"
   ]
  },
  {
   "cell_type": "code",
   "execution_count": 57,
   "id": "845d87e0",
   "metadata": {},
   "outputs": [],
   "source": [
    "# Creating a series and converting it into a DataFrame\n",
    "df1_predicted_value = pd.Series(df1_predictions_valid)\n",
    "df1_real_value = pd.Series(df1_target_valid)"
   ]
  },
  {
   "cell_type": "code",
   "execution_count": 58,
   "id": "5f2ea818",
   "metadata": {},
   "outputs": [],
   "source": [
    "df1_predicted_value = pd.DataFrame(df1_predicted_value).rename(columns={0:'predicted_value'}).reset_index(drop=True)\n",
    "df1_real_value = pd.DataFrame(df1_real_value).rename(columns={'product':'real_value'}).reset_index(drop=True)"
   ]
  },
  {
   "cell_type": "code",
   "execution_count": 59,
   "id": "8c1f82e7",
   "metadata": {},
   "outputs": [
    {
     "data": {
      "text/html": [
       "<div>\n",
       "<style scoped>\n",
       "    .dataframe tbody tr th:only-of-type {\n",
       "        vertical-align: middle;\n",
       "    }\n",
       "\n",
       "    .dataframe tbody tr th {\n",
       "        vertical-align: top;\n",
       "    }\n",
       "\n",
       "    .dataframe thead th {\n",
       "        text-align: right;\n",
       "    }\n",
       "</style>\n",
       "<table border=\"1\" class=\"dataframe\">\n",
       "  <thead>\n",
       "    <tr style=\"text-align: right;\">\n",
       "      <th></th>\n",
       "      <th>predicted_value</th>\n",
       "      <th>real_value</th>\n",
       "    </tr>\n",
       "  </thead>\n",
       "  <tbody>\n",
       "    <tr>\n",
       "      <th>0</th>\n",
       "      <td>95.894952</td>\n",
       "      <td>10.038645</td>\n",
       "    </tr>\n",
       "    <tr>\n",
       "      <th>1</th>\n",
       "      <td>77.572583</td>\n",
       "      <td>114.551489</td>\n",
       "    </tr>\n",
       "    <tr>\n",
       "      <th>2</th>\n",
       "      <td>77.892640</td>\n",
       "      <td>132.603635</td>\n",
       "    </tr>\n",
       "    <tr>\n",
       "      <th>3</th>\n",
       "      <td>90.175134</td>\n",
       "      <td>169.072125</td>\n",
       "    </tr>\n",
       "    <tr>\n",
       "      <th>4</th>\n",
       "      <td>70.510088</td>\n",
       "      <td>122.325180</td>\n",
       "    </tr>\n",
       "    <tr>\n",
       "      <th>...</th>\n",
       "      <td>...</td>\n",
       "      <td>...</td>\n",
       "    </tr>\n",
       "    <tr>\n",
       "      <th>24995</th>\n",
       "      <td>103.037104</td>\n",
       "      <td>170.116726</td>\n",
       "    </tr>\n",
       "    <tr>\n",
       "      <th>24996</th>\n",
       "      <td>85.403255</td>\n",
       "      <td>93.632175</td>\n",
       "    </tr>\n",
       "    <tr>\n",
       "      <th>24997</th>\n",
       "      <td>61.509833</td>\n",
       "      <td>127.352259</td>\n",
       "    </tr>\n",
       "    <tr>\n",
       "      <th>24998</th>\n",
       "      <td>118.180397</td>\n",
       "      <td>99.782700</td>\n",
       "    </tr>\n",
       "    <tr>\n",
       "      <th>24999</th>\n",
       "      <td>118.169392</td>\n",
       "      <td>177.821022</td>\n",
       "    </tr>\n",
       "  </tbody>\n",
       "</table>\n",
       "<p>25000 rows × 2 columns</p>\n",
       "</div>"
      ],
      "text/plain": [
       "       predicted_value  real_value\n",
       "0            95.894952   10.038645\n",
       "1            77.572583  114.551489\n",
       "2            77.892640  132.603635\n",
       "3            90.175134  169.072125\n",
       "4            70.510088  122.325180\n",
       "...                ...         ...\n",
       "24995       103.037104  170.116726\n",
       "24996        85.403255   93.632175\n",
       "24997        61.509833  127.352259\n",
       "24998       118.180397   99.782700\n",
       "24999       118.169392  177.821022\n",
       "\n",
       "[25000 rows x 2 columns]"
      ]
     },
     "execution_count": 59,
     "metadata": {},
     "output_type": "execute_result"
    }
   ],
   "source": [
    "# Merging two dataframes and comparing the result\n",
    "df1_predicted_value.join(df1_real_value)"
   ]
  },
  {
   "cell_type": "markdown",
   "id": "1e6a0879",
   "metadata": {},
   "source": [
    "### Region 2"
   ]
  },
  {
   "cell_type": "code",
   "execution_count": 60,
   "id": "1e0eb325",
   "metadata": {},
   "outputs": [],
   "source": [
    "# Creating a series and converting it into a DataFrame\n",
    "df2_predicted_value = pd.Series(df2_predictions_valid)\n",
    "df2_real_value = pd.Series(df2_target_valid)"
   ]
  },
  {
   "cell_type": "code",
   "execution_count": 61,
   "id": "39db416d",
   "metadata": {},
   "outputs": [],
   "source": [
    "df2_predicted_value = pd.DataFrame(df2_predicted_value).rename(columns={0:'predicted_value'}).reset_index(drop=True)\n",
    "df2_real_value = pd.DataFrame(df2_real_value).rename(columns={'product':'real_value'}).reset_index(drop=True)"
   ]
  },
  {
   "cell_type": "code",
   "execution_count": 62,
   "id": "78ef320d",
   "metadata": {},
   "outputs": [
    {
     "data": {
      "text/html": [
       "<div>\n",
       "<style scoped>\n",
       "    .dataframe tbody tr th:only-of-type {\n",
       "        vertical-align: middle;\n",
       "    }\n",
       "\n",
       "    .dataframe tbody tr th {\n",
       "        vertical-align: top;\n",
       "    }\n",
       "\n",
       "    .dataframe thead th {\n",
       "        text-align: right;\n",
       "    }\n",
       "</style>\n",
       "<table border=\"1\" class=\"dataframe\">\n",
       "  <thead>\n",
       "    <tr style=\"text-align: right;\">\n",
       "      <th></th>\n",
       "      <th>predicted_value</th>\n",
       "      <th>real_value</th>\n",
       "    </tr>\n",
       "  </thead>\n",
       "  <tbody>\n",
       "    <tr>\n",
       "      <th>0</th>\n",
       "      <td>82.663314</td>\n",
       "      <td>80.859783</td>\n",
       "    </tr>\n",
       "    <tr>\n",
       "      <th>1</th>\n",
       "      <td>54.431786</td>\n",
       "      <td>53.906522</td>\n",
       "    </tr>\n",
       "    <tr>\n",
       "      <th>2</th>\n",
       "      <td>29.748760</td>\n",
       "      <td>30.132364</td>\n",
       "    </tr>\n",
       "    <tr>\n",
       "      <th>3</th>\n",
       "      <td>53.552133</td>\n",
       "      <td>53.906522</td>\n",
       "    </tr>\n",
       "    <tr>\n",
       "      <th>4</th>\n",
       "      <td>1.243856</td>\n",
       "      <td>0.000000</td>\n",
       "    </tr>\n",
       "    <tr>\n",
       "      <th>...</th>\n",
       "      <td>...</td>\n",
       "      <td>...</td>\n",
       "    </tr>\n",
       "    <tr>\n",
       "      <th>24995</th>\n",
       "      <td>136.869211</td>\n",
       "      <td>137.945408</td>\n",
       "    </tr>\n",
       "    <tr>\n",
       "      <th>24996</th>\n",
       "      <td>110.693465</td>\n",
       "      <td>110.992147</td>\n",
       "    </tr>\n",
       "    <tr>\n",
       "      <th>24997</th>\n",
       "      <td>137.879341</td>\n",
       "      <td>137.945408</td>\n",
       "    </tr>\n",
       "    <tr>\n",
       "      <th>24998</th>\n",
       "      <td>83.761966</td>\n",
       "      <td>84.038886</td>\n",
       "    </tr>\n",
       "    <tr>\n",
       "      <th>24999</th>\n",
       "      <td>53.958466</td>\n",
       "      <td>53.906522</td>\n",
       "    </tr>\n",
       "  </tbody>\n",
       "</table>\n",
       "<p>25000 rows × 2 columns</p>\n",
       "</div>"
      ],
      "text/plain": [
       "       predicted_value  real_value\n",
       "0            82.663314   80.859783\n",
       "1            54.431786   53.906522\n",
       "2            29.748760   30.132364\n",
       "3            53.552133   53.906522\n",
       "4             1.243856    0.000000\n",
       "...                ...         ...\n",
       "24995       136.869211  137.945408\n",
       "24996       110.693465  110.992147\n",
       "24997       137.879341  137.945408\n",
       "24998        83.761966   84.038886\n",
       "24999        53.958466   53.906522\n",
       "\n",
       "[25000 rows x 2 columns]"
      ]
     },
     "execution_count": 62,
     "metadata": {},
     "output_type": "execute_result"
    }
   ],
   "source": [
    "# Merging two dataframes and comparing the result\n",
    "df2_predicted_value.join(df2_real_value)"
   ]
  },
  {
   "cell_type": "markdown",
   "id": "08230578",
   "metadata": {},
   "source": [
    "### Region 3"
   ]
  },
  {
   "cell_type": "code",
   "execution_count": 63,
   "id": "6128790f",
   "metadata": {},
   "outputs": [],
   "source": [
    "# Creating a series and converting it into a DataFrame\n",
    "df3_predicted_value = pd.Series(df3_predictions_valid)\n",
    "df3_real_value = pd.Series(df3_target_valid)"
   ]
  },
  {
   "cell_type": "code",
   "execution_count": 64,
   "id": "0a46ee3d",
   "metadata": {},
   "outputs": [],
   "source": [
    "df3_predicted_value = pd.DataFrame(df3_predicted_value).rename(columns={0:'predicted_value'}).reset_index(drop=True)\n",
    "df3_real_value = pd.DataFrame(df3_real_value).rename(columns={'product':'real_value'}).reset_index(drop=True)"
   ]
  },
  {
   "cell_type": "code",
   "execution_count": 65,
   "id": "470228d0",
   "metadata": {},
   "outputs": [
    {
     "data": {
      "text/html": [
       "<div>\n",
       "<style scoped>\n",
       "    .dataframe tbody tr th:only-of-type {\n",
       "        vertical-align: middle;\n",
       "    }\n",
       "\n",
       "    .dataframe tbody tr th {\n",
       "        vertical-align: top;\n",
       "    }\n",
       "\n",
       "    .dataframe thead th {\n",
       "        text-align: right;\n",
       "    }\n",
       "</style>\n",
       "<table border=\"1\" class=\"dataframe\">\n",
       "  <thead>\n",
       "    <tr style=\"text-align: right;\">\n",
       "      <th></th>\n",
       "      <th>predicted_value</th>\n",
       "      <th>real_value</th>\n",
       "    </tr>\n",
       "  </thead>\n",
       "  <tbody>\n",
       "    <tr>\n",
       "      <th>0</th>\n",
       "      <td>98.301916</td>\n",
       "      <td>117.441301</td>\n",
       "    </tr>\n",
       "    <tr>\n",
       "      <th>1</th>\n",
       "      <td>101.592461</td>\n",
       "      <td>47.841249</td>\n",
       "    </tr>\n",
       "    <tr>\n",
       "      <th>2</th>\n",
       "      <td>52.449099</td>\n",
       "      <td>45.883483</td>\n",
       "    </tr>\n",
       "    <tr>\n",
       "      <th>3</th>\n",
       "      <td>109.922127</td>\n",
       "      <td>139.014608</td>\n",
       "    </tr>\n",
       "    <tr>\n",
       "      <th>4</th>\n",
       "      <td>72.411847</td>\n",
       "      <td>84.004276</td>\n",
       "    </tr>\n",
       "    <tr>\n",
       "      <th>...</th>\n",
       "      <td>...</td>\n",
       "      <td>...</td>\n",
       "    </tr>\n",
       "    <tr>\n",
       "      <th>24995</th>\n",
       "      <td>102.764169</td>\n",
       "      <td>40.797226</td>\n",
       "    </tr>\n",
       "    <tr>\n",
       "      <th>24996</th>\n",
       "      <td>93.431823</td>\n",
       "      <td>87.144239</td>\n",
       "    </tr>\n",
       "    <tr>\n",
       "      <th>24997</th>\n",
       "      <td>64.098390</td>\n",
       "      <td>52.039812</td>\n",
       "    </tr>\n",
       "    <tr>\n",
       "      <th>24998</th>\n",
       "      <td>83.764135</td>\n",
       "      <td>136.961454</td>\n",
       "    </tr>\n",
       "    <tr>\n",
       "      <th>24999</th>\n",
       "      <td>86.558644</td>\n",
       "      <td>109.173206</td>\n",
       "    </tr>\n",
       "  </tbody>\n",
       "</table>\n",
       "<p>25000 rows × 2 columns</p>\n",
       "</div>"
      ],
      "text/plain": [
       "       predicted_value  real_value\n",
       "0            98.301916  117.441301\n",
       "1           101.592461   47.841249\n",
       "2            52.449099   45.883483\n",
       "3           109.922127  139.014608\n",
       "4            72.411847   84.004276\n",
       "...                ...         ...\n",
       "24995       102.764169   40.797226\n",
       "24996        93.431823   87.144239\n",
       "24997        64.098390   52.039812\n",
       "24998        83.764135  136.961454\n",
       "24999        86.558644  109.173206\n",
       "\n",
       "[25000 rows x 2 columns]"
      ]
     },
     "execution_count": 65,
     "metadata": {},
     "output_type": "execute_result"
    }
   ],
   "source": [
    "# Merging two dataframes and comparing the result\n",
    "df3_predicted_value.join(df3_real_value)"
   ]
  },
  {
   "cell_type": "markdown",
   "id": "87b91ff4",
   "metadata": {},
   "source": [
    "## Result Analysis\n",
    "Based on the results above, we can conclude that:\n",
    "- In region one, the average oil reserve volume obtained is **92** with an RMSE value of **37.5**.\n",
    "- In region two, the average oil reserve volume obtained is **68** with an RMSE value of **0.89**.\n",
    "- In region three, the average oil reserve volume obtained is **94** with an RMSE value of **40.14**.\n",
    "\n",
    "Based on the explanation above, we can see that region 3 has the highest oil reserve volume, while region 2 has the lowest RMSE value, indicating that the model predicted more accurately using region 2 data.\n",
    "\n",
    "When comparing the **predicted_value** and **real_value**, the results for regions 1 and 3 are far apart, while for region 2, the results are almost equally accurate. This can also be seen from the RMSE value, where the lower the value, the better the accuracy in prediction."
   ]
  },
  {
   "cell_type": "markdown",
   "id": "a6538d1e",
   "metadata": {},
   "source": [
    "# Preparing to Calculate Profit"
   ]
  },
  {
   "cell_type": "markdown",
   "id": "4b251b51",
   "metadata": {},
   "source": [
    "Remaining available oil volume:"
   ]
  },
  {
   "cell_type": "code",
   "execution_count": 66,
   "id": "10226188",
   "metadata": {},
   "outputs": [],
   "source": [
    "chosen_points = 200\n",
    "budget_200 = 100000000\n",
    "income_per_volume = 4500\n",
    "volume_min = budget_200/income_per_volume\n",
    "each_wells_volume = volume_min/chosen_points"
   ]
  },
  {
   "cell_type": "code",
   "execution_count": 67,
   "id": "615cb85a",
   "metadata": {},
   "outputs": [
    {
     "name": "stdout",
     "output_type": "stream",
     "text": [
      "Minimum volume: 22222.222222222223\n",
      "Each well must have a minimum oil volume.: 111.11111111111111\n"
     ]
    }
   ],
   "source": [
    "print('Minimum volume:', volume_min)\n",
    "print('Each well must have a minimum oil volume.:', each_wells_volume)"
   ]
  },
  {
   "cell_type": "markdown",
   "id": "18a19a0e",
   "metadata": {},
   "source": [
    "The average available oil reserves:"
   ]
  },
  {
   "cell_type": "code",
   "execution_count": 68,
   "id": "be58620d",
   "metadata": {},
   "outputs": [
    {
     "data": {
      "text/plain": [
       "92.49999999999974"
      ]
     },
     "execution_count": 68,
     "metadata": {},
     "output_type": "execute_result"
    }
   ],
   "source": [
    "df1['product'].mean()"
   ]
  },
  {
   "cell_type": "code",
   "execution_count": 69,
   "id": "bda96557",
   "metadata": {},
   "outputs": [
    {
     "data": {
      "text/plain": [
       "68.82500000002561"
      ]
     },
     "execution_count": 69,
     "metadata": {},
     "output_type": "execute_result"
    }
   ],
   "source": [
    "df2['product'].mean()"
   ]
  },
  {
   "cell_type": "code",
   "execution_count": 70,
   "id": "d4bc061f",
   "metadata": {},
   "outputs": [
    {
     "data": {
      "text/plain": [
       "95.00000000000041"
      ]
     },
     "execution_count": 70,
     "metadata": {},
     "output_type": "execute_result"
    }
   ],
   "source": [
    "df3['product'].mean()"
   ]
  },
  {
   "cell_type": "markdown",
   "id": "29ec7b5b",
   "metadata": {},
   "source": [
    "**Based on the information above:** The minimum volume that must be filled for each well at 200 points is **111**. However, the average volume generated in each region does not reach the minimum volume required for each well."
   ]
  },
  {
   "cell_type": "markdown",
   "id": "00aba247",
   "metadata": {},
   "source": [
    "# Calculate The Profit"
   ]
  },
  {
   "cell_type": "code",
   "execution_count": 71,
   "id": "1f91ae04",
   "metadata": {},
   "outputs": [],
   "source": [
    "def profit(target, predictions):\n",
    "    sorted_probs = predictions.sort_values(ascending=False)\n",
    "    select_points = target[sorted_probs.index][:200]\n",
    "    revenue = income_per_volume*select_points.sum()\n",
    "    return round(revenue - budget_200, 2)"
   ]
  },
  {
   "cell_type": "markdown",
   "id": "3aa60f2f",
   "metadata": {},
   "source": [
    "Resetting the index of the validation data:"
   ]
  },
  {
   "cell_type": "code",
   "execution_count": 72,
   "id": "4dfb0b88",
   "metadata": {},
   "outputs": [],
   "source": [
    "df1_target_valid = df1_target_valid.reset_index(drop=True)\n",
    "df2_target_valid = df2_target_valid.reset_index(drop=True)\n",
    "df3_target_valid = df3_target_valid.reset_index(drop=True)"
   ]
  },
  {
   "cell_type": "markdown",
   "id": "ff555724",
   "metadata": {},
   "source": [
    "Converting the prediction data into a series:"
   ]
  },
  {
   "cell_type": "code",
   "execution_count": 73,
   "id": "e023fd35",
   "metadata": {},
   "outputs": [],
   "source": [
    "df1_predictions_valid = pd.Series(df1_predictions_valid)\n",
    "df2_predictions_valid = pd.Series(df2_predictions_valid)\n",
    "df3_predictions_valid = pd.Series(df3_predictions_valid)"
   ]
  },
  {
   "cell_type": "code",
   "execution_count": 74,
   "id": "f17e41fc",
   "metadata": {},
   "outputs": [
    {
     "name": "stdout",
     "output_type": "stream",
     "text": [
      "The total profit obtained in region 1 is: 33208260.43 USD\n",
      "The total profit obtained in region 2 is: 24150866.97 USD\n",
      "The total profit obtained in region 3 is: 25985717.59 USD\n"
     ]
    }
   ],
   "source": [
    "print(\"The total profit obtained in region 1 is: {} USD\".format(profit(df1_target_valid, df1_predictions_valid)))\n",
    "print(\"The total profit obtained in region 2 is: {} USD\".format(profit(df2_target_valid, df2_predictions_valid)))\n",
    "print(\"The total profit obtained in region 3 is: {} USD\".format(profit(df3_target_valid, df3_predictions_valid)))"
   ]
  },
  {
   "cell_type": "markdown",
   "id": "10933a27",
   "metadata": {},
   "source": [
    "Based on the information obtained, the highest profit is obtained in region 1, with a profit of **33,208,260** USD. However, not all points in that region generate such profit. Therefore, bootstrapping will be performed with a 95% confidence interval and a sample size of 1,000."
   ]
  },
  {
   "cell_type": "markdown",
   "id": "e306d2e8",
   "metadata": {},
   "source": [
    "# Calculating Risk and Profit for Each Region"
   ]
  },
  {
   "cell_type": "code",
   "execution_count": 75,
   "id": "7b3d236f",
   "metadata": {},
   "outputs": [],
   "source": [
    "state = np.random.RandomState(12345) # random state value\n",
    "\n",
    "# Create function to calculate risk value and profit\n",
    "def risk_and_profit(target, predictions): \n",
    "    target = target.reset_index(drop=True)\n",
    "    values = [] # list kosong untuk nilai profit\n",
    "    # loss = 0 # jumlah kerugian yang terjadi\n",
    "    \n",
    "    # looping 1000 samples from data valid \n",
    "    for i in range(1000):\n",
    "        predictions_subsample = predictions.sample(n=500, replace=True, random_state=state) # taking 500 subsamples \n",
    "        # because the observation points are 500\n",
    "        target_subsample = target[predictions_subsample.index] # taking subsamples in the target\n",
    "        profits = profit(target_subsample, predictions_subsample) # calculating the profit using the function\n",
    "        values.append(profits) # Adding profits value in a list\n",
    "        # if profits < 0:\n",
    "            # loss += 1 # how many loss happened\n",
    "    values = pd.Series(values)\n",
    "    average = values.mean()\n",
    "    loss = values[values < 0]\n",
    "    \n",
    "    # Finding Confidence Intervals\n",
    "    lower = values.quantile(0.025) # quantile lower in values\n",
    "    upper = values.quantile(0.975) # quantile upper in values\n",
    "    # risk_of_loss = loss/1000 # Calculating loss in percantage\n",
    "    risk_of_loss = loss.sum()/1000 # Calculating loss in USD\n",
    "    \n",
    "    print(\"Average Income: {} USD\".format(average))\n",
    "    print(\"Confidents Interval: ({}, {})\".format(lower, upper))\n",
    "    print(\"Loss Risk Amounts To: {}\".format(risk_of_loss))"
   ]
  },
  {
   "cell_type": "code",
   "execution_count": 76,
   "id": "3632b84c",
   "metadata": {},
   "outputs": [
    {
     "name": "stdout",
     "output_type": "stream",
     "text": [
      "Region 1\n",
      "Average Income: 4259385.269270006 USD\n",
      "Confidents Interval: (-1020900.94925, 9479763.535749998)\n",
      "Loss Risk Amounts To: -68948.89772\n"
     ]
    }
   ],
   "source": [
    "print(\"Region 1\")\n",
    "risk_and_profit(df1_target_valid, df1_predictions_valid)"
   ]
  },
  {
   "cell_type": "code",
   "execution_count": 77,
   "id": "aaf32e78",
   "metadata": {},
   "outputs": [
    {
     "name": "stdout",
     "output_type": "stream",
     "text": [
      "Region 2\n",
      "Average Income: 5182594.9369899975 USD\n",
      "Confidents Interval: (1281232.31, 9536129.819)\n",
      "Loss Risk Amounts To: -1472.5228\n"
     ]
    }
   ],
   "source": [
    "print(\"Region 2\")\n",
    "risk_and_profit(df2_target_valid, df2_predictions_valid)"
   ]
  },
  {
   "cell_type": "code",
   "execution_count": 78,
   "id": "10417467",
   "metadata": {},
   "outputs": [
    {
     "name": "stdout",
     "output_type": "stream",
     "text": [
      "Region 3\n",
      "Average Income: 4126728.9898100025 USD\n",
      "Confidents Interval: (-1589395.15525, 9781912.0215)\n",
      "Loss Risk Amounts To: -93122.13161\n"
     ]
    }
   ],
   "source": [
    "print(\"Region 3\")\n",
    "risk_and_profit(df3_target_valid, df3_predictions_valid)"
   ]
  },
  {
   "cell_type": "markdown",
   "id": "1e6eeeee",
   "metadata": {},
   "source": [
    "Based on the information above, the region with the highest average income is region 2, with a loss risk of **-1472.5228**. This risk is significantly smaller compared to the other two regions. Regions 1 and 3 are not recommended due to the significant risk of loss. Based on this, region 2 is safe to be chosen as the location for drilling wells."
   ]
  },
  {
   "cell_type": "markdown",
   "id": "591652a3",
   "metadata": {},
   "source": [
    "# Conclusion\n",
    "- The model used for prediction is Linear Regression.\n",
    "- All the data used are numeric data without missing values, duplicates, or data type errors.\n",
    "- The data contains outliers that do not need to be removed as they are part of the data used for prediction.\n",
    "- The lowest RMSE value is in region 2. This is also indicated by the almost accurate prediction results when tested.\n",
    "- The minimum volume required for each well is 111, but the average volume in each region does not reach the minimum target volume.\n",
    "- The highest total profit is in region 1, with a profit of 33,208,260 USD.\n",
    "- Using a 95% confidence interval, region 2 is the safest choice for drilling wells."
   ]
  }
 ],
 "metadata": {
  "kernelspec": {
   "display_name": "Python 3 (ipykernel)",
   "language": "python",
   "name": "python3"
  },
  "language_info": {
   "codemirror_mode": {
    "name": "ipython",
    "version": 3
   },
   "file_extension": ".py",
   "mimetype": "text/x-python",
   "name": "python",
   "nbconvert_exporter": "python",
   "pygments_lexer": "ipython3",
   "version": "3.9.13"
  },
  "toc": {
   "base_numbering": 1,
   "nav_menu": {},
   "number_sections": true,
   "sideBar": true,
   "skip_h1_title": true,
   "title_cell": "Table of Contents",
   "title_sidebar": "Contents",
   "toc_cell": false,
   "toc_position": {},
   "toc_section_display": true,
   "toc_window_display": false
  }
 },
 "nbformat": 4,
 "nbformat_minor": 5
}
