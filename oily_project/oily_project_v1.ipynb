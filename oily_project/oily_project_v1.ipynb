{
 "cells": [
  {
   "cell_type": "markdown",
   "id": "1e51750e",
   "metadata": {},
   "source": [
    "# Konten\n",
    "* [Deskripsi Proyek]\n",
    "* [Tahap 1 Import Module]\n",
    "* [Tahap 2 Import Datasets]\n",
    "* [Tahap 3 Memeriksa Datasets]\n",
    "* [Tahap 4 Latihan dan Pengujian Model]\n",
    "    * [4.1 Fungsi Standard Scaler]\n",
    "    * [4.2 Wilayah 1]\n",
    "    * [4.3 Wilayah 2]\n",
    "    * [4.4 Wilayah 3]\n",
    "    * [4.5 Analisis Hasil]\n",
    "* [Tahap 5 Persiapan Menghitung Laba]\n",
    "* [Tahap 6 Menghitung Laba]\n",
    "* [Tahap 7 Menghitung Resiko dan Laba untuk Setiap Wilayah]"
   ]
  },
  {
   "cell_type": "markdown",
   "id": "1d76cf50",
   "metadata": {},
   "source": [
    "# Deskripsi Proyek\n",
    "Pada proyek ini kita ditugaskan untuk menemukan lokasi yang cocok untuk penggalian sumur minyak baru. Adapun langkah-langkah untuk memilih lokasi baru adalah:\n",
    "- Kumpulkan parameter untuk membangun sumur minyak di beberapa wilayah terpilih: kualitas minyak dan volume cadangan minyak;\n",
    "- Buatlah sebuah model yang mampu memprediksi volume cadangan minyak di sumur yang baru;\n",
    "- Pilihlah sumur minyak dengan nilai estimasi tertinggi;\n",
    "- Pilihlah wilayah dengan total laba tertinggi untuk sumur minyak terpilih.\n",
    "\n",
    "Data yang dipakai adalah data minyak dari tiga wilayah. Dari data tersebut, akan dibuat model yang akan membantu dalam pemilihan wilayah."
   ]
  },
  {
   "cell_type": "markdown",
   "id": "e265c4af",
   "metadata": {},
   "source": [
    "# Import Module"
   ]
  },
  {
   "cell_type": "code",
   "execution_count": 2,
   "id": "b36b7057",
   "metadata": {},
   "outputs": [],
   "source": [
    "import pandas as pd\n",
    "import numpy as np\n",
    "import matplotlib.pyplot as plt\n",
    "from sklearn.model_selection import train_test_split\n",
    "from sklearn.linear_model import LinearRegression\n",
    "from sklearn.metrics import mean_squared_error\n",
    "from sklearn.preprocessing import StandardScaler"
   ]
  },
  {
   "cell_type": "markdown",
   "id": "f774d7ee",
   "metadata": {},
   "source": [
    "# Import Datasets"
   ]
  },
  {
   "cell_type": "code",
   "execution_count": 3,
   "id": "8ec022b2",
   "metadata": {},
   "outputs": [],
   "source": [
    "try:\n",
    "    df1 = pd.read_csv('D:\\datasets\\projek_9\\geo_data_0.csv')\n",
    "    df2 = pd.read_csv('D:\\datasets\\projek_9\\geo_data_1.csv')\n",
    "    df3 = pd.read_csv('D:\\datasets\\projek_9\\geo_data_2.csv')\n",
    "except:\n",
    "    df1 = pd.read_csv('/datasets/geo_data_0.csv')\n",
    "    df2 = pd.read_csv('/datasets/geo_data_1.csv')\n",
    "    df3 = pd.read_csv('/datasets/geo_data_2.csv')"
   ]
  },
  {
   "cell_type": "code",
   "execution_count": 4,
   "id": "19387b51",
   "metadata": {},
   "outputs": [
    {
     "data": {
      "text/html": [
       "<div>\n",
       "<style scoped>\n",
       "    .dataframe tbody tr th:only-of-type {\n",
       "        vertical-align: middle;\n",
       "    }\n",
       "\n",
       "    .dataframe tbody tr th {\n",
       "        vertical-align: top;\n",
       "    }\n",
       "\n",
       "    .dataframe thead th {\n",
       "        text-align: right;\n",
       "    }\n",
       "</style>\n",
       "<table border=\"1\" class=\"dataframe\">\n",
       "  <thead>\n",
       "    <tr style=\"text-align: right;\">\n",
       "      <th></th>\n",
       "      <th>id</th>\n",
       "      <th>f0</th>\n",
       "      <th>f1</th>\n",
       "      <th>f2</th>\n",
       "      <th>product</th>\n",
       "    </tr>\n",
       "  </thead>\n",
       "  <tbody>\n",
       "    <tr>\n",
       "      <th>0</th>\n",
       "      <td>txEyH</td>\n",
       "      <td>0.705745</td>\n",
       "      <td>-0.497823</td>\n",
       "      <td>1.221170</td>\n",
       "      <td>105.280062</td>\n",
       "    </tr>\n",
       "    <tr>\n",
       "      <th>1</th>\n",
       "      <td>2acmU</td>\n",
       "      <td>1.334711</td>\n",
       "      <td>-0.340164</td>\n",
       "      <td>4.365080</td>\n",
       "      <td>73.037750</td>\n",
       "    </tr>\n",
       "    <tr>\n",
       "      <th>2</th>\n",
       "      <td>409Wp</td>\n",
       "      <td>1.022732</td>\n",
       "      <td>0.151990</td>\n",
       "      <td>1.419926</td>\n",
       "      <td>85.265647</td>\n",
       "    </tr>\n",
       "    <tr>\n",
       "      <th>3</th>\n",
       "      <td>iJLyR</td>\n",
       "      <td>-0.032172</td>\n",
       "      <td>0.139033</td>\n",
       "      <td>2.978566</td>\n",
       "      <td>168.620776</td>\n",
       "    </tr>\n",
       "    <tr>\n",
       "      <th>4</th>\n",
       "      <td>Xdl7t</td>\n",
       "      <td>1.988431</td>\n",
       "      <td>0.155413</td>\n",
       "      <td>4.751769</td>\n",
       "      <td>154.036647</td>\n",
       "    </tr>\n",
       "  </tbody>\n",
       "</table>\n",
       "</div>"
      ],
      "text/plain": [
       "      id        f0        f1        f2     product\n",
       "0  txEyH  0.705745 -0.497823  1.221170  105.280062\n",
       "1  2acmU  1.334711 -0.340164  4.365080   73.037750\n",
       "2  409Wp  1.022732  0.151990  1.419926   85.265647\n",
       "3  iJLyR -0.032172  0.139033  2.978566  168.620776\n",
       "4  Xdl7t  1.988431  0.155413  4.751769  154.036647"
      ]
     },
     "execution_count": 4,
     "metadata": {},
     "output_type": "execute_result"
    }
   ],
   "source": [
    "df1.head()"
   ]
  },
  {
   "cell_type": "code",
   "execution_count": 5,
   "id": "40011f3d",
   "metadata": {},
   "outputs": [
    {
     "data": {
      "text/html": [
       "<div>\n",
       "<style scoped>\n",
       "    .dataframe tbody tr th:only-of-type {\n",
       "        vertical-align: middle;\n",
       "    }\n",
       "\n",
       "    .dataframe tbody tr th {\n",
       "        vertical-align: top;\n",
       "    }\n",
       "\n",
       "    .dataframe thead th {\n",
       "        text-align: right;\n",
       "    }\n",
       "</style>\n",
       "<table border=\"1\" class=\"dataframe\">\n",
       "  <thead>\n",
       "    <tr style=\"text-align: right;\">\n",
       "      <th></th>\n",
       "      <th>id</th>\n",
       "      <th>f0</th>\n",
       "      <th>f1</th>\n",
       "      <th>f2</th>\n",
       "      <th>product</th>\n",
       "    </tr>\n",
       "  </thead>\n",
       "  <tbody>\n",
       "    <tr>\n",
       "      <th>0</th>\n",
       "      <td>kBEdx</td>\n",
       "      <td>-15.001348</td>\n",
       "      <td>-8.276000</td>\n",
       "      <td>-0.005876</td>\n",
       "      <td>3.179103</td>\n",
       "    </tr>\n",
       "    <tr>\n",
       "      <th>1</th>\n",
       "      <td>62mP7</td>\n",
       "      <td>14.272088</td>\n",
       "      <td>-3.475083</td>\n",
       "      <td>0.999183</td>\n",
       "      <td>26.953261</td>\n",
       "    </tr>\n",
       "    <tr>\n",
       "      <th>2</th>\n",
       "      <td>vyE1P</td>\n",
       "      <td>6.263187</td>\n",
       "      <td>-5.948386</td>\n",
       "      <td>5.001160</td>\n",
       "      <td>134.766305</td>\n",
       "    </tr>\n",
       "    <tr>\n",
       "      <th>3</th>\n",
       "      <td>KcrkZ</td>\n",
       "      <td>-13.081196</td>\n",
       "      <td>-11.506057</td>\n",
       "      <td>4.999415</td>\n",
       "      <td>137.945408</td>\n",
       "    </tr>\n",
       "    <tr>\n",
       "      <th>4</th>\n",
       "      <td>AHL4O</td>\n",
       "      <td>12.702195</td>\n",
       "      <td>-8.147433</td>\n",
       "      <td>5.004363</td>\n",
       "      <td>134.766305</td>\n",
       "    </tr>\n",
       "  </tbody>\n",
       "</table>\n",
       "</div>"
      ],
      "text/plain": [
       "      id         f0         f1        f2     product\n",
       "0  kBEdx -15.001348  -8.276000 -0.005876    3.179103\n",
       "1  62mP7  14.272088  -3.475083  0.999183   26.953261\n",
       "2  vyE1P   6.263187  -5.948386  5.001160  134.766305\n",
       "3  KcrkZ -13.081196 -11.506057  4.999415  137.945408\n",
       "4  AHL4O  12.702195  -8.147433  5.004363  134.766305"
      ]
     },
     "execution_count": 5,
     "metadata": {},
     "output_type": "execute_result"
    }
   ],
   "source": [
    "df2.head()"
   ]
  },
  {
   "cell_type": "code",
   "execution_count": 6,
   "id": "e121f97d",
   "metadata": {},
   "outputs": [
    {
     "data": {
      "text/html": [
       "<div>\n",
       "<style scoped>\n",
       "    .dataframe tbody tr th:only-of-type {\n",
       "        vertical-align: middle;\n",
       "    }\n",
       "\n",
       "    .dataframe tbody tr th {\n",
       "        vertical-align: top;\n",
       "    }\n",
       "\n",
       "    .dataframe thead th {\n",
       "        text-align: right;\n",
       "    }\n",
       "</style>\n",
       "<table border=\"1\" class=\"dataframe\">\n",
       "  <thead>\n",
       "    <tr style=\"text-align: right;\">\n",
       "      <th></th>\n",
       "      <th>id</th>\n",
       "      <th>f0</th>\n",
       "      <th>f1</th>\n",
       "      <th>f2</th>\n",
       "      <th>product</th>\n",
       "    </tr>\n",
       "  </thead>\n",
       "  <tbody>\n",
       "    <tr>\n",
       "      <th>0</th>\n",
       "      <td>fwXo0</td>\n",
       "      <td>-1.146987</td>\n",
       "      <td>0.963328</td>\n",
       "      <td>-0.828965</td>\n",
       "      <td>27.758673</td>\n",
       "    </tr>\n",
       "    <tr>\n",
       "      <th>1</th>\n",
       "      <td>WJtFt</td>\n",
       "      <td>0.262778</td>\n",
       "      <td>0.269839</td>\n",
       "      <td>-2.530187</td>\n",
       "      <td>56.069697</td>\n",
       "    </tr>\n",
       "    <tr>\n",
       "      <th>2</th>\n",
       "      <td>ovLUW</td>\n",
       "      <td>0.194587</td>\n",
       "      <td>0.289035</td>\n",
       "      <td>-5.586433</td>\n",
       "      <td>62.871910</td>\n",
       "    </tr>\n",
       "    <tr>\n",
       "      <th>3</th>\n",
       "      <td>q6cA6</td>\n",
       "      <td>2.236060</td>\n",
       "      <td>-0.553760</td>\n",
       "      <td>0.930038</td>\n",
       "      <td>114.572842</td>\n",
       "    </tr>\n",
       "    <tr>\n",
       "      <th>4</th>\n",
       "      <td>WPMUX</td>\n",
       "      <td>-0.515993</td>\n",
       "      <td>1.716266</td>\n",
       "      <td>5.899011</td>\n",
       "      <td>149.600746</td>\n",
       "    </tr>\n",
       "  </tbody>\n",
       "</table>\n",
       "</div>"
      ],
      "text/plain": [
       "      id        f0        f1        f2     product\n",
       "0  fwXo0 -1.146987  0.963328 -0.828965   27.758673\n",
       "1  WJtFt  0.262778  0.269839 -2.530187   56.069697\n",
       "2  ovLUW  0.194587  0.289035 -5.586433   62.871910\n",
       "3  q6cA6  2.236060 -0.553760  0.930038  114.572842\n",
       "4  WPMUX -0.515993  1.716266  5.899011  149.600746"
      ]
     },
     "execution_count": 6,
     "metadata": {},
     "output_type": "execute_result"
    }
   ],
   "source": [
    "df3.head()"
   ]
  },
  {
   "cell_type": "markdown",
   "id": "c6506c69",
   "metadata": {},
   "source": [
    "Berdasarkan informasi di atas data tersebut terdirir dari 4 kolom yaitu kolom:\n",
    "- `id`: ID unik sumur minyak\n",
    "- `f0`, `f1`, dan `f2`: tiga fitur titik (makna spesifiknya tidak penting, tetapi fitur itu sendiri signifikan)\n",
    "- `product`:  volume cadangan minyak di sumur (ribuan barel)."
   ]
  },
  {
   "cell_type": "markdown",
   "id": "3edb0f8c",
   "metadata": {},
   "source": [
    "# Memeriksa Dataset"
   ]
  },
  {
   "cell_type": "code",
   "execution_count": 7,
   "id": "cb4b4501",
   "metadata": {},
   "outputs": [
    {
     "name": "stdout",
     "output_type": "stream",
     "text": [
      "<class 'pandas.core.frame.DataFrame'>\n",
      "RangeIndex: 100000 entries, 0 to 99999\n",
      "Data columns (total 5 columns):\n",
      " #   Column   Non-Null Count   Dtype  \n",
      "---  ------   --------------   -----  \n",
      " 0   id       100000 non-null  object \n",
      " 1   f0       100000 non-null  float64\n",
      " 2   f1       100000 non-null  float64\n",
      " 3   f2       100000 non-null  float64\n",
      " 4   product  100000 non-null  float64\n",
      "dtypes: float64(4), object(1)\n",
      "memory usage: 3.8+ MB\n"
     ]
    }
   ],
   "source": [
    "df1.info()"
   ]
  },
  {
   "cell_type": "code",
   "execution_count": 8,
   "id": "89a899b9",
   "metadata": {},
   "outputs": [
    {
     "data": {
      "text/plain": [
       "0"
      ]
     },
     "execution_count": 8,
     "metadata": {},
     "output_type": "execute_result"
    }
   ],
   "source": [
    "df1.duplicated().sum()"
   ]
  },
  {
   "cell_type": "code",
   "execution_count": 9,
   "id": "23c1fb45",
   "metadata": {},
   "outputs": [
    {
     "name": "stdout",
     "output_type": "stream",
     "text": [
      "<class 'pandas.core.frame.DataFrame'>\n",
      "RangeIndex: 100000 entries, 0 to 99999\n",
      "Data columns (total 5 columns):\n",
      " #   Column   Non-Null Count   Dtype  \n",
      "---  ------   --------------   -----  \n",
      " 0   id       100000 non-null  object \n",
      " 1   f0       100000 non-null  float64\n",
      " 2   f1       100000 non-null  float64\n",
      " 3   f2       100000 non-null  float64\n",
      " 4   product  100000 non-null  float64\n",
      "dtypes: float64(4), object(1)\n",
      "memory usage: 3.8+ MB\n"
     ]
    }
   ],
   "source": [
    "df2.info()"
   ]
  },
  {
   "cell_type": "code",
   "execution_count": 10,
   "id": "8b9aba66",
   "metadata": {},
   "outputs": [
    {
     "data": {
      "text/plain": [
       "0"
      ]
     },
     "execution_count": 10,
     "metadata": {},
     "output_type": "execute_result"
    }
   ],
   "source": [
    "df2.duplicated().sum()"
   ]
  },
  {
   "cell_type": "code",
   "execution_count": 11,
   "id": "4dea64a3",
   "metadata": {},
   "outputs": [
    {
     "name": "stdout",
     "output_type": "stream",
     "text": [
      "<class 'pandas.core.frame.DataFrame'>\n",
      "RangeIndex: 100000 entries, 0 to 99999\n",
      "Data columns (total 5 columns):\n",
      " #   Column   Non-Null Count   Dtype  \n",
      "---  ------   --------------   -----  \n",
      " 0   id       100000 non-null  object \n",
      " 1   f0       100000 non-null  float64\n",
      " 2   f1       100000 non-null  float64\n",
      " 3   f2       100000 non-null  float64\n",
      " 4   product  100000 non-null  float64\n",
      "dtypes: float64(4), object(1)\n",
      "memory usage: 3.8+ MB\n"
     ]
    }
   ],
   "source": [
    "df3.info()"
   ]
  },
  {
   "cell_type": "code",
   "execution_count": 12,
   "id": "1d7b239d",
   "metadata": {},
   "outputs": [
    {
     "data": {
      "text/plain": [
       "0"
      ]
     },
     "execution_count": 12,
     "metadata": {},
     "output_type": "execute_result"
    }
   ],
   "source": [
    "df3.duplicated().sum()"
   ]
  },
  {
   "cell_type": "markdown",
   "id": "c44453b2",
   "metadata": {},
   "source": [
    "**Berdasarkan informasi di atas:**\n",
    "- Untuk nilai pada setiap kolom di setiap dataset tidak ada yang hilang. Semua memiliki jumlah baris yang sama yaitu sebanyak **10.000**.\n",
    "- Untuk tipe datanya, setiap kolom memiliki tipe data yang sesuai.\n",
    "- Tidak ada nilai yang hilang untuk setiap dataset. Jadi, kita bisa langsung melakukan analisis lebih lanjut untuk data ini."
   ]
  },
  {
   "cell_type": "code",
   "execution_count": 13,
   "id": "bffd82e3",
   "metadata": {},
   "outputs": [
    {
     "data": {
      "text/html": [
       "<div>\n",
       "<style scoped>\n",
       "    .dataframe tbody tr th:only-of-type {\n",
       "        vertical-align: middle;\n",
       "    }\n",
       "\n",
       "    .dataframe tbody tr th {\n",
       "        vertical-align: top;\n",
       "    }\n",
       "\n",
       "    .dataframe thead th {\n",
       "        text-align: right;\n",
       "    }\n",
       "</style>\n",
       "<table border=\"1\" class=\"dataframe\">\n",
       "  <thead>\n",
       "    <tr style=\"text-align: right;\">\n",
       "      <th></th>\n",
       "      <th>f0</th>\n",
       "      <th>f1</th>\n",
       "      <th>f2</th>\n",
       "      <th>product</th>\n",
       "    </tr>\n",
       "  </thead>\n",
       "  <tbody>\n",
       "    <tr>\n",
       "      <th>count</th>\n",
       "      <td>100000.000000</td>\n",
       "      <td>100000.000000</td>\n",
       "      <td>100000.000000</td>\n",
       "      <td>100000.000000</td>\n",
       "    </tr>\n",
       "    <tr>\n",
       "      <th>mean</th>\n",
       "      <td>0.500419</td>\n",
       "      <td>0.250143</td>\n",
       "      <td>2.502647</td>\n",
       "      <td>92.500000</td>\n",
       "    </tr>\n",
       "    <tr>\n",
       "      <th>std</th>\n",
       "      <td>0.871832</td>\n",
       "      <td>0.504433</td>\n",
       "      <td>3.248248</td>\n",
       "      <td>44.288691</td>\n",
       "    </tr>\n",
       "    <tr>\n",
       "      <th>min</th>\n",
       "      <td>-1.408605</td>\n",
       "      <td>-0.848218</td>\n",
       "      <td>-12.088328</td>\n",
       "      <td>0.000000</td>\n",
       "    </tr>\n",
       "    <tr>\n",
       "      <th>25%</th>\n",
       "      <td>-0.072580</td>\n",
       "      <td>-0.200881</td>\n",
       "      <td>0.287748</td>\n",
       "      <td>56.497507</td>\n",
       "    </tr>\n",
       "    <tr>\n",
       "      <th>50%</th>\n",
       "      <td>0.502360</td>\n",
       "      <td>0.250252</td>\n",
       "      <td>2.515969</td>\n",
       "      <td>91.849972</td>\n",
       "    </tr>\n",
       "    <tr>\n",
       "      <th>75%</th>\n",
       "      <td>1.073581</td>\n",
       "      <td>0.700646</td>\n",
       "      <td>4.715088</td>\n",
       "      <td>128.564089</td>\n",
       "    </tr>\n",
       "    <tr>\n",
       "      <th>max</th>\n",
       "      <td>2.362331</td>\n",
       "      <td>1.343769</td>\n",
       "      <td>16.003790</td>\n",
       "      <td>185.364347</td>\n",
       "    </tr>\n",
       "  </tbody>\n",
       "</table>\n",
       "</div>"
      ],
      "text/plain": [
       "                  f0             f1             f2        product\n",
       "count  100000.000000  100000.000000  100000.000000  100000.000000\n",
       "mean        0.500419       0.250143       2.502647      92.500000\n",
       "std         0.871832       0.504433       3.248248      44.288691\n",
       "min        -1.408605      -0.848218     -12.088328       0.000000\n",
       "25%        -0.072580      -0.200881       0.287748      56.497507\n",
       "50%         0.502360       0.250252       2.515969      91.849972\n",
       "75%         1.073581       0.700646       4.715088     128.564089\n",
       "max         2.362331       1.343769      16.003790     185.364347"
      ]
     },
     "execution_count": 13,
     "metadata": {},
     "output_type": "execute_result"
    }
   ],
   "source": [
    "df1.describe()"
   ]
  },
  {
   "cell_type": "code",
   "execution_count": 14,
   "id": "0ec8cac4",
   "metadata": {},
   "outputs": [
    {
     "data": {
      "text/html": [
       "<div>\n",
       "<style scoped>\n",
       "    .dataframe tbody tr th:only-of-type {\n",
       "        vertical-align: middle;\n",
       "    }\n",
       "\n",
       "    .dataframe tbody tr th {\n",
       "        vertical-align: top;\n",
       "    }\n",
       "\n",
       "    .dataframe thead th {\n",
       "        text-align: right;\n",
       "    }\n",
       "</style>\n",
       "<table border=\"1\" class=\"dataframe\">\n",
       "  <thead>\n",
       "    <tr style=\"text-align: right;\">\n",
       "      <th></th>\n",
       "      <th>f0</th>\n",
       "      <th>f1</th>\n",
       "      <th>f2</th>\n",
       "      <th>product</th>\n",
       "    </tr>\n",
       "  </thead>\n",
       "  <tbody>\n",
       "    <tr>\n",
       "      <th>count</th>\n",
       "      <td>100000.000000</td>\n",
       "      <td>100000.000000</td>\n",
       "      <td>100000.000000</td>\n",
       "      <td>100000.000000</td>\n",
       "    </tr>\n",
       "    <tr>\n",
       "      <th>mean</th>\n",
       "      <td>1.141296</td>\n",
       "      <td>-4.796579</td>\n",
       "      <td>2.494541</td>\n",
       "      <td>68.825000</td>\n",
       "    </tr>\n",
       "    <tr>\n",
       "      <th>std</th>\n",
       "      <td>8.965932</td>\n",
       "      <td>5.119872</td>\n",
       "      <td>1.703572</td>\n",
       "      <td>45.944423</td>\n",
       "    </tr>\n",
       "    <tr>\n",
       "      <th>min</th>\n",
       "      <td>-31.609576</td>\n",
       "      <td>-26.358598</td>\n",
       "      <td>-0.018144</td>\n",
       "      <td>0.000000</td>\n",
       "    </tr>\n",
       "    <tr>\n",
       "      <th>25%</th>\n",
       "      <td>-6.298551</td>\n",
       "      <td>-8.267985</td>\n",
       "      <td>1.000021</td>\n",
       "      <td>26.953261</td>\n",
       "    </tr>\n",
       "    <tr>\n",
       "      <th>50%</th>\n",
       "      <td>1.153055</td>\n",
       "      <td>-4.813172</td>\n",
       "      <td>2.011479</td>\n",
       "      <td>57.085625</td>\n",
       "    </tr>\n",
       "    <tr>\n",
       "      <th>75%</th>\n",
       "      <td>8.621015</td>\n",
       "      <td>-1.332816</td>\n",
       "      <td>3.999904</td>\n",
       "      <td>107.813044</td>\n",
       "    </tr>\n",
       "    <tr>\n",
       "      <th>max</th>\n",
       "      <td>29.421755</td>\n",
       "      <td>18.734063</td>\n",
       "      <td>5.019721</td>\n",
       "      <td>137.945408</td>\n",
       "    </tr>\n",
       "  </tbody>\n",
       "</table>\n",
       "</div>"
      ],
      "text/plain": [
       "                  f0             f1             f2        product\n",
       "count  100000.000000  100000.000000  100000.000000  100000.000000\n",
       "mean        1.141296      -4.796579       2.494541      68.825000\n",
       "std         8.965932       5.119872       1.703572      45.944423\n",
       "min       -31.609576     -26.358598      -0.018144       0.000000\n",
       "25%        -6.298551      -8.267985       1.000021      26.953261\n",
       "50%         1.153055      -4.813172       2.011479      57.085625\n",
       "75%         8.621015      -1.332816       3.999904     107.813044\n",
       "max        29.421755      18.734063       5.019721     137.945408"
      ]
     },
     "execution_count": 14,
     "metadata": {},
     "output_type": "execute_result"
    }
   ],
   "source": [
    "df2.describe()"
   ]
  },
  {
   "cell_type": "code",
   "execution_count": 15,
   "id": "62ded7b6",
   "metadata": {},
   "outputs": [
    {
     "data": {
      "text/html": [
       "<div>\n",
       "<style scoped>\n",
       "    .dataframe tbody tr th:only-of-type {\n",
       "        vertical-align: middle;\n",
       "    }\n",
       "\n",
       "    .dataframe tbody tr th {\n",
       "        vertical-align: top;\n",
       "    }\n",
       "\n",
       "    .dataframe thead th {\n",
       "        text-align: right;\n",
       "    }\n",
       "</style>\n",
       "<table border=\"1\" class=\"dataframe\">\n",
       "  <thead>\n",
       "    <tr style=\"text-align: right;\">\n",
       "      <th></th>\n",
       "      <th>f0</th>\n",
       "      <th>f1</th>\n",
       "      <th>f2</th>\n",
       "      <th>product</th>\n",
       "    </tr>\n",
       "  </thead>\n",
       "  <tbody>\n",
       "    <tr>\n",
       "      <th>count</th>\n",
       "      <td>100000.000000</td>\n",
       "      <td>100000.000000</td>\n",
       "      <td>100000.000000</td>\n",
       "      <td>100000.000000</td>\n",
       "    </tr>\n",
       "    <tr>\n",
       "      <th>mean</th>\n",
       "      <td>0.002023</td>\n",
       "      <td>-0.002081</td>\n",
       "      <td>2.495128</td>\n",
       "      <td>95.000000</td>\n",
       "    </tr>\n",
       "    <tr>\n",
       "      <th>std</th>\n",
       "      <td>1.732045</td>\n",
       "      <td>1.730417</td>\n",
       "      <td>3.473445</td>\n",
       "      <td>44.749921</td>\n",
       "    </tr>\n",
       "    <tr>\n",
       "      <th>min</th>\n",
       "      <td>-8.760004</td>\n",
       "      <td>-7.084020</td>\n",
       "      <td>-11.970335</td>\n",
       "      <td>0.000000</td>\n",
       "    </tr>\n",
       "    <tr>\n",
       "      <th>25%</th>\n",
       "      <td>-1.162288</td>\n",
       "      <td>-1.174820</td>\n",
       "      <td>0.130359</td>\n",
       "      <td>59.450441</td>\n",
       "    </tr>\n",
       "    <tr>\n",
       "      <th>50%</th>\n",
       "      <td>0.009424</td>\n",
       "      <td>-0.009482</td>\n",
       "      <td>2.484236</td>\n",
       "      <td>94.925613</td>\n",
       "    </tr>\n",
       "    <tr>\n",
       "      <th>75%</th>\n",
       "      <td>1.158535</td>\n",
       "      <td>1.163678</td>\n",
       "      <td>4.858794</td>\n",
       "      <td>130.595027</td>\n",
       "    </tr>\n",
       "    <tr>\n",
       "      <th>max</th>\n",
       "      <td>7.238262</td>\n",
       "      <td>7.844801</td>\n",
       "      <td>16.739402</td>\n",
       "      <td>190.029838</td>\n",
       "    </tr>\n",
       "  </tbody>\n",
       "</table>\n",
       "</div>"
      ],
      "text/plain": [
       "                  f0             f1             f2        product\n",
       "count  100000.000000  100000.000000  100000.000000  100000.000000\n",
       "mean        0.002023      -0.002081       2.495128      95.000000\n",
       "std         1.732045       1.730417       3.473445      44.749921\n",
       "min        -8.760004      -7.084020     -11.970335       0.000000\n",
       "25%        -1.162288      -1.174820       0.130359      59.450441\n",
       "50%         0.009424      -0.009482       2.484236      94.925613\n",
       "75%         1.158535       1.163678       4.858794     130.595027\n",
       "max         7.238262       7.844801      16.739402     190.029838"
      ]
     },
     "execution_count": 15,
     "metadata": {},
     "output_type": "execute_result"
    }
   ],
   "source": [
    "df3.describe()"
   ]
  },
  {
   "cell_type": "markdown",
   "id": "fb2f7f2e",
   "metadata": {},
   "source": [
    "**Berdasarkan informasi di atas:**\n",
    "- Berdasarkan nilai rata-rata produk, nilai df3 memiliki nilai yang lebih tinggi dan nilai yang lebih rendah adalah df2.\n",
    "- Berdasarkan standard deviasi, untuk df1 dan df3 memiliki standard deviasi yang jauh dari nilai mean. Yang artinya, data yang ada itu kurang variatif. \n",
    "- Beda dengan nilai standard deviasi yang ada pada df2 di mana nilai-nya tidak terlalu jauh dengan nilai mean. Sehingga data produk yang ada pada df2 itu lebih variatif. Yang bisa kita simpulkan sementara bahwa data tersebut bagus karena banyak nilai yang variatif dibadung df1 dan df3."
   ]
  },
  {
   "cell_type": "code",
   "execution_count": 16,
   "id": "a57c7065",
   "metadata": {},
   "outputs": [
    {
     "data": {
      "text/html": [
       "<div>\n",
       "<style scoped>\n",
       "    .dataframe tbody tr th:only-of-type {\n",
       "        vertical-align: middle;\n",
       "    }\n",
       "\n",
       "    .dataframe tbody tr th {\n",
       "        vertical-align: top;\n",
       "    }\n",
       "\n",
       "    .dataframe thead th {\n",
       "        text-align: right;\n",
       "    }\n",
       "</style>\n",
       "<table border=\"1\" class=\"dataframe\">\n",
       "  <thead>\n",
       "    <tr style=\"text-align: right;\">\n",
       "      <th></th>\n",
       "      <th>f0</th>\n",
       "      <th>f1</th>\n",
       "      <th>f2</th>\n",
       "      <th>product</th>\n",
       "    </tr>\n",
       "  </thead>\n",
       "  <tbody>\n",
       "    <tr>\n",
       "      <th>f0</th>\n",
       "      <td>1.000000</td>\n",
       "      <td>-0.440723</td>\n",
       "      <td>-0.003153</td>\n",
       "      <td>0.143536</td>\n",
       "    </tr>\n",
       "    <tr>\n",
       "      <th>f1</th>\n",
       "      <td>-0.440723</td>\n",
       "      <td>1.000000</td>\n",
       "      <td>0.001724</td>\n",
       "      <td>-0.192356</td>\n",
       "    </tr>\n",
       "    <tr>\n",
       "      <th>f2</th>\n",
       "      <td>-0.003153</td>\n",
       "      <td>0.001724</td>\n",
       "      <td>1.000000</td>\n",
       "      <td>0.483663</td>\n",
       "    </tr>\n",
       "    <tr>\n",
       "      <th>product</th>\n",
       "      <td>0.143536</td>\n",
       "      <td>-0.192356</td>\n",
       "      <td>0.483663</td>\n",
       "      <td>1.000000</td>\n",
       "    </tr>\n",
       "  </tbody>\n",
       "</table>\n",
       "</div>"
      ],
      "text/plain": [
       "               f0        f1        f2   product\n",
       "f0       1.000000 -0.440723 -0.003153  0.143536\n",
       "f1      -0.440723  1.000000  0.001724 -0.192356\n",
       "f2      -0.003153  0.001724  1.000000  0.483663\n",
       "product  0.143536 -0.192356  0.483663  1.000000"
      ]
     },
     "execution_count": 16,
     "metadata": {},
     "output_type": "execute_result"
    }
   ],
   "source": [
    "df1.corr()"
   ]
  },
  {
   "cell_type": "code",
   "execution_count": 17,
   "id": "724f4fc7",
   "metadata": {},
   "outputs": [
    {
     "data": {
      "text/html": [
       "<div>\n",
       "<style scoped>\n",
       "    .dataframe tbody tr th:only-of-type {\n",
       "        vertical-align: middle;\n",
       "    }\n",
       "\n",
       "    .dataframe tbody tr th {\n",
       "        vertical-align: top;\n",
       "    }\n",
       "\n",
       "    .dataframe thead th {\n",
       "        text-align: right;\n",
       "    }\n",
       "</style>\n",
       "<table border=\"1\" class=\"dataframe\">\n",
       "  <thead>\n",
       "    <tr style=\"text-align: right;\">\n",
       "      <th></th>\n",
       "      <th>f0</th>\n",
       "      <th>f1</th>\n",
       "      <th>f2</th>\n",
       "      <th>product</th>\n",
       "    </tr>\n",
       "  </thead>\n",
       "  <tbody>\n",
       "    <tr>\n",
       "      <th>f0</th>\n",
       "      <td>1.000000</td>\n",
       "      <td>0.182287</td>\n",
       "      <td>-0.001777</td>\n",
       "      <td>-0.030491</td>\n",
       "    </tr>\n",
       "    <tr>\n",
       "      <th>f1</th>\n",
       "      <td>0.182287</td>\n",
       "      <td>1.000000</td>\n",
       "      <td>-0.002595</td>\n",
       "      <td>-0.010155</td>\n",
       "    </tr>\n",
       "    <tr>\n",
       "      <th>f2</th>\n",
       "      <td>-0.001777</td>\n",
       "      <td>-0.002595</td>\n",
       "      <td>1.000000</td>\n",
       "      <td>0.999397</td>\n",
       "    </tr>\n",
       "    <tr>\n",
       "      <th>product</th>\n",
       "      <td>-0.030491</td>\n",
       "      <td>-0.010155</td>\n",
       "      <td>0.999397</td>\n",
       "      <td>1.000000</td>\n",
       "    </tr>\n",
       "  </tbody>\n",
       "</table>\n",
       "</div>"
      ],
      "text/plain": [
       "               f0        f1        f2   product\n",
       "f0       1.000000  0.182287 -0.001777 -0.030491\n",
       "f1       0.182287  1.000000 -0.002595 -0.010155\n",
       "f2      -0.001777 -0.002595  1.000000  0.999397\n",
       "product -0.030491 -0.010155  0.999397  1.000000"
      ]
     },
     "execution_count": 17,
     "metadata": {},
     "output_type": "execute_result"
    }
   ],
   "source": [
    "df2.corr()"
   ]
  },
  {
   "cell_type": "code",
   "execution_count": 18,
   "id": "803ad7b0",
   "metadata": {},
   "outputs": [
    {
     "data": {
      "text/html": [
       "<div>\n",
       "<style scoped>\n",
       "    .dataframe tbody tr th:only-of-type {\n",
       "        vertical-align: middle;\n",
       "    }\n",
       "\n",
       "    .dataframe tbody tr th {\n",
       "        vertical-align: top;\n",
       "    }\n",
       "\n",
       "    .dataframe thead th {\n",
       "        text-align: right;\n",
       "    }\n",
       "</style>\n",
       "<table border=\"1\" class=\"dataframe\">\n",
       "  <thead>\n",
       "    <tr style=\"text-align: right;\">\n",
       "      <th></th>\n",
       "      <th>f0</th>\n",
       "      <th>f1</th>\n",
       "      <th>f2</th>\n",
       "      <th>product</th>\n",
       "    </tr>\n",
       "  </thead>\n",
       "  <tbody>\n",
       "    <tr>\n",
       "      <th>f0</th>\n",
       "      <td>1.000000</td>\n",
       "      <td>0.000528</td>\n",
       "      <td>-0.000448</td>\n",
       "      <td>-0.001987</td>\n",
       "    </tr>\n",
       "    <tr>\n",
       "      <th>f1</th>\n",
       "      <td>0.000528</td>\n",
       "      <td>1.000000</td>\n",
       "      <td>0.000779</td>\n",
       "      <td>-0.001012</td>\n",
       "    </tr>\n",
       "    <tr>\n",
       "      <th>f2</th>\n",
       "      <td>-0.000448</td>\n",
       "      <td>0.000779</td>\n",
       "      <td>1.000000</td>\n",
       "      <td>0.445871</td>\n",
       "    </tr>\n",
       "    <tr>\n",
       "      <th>product</th>\n",
       "      <td>-0.001987</td>\n",
       "      <td>-0.001012</td>\n",
       "      <td>0.445871</td>\n",
       "      <td>1.000000</td>\n",
       "    </tr>\n",
       "  </tbody>\n",
       "</table>\n",
       "</div>"
      ],
      "text/plain": [
       "               f0        f1        f2   product\n",
       "f0       1.000000  0.000528 -0.000448 -0.001987\n",
       "f1       0.000528  1.000000  0.000779 -0.001012\n",
       "f2      -0.000448  0.000779  1.000000  0.445871\n",
       "product -0.001987 -0.001012  0.445871  1.000000"
      ]
     },
     "execution_count": 18,
     "metadata": {},
     "output_type": "execute_result"
    }
   ],
   "source": [
    "df3.corr()"
   ]
  },
  {
   "cell_type": "markdown",
   "id": "2f0e7bb8",
   "metadata": {},
   "source": [
    "**Berdasarkan informasi di atas:**\n",
    "Sebenarnya kebanyakan tidak ada korelasi dengan semua fitur yang ada. Tetapi untuk df2, pada kolom `f2` itu memiliki korelasi yang tinggi dengan kolom `product`. "
   ]
  },
  {
   "cell_type": "code",
   "execution_count": 19,
   "id": "668646e7",
   "metadata": {},
   "outputs": [],
   "source": [
    "columns = ['f0', 'f1', 'f2', 'product']\n",
    "titles = ['f0', 'f1', 'f2', 'product']\n",
    "def plot_hist(data):\n",
    "    data.hist(column=columns, figsize=(10,10))"
   ]
  },
  {
   "cell_type": "code",
   "execution_count": 20,
   "id": "b323d892",
   "metadata": {},
   "outputs": [
    {
     "data": {
      "image/png": "[encoded data removed]",
      "text/plain": [
       "<Figure size 720x720 with 4 Axes>"
      ]
     },
     "metadata": {
      "needs_background": "light"
     },
     "output_type": "display_data"
    }
   ],
   "source": [
    "plot_hist(df1)"
   ]
  },
  {
   "cell_type": "code",
   "execution_count": 21,
   "id": "f9aecedf",
   "metadata": {},
   "outputs": [
    {
     "data": {
      "image/png": "[encoded data removed]",
      "text/plain": [
       "<Figure size 720x720 with 4 Axes>"
      ]
     },
     "metadata": {
      "needs_background": "light"
     },
     "output_type": "display_data"
    }
   ],
   "source": [
    "plot_hist(df2)"
   ]
  },
  {
   "cell_type": "code",
   "execution_count": 22,
   "id": "5937c2cf",
   "metadata": {},
   "outputs": [
    {
     "data": {
      "image/png": "[encoded data removed]",
      "text/plain": [
       "<Figure size 720x720 with 4 Axes>"
      ]
     },
     "metadata": {
      "needs_background": "light"
     },
     "output_type": "display_data"
    }
   ],
   "source": [
    "plot_hist(df3)"
   ]
  },
  {
   "cell_type": "markdown",
   "id": "bbaa7b8d",
   "metadata": {},
   "source": [
    "**Berdasarkan informasi di atas:** Dari data-data tersebut, terdapat banyak outlier di kolom `f0`, `f1`, `f2`. Namun, data-data tersebut tidak bisa dihilangkan karena itu merupakan titik-titik dari fitur sumur. Pada kolom `product` kelihatan tidak ada oulier."
   ]
  },
  {
   "cell_type": "code",
   "execution_count": 23,
   "id": "501763e2",
   "metadata": {},
   "outputs": [
    {
     "data": {
      "text/plain": [
       "<AxesSubplot:>"
      ]
     },
     "execution_count": 23,
     "metadata": {},
     "output_type": "execute_result"
    },
    {
     "data": {
      "image/png": "[encoded data removed]",
      "text/plain": [
       "<Figure size 432x288 with 1 Axes>"
      ]
     },
     "metadata": {
      "needs_background": "light"
     },
     "output_type": "display_data"
    }
   ],
   "source": [
    "df1.boxplot()"
   ]
  },
  {
   "cell_type": "code",
   "execution_count": 24,
   "id": "bab83e82",
   "metadata": {},
   "outputs": [
    {
     "data": {
      "text/plain": [
       "<AxesSubplot:>"
      ]
     },
     "execution_count": 24,
     "metadata": {},
     "output_type": "execute_result"
    },
    {
     "data": {
      "image/png": "[encoded data removed]",
      "text/plain": [
       "<Figure size 432x288 with 1 Axes>"
      ]
     },
     "metadata": {
      "needs_background": "light"
     },
     "output_type": "display_data"
    }
   ],
   "source": [
    "df2.boxplot()"
   ]
  },
  {
   "cell_type": "code",
   "execution_count": 25,
   "id": "ffb48ce7",
   "metadata": {},
   "outputs": [
    {
     "data": {
      "text/plain": [
       "<AxesSubplot:>"
      ]
     },
     "execution_count": 25,
     "metadata": {},
     "output_type": "execute_result"
    },
    {
     "data": {
      "image/png": "[encoded data removed]",
      "text/plain": [
       "<Figure size 432x288 with 1 Axes>"
      ]
     },
     "metadata": {
      "needs_background": "light"
     },
     "output_type": "display_data"
    }
   ],
   "source": [
    "df3.boxplot()"
   ]
  },
  {
   "cell_type": "markdown",
   "id": "0f668cb4",
   "metadata": {},
   "source": [
    "**Berdasarkan informasi di atas:** Seperti yang kita ketahui banyak terjadi outlier di ketiga kolom `f0`, `f1`, dan `f2` memiliki banyak outlier. Akan tetapi, karena ini merupakan data fitur titi sumur maka tidak bisa dihilangkan."
   ]
  },
  {
   "cell_type": "markdown",
   "id": "fbdbc1b0",
   "metadata": {},
   "source": [
    "# Latihan dan Pengujian Model"
   ]
  },
  {
   "cell_type": "code",
   "execution_count": 26,
   "id": "6124cd00",
   "metadata": {},
   "outputs": [],
   "source": [
    "# membuat inisial untuk model\n",
    "model = LinearRegression()"
   ]
  },
  {
   "cell_type": "markdown",
   "id": "5bf339fc",
   "metadata": {},
   "source": [
    "## Fungsi Standard Scaler"
   ]
  },
  {
   "cell_type": "code",
   "execution_count": 27,
   "id": "ff03d89e",
   "metadata": {},
   "outputs": [],
   "source": [
    "# fungsi untuk menerapkan standard scaler pada fitur numerik\n",
    "def standard_scaler(features_train, features_valid):\n",
    "    scaler = StandardScaler()\n",
    "    numeric = ['f0','f1','f2'] # tabel numerik\n",
    "    scaler.fit(features_train[numeric]) \n",
    "    features_train[numeric] = scaler.transform(features_train[numeric]) # merubah tabel numerik dengan standard scaler\n",
    "    features_valid[numeric] = scaler.transform(features_valid[numeric]) # merubah tabel numerik dengan standard scaler"
   ]
  },
  {
   "cell_type": "markdown",
   "id": "2c344941",
   "metadata": {},
   "source": [
    "Fungsi ini bertujuan untuk menerapkan standard scaler pada kolom numerik yaitu menstandarisasi fitur dengan menghapus rata-rata dan menskalakan unit varian. Daripada mengulang codingan yang sama, makanya kita membuat fungsi ini."
   ]
  },
  {
   "cell_type": "markdown",
   "id": "2966c6f3",
   "metadata": {},
   "source": [
    "## Wilayah 1"
   ]
  },
  {
   "cell_type": "code",
   "execution_count": 28,
   "id": "ba89483e",
   "metadata": {},
   "outputs": [],
   "source": [
    "# Membuat fitur dengan menghapus kolom id dan product\n",
    "df1_features = df1.drop(['id', 'product'], axis=1)"
   ]
  },
  {
   "cell_type": "code",
   "execution_count": 29,
   "id": "3dda70ab",
   "metadata": {},
   "outputs": [],
   "source": [
    "# Membuat target dengan mengambil kolom product\n",
    "df1_target = df1['product']"
   ]
  },
  {
   "cell_type": "code",
   "execution_count": 30,
   "id": "bf0670e7",
   "metadata": {},
   "outputs": [],
   "source": [
    "# Memisahkan data menjadi train dan valid dengan rasio 75:25\n",
    "df1_features_train, df1_features_valid, df1_target_train, df1_target_valid = train_test_split(df1_features, df1_target, test_size=0.25, random_state=12345)"
   ]
  },
  {
   "cell_type": "code",
   "execution_count": 31,
   "id": "a7b47d75",
   "metadata": {},
   "outputs": [
    {
     "name": "stderr",
     "output_type": "stream",
     "text": [
      "/tmp/ipykernel_27/885575800.py:6: SettingWithCopyWarning: \n",
      "A value is trying to be set on a copy of a slice from a DataFrame.\n",
      "Try using .loc[row_indexer,col_indexer] = value instead\n",
      "\n",
      "See the caveats in the documentation: https://pandas.pydata.org/pandas-docs/stable/user_guide/indexing.html#returning-a-view-versus-a-copy\n",
      "  features_train[numeric] = scaler.transform(features_train[numeric]) # merubah tabel numerik dengan standard scaler\n",
      "/opt/conda/lib/python3.9/site-packages/pandas/core/indexing.py:1637: SettingWithCopyWarning: \n",
      "A value is trying to be set on a copy of a slice from a DataFrame\n",
      "\n",
      "See the caveats in the documentation: https://pandas.pydata.org/pandas-docs/stable/user_guide/indexing.html#returning-a-view-versus-a-copy\n",
      "  self._setitem_single_block(indexer, value, name)\n",
      "/opt/conda/lib/python3.9/site-packages/pandas/core/indexing.py:692: SettingWithCopyWarning: \n",
      "A value is trying to be set on a copy of a slice from a DataFrame\n",
      "\n",
      "See the caveats in the documentation: https://pandas.pydata.org/pandas-docs/stable/user_guide/indexing.html#returning-a-view-versus-a-copy\n",
      "  iloc._setitem_with_indexer(indexer, value, self.name)\n",
      "/tmp/ipykernel_27/885575800.py:7: SettingWithCopyWarning: \n",
      "A value is trying to be set on a copy of a slice from a DataFrame.\n",
      "Try using .loc[row_indexer,col_indexer] = value instead\n",
      "\n",
      "See the caveats in the documentation: https://pandas.pydata.org/pandas-docs/stable/user_guide/indexing.html#returning-a-view-versus-a-copy\n",
      "  features_valid[numeric] = scaler.transform(features_valid[numeric]) # merubah tabel numerik dengan standard scaler\n",
      "/opt/conda/lib/python3.9/site-packages/pandas/core/indexing.py:1637: SettingWithCopyWarning: \n",
      "A value is trying to be set on a copy of a slice from a DataFrame\n",
      "\n",
      "See the caveats in the documentation: https://pandas.pydata.org/pandas-docs/stable/user_guide/indexing.html#returning-a-view-versus-a-copy\n",
      "  self._setitem_single_block(indexer, value, name)\n",
      "/opt/conda/lib/python3.9/site-packages/pandas/core/indexing.py:692: SettingWithCopyWarning: \n",
      "A value is trying to be set on a copy of a slice from a DataFrame\n",
      "\n",
      "See the caveats in the documentation: https://pandas.pydata.org/pandas-docs/stable/user_guide/indexing.html#returning-a-view-versus-a-copy\n",
      "  iloc._setitem_with_indexer(indexer, value, self.name)\n"
     ]
    }
   ],
   "source": [
    "standard_scaler(df1_features_train, df1_features_valid)"
   ]
  },
  {
   "cell_type": "code",
   "execution_count": 32,
   "id": "c21c1b59",
   "metadata": {},
   "outputs": [
    {
     "data": {
      "text/html": [
       "<div>\n",
       "<style scoped>\n",
       "    .dataframe tbody tr th:only-of-type {\n",
       "        vertical-align: middle;\n",
       "    }\n",
       "\n",
       "    .dataframe tbody tr th {\n",
       "        vertical-align: top;\n",
       "    }\n",
       "\n",
       "    .dataframe thead th {\n",
       "        text-align: right;\n",
       "    }\n",
       "</style>\n",
       "<table border=\"1\" class=\"dataframe\">\n",
       "  <thead>\n",
       "    <tr style=\"text-align: right;\">\n",
       "      <th></th>\n",
       "      <th>f0</th>\n",
       "      <th>f1</th>\n",
       "      <th>f2</th>\n",
       "    </tr>\n",
       "  </thead>\n",
       "  <tbody>\n",
       "    <tr>\n",
       "      <th>27212</th>\n",
       "      <td>-0.544828</td>\n",
       "      <td>1.390264</td>\n",
       "      <td>-0.094959</td>\n",
       "    </tr>\n",
       "    <tr>\n",
       "      <th>7866</th>\n",
       "      <td>1.455912</td>\n",
       "      <td>-0.480422</td>\n",
       "      <td>1.209567</td>\n",
       "    </tr>\n",
       "    <tr>\n",
       "      <th>62041</th>\n",
       "      <td>0.260460</td>\n",
       "      <td>0.825069</td>\n",
       "      <td>-0.204865</td>\n",
       "    </tr>\n",
       "    <tr>\n",
       "      <th>70185</th>\n",
       "      <td>-1.837105</td>\n",
       "      <td>0.010321</td>\n",
       "      <td>-0.147634</td>\n",
       "    </tr>\n",
       "    <tr>\n",
       "      <th>82230</th>\n",
       "      <td>-1.299243</td>\n",
       "      <td>0.987558</td>\n",
       "      <td>1.273181</td>\n",
       "    </tr>\n",
       "  </tbody>\n",
       "</table>\n",
       "</div>"
      ],
      "text/plain": [
       "             f0        f1        f2\n",
       "27212 -0.544828  1.390264 -0.094959\n",
       "7866   1.455912 -0.480422  1.209567\n",
       "62041  0.260460  0.825069 -0.204865\n",
       "70185 -1.837105  0.010321 -0.147634\n",
       "82230 -1.299243  0.987558  1.273181"
      ]
     },
     "execution_count": 32,
     "metadata": {},
     "output_type": "execute_result"
    }
   ],
   "source": [
    "df1_features_train.head()"
   ]
  },
  {
   "cell_type": "code",
   "execution_count": 33,
   "id": "20955651",
   "metadata": {},
   "outputs": [
    {
     "data": {
      "text/html": [
       "<div>\n",
       "<style scoped>\n",
       "    .dataframe tbody tr th:only-of-type {\n",
       "        vertical-align: middle;\n",
       "    }\n",
       "\n",
       "    .dataframe tbody tr th {\n",
       "        vertical-align: top;\n",
       "    }\n",
       "\n",
       "    .dataframe thead th {\n",
       "        text-align: right;\n",
       "    }\n",
       "</style>\n",
       "<table border=\"1\" class=\"dataframe\">\n",
       "  <thead>\n",
       "    <tr style=\"text-align: right;\">\n",
       "      <th></th>\n",
       "      <th>f0</th>\n",
       "      <th>f1</th>\n",
       "      <th>f2</th>\n",
       "    </tr>\n",
       "  </thead>\n",
       "  <tbody>\n",
       "    <tr>\n",
       "      <th>71751</th>\n",
       "      <td>0.517917</td>\n",
       "      <td>-0.610097</td>\n",
       "      <td>-0.126226</td>\n",
       "    </tr>\n",
       "    <tr>\n",
       "      <th>80493</th>\n",
       "      <td>0.568391</td>\n",
       "      <td>-0.086063</td>\n",
       "      <td>-0.814914</td>\n",
       "    </tr>\n",
       "    <tr>\n",
       "      <th>2655</th>\n",
       "      <td>0.805688</td>\n",
       "      <td>-1.613289</td>\n",
       "      <td>-1.341342</td>\n",
       "    </tr>\n",
       "    <tr>\n",
       "      <th>53233</th>\n",
       "      <td>0.222503</td>\n",
       "      <td>-1.355437</td>\n",
       "      <td>-0.597275</td>\n",
       "    </tr>\n",
       "    <tr>\n",
       "      <th>91141</th>\n",
       "      <td>-0.087941</td>\n",
       "      <td>1.433113</td>\n",
       "      <td>-0.544588</td>\n",
       "    </tr>\n",
       "  </tbody>\n",
       "</table>\n",
       "</div>"
      ],
      "text/plain": [
       "             f0        f1        f2\n",
       "71751  0.517917 -0.610097 -0.126226\n",
       "80493  0.568391 -0.086063 -0.814914\n",
       "2655   0.805688 -1.613289 -1.341342\n",
       "53233  0.222503 -1.355437 -0.597275\n",
       "91141 -0.087941  1.433113 -0.544588"
      ]
     },
     "execution_count": 33,
     "metadata": {},
     "output_type": "execute_result"
    }
   ],
   "source": [
    "df1_features_valid.head()"
   ]
  },
  {
   "cell_type": "markdown",
   "id": "2d1a7cda",
   "metadata": {},
   "source": [
    "Hasil dari standard scaler membuat jarak nilai data numerik menjadi tidak jauh."
   ]
  },
  {
   "cell_type": "code",
   "execution_count": 34,
   "id": "8836e4c1",
   "metadata": {},
   "outputs": [
    {
     "data": {
      "text/plain": [
       "LinearRegression()"
      ]
     },
     "execution_count": 34,
     "metadata": {},
     "output_type": "execute_result"
    }
   ],
   "source": [
    "# melatih model\n",
    "model.fit(df1_features_train, df1_target_train)"
   ]
  },
  {
   "cell_type": "code",
   "execution_count": 35,
   "id": "bcfad9ae",
   "metadata": {},
   "outputs": [],
   "source": [
    "# prediksi model menggunakan data valid\n",
    "df1_predictions_valid = model.predict(df1_features_valid)"
   ]
  },
  {
   "cell_type": "code",
   "execution_count": 36,
   "id": "f8cdbc14",
   "metadata": {},
   "outputs": [],
   "source": [
    "# menghitung MSE\n",
    "mse_geo1 = mean_squared_error(df1_target_valid, df1_predictions_valid)"
   ]
  },
  {
   "cell_type": "code",
   "execution_count": 37,
   "id": "355850eb",
   "metadata": {},
   "outputs": [
    {
     "name": "stdout",
     "output_type": "stream",
     "text": [
      "Rata-rata: 92.59256778438035\n",
      "RMSE: 37.5794217150813\n"
     ]
    }
   ],
   "source": [
    "# menghitung rata-rata dan RMSE\n",
    "print('Rata-rata:', df1_predictions_valid.mean())\n",
    "print('RMSE:', mse_geo1**0.5)"
   ]
  },
  {
   "cell_type": "markdown",
   "id": "d9ec8652",
   "metadata": {},
   "source": [
    "## Wilayah 2"
   ]
  },
  {
   "cell_type": "code",
   "execution_count": 38,
   "id": "264a46c8",
   "metadata": {},
   "outputs": [],
   "source": [
    "# Membuat fitur dengan menghapus kolom id dan product\n",
    "df2_features = df2.drop(['id', 'product'], axis=1)"
   ]
  },
  {
   "cell_type": "code",
   "execution_count": 39,
   "id": "fc48e026",
   "metadata": {},
   "outputs": [],
   "source": [
    "# Membuat target dengan mengambil kolom product\n",
    "df2_target = df2['product']"
   ]
  },
  {
   "cell_type": "code",
   "execution_count": 40,
   "id": "71b278ee",
   "metadata": {},
   "outputs": [],
   "source": [
    "# Memisahkan data menjadi train dan valid dengan rasio 75:25\n",
    "df2_features_train, df2_features_valid, df2_target_train, df2_target_valid = train_test_split(df2_features, df2_target, test_size=0.25, random_state=12345)"
   ]
  },
  {
   "cell_type": "code",
   "execution_count": 41,
   "id": "f1033573",
   "metadata": {},
   "outputs": [
    {
     "name": "stderr",
     "output_type": "stream",
     "text": [
      "/tmp/ipykernel_27/885575800.py:6: SettingWithCopyWarning: \n",
      "A value is trying to be set on a copy of a slice from a DataFrame.\n",
      "Try using .loc[row_indexer,col_indexer] = value instead\n",
      "\n",
      "See the caveats in the documentation: https://pandas.pydata.org/pandas-docs/stable/user_guide/indexing.html#returning-a-view-versus-a-copy\n",
      "  features_train[numeric] = scaler.transform(features_train[numeric]) # merubah tabel numerik dengan standard scaler\n",
      "/opt/conda/lib/python3.9/site-packages/pandas/core/indexing.py:1637: SettingWithCopyWarning: \n",
      "A value is trying to be set on a copy of a slice from a DataFrame\n",
      "\n",
      "See the caveats in the documentation: https://pandas.pydata.org/pandas-docs/stable/user_guide/indexing.html#returning-a-view-versus-a-copy\n",
      "  self._setitem_single_block(indexer, value, name)\n",
      "/opt/conda/lib/python3.9/site-packages/pandas/core/indexing.py:692: SettingWithCopyWarning: \n",
      "A value is trying to be set on a copy of a slice from a DataFrame\n",
      "\n",
      "See the caveats in the documentation: https://pandas.pydata.org/pandas-docs/stable/user_guide/indexing.html#returning-a-view-versus-a-copy\n",
      "  iloc._setitem_with_indexer(indexer, value, self.name)\n",
      "/tmp/ipykernel_27/885575800.py:7: SettingWithCopyWarning: \n",
      "A value is trying to be set on a copy of a slice from a DataFrame.\n",
      "Try using .loc[row_indexer,col_indexer] = value instead\n",
      "\n",
      "See the caveats in the documentation: https://pandas.pydata.org/pandas-docs/stable/user_guide/indexing.html#returning-a-view-versus-a-copy\n",
      "  features_valid[numeric] = scaler.transform(features_valid[numeric]) # merubah tabel numerik dengan standard scaler\n",
      "/opt/conda/lib/python3.9/site-packages/pandas/core/indexing.py:1637: SettingWithCopyWarning: \n",
      "A value is trying to be set on a copy of a slice from a DataFrame\n",
      "\n",
      "See the caveats in the documentation: https://pandas.pydata.org/pandas-docs/stable/user_guide/indexing.html#returning-a-view-versus-a-copy\n",
      "  self._setitem_single_block(indexer, value, name)\n",
      "/opt/conda/lib/python3.9/site-packages/pandas/core/indexing.py:692: SettingWithCopyWarning: \n",
      "A value is trying to be set on a copy of a slice from a DataFrame\n",
      "\n",
      "See the caveats in the documentation: https://pandas.pydata.org/pandas-docs/stable/user_guide/indexing.html#returning-a-view-versus-a-copy\n",
      "  iloc._setitem_with_indexer(indexer, value, self.name)\n"
     ]
    }
   ],
   "source": [
    "standard_scaler(df2_features_train, df2_features_valid)"
   ]
  },
  {
   "cell_type": "code",
   "execution_count": 42,
   "id": "4e1d147f",
   "metadata": {},
   "outputs": [
    {
     "data": {
      "text/html": [
       "<div>\n",
       "<style scoped>\n",
       "    .dataframe tbody tr th:only-of-type {\n",
       "        vertical-align: middle;\n",
       "    }\n",
       "\n",
       "    .dataframe tbody tr th {\n",
       "        vertical-align: top;\n",
       "    }\n",
       "\n",
       "    .dataframe thead th {\n",
       "        text-align: right;\n",
       "    }\n",
       "</style>\n",
       "<table border=\"1\" class=\"dataframe\">\n",
       "  <thead>\n",
       "    <tr style=\"text-align: right;\">\n",
       "      <th></th>\n",
       "      <th>f0</th>\n",
       "      <th>f1</th>\n",
       "      <th>f2</th>\n",
       "    </tr>\n",
       "  </thead>\n",
       "  <tbody>\n",
       "    <tr>\n",
       "      <th>27212</th>\n",
       "      <td>-0.850855</td>\n",
       "      <td>0.624428</td>\n",
       "      <td>0.296943</td>\n",
       "    </tr>\n",
       "    <tr>\n",
       "      <th>7866</th>\n",
       "      <td>1.971935</td>\n",
       "      <td>1.832275</td>\n",
       "      <td>0.294333</td>\n",
       "    </tr>\n",
       "    <tr>\n",
       "      <th>62041</th>\n",
       "      <td>1.079305</td>\n",
       "      <td>0.170127</td>\n",
       "      <td>-0.296418</td>\n",
       "    </tr>\n",
       "    <tr>\n",
       "      <th>70185</th>\n",
       "      <td>-1.512028</td>\n",
       "      <td>-0.887837</td>\n",
       "      <td>-0.880471</td>\n",
       "    </tr>\n",
       "    <tr>\n",
       "      <th>82230</th>\n",
       "      <td>-1.804775</td>\n",
       "      <td>-0.718311</td>\n",
       "      <td>-0.293255</td>\n",
       "    </tr>\n",
       "  </tbody>\n",
       "</table>\n",
       "</div>"
      ],
      "text/plain": [
       "             f0        f1        f2\n",
       "27212 -0.850855  0.624428  0.296943\n",
       "7866   1.971935  1.832275  0.294333\n",
       "62041  1.079305  0.170127 -0.296418\n",
       "70185 -1.512028 -0.887837 -0.880471\n",
       "82230 -1.804775 -0.718311 -0.293255"
      ]
     },
     "execution_count": 42,
     "metadata": {},
     "output_type": "execute_result"
    }
   ],
   "source": [
    "df2_features_train.head()"
   ]
  },
  {
   "cell_type": "code",
   "execution_count": 43,
   "id": "cde1b920",
   "metadata": {},
   "outputs": [
    {
     "data": {
      "text/html": [
       "<div>\n",
       "<style scoped>\n",
       "    .dataframe tbody tr th:only-of-type {\n",
       "        vertical-align: middle;\n",
       "    }\n",
       "\n",
       "    .dataframe tbody tr th {\n",
       "        vertical-align: top;\n",
       "    }\n",
       "\n",
       "    .dataframe thead th {\n",
       "        text-align: right;\n",
       "    }\n",
       "</style>\n",
       "<table border=\"1\" class=\"dataframe\">\n",
       "  <thead>\n",
       "    <tr style=\"text-align: right;\">\n",
       "      <th></th>\n",
       "      <th>f0</th>\n",
       "      <th>f1</th>\n",
       "      <th>f2</th>\n",
       "    </tr>\n",
       "  </thead>\n",
       "  <tbody>\n",
       "    <tr>\n",
       "      <th>71751</th>\n",
       "      <td>-0.168616</td>\n",
       "      <td>0.571372</td>\n",
       "      <td>0.297471</td>\n",
       "    </tr>\n",
       "    <tr>\n",
       "      <th>80493</th>\n",
       "      <td>0.878384</td>\n",
       "      <td>-1.772903</td>\n",
       "      <td>-0.293901</td>\n",
       "    </tr>\n",
       "    <tr>\n",
       "      <th>2655</th>\n",
       "      <td>-0.852976</td>\n",
       "      <td>-0.004986</td>\n",
       "      <td>-0.876502</td>\n",
       "    </tr>\n",
       "    <tr>\n",
       "      <th>53233</th>\n",
       "      <td>1.496940</td>\n",
       "      <td>-1.146077</td>\n",
       "      <td>-0.294011</td>\n",
       "    </tr>\n",
       "    <tr>\n",
       "      <th>91141</th>\n",
       "      <td>0.552177</td>\n",
       "      <td>0.057961</td>\n",
       "      <td>-1.457764</td>\n",
       "    </tr>\n",
       "  </tbody>\n",
       "</table>\n",
       "</div>"
      ],
      "text/plain": [
       "             f0        f1        f2\n",
       "71751 -0.168616  0.571372  0.297471\n",
       "80493  0.878384 -1.772903 -0.293901\n",
       "2655  -0.852976 -0.004986 -0.876502\n",
       "53233  1.496940 -1.146077 -0.294011\n",
       "91141  0.552177  0.057961 -1.457764"
      ]
     },
     "execution_count": 43,
     "metadata": {},
     "output_type": "execute_result"
    }
   ],
   "source": [
    "df2_features_valid.head()"
   ]
  },
  {
   "cell_type": "markdown",
   "id": "2b798c51",
   "metadata": {},
   "source": [
    "Hasil dari standard scaler membuat jarak nilai data numerik menjadi tidak jauh."
   ]
  },
  {
   "cell_type": "code",
   "execution_count": 44,
   "id": "1a2df153",
   "metadata": {},
   "outputs": [
    {
     "data": {
      "text/plain": [
       "LinearRegression()"
      ]
     },
     "execution_count": 44,
     "metadata": {},
     "output_type": "execute_result"
    }
   ],
   "source": [
    "# melatih model\n",
    "model.fit(df2_features_train, df2_target_train)"
   ]
  },
  {
   "cell_type": "code",
   "execution_count": 45,
   "id": "0b6ed40e",
   "metadata": {},
   "outputs": [],
   "source": [
    "# prediksi target menggunakan data valid\n",
    "df2_predictions_valid = model.predict(df2_features_valid)"
   ]
  },
  {
   "cell_type": "code",
   "execution_count": 46,
   "id": "5c188808",
   "metadata": {},
   "outputs": [],
   "source": [
    "# menghitung MSE\n",
    "mse_geo2 = mean_squared_error(df2_target_valid, df2_predictions_valid)"
   ]
  },
  {
   "cell_type": "code",
   "execution_count": 47,
   "id": "b1fff6fe",
   "metadata": {},
   "outputs": [
    {
     "name": "stdout",
     "output_type": "stream",
     "text": [
      "Rata-rata: 68.728546895446\n",
      "RMSE: 0.893099286775617\n"
     ]
    }
   ],
   "source": [
    "# menghitung rata-rata dan RMSE\n",
    "print('Rata-rata:', df2_predictions_valid.mean())\n",
    "print('RMSE:', mse_geo2**0.5)"
   ]
  },
  {
   "cell_type": "markdown",
   "id": "4a561a55",
   "metadata": {},
   "source": [
    "## Wilayah 3"
   ]
  },
  {
   "cell_type": "code",
   "execution_count": 48,
   "id": "15d531dc",
   "metadata": {},
   "outputs": [],
   "source": [
    "# Membuat fitur dengan menghapus kolom id dan product\n",
    "df3_features = df3.drop(['id', 'product'], axis=1)"
   ]
  },
  {
   "cell_type": "code",
   "execution_count": 49,
   "id": "b85d9231",
   "metadata": {},
   "outputs": [],
   "source": [
    "# Membuat target dengan mengambil kolom product\n",
    "df3_target = df3['product']"
   ]
  },
  {
   "cell_type": "code",
   "execution_count": 50,
   "id": "21a45c62",
   "metadata": {},
   "outputs": [],
   "source": [
    "# Memisahkan data menjadi train dan valid dengan rasio 75:25\n",
    "df3_features_train, df3_features_valid, df3_target_train, df3_target_valid = train_test_split(df3_features, df3_target, test_size=0.25, random_state=42)"
   ]
  },
  {
   "cell_type": "code",
   "execution_count": 51,
   "id": "70078580",
   "metadata": {},
   "outputs": [
    {
     "name": "stderr",
     "output_type": "stream",
     "text": [
      "/tmp/ipykernel_27/885575800.py:6: SettingWithCopyWarning: \n",
      "A value is trying to be set on a copy of a slice from a DataFrame.\n",
      "Try using .loc[row_indexer,col_indexer] = value instead\n",
      "\n",
      "See the caveats in the documentation: https://pandas.pydata.org/pandas-docs/stable/user_guide/indexing.html#returning-a-view-versus-a-copy\n",
      "  features_train[numeric] = scaler.transform(features_train[numeric]) # merubah tabel numerik dengan standard scaler\n",
      "/opt/conda/lib/python3.9/site-packages/pandas/core/indexing.py:1637: SettingWithCopyWarning: \n",
      "A value is trying to be set on a copy of a slice from a DataFrame\n",
      "\n",
      "See the caveats in the documentation: https://pandas.pydata.org/pandas-docs/stable/user_guide/indexing.html#returning-a-view-versus-a-copy\n",
      "  self._setitem_single_block(indexer, value, name)\n",
      "/opt/conda/lib/python3.9/site-packages/pandas/core/indexing.py:692: SettingWithCopyWarning: \n",
      "A value is trying to be set on a copy of a slice from a DataFrame\n",
      "\n",
      "See the caveats in the documentation: https://pandas.pydata.org/pandas-docs/stable/user_guide/indexing.html#returning-a-view-versus-a-copy\n",
      "  iloc._setitem_with_indexer(indexer, value, self.name)\n",
      "/tmp/ipykernel_27/885575800.py:7: SettingWithCopyWarning: \n",
      "A value is trying to be set on a copy of a slice from a DataFrame.\n",
      "Try using .loc[row_indexer,col_indexer] = value instead\n",
      "\n",
      "See the caveats in the documentation: https://pandas.pydata.org/pandas-docs/stable/user_guide/indexing.html#returning-a-view-versus-a-copy\n",
      "  features_valid[numeric] = scaler.transform(features_valid[numeric]) # merubah tabel numerik dengan standard scaler\n",
      "/opt/conda/lib/python3.9/site-packages/pandas/core/indexing.py:1637: SettingWithCopyWarning: \n",
      "A value is trying to be set on a copy of a slice from a DataFrame\n",
      "\n",
      "See the caveats in the documentation: https://pandas.pydata.org/pandas-docs/stable/user_guide/indexing.html#returning-a-view-versus-a-copy\n",
      "  self._setitem_single_block(indexer, value, name)\n",
      "/opt/conda/lib/python3.9/site-packages/pandas/core/indexing.py:692: SettingWithCopyWarning: \n",
      "A value is trying to be set on a copy of a slice from a DataFrame\n",
      "\n",
      "See the caveats in the documentation: https://pandas.pydata.org/pandas-docs/stable/user_guide/indexing.html#returning-a-view-versus-a-copy\n",
      "  iloc._setitem_with_indexer(indexer, value, self.name)\n"
     ]
    }
   ],
   "source": [
    "standard_scaler(df3_features_train, df3_features_valid)"
   ]
  },
  {
   "cell_type": "code",
   "execution_count": 52,
   "id": "02c62cc1",
   "metadata": {},
   "outputs": [
    {
     "data": {
      "text/html": [
       "<div>\n",
       "<style scoped>\n",
       "    .dataframe tbody tr th:only-of-type {\n",
       "        vertical-align: middle;\n",
       "    }\n",
       "\n",
       "    .dataframe tbody tr th {\n",
       "        vertical-align: top;\n",
       "    }\n",
       "\n",
       "    .dataframe thead th {\n",
       "        text-align: right;\n",
       "    }\n",
       "</style>\n",
       "<table border=\"1\" class=\"dataframe\">\n",
       "  <thead>\n",
       "    <tr style=\"text-align: right;\">\n",
       "      <th></th>\n",
       "      <th>f0</th>\n",
       "      <th>f1</th>\n",
       "      <th>f2</th>\n",
       "    </tr>\n",
       "  </thead>\n",
       "  <tbody>\n",
       "    <tr>\n",
       "      <th>98980</th>\n",
       "      <td>-0.343864</td>\n",
       "      <td>-1.338311</td>\n",
       "      <td>0.817572</td>\n",
       "    </tr>\n",
       "    <tr>\n",
       "      <th>69824</th>\n",
       "      <td>-0.400431</td>\n",
       "      <td>0.993613</td>\n",
       "      <td>-1.102974</td>\n",
       "    </tr>\n",
       "    <tr>\n",
       "      <th>9928</th>\n",
       "      <td>1.004849</td>\n",
       "      <td>-0.923485</td>\n",
       "      <td>-0.576264</td>\n",
       "    </tr>\n",
       "    <tr>\n",
       "      <th>75599</th>\n",
       "      <td>-0.784031</td>\n",
       "      <td>0.571573</td>\n",
       "      <td>0.914886</td>\n",
       "    </tr>\n",
       "    <tr>\n",
       "      <th>95621</th>\n",
       "      <td>0.619771</td>\n",
       "      <td>0.681588</td>\n",
       "      <td>-0.429467</td>\n",
       "    </tr>\n",
       "  </tbody>\n",
       "</table>\n",
       "</div>"
      ],
      "text/plain": [
       "             f0        f1        f2\n",
       "98980 -0.343864 -1.338311  0.817572\n",
       "69824 -0.400431  0.993613 -1.102974\n",
       "9928   1.004849 -0.923485 -0.576264\n",
       "75599 -0.784031  0.571573  0.914886\n",
       "95621  0.619771  0.681588 -0.429467"
      ]
     },
     "execution_count": 52,
     "metadata": {},
     "output_type": "execute_result"
    }
   ],
   "source": [
    "df3_features_train.head()"
   ]
  },
  {
   "cell_type": "code",
   "execution_count": 53,
   "id": "0a1f0723",
   "metadata": {},
   "outputs": [
    {
     "data": {
      "text/html": [
       "<div>\n",
       "<style scoped>\n",
       "    .dataframe tbody tr th:only-of-type {\n",
       "        vertical-align: middle;\n",
       "    }\n",
       "\n",
       "    .dataframe tbody tr th {\n",
       "        vertical-align: top;\n",
       "    }\n",
       "\n",
       "    .dataframe thead th {\n",
       "        text-align: right;\n",
       "    }\n",
       "</style>\n",
       "<table border=\"1\" class=\"dataframe\">\n",
       "  <thead>\n",
       "    <tr style=\"text-align: right;\">\n",
       "      <th></th>\n",
       "      <th>f0</th>\n",
       "      <th>f1</th>\n",
       "      <th>f2</th>\n",
       "    </tr>\n",
       "  </thead>\n",
       "  <tbody>\n",
       "    <tr>\n",
       "      <th>75721</th>\n",
       "      <td>1.218275</td>\n",
       "      <td>-0.966868</td>\n",
       "      <td>0.175298</td>\n",
       "    </tr>\n",
       "    <tr>\n",
       "      <th>80184</th>\n",
       "      <td>0.423146</td>\n",
       "      <td>0.434841</td>\n",
       "      <td>0.336007</td>\n",
       "    </tr>\n",
       "    <tr>\n",
       "      <th>19864</th>\n",
       "      <td>-1.453162</td>\n",
       "      <td>0.490760</td>\n",
       "      <td>-2.136247</td>\n",
       "    </tr>\n",
       "    <tr>\n",
       "      <th>76699</th>\n",
       "      <td>-1.177130</td>\n",
       "      <td>-0.876338</td>\n",
       "      <td>0.739322</td>\n",
       "    </tr>\n",
       "    <tr>\n",
       "      <th>92991</th>\n",
       "      <td>1.583978</td>\n",
       "      <td>0.828733</td>\n",
       "      <td>-1.114918</td>\n",
       "    </tr>\n",
       "  </tbody>\n",
       "</table>\n",
       "</div>"
      ],
      "text/plain": [
       "             f0        f1        f2\n",
       "75721  1.218275 -0.966868  0.175298\n",
       "80184  0.423146  0.434841  0.336007\n",
       "19864 -1.453162  0.490760 -2.136247\n",
       "76699 -1.177130 -0.876338  0.739322\n",
       "92991  1.583978  0.828733 -1.114918"
      ]
     },
     "execution_count": 53,
     "metadata": {},
     "output_type": "execute_result"
    }
   ],
   "source": [
    "df3_features_valid.head()"
   ]
  },
  {
   "cell_type": "markdown",
   "id": "76e91fc7",
   "metadata": {},
   "source": [
    "Hasil dari standard scaler membuat jarak nilai data numerik menjadi tidak jauh."
   ]
  },
  {
   "cell_type": "code",
   "execution_count": 54,
   "id": "1251e919",
   "metadata": {},
   "outputs": [
    {
     "data": {
      "text/plain": [
       "LinearRegression()"
      ]
     },
     "execution_count": 54,
     "metadata": {},
     "output_type": "execute_result"
    }
   ],
   "source": [
    "# melatih model menggunakan train set\n",
    "model.fit(df3_features_train, df3_target_train)"
   ]
  },
  {
   "cell_type": "code",
   "execution_count": 55,
   "id": "9d60ee23",
   "metadata": {},
   "outputs": [],
   "source": [
    "# prediksi target menggunakan valid set\n",
    "df3_predictions_valid = model.predict(df3_features_valid)"
   ]
  },
  {
   "cell_type": "code",
   "execution_count": 56,
   "id": "eea00f84",
   "metadata": {},
   "outputs": [],
   "source": [
    "# menghitung MSE\n",
    "mse_geo3 = mean_squared_error(df3_target_valid, df3_predictions_valid)"
   ]
  },
  {
   "cell_type": "code",
   "execution_count": 57,
   "id": "6ab04d30",
   "metadata": {},
   "outputs": [
    {
     "name": "stdout",
     "output_type": "stream",
     "text": [
      "Rata-rata: 94.77102387765939\n",
      "RMSE: 40.145872311342174\n"
     ]
    }
   ],
   "source": [
    "# menghitung rata-rata dan RMSE\n",
    "print('Rata-rata:', df3_predictions_valid.mean())\n",
    "print('RMSE:', mse_geo3**0.5)"
   ]
  },
  {
   "cell_type": "markdown",
   "id": "868c7e1a",
   "metadata": {},
   "source": [
    "## Bandingkan Hasil"
   ]
  },
  {
   "cell_type": "markdown",
   "id": "d2d51e07",
   "metadata": {},
   "source": [
    "### Wilayah 1"
   ]
  },
  {
   "cell_type": "code",
   "execution_count": 62,
   "id": "845d87e0",
   "metadata": {},
   "outputs": [],
   "source": [
    "# membuat series dan menjadikannya DataFrame\n",
    "df1_predicted_value = pd.Series(df1_predictions_valid)\n",
    "df1_real_value = pd.Series(df1_target_valid)"
   ]
  },
  {
   "cell_type": "code",
   "execution_count": 69,
   "id": "5f2ea818",
   "metadata": {},
   "outputs": [],
   "source": [
    "df1_predicted_value = pd.DataFrame(df1_predicted_value).rename(columns={0:'predicted_value'}).reset_index(drop=True)\n",
    "df1_real_value = pd.DataFrame(df1_real_value).rename(columns={'product':'real_value'}).reset_index(drop=True)"
   ]
  },
  {
   "cell_type": "code",
   "execution_count": 71,
   "id": "8c1f82e7",
   "metadata": {},
   "outputs": [
    {
     "data": {
      "text/html": [
       "<div>\n",
       "<style scoped>\n",
       "    .dataframe tbody tr th:only-of-type {\n",
       "        vertical-align: middle;\n",
       "    }\n",
       "\n",
       "    .dataframe tbody tr th {\n",
       "        vertical-align: top;\n",
       "    }\n",
       "\n",
       "    .dataframe thead th {\n",
       "        text-align: right;\n",
       "    }\n",
       "</style>\n",
       "<table border=\"1\" class=\"dataframe\">\n",
       "  <thead>\n",
       "    <tr style=\"text-align: right;\">\n",
       "      <th></th>\n",
       "      <th>predicted_value</th>\n",
       "      <th>real_value</th>\n",
       "    </tr>\n",
       "  </thead>\n",
       "  <tbody>\n",
       "    <tr>\n",
       "      <th>0</th>\n",
       "      <td>95.894952</td>\n",
       "      <td>10.038645</td>\n",
       "    </tr>\n",
       "    <tr>\n",
       "      <th>1</th>\n",
       "      <td>77.572583</td>\n",
       "      <td>114.551489</td>\n",
       "    </tr>\n",
       "    <tr>\n",
       "      <th>2</th>\n",
       "      <td>77.892640</td>\n",
       "      <td>132.603635</td>\n",
       "    </tr>\n",
       "    <tr>\n",
       "      <th>3</th>\n",
       "      <td>90.175134</td>\n",
       "      <td>169.072125</td>\n",
       "    </tr>\n",
       "    <tr>\n",
       "      <th>4</th>\n",
       "      <td>70.510088</td>\n",
       "      <td>122.325180</td>\n",
       "    </tr>\n",
       "    <tr>\n",
       "      <th>...</th>\n",
       "      <td>...</td>\n",
       "      <td>...</td>\n",
       "    </tr>\n",
       "    <tr>\n",
       "      <th>24995</th>\n",
       "      <td>103.037104</td>\n",
       "      <td>170.116726</td>\n",
       "    </tr>\n",
       "    <tr>\n",
       "      <th>24996</th>\n",
       "      <td>85.403255</td>\n",
       "      <td>93.632175</td>\n",
       "    </tr>\n",
       "    <tr>\n",
       "      <th>24997</th>\n",
       "      <td>61.509833</td>\n",
       "      <td>127.352259</td>\n",
       "    </tr>\n",
       "    <tr>\n",
       "      <th>24998</th>\n",
       "      <td>118.180397</td>\n",
       "      <td>99.782700</td>\n",
       "    </tr>\n",
       "    <tr>\n",
       "      <th>24999</th>\n",
       "      <td>118.169392</td>\n",
       "      <td>177.821022</td>\n",
       "    </tr>\n",
       "  </tbody>\n",
       "</table>\n",
       "<p>25000 rows × 2 columns</p>\n",
       "</div>"
      ],
      "text/plain": [
       "       predicted_value  real_value\n",
       "0            95.894952   10.038645\n",
       "1            77.572583  114.551489\n",
       "2            77.892640  132.603635\n",
       "3            90.175134  169.072125\n",
       "4            70.510088  122.325180\n",
       "...                ...         ...\n",
       "24995       103.037104  170.116726\n",
       "24996        85.403255   93.632175\n",
       "24997        61.509833  127.352259\n",
       "24998       118.180397   99.782700\n",
       "24999       118.169392  177.821022\n",
       "\n",
       "[25000 rows x 2 columns]"
      ]
     },
     "execution_count": 71,
     "metadata": {},
     "output_type": "execute_result"
    }
   ],
   "source": [
    "# menggabungkan dua data frame dan membandingkan hasil\n",
    "df1_predicted_value.join(df1_real_value)"
   ]
  },
  {
   "cell_type": "markdown",
   "id": "1e6a0879",
   "metadata": {},
   "source": [
    "### Wilayah 2"
   ]
  },
  {
   "cell_type": "code",
   "execution_count": 72,
   "id": "1e0eb325",
   "metadata": {},
   "outputs": [],
   "source": [
    "# membuat series dan menjadikannya DataFrame\n",
    "df2_predicted_value = pd.Series(df2_predictions_valid)\n",
    "df2_real_value = pd.Series(df2_target_valid)"
   ]
  },
  {
   "cell_type": "code",
   "execution_count": 73,
   "id": "39db416d",
   "metadata": {},
   "outputs": [],
   "source": [
    "df2_predicted_value = pd.DataFrame(df2_predicted_value).rename(columns={0:'predicted_value'}).reset_index(drop=True)\n",
    "df2_real_value = pd.DataFrame(df2_real_value).rename(columns={'product':'real_value'}).reset_index(drop=True)"
   ]
  },
  {
   "cell_type": "code",
   "execution_count": 74,
   "id": "78ef320d",
   "metadata": {},
   "outputs": [
    {
     "data": {
      "text/html": [
       "<div>\n",
       "<style scoped>\n",
       "    .dataframe tbody tr th:only-of-type {\n",
       "        vertical-align: middle;\n",
       "    }\n",
       "\n",
       "    .dataframe tbody tr th {\n",
       "        vertical-align: top;\n",
       "    }\n",
       "\n",
       "    .dataframe thead th {\n",
       "        text-align: right;\n",
       "    }\n",
       "</style>\n",
       "<table border=\"1\" class=\"dataframe\">\n",
       "  <thead>\n",
       "    <tr style=\"text-align: right;\">\n",
       "      <th></th>\n",
       "      <th>predicted_value</th>\n",
       "      <th>real_value</th>\n",
       "    </tr>\n",
       "  </thead>\n",
       "  <tbody>\n",
       "    <tr>\n",
       "      <th>0</th>\n",
       "      <td>82.663314</td>\n",
       "      <td>80.859783</td>\n",
       "    </tr>\n",
       "    <tr>\n",
       "      <th>1</th>\n",
       "      <td>54.431786</td>\n",
       "      <td>53.906522</td>\n",
       "    </tr>\n",
       "    <tr>\n",
       "      <th>2</th>\n",
       "      <td>29.748760</td>\n",
       "      <td>30.132364</td>\n",
       "    </tr>\n",
       "    <tr>\n",
       "      <th>3</th>\n",
       "      <td>53.552133</td>\n",
       "      <td>53.906522</td>\n",
       "    </tr>\n",
       "    <tr>\n",
       "      <th>4</th>\n",
       "      <td>1.243856</td>\n",
       "      <td>0.000000</td>\n",
       "    </tr>\n",
       "    <tr>\n",
       "      <th>...</th>\n",
       "      <td>...</td>\n",
       "      <td>...</td>\n",
       "    </tr>\n",
       "    <tr>\n",
       "      <th>24995</th>\n",
       "      <td>136.869211</td>\n",
       "      <td>137.945408</td>\n",
       "    </tr>\n",
       "    <tr>\n",
       "      <th>24996</th>\n",
       "      <td>110.693465</td>\n",
       "      <td>110.992147</td>\n",
       "    </tr>\n",
       "    <tr>\n",
       "      <th>24997</th>\n",
       "      <td>137.879341</td>\n",
       "      <td>137.945408</td>\n",
       "    </tr>\n",
       "    <tr>\n",
       "      <th>24998</th>\n",
       "      <td>83.761966</td>\n",
       "      <td>84.038886</td>\n",
       "    </tr>\n",
       "    <tr>\n",
       "      <th>24999</th>\n",
       "      <td>53.958466</td>\n",
       "      <td>53.906522</td>\n",
       "    </tr>\n",
       "  </tbody>\n",
       "</table>\n",
       "<p>25000 rows × 2 columns</p>\n",
       "</div>"
      ],
      "text/plain": [
       "       predicted_value  real_value\n",
       "0            82.663314   80.859783\n",
       "1            54.431786   53.906522\n",
       "2            29.748760   30.132364\n",
       "3            53.552133   53.906522\n",
       "4             1.243856    0.000000\n",
       "...                ...         ...\n",
       "24995       136.869211  137.945408\n",
       "24996       110.693465  110.992147\n",
       "24997       137.879341  137.945408\n",
       "24998        83.761966   84.038886\n",
       "24999        53.958466   53.906522\n",
       "\n",
       "[25000 rows x 2 columns]"
      ]
     },
     "execution_count": 74,
     "metadata": {},
     "output_type": "execute_result"
    }
   ],
   "source": [
    "# menggabungkan dua data frame dan membandingkan hasil\n",
    "df2_predicted_value.join(df2_real_value)"
   ]
  },
  {
   "cell_type": "markdown",
   "id": "08230578",
   "metadata": {},
   "source": [
    "### Wilayah 3"
   ]
  },
  {
   "cell_type": "code",
   "execution_count": 75,
   "id": "6128790f",
   "metadata": {},
   "outputs": [],
   "source": [
    "# membuat series dan menjadikannya DataFrame\n",
    "df3_predicted_value = pd.Series(df3_predictions_valid)\n",
    "df3_real_value = pd.Series(df3_target_valid)"
   ]
  },
  {
   "cell_type": "code",
   "execution_count": 76,
   "id": "0a46ee3d",
   "metadata": {},
   "outputs": [],
   "source": [
    "df3_predicted_value = pd.DataFrame(df3_predicted_value).rename(columns={0:'predicted_value'}).reset_index(drop=True)\n",
    "df3_real_value = pd.DataFrame(df3_real_value).rename(columns={'product':'real_value'}).reset_index(drop=True)"
   ]
  },
  {
   "cell_type": "code",
   "execution_count": 77,
   "id": "470228d0",
   "metadata": {},
   "outputs": [
    {
     "data": {
      "text/html": [
       "<div>\n",
       "<style scoped>\n",
       "    .dataframe tbody tr th:only-of-type {\n",
       "        vertical-align: middle;\n",
       "    }\n",
       "\n",
       "    .dataframe tbody tr th {\n",
       "        vertical-align: top;\n",
       "    }\n",
       "\n",
       "    .dataframe thead th {\n",
       "        text-align: right;\n",
       "    }\n",
       "</style>\n",
       "<table border=\"1\" class=\"dataframe\">\n",
       "  <thead>\n",
       "    <tr style=\"text-align: right;\">\n",
       "      <th></th>\n",
       "      <th>predicted_value</th>\n",
       "      <th>real_value</th>\n",
       "    </tr>\n",
       "  </thead>\n",
       "  <tbody>\n",
       "    <tr>\n",
       "      <th>0</th>\n",
       "      <td>98.301916</td>\n",
       "      <td>117.441301</td>\n",
       "    </tr>\n",
       "    <tr>\n",
       "      <th>1</th>\n",
       "      <td>101.592461</td>\n",
       "      <td>47.841249</td>\n",
       "    </tr>\n",
       "    <tr>\n",
       "      <th>2</th>\n",
       "      <td>52.449099</td>\n",
       "      <td>45.883483</td>\n",
       "    </tr>\n",
       "    <tr>\n",
       "      <th>3</th>\n",
       "      <td>109.922127</td>\n",
       "      <td>139.014608</td>\n",
       "    </tr>\n",
       "    <tr>\n",
       "      <th>4</th>\n",
       "      <td>72.411847</td>\n",
       "      <td>84.004276</td>\n",
       "    </tr>\n",
       "    <tr>\n",
       "      <th>...</th>\n",
       "      <td>...</td>\n",
       "      <td>...</td>\n",
       "    </tr>\n",
       "    <tr>\n",
       "      <th>24995</th>\n",
       "      <td>102.764169</td>\n",
       "      <td>40.797226</td>\n",
       "    </tr>\n",
       "    <tr>\n",
       "      <th>24996</th>\n",
       "      <td>93.431823</td>\n",
       "      <td>87.144239</td>\n",
       "    </tr>\n",
       "    <tr>\n",
       "      <th>24997</th>\n",
       "      <td>64.098390</td>\n",
       "      <td>52.039812</td>\n",
       "    </tr>\n",
       "    <tr>\n",
       "      <th>24998</th>\n",
       "      <td>83.764135</td>\n",
       "      <td>136.961454</td>\n",
       "    </tr>\n",
       "    <tr>\n",
       "      <th>24999</th>\n",
       "      <td>86.558644</td>\n",
       "      <td>109.173206</td>\n",
       "    </tr>\n",
       "  </tbody>\n",
       "</table>\n",
       "<p>25000 rows × 2 columns</p>\n",
       "</div>"
      ],
      "text/plain": [
       "       predicted_value  real_value\n",
       "0            98.301916  117.441301\n",
       "1           101.592461   47.841249\n",
       "2            52.449099   45.883483\n",
       "3           109.922127  139.014608\n",
       "4            72.411847   84.004276\n",
       "...                ...         ...\n",
       "24995       102.764169   40.797226\n",
       "24996        93.431823   87.144239\n",
       "24997        64.098390   52.039812\n",
       "24998        83.764135  136.961454\n",
       "24999        86.558644  109.173206\n",
       "\n",
       "[25000 rows x 2 columns]"
      ]
     },
     "execution_count": 77,
     "metadata": {},
     "output_type": "execute_result"
    }
   ],
   "source": [
    "# menggabungkan dua data frame dan membandingkan hasil\n",
    "df3_predicted_value.join(df3_real_value)"
   ]
  },
  {
   "cell_type": "markdown",
   "id": "87b91ff4",
   "metadata": {},
   "source": [
    "## Analisis Hasil\n",
    "Berdasarkan hasil di atas, bisa disimpulkan bahwa:\n",
    "- Pada wilayah satu, rata-rata cadangan volume minyak yang didapat adalah **92**. Dengan nilai RMSE **37.5**.\n",
    "- Pada wilayah dua, rata-rata cadangan volume minyak yang didapat adalah **68**. Dengan nilai RMSE **0.89**.\n",
    "- Pada wilayah tiga, rata-rata cadangan volume minyak yang didapat adalah **94**. Dengan nilai RMSE **40.14**.\n",
    "\n",
    "Berdasarkan pemaparan di atas, bisa kita lihat bahwa wilayah yang memiliki volume cadangan minyak paling banyak adalah wilayah 3. Sedangkan untuk nilai **RMSE** yang paling rendah adalah di wilayah 2 yang menunjukkan bahwa model yang diprediksi lebih akurat menggunakan data wilayah 2.\n",
    "\n",
    "Pada saat membandingkan **predicted_value** dan **real_value** hasilnya untuk wilayah 1 dan 3 itu jauh sedangkan untuk wilayah 2 hasilnya hampir sama akurat. Hal ini bisa dilihat juga dari tingkat RMSE yang mana semakin rendah nilainya maka tingkat akurasi dalam memprediksi semakin bagus."
   ]
  },
  {
   "cell_type": "markdown",
   "id": "a6538d1e",
   "metadata": {},
   "source": [
    "# Persiapan Menghitung Laba"
   ]
  },
  {
   "cell_type": "markdown",
   "id": "4b251b51",
   "metadata": {},
   "source": [
    "Sisa volume minyak yang tersedia:"
   ]
  },
  {
   "cell_type": "code",
   "execution_count": 111,
   "id": "10226188",
   "metadata": {},
   "outputs": [],
   "source": [
    "chosen_points = 200\n",
    "budget_200 = 100000000\n",
    "income_per_volume = 4500\n",
    "volume_min = budget_200/income_per_volume\n",
    "each_wells_volume = volume_min/chosen_points"
   ]
  },
  {
   "cell_type": "code",
   "execution_count": 112,
   "id": "615cb85a",
   "metadata": {},
   "outputs": [
    {
     "name": "stdout",
     "output_type": "stream",
     "text": [
      "Minimum volume: 22222.222222222223\n",
      "Setiap sumur harus mempunyai volume: 111.11111111111111\n"
     ]
    }
   ],
   "source": [
    "print('Minimum volume:', volume_min)\n",
    "print('Setiap sumur harus mempunyai volume:', each_wells_volume)"
   ]
  },
  {
   "cell_type": "markdown",
   "id": "18a19a0e",
   "metadata": {},
   "source": [
    "Rata-rata cadangan minyak yang tersedia:"
   ]
  },
  {
   "cell_type": "code",
   "execution_count": 80,
   "id": "be58620d",
   "metadata": {},
   "outputs": [
    {
     "data": {
      "text/plain": [
       "92.50000000000001"
      ]
     },
     "execution_count": 80,
     "metadata": {},
     "output_type": "execute_result"
    }
   ],
   "source": [
    "df1['product'].mean()"
   ]
  },
  {
   "cell_type": "code",
   "execution_count": 81,
   "id": "bda96557",
   "metadata": {},
   "outputs": [
    {
     "data": {
      "text/plain": [
       "68.82500000000002"
      ]
     },
     "execution_count": 81,
     "metadata": {},
     "output_type": "execute_result"
    }
   ],
   "source": [
    "df2['product'].mean()"
   ]
  },
  {
   "cell_type": "code",
   "execution_count": 82,
   "id": "d4bc061f",
   "metadata": {},
   "outputs": [
    {
     "data": {
      "text/plain": [
       "95.00000000000004"
      ]
     },
     "execution_count": 82,
     "metadata": {},
     "output_type": "execute_result"
    }
   ],
   "source": [
    "df3['product'].mean()"
   ]
  },
  {
   "cell_type": "markdown",
   "id": "29ec7b5b",
   "metadata": {},
   "source": [
    "**Berdasarkan informasi di atas:** Minimul volume yang harus diisi untuk setiap sumur di 200 titik adalah sebesar **111**. Sedangkan rata-rata volume yang dihasilkan setiap wilayah tidak mencapai minimum volume yang dibutuhkan setiap sumur"
   ]
  },
  {
   "cell_type": "markdown",
   "id": "00aba247",
   "metadata": {},
   "source": [
    "# Menghitung Laba"
   ]
  },
  {
   "cell_type": "code",
   "execution_count": 83,
   "id": "1f91ae04",
   "metadata": {},
   "outputs": [],
   "source": [
    "def profit(target, predictions):\n",
    "    sorted_probs = predictions.sort_values(ascending=False)\n",
    "    select_points = target[sorted_probs.index][:200]\n",
    "    revenue = income_per_volume*select_points.sum()\n",
    "    return round(revenue - budget_200, 2)"
   ]
  },
  {
   "cell_type": "markdown",
   "id": "3aa60f2f",
   "metadata": {},
   "source": [
    "Mereset index data valid:"
   ]
  },
  {
   "cell_type": "code",
   "execution_count": 84,
   "id": "4dfb0b88",
   "metadata": {},
   "outputs": [],
   "source": [
    "df1_target_valid = df1_target_valid.reset_index(drop=True)\n",
    "df2_target_valid = df2_target_valid.reset_index(drop=True)\n",
    "df3_target_valid = df3_target_valid.reset_index(drop=True)"
   ]
  },
  {
   "cell_type": "markdown",
   "id": "ff555724",
   "metadata": {},
   "source": [
    "Merubah data prediksi menjadi series:"
   ]
  },
  {
   "cell_type": "code",
   "execution_count": 85,
   "id": "e023fd35",
   "metadata": {},
   "outputs": [],
   "source": [
    "df1_predictions_valid = pd.Series(df1_predictions_valid)\n",
    "df2_predictions_valid = pd.Series(df2_predictions_valid)\n",
    "df3_predictions_valid = pd.Series(df3_predictions_valid)"
   ]
  },
  {
   "cell_type": "code",
   "execution_count": 86,
   "id": "f17e41fc",
   "metadata": {},
   "outputs": [
    {
     "name": "stdout",
     "output_type": "stream",
     "text": [
      "Total profit yang didapat wilayah 1 adalah: 33208260.43 USD\n",
      "Total profit yang didapat wilayah 2 adalah: 24150866.97 USD\n",
      "Total profit yang didapat wilayah 3 adalah: 25985717.59 USD\n"
     ]
    }
   ],
   "source": [
    "print(\"Total profit yang didapat wilayah 1 adalah: {} USD\".format(profit(df1_target_valid, df1_predictions_valid)))\n",
    "print(\"Total profit yang didapat wilayah 2 adalah: {} USD\".format(profit(df2_target_valid, df2_predictions_valid)))\n",
    "print(\"Total profit yang didapat wilayah 3 adalah: {} USD\".format(profit(df3_target_valid, df3_predictions_valid)))"
   ]
  },
  {
   "cell_type": "markdown",
   "id": "10933a27",
   "metadata": {},
   "source": [
    "Berdasarkan informasi yang didapat, profit yang lebih besar didapatkan ada pada wilayah 1. Dengan profit mencapai **33.208.260** USD. Namun, tidak semua titik di wilayah tersebut menghasilkan profit yang demikian. Maka dari itu, akan dilakukan bootstrapping pada interval kepercayaan 95% dengan jumlah sample adalah 1.000."
   ]
  },
  {
   "cell_type": "markdown",
   "id": "e306d2e8",
   "metadata": {},
   "source": [
    "# Menghitung Resiko dan Laba untuk Setiap Wilayah"
   ]
  },
  {
   "cell_type": "code",
   "execution_count": 113,
   "id": "7b3d236f",
   "metadata": {},
   "outputs": [],
   "source": [
    "state = np.random.RandomState(12345) # nilai random state\n",
    "\n",
    "# membuat fungsi untuk menghitung nilai resiko dan untung\n",
    "def risk_and_profit(target, predictions): \n",
    "    target = target.reset_index(drop=True)\n",
    "    values = [] # list kosong untuk nilai profit\n",
    "    # loss = 0 # jumlah kerugian yang terjadi\n",
    "    \n",
    "    # looping 1000 sample dari data valid \n",
    "    for i in range(1000):\n",
    "        predictions_subsample = predictions.sample(n=500, replace=True, random_state=state) # mengambil subsample 500 \n",
    "        # karena titik observasi sebanyak 500\n",
    "        target_subsample = target[predictions_subsample.index] # mengambil subsample pada target\n",
    "        profits = profit(target_subsample, predictions_subsample) # menghitung profit menggunakan fungsi yang sudah di buat\n",
    "        values.append(profits) # menambhakan nilai profits pada sebuah list\n",
    "        # if profits < 0:\n",
    "            # loss += 1 # berapa banyak kerugian yang terjadi\n",
    "    values = pd.Series(values)\n",
    "    average = values.mean()\n",
    "    loss = values[values < 0]\n",
    "    \n",
    "    # mencari selang kepercayaan\n",
    "    lower = values.quantile(0.025) # quantile lower pada values\n",
    "    upper = values.quantile(0.975) # quantile upper pada values\n",
    "    # risk_of_loss = loss/1000 # menghitung kerugian dalam bentuk persentase\n",
    "    risk_of_loss = loss.sum()/1000 # menghitung kerugian dalam bentuk USD\n",
    "    \n",
    "    print(\"Rata-rata Pendapatan: {} USD\".format(average))\n",
    "    print(\"Interval Kepercayaan: ({}, {})\".format(lower, upper))\n",
    "    print(\"Resiko Kerugian Sebesar: {}\".format(risk_of_loss))"
   ]
  },
  {
   "cell_type": "code",
   "execution_count": 105,
   "id": "3632b84c",
   "metadata": {},
   "outputs": [
    {
     "name": "stdout",
     "output_type": "stream",
     "text": [
      "Wilayah 1\n",
      "Rata-rata Pendapatan: 4259385.26927 USD\n",
      "Interval Kepercayaan: (-1020900.94925, 9479763.535749998)\n",
      "Resiko Kerugian Sebesar: -68948.89772\n"
     ]
    }
   ],
   "source": [
    "print(\"Wilayah 1\")\n",
    "risk_and_profit(df1_target_valid, df1_predictions_valid)"
   ]
  },
  {
   "cell_type": "code",
   "execution_count": 106,
   "id": "aaf32e78",
   "metadata": {},
   "outputs": [
    {
     "name": "stdout",
     "output_type": "stream",
     "text": [
      "Wilayah 2\n",
      "Rata-rata Pendapatan: 5182594.936989999 USD\n",
      "Interval Kepercayaan: (1281232.31, 9536129.819)\n",
      "Resiko Kerugian Sebesar: -1472.5228\n"
     ]
    }
   ],
   "source": [
    "print(\"Wilayah 2\")\n",
    "risk_and_profit(df2_target_valid, df2_predictions_valid)"
   ]
  },
  {
   "cell_type": "code",
   "execution_count": 107,
   "id": "10417467",
   "metadata": {},
   "outputs": [
    {
     "name": "stdout",
     "output_type": "stream",
     "text": [
      "Wilayah 3\n",
      "Rata-rata Pendapatan: 4126728.9898100006 USD\n",
      "Interval Kepercayaan: (-1589395.15525, 9781912.0215)\n",
      "Resiko Kerugian Sebesar: -93122.13161\n"
     ]
    }
   ],
   "source": [
    "print(\"Wilayah 3\")\n",
    "risk_and_profit(df3_target_valid, df3_predictions_valid)"
   ]
  },
  {
   "cell_type": "markdown",
   "id": "1e6eeeee",
   "metadata": {},
   "source": [
    "Berdasarkan informasi di atas, wilayah yang memiliki rata-rata pendapatan paling banyak adalah wilayah 2. Dengan resiko kerugian sebesar **-1472.5228**. Sangat kecil jika dibandingkan dengan 2 wilayah yang lain. Untuk wilayah 1 dan 3 tidak direkomendasikan karena terdapat resiko kerugian yang begitu signifikan. Berdasarkan hal ini, wilayah 2 aman untuk dijadikan tempat galian sumur."
   ]
  },
  {
   "cell_type": "markdown",
   "id": "591652a3",
   "metadata": {},
   "source": [
    "# Kesimpulan Umum\n",
    "- Model yang dipakai untuk memprediksi adalah model Linear Regression.\n",
    "- Semua data yang dipakai adalah data numerik yang di mana tidak memiliki nilai yang hilang, nilai duplikat, dan kesalahan dalam tipe data.\n",
    "- Data memiliki outlier yang tidak perlu dihapus karena itu merupakan bagian data dalam memprediksi.\n",
    "- Nilai RMSE yang terendah adalah wilayah 2. Hal ini juga ditunjukkan dengan hasil prediksi yang hampir benar semua ketika diuji.\n",
    "- Minimal volume yang harus ada pada sumur senilai 111. Akan tetapi, rata-rata volume di setiap wilayah tidak mencapai target minimum volume.\n",
    "- Total profit tertinggi jatuh pada wilayah 1. Dengan nilai profit sebesar 33.208.260 USD.\n",
    "- Dengan menggunakan selang keper"
   ]
  },
  {
   "cell_type": "code",
   "execution_count": null,
   "id": "3f65513c",
   "metadata": {},
   "outputs": [],
   "source": []
  }
 ],
 "metadata": {
  "kernelspec": {
   "display_name": "Python 3 (ipykernel)",
   "language": "python",
   "name": "python3"
  },
  "language_info": {
   "codemirror_mode": {
    "name": "ipython",
    "version": 3
   },
   "file_extension": ".py",
   "mimetype": "text/x-python",
   "name": "python",
   "nbconvert_exporter": "python",
   "pygments_lexer": "ipython3",
   "version": "3.9.13"
  },
  "toc": {
   "base_numbering": 1,
   "nav_menu": {},
   "number_sections": true,
   "sideBar": true,
   "skip_h1_title": true,
   "title_cell": "Table of Contents",
   "title_sidebar": "Contents",
   "toc_cell": false,
   "toc_position": {},
   "toc_section_display": true,
   "toc_window_display": false
  }
 },
 "nbformat": 4,
 "nbformat_minor": 5
}
