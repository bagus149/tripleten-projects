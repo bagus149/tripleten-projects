{
 "cells": [
  {
   "cell_type": "markdown",
   "id": "93a93b91",
   "metadata": {},
   "source": [
    "# Konten\n",
    "* [Tahap 1 Deskripsi Proyek]\n",
    "* [Tahap 2 Import Module]\n",
    "* [Tahap 3 Import Datasets]\n",
    "* [Tahap 4 Memperbaiki Datasets]\n",
    "    * [4.1 Merubah Tipe Data]\n",
    "    * [4.2 Mengatasi Nilai yang Hilang]\n",
    "    * [4.3 Menghitung perolehan emas]\n",
    "    * [4.4 Fitur yang hilang dari test set]\n",
    "* [Tahap 5 Analisis Data]\n",
    "    * [Tahap 5.1 Konsentrasi Au, Ag, Pb]\n",
    "    * [Tahap 5.2 Membandingkan Distribusi Umpan training dan test]\n",
    "    * [Tahap 5.3 Total Konsentrasi di Tahapan Berbeda]\n",
    "    * [Tahap 5.4 Menghilangkan Outlier]\n",
    "    * [Tahap 5.4 Menggabungkan Data]\n",
    "* [Tahap 6 Membuat Model]\n",
    "    * [Tahap 6.1 Membuat Fungsi sMAPE]\n",
    "    * [Tahap 6.2 Melatih Model Linear Regression]\n",
    "    * [Tahap 6.3 Melatih Model Decision Tree Regressor]\n",
    "    * [Tahap 6.4 Melatih Model Random Forest]\n",
    "    * [Tahap 6.5 Menerapkan Model pada Test Set]\n",
    "* [Tahap 7 Kesimpulan]"
   ]
  },
  {
   "cell_type": "markdown",
   "id": "4ad763f5",
   "metadata": {},
   "source": [
    "# Deskripsi Proyek\n"
   ]
  },
  {
   "cell_type": "markdown",
   "id": "6e1a1240",
   "metadata": {},
   "source": [
    "Data ini diindeks sesuai dengan tanggal dan waktu perolehannya (fitur date). Terkait waktu, parameter yang letaknya bersebelahan umumnya bersifat mirip.\n",
    "Sebagian parameter tidak tersedia karena pengukuran dan/atau penghitungannya dilakukan jauh setelahnya. Itulah sebabnya, beberapa fitur yang ada di training set mungkin tidak ada di test set. Test set-nya pun juga tidak memuat target.\n",
    "Dataset sumber memuat training dan test set dengan semua fitur-fiturnya."
   ]
  },
  {
   "cell_type": "markdown",
   "id": "a3e612eb",
   "metadata": {},
   "source": [
    "# Import  Module"
   ]
  },
  {
   "cell_type": "code",
   "execution_count": 397,
   "id": "dc8c67c4",
   "metadata": {},
   "outputs": [],
   "source": [
    "import pandas as pd\n",
    "import numpy as np\n",
    "import matplotlib.pyplot as plt\n",
    "from sklearn.metrics import mean_absolute_error\n",
    "from sklearn.metrics import make_scorer\n",
    "from sklearn.preprocessing import StandardScaler\n",
    "from sklearn.model_selection import cross_val_score\n",
    "from sklearn.tree import DecisionTreeRegressor\n",
    "from sklearn.linear_model import LinearRegression\n",
    "from sklearn.ensemble import RandomForestRegressor"
   ]
  },
  {
   "cell_type": "markdown",
   "id": "a4271317",
   "metadata": {},
   "source": [
    "# Import Datasets"
   ]
  },
  {
   "cell_type": "code",
   "execution_count": 398,
   "id": "22a02146",
   "metadata": {
    "scrolled": false
   },
   "outputs": [],
   "source": [
    "try:\n",
    "    train = pd.read_csv('D:\\datasets\\projek_10\\gold_recovery_train.csv')\n",
    "    test = pd.read_csv('D:\\datasets\\projek_10\\gold_recovery_test.csv')\n",
    "    full = pd.read_csv('D:\\datasets\\projek_10\\gold_recovery_full.csv')\n",
    "except:\n",
    "    train = pd.read_csv('/datasets/gold_recovery_train.csv')\n",
    "    test = pd.read_csv('/datasets/gold_recovery_test.csv')\n",
    "    full = pd.read_csv('/datasets/gold_recovery_full.csv')"
   ]
  },
  {
   "cell_type": "markdown",
   "id": "e3eee96f",
   "metadata": {},
   "source": [
    "# Memeriksa Datasets"
   ]
  },
  {
   "cell_type": "code",
   "execution_count": 399,
   "id": "697906e7",
   "metadata": {
    "scrolled": false
   },
   "outputs": [
    {
     "name": "stdout",
     "output_type": "stream",
     "text": [
      "<class 'pandas.core.frame.DataFrame'>\n",
      "RangeIndex: 16860 entries, 0 to 16859\n",
      "Data columns (total 87 columns):\n",
      " #   Column                                              Non-Null Count  Dtype  \n",
      "---  ------                                              --------------  -----  \n",
      " 0   date                                                16860 non-null  object \n",
      " 1   final.output.concentrate_ag                         16788 non-null  float64\n",
      " 2   final.output.concentrate_pb                         16788 non-null  float64\n",
      " 3   final.output.concentrate_sol                        16490 non-null  float64\n",
      " 4   final.output.concentrate_au                         16789 non-null  float64\n",
      " 5   final.output.recovery                               15339 non-null  float64\n",
      " 6   final.output.tail_ag                                16794 non-null  float64\n",
      " 7   final.output.tail_pb                                16677 non-null  float64\n",
      " 8   final.output.tail_sol                               16715 non-null  float64\n",
      " 9   final.output.tail_au                                16794 non-null  float64\n",
      " 10  primary_cleaner.input.sulfate                       15553 non-null  float64\n",
      " 11  primary_cleaner.input.depressant                    15598 non-null  float64\n",
      " 12  primary_cleaner.input.feed_size                     16860 non-null  float64\n",
      " 13  primary_cleaner.input.xanthate                      15875 non-null  float64\n",
      " 14  primary_cleaner.output.concentrate_ag               16778 non-null  float64\n",
      " 15  primary_cleaner.output.concentrate_pb               16502 non-null  float64\n",
      " 16  primary_cleaner.output.concentrate_sol              16224 non-null  float64\n",
      " 17  primary_cleaner.output.concentrate_au               16778 non-null  float64\n",
      " 18  primary_cleaner.output.tail_ag                      16777 non-null  float64\n",
      " 19  primary_cleaner.output.tail_pb                      16761 non-null  float64\n",
      " 20  primary_cleaner.output.tail_sol                     16579 non-null  float64\n",
      " 21  primary_cleaner.output.tail_au                      16777 non-null  float64\n",
      " 22  primary_cleaner.state.floatbank8_a_air              16820 non-null  float64\n",
      " 23  primary_cleaner.state.floatbank8_a_level            16827 non-null  float64\n",
      " 24  primary_cleaner.state.floatbank8_b_air              16820 non-null  float64\n",
      " 25  primary_cleaner.state.floatbank8_b_level            16833 non-null  float64\n",
      " 26  primary_cleaner.state.floatbank8_c_air              16822 non-null  float64\n",
      " 27  primary_cleaner.state.floatbank8_c_level            16833 non-null  float64\n",
      " 28  primary_cleaner.state.floatbank8_d_air              16821 non-null  float64\n",
      " 29  primary_cleaner.state.floatbank8_d_level            16833 non-null  float64\n",
      " 30  rougher.calculation.sulfate_to_au_concentrate       16833 non-null  float64\n",
      " 31  rougher.calculation.floatbank10_sulfate_to_au_feed  16833 non-null  float64\n",
      " 32  rougher.calculation.floatbank11_sulfate_to_au_feed  16833 non-null  float64\n",
      " 33  rougher.calculation.au_pb_ratio                     15618 non-null  float64\n",
      " 34  rougher.input.feed_ag                               16778 non-null  float64\n",
      " 35  rougher.input.feed_pb                               16632 non-null  float64\n",
      " 36  rougher.input.feed_rate                             16347 non-null  float64\n",
      " 37  rougher.input.feed_size                             16443 non-null  float64\n",
      " 38  rougher.input.feed_sol                              16568 non-null  float64\n",
      " 39  rougher.input.feed_au                               16777 non-null  float64\n",
      " 40  rougher.input.floatbank10_sulfate                   15816 non-null  float64\n",
      " 41  rougher.input.floatbank10_xanthate                  16514 non-null  float64\n",
      " 42  rougher.input.floatbank11_sulfate                   16237 non-null  float64\n",
      " 43  rougher.input.floatbank11_xanthate                  14956 non-null  float64\n",
      " 44  rougher.output.concentrate_ag                       16778 non-null  float64\n",
      " 45  rougher.output.concentrate_pb                       16778 non-null  float64\n",
      " 46  rougher.output.concentrate_sol                      16698 non-null  float64\n",
      " 47  rougher.output.concentrate_au                       16778 non-null  float64\n",
      " 48  rougher.output.recovery                             14287 non-null  float64\n",
      " 49  rougher.output.tail_ag                              14610 non-null  float64\n",
      " 50  rougher.output.tail_pb                              16778 non-null  float64\n",
      " 51  rougher.output.tail_sol                             14611 non-null  float64\n",
      " 52  rougher.output.tail_au                              14611 non-null  float64\n",
      " 53  rougher.state.floatbank10_a_air                     16807 non-null  float64\n",
      " 54  rougher.state.floatbank10_a_level                   16807 non-null  float64\n",
      " 55  rougher.state.floatbank10_b_air                     16807 non-null  float64\n",
      " 56  rougher.state.floatbank10_b_level                   16807 non-null  float64\n",
      " 57  rougher.state.floatbank10_c_air                     16807 non-null  float64\n",
      " 58  rougher.state.floatbank10_c_level                   16814 non-null  float64\n",
      " 59  rougher.state.floatbank10_d_air                     16802 non-null  float64\n",
      " 60  rougher.state.floatbank10_d_level                   16809 non-null  float64\n",
      " 61  rougher.state.floatbank10_e_air                     16257 non-null  float64\n",
      " 62  rougher.state.floatbank10_e_level                   16809 non-null  float64\n",
      " 63  rougher.state.floatbank10_f_air                     16802 non-null  float64\n",
      " 64  rougher.state.floatbank10_f_level                   16802 non-null  float64\n",
      " 65  secondary_cleaner.output.tail_ag                    16776 non-null  float64\n",
      " 66  secondary_cleaner.output.tail_pb                    16764 non-null  float64\n",
      " 67  secondary_cleaner.output.tail_sol                   14874 non-null  float64\n",
      " 68  secondary_cleaner.output.tail_au                    16778 non-null  float64\n",
      " 69  secondary_cleaner.state.floatbank2_a_air            16497 non-null  float64\n",
      " 70  secondary_cleaner.state.floatbank2_a_level          16751 non-null  float64\n",
      " 71  secondary_cleaner.state.floatbank2_b_air            16705 non-null  float64\n",
      " 72  secondary_cleaner.state.floatbank2_b_level          16748 non-null  float64\n",
      " 73  secondary_cleaner.state.floatbank3_a_air            16763 non-null  float64\n",
      " 74  secondary_cleaner.state.floatbank3_a_level          16747 non-null  float64\n",
      " 75  secondary_cleaner.state.floatbank3_b_air            16752 non-null  float64\n",
      " 76  secondary_cleaner.state.floatbank3_b_level          16750 non-null  float64\n",
      " 77  secondary_cleaner.state.floatbank4_a_air            16731 non-null  float64\n",
      " 78  secondary_cleaner.state.floatbank4_a_level          16747 non-null  float64\n",
      " 79  secondary_cleaner.state.floatbank4_b_air            16768 non-null  float64\n",
      " 80  secondary_cleaner.state.floatbank4_b_level          16767 non-null  float64\n",
      " 81  secondary_cleaner.state.floatbank5_a_air            16775 non-null  float64\n",
      " 82  secondary_cleaner.state.floatbank5_a_level          16775 non-null  float64\n",
      " 83  secondary_cleaner.state.floatbank5_b_air            16775 non-null  float64\n",
      " 84  secondary_cleaner.state.floatbank5_b_level          16776 non-null  float64\n",
      " 85  secondary_cleaner.state.floatbank6_a_air            16757 non-null  float64\n",
      " 86  secondary_cleaner.state.floatbank6_a_level          16775 non-null  float64\n",
      "dtypes: float64(86), object(1)\n",
      "memory usage: 11.2+ MB\n"
     ]
    },
    {
     "data": {
      "text/html": [
       "<div>\n",
       "<style scoped>\n",
       "    .dataframe tbody tr th:only-of-type {\n",
       "        vertical-align: middle;\n",
       "    }\n",
       "\n",
       "    .dataframe tbody tr th {\n",
       "        vertical-align: top;\n",
       "    }\n",
       "\n",
       "    .dataframe thead th {\n",
       "        text-align: right;\n",
       "    }\n",
       "</style>\n",
       "<table border=\"1\" class=\"dataframe\">\n",
       "  <thead>\n",
       "    <tr style=\"text-align: right;\">\n",
       "      <th></th>\n",
       "      <th>date</th>\n",
       "      <th>final.output.concentrate_ag</th>\n",
       "      <th>final.output.concentrate_pb</th>\n",
       "      <th>final.output.concentrate_sol</th>\n",
       "      <th>final.output.concentrate_au</th>\n",
       "      <th>final.output.recovery</th>\n",
       "      <th>final.output.tail_ag</th>\n",
       "      <th>final.output.tail_pb</th>\n",
       "      <th>final.output.tail_sol</th>\n",
       "      <th>final.output.tail_au</th>\n",
       "      <th>...</th>\n",
       "      <th>secondary_cleaner.state.floatbank4_a_air</th>\n",
       "      <th>secondary_cleaner.state.floatbank4_a_level</th>\n",
       "      <th>secondary_cleaner.state.floatbank4_b_air</th>\n",
       "      <th>secondary_cleaner.state.floatbank4_b_level</th>\n",
       "      <th>secondary_cleaner.state.floatbank5_a_air</th>\n",
       "      <th>secondary_cleaner.state.floatbank5_a_level</th>\n",
       "      <th>secondary_cleaner.state.floatbank5_b_air</th>\n",
       "      <th>secondary_cleaner.state.floatbank5_b_level</th>\n",
       "      <th>secondary_cleaner.state.floatbank6_a_air</th>\n",
       "      <th>secondary_cleaner.state.floatbank6_a_level</th>\n",
       "    </tr>\n",
       "  </thead>\n",
       "  <tbody>\n",
       "    <tr>\n",
       "      <th>0</th>\n",
       "      <td>2016-01-15 00:00:00</td>\n",
       "      <td>6.055403</td>\n",
       "      <td>9.889648</td>\n",
       "      <td>5.507324</td>\n",
       "      <td>42.192020</td>\n",
       "      <td>70.541216</td>\n",
       "      <td>10.411962</td>\n",
       "      <td>0.895447</td>\n",
       "      <td>16.904297</td>\n",
       "      <td>2.143149</td>\n",
       "      <td>...</td>\n",
       "      <td>14.016835</td>\n",
       "      <td>-502.488007</td>\n",
       "      <td>12.099931</td>\n",
       "      <td>-504.715942</td>\n",
       "      <td>9.925633</td>\n",
       "      <td>-498.310211</td>\n",
       "      <td>8.079666</td>\n",
       "      <td>-500.470978</td>\n",
       "      <td>14.151341</td>\n",
       "      <td>-605.841980</td>\n",
       "    </tr>\n",
       "    <tr>\n",
       "      <th>1</th>\n",
       "      <td>2016-01-15 01:00:00</td>\n",
       "      <td>6.029369</td>\n",
       "      <td>9.968944</td>\n",
       "      <td>5.257781</td>\n",
       "      <td>42.701629</td>\n",
       "      <td>69.266198</td>\n",
       "      <td>10.462676</td>\n",
       "      <td>0.927452</td>\n",
       "      <td>16.634514</td>\n",
       "      <td>2.224930</td>\n",
       "      <td>...</td>\n",
       "      <td>13.992281</td>\n",
       "      <td>-505.503262</td>\n",
       "      <td>11.950531</td>\n",
       "      <td>-501.331529</td>\n",
       "      <td>10.039245</td>\n",
       "      <td>-500.169983</td>\n",
       "      <td>7.984757</td>\n",
       "      <td>-500.582168</td>\n",
       "      <td>13.998353</td>\n",
       "      <td>-599.787184</td>\n",
       "    </tr>\n",
       "    <tr>\n",
       "      <th>2</th>\n",
       "      <td>2016-01-15 02:00:00</td>\n",
       "      <td>6.055926</td>\n",
       "      <td>10.213995</td>\n",
       "      <td>5.383759</td>\n",
       "      <td>42.657501</td>\n",
       "      <td>68.116445</td>\n",
       "      <td>10.507046</td>\n",
       "      <td>0.953716</td>\n",
       "      <td>16.208849</td>\n",
       "      <td>2.257889</td>\n",
       "      <td>...</td>\n",
       "      <td>14.015015</td>\n",
       "      <td>-502.520901</td>\n",
       "      <td>11.912783</td>\n",
       "      <td>-501.133383</td>\n",
       "      <td>10.070913</td>\n",
       "      <td>-500.129135</td>\n",
       "      <td>8.013877</td>\n",
       "      <td>-500.517572</td>\n",
       "      <td>14.028663</td>\n",
       "      <td>-601.427363</td>\n",
       "    </tr>\n",
       "    <tr>\n",
       "      <th>3</th>\n",
       "      <td>2016-01-15 03:00:00</td>\n",
       "      <td>6.047977</td>\n",
       "      <td>9.977019</td>\n",
       "      <td>4.858634</td>\n",
       "      <td>42.689819</td>\n",
       "      <td>68.347543</td>\n",
       "      <td>10.422762</td>\n",
       "      <td>0.883763</td>\n",
       "      <td>16.532835</td>\n",
       "      <td>2.146849</td>\n",
       "      <td>...</td>\n",
       "      <td>14.036510</td>\n",
       "      <td>-500.857308</td>\n",
       "      <td>11.999550</td>\n",
       "      <td>-501.193686</td>\n",
       "      <td>9.970366</td>\n",
       "      <td>-499.201640</td>\n",
       "      <td>7.977324</td>\n",
       "      <td>-500.255908</td>\n",
       "      <td>14.005551</td>\n",
       "      <td>-599.996129</td>\n",
       "    </tr>\n",
       "    <tr>\n",
       "      <th>4</th>\n",
       "      <td>2016-01-15 04:00:00</td>\n",
       "      <td>6.148599</td>\n",
       "      <td>10.142511</td>\n",
       "      <td>4.939416</td>\n",
       "      <td>42.774141</td>\n",
       "      <td>66.927016</td>\n",
       "      <td>10.360302</td>\n",
       "      <td>0.792826</td>\n",
       "      <td>16.525686</td>\n",
       "      <td>2.055292</td>\n",
       "      <td>...</td>\n",
       "      <td>14.027298</td>\n",
       "      <td>-499.838632</td>\n",
       "      <td>11.953070</td>\n",
       "      <td>-501.053894</td>\n",
       "      <td>9.925709</td>\n",
       "      <td>-501.686727</td>\n",
       "      <td>7.894242</td>\n",
       "      <td>-500.356035</td>\n",
       "      <td>13.996647</td>\n",
       "      <td>-601.496691</td>\n",
       "    </tr>\n",
       "  </tbody>\n",
       "</table>\n",
       "<p>5 rows × 87 columns</p>\n",
       "</div>"
      ],
      "text/plain": [
       "                  date  final.output.concentrate_ag  \\\n",
       "0  2016-01-15 00:00:00                     6.055403   \n",
       "1  2016-01-15 01:00:00                     6.029369   \n",
       "2  2016-01-15 02:00:00                     6.055926   \n",
       "3  2016-01-15 03:00:00                     6.047977   \n",
       "4  2016-01-15 04:00:00                     6.148599   \n",
       "\n",
       "   final.output.concentrate_pb  final.output.concentrate_sol  \\\n",
       "0                     9.889648                      5.507324   \n",
       "1                     9.968944                      5.257781   \n",
       "2                    10.213995                      5.383759   \n",
       "3                     9.977019                      4.858634   \n",
       "4                    10.142511                      4.939416   \n",
       "\n",
       "   final.output.concentrate_au  final.output.recovery  final.output.tail_ag  \\\n",
       "0                    42.192020              70.541216             10.411962   \n",
       "1                    42.701629              69.266198             10.462676   \n",
       "2                    42.657501              68.116445             10.507046   \n",
       "3                    42.689819              68.347543             10.422762   \n",
       "4                    42.774141              66.927016             10.360302   \n",
       "\n",
       "   final.output.tail_pb  final.output.tail_sol  final.output.tail_au  ...  \\\n",
       "0              0.895447              16.904297              2.143149  ...   \n",
       "1              0.927452              16.634514              2.224930  ...   \n",
       "2              0.953716              16.208849              2.257889  ...   \n",
       "3              0.883763              16.532835              2.146849  ...   \n",
       "4              0.792826              16.525686              2.055292  ...   \n",
       "\n",
       "   secondary_cleaner.state.floatbank4_a_air  \\\n",
       "0                                 14.016835   \n",
       "1                                 13.992281   \n",
       "2                                 14.015015   \n",
       "3                                 14.036510   \n",
       "4                                 14.027298   \n",
       "\n",
       "   secondary_cleaner.state.floatbank4_a_level  \\\n",
       "0                                 -502.488007   \n",
       "1                                 -505.503262   \n",
       "2                                 -502.520901   \n",
       "3                                 -500.857308   \n",
       "4                                 -499.838632   \n",
       "\n",
       "   secondary_cleaner.state.floatbank4_b_air  \\\n",
       "0                                 12.099931   \n",
       "1                                 11.950531   \n",
       "2                                 11.912783   \n",
       "3                                 11.999550   \n",
       "4                                 11.953070   \n",
       "\n",
       "   secondary_cleaner.state.floatbank4_b_level  \\\n",
       "0                                 -504.715942   \n",
       "1                                 -501.331529   \n",
       "2                                 -501.133383   \n",
       "3                                 -501.193686   \n",
       "4                                 -501.053894   \n",
       "\n",
       "   secondary_cleaner.state.floatbank5_a_air  \\\n",
       "0                                  9.925633   \n",
       "1                                 10.039245   \n",
       "2                                 10.070913   \n",
       "3                                  9.970366   \n",
       "4                                  9.925709   \n",
       "\n",
       "   secondary_cleaner.state.floatbank5_a_level  \\\n",
       "0                                 -498.310211   \n",
       "1                                 -500.169983   \n",
       "2                                 -500.129135   \n",
       "3                                 -499.201640   \n",
       "4                                 -501.686727   \n",
       "\n",
       "   secondary_cleaner.state.floatbank5_b_air  \\\n",
       "0                                  8.079666   \n",
       "1                                  7.984757   \n",
       "2                                  8.013877   \n",
       "3                                  7.977324   \n",
       "4                                  7.894242   \n",
       "\n",
       "   secondary_cleaner.state.floatbank5_b_level  \\\n",
       "0                                 -500.470978   \n",
       "1                                 -500.582168   \n",
       "2                                 -500.517572   \n",
       "3                                 -500.255908   \n",
       "4                                 -500.356035   \n",
       "\n",
       "   secondary_cleaner.state.floatbank6_a_air  \\\n",
       "0                                 14.151341   \n",
       "1                                 13.998353   \n",
       "2                                 14.028663   \n",
       "3                                 14.005551   \n",
       "4                                 13.996647   \n",
       "\n",
       "   secondary_cleaner.state.floatbank6_a_level  \n",
       "0                                 -605.841980  \n",
       "1                                 -599.787184  \n",
       "2                                 -601.427363  \n",
       "3                                 -599.996129  \n",
       "4                                 -601.496691  \n",
       "\n",
       "[5 rows x 87 columns]"
      ]
     },
     "execution_count": 399,
     "metadata": {},
     "output_type": "execute_result"
    }
   ],
   "source": [
    "train.info()\n",
    "train.head()"
   ]
  },
  {
   "cell_type": "code",
   "execution_count": 400,
   "id": "c75bb764",
   "metadata": {
    "scrolled": false
   },
   "outputs": [
    {
     "name": "stdout",
     "output_type": "stream",
     "text": [
      "<class 'pandas.core.frame.DataFrame'>\n",
      "RangeIndex: 5856 entries, 0 to 5855\n",
      "Data columns (total 53 columns):\n",
      " #   Column                                      Non-Null Count  Dtype  \n",
      "---  ------                                      --------------  -----  \n",
      " 0   date                                        5856 non-null   object \n",
      " 1   primary_cleaner.input.sulfate               5554 non-null   float64\n",
      " 2   primary_cleaner.input.depressant            5572 non-null   float64\n",
      " 3   primary_cleaner.input.feed_size             5856 non-null   float64\n",
      " 4   primary_cleaner.input.xanthate              5690 non-null   float64\n",
      " 5   primary_cleaner.state.floatbank8_a_air      5840 non-null   float64\n",
      " 6   primary_cleaner.state.floatbank8_a_level    5840 non-null   float64\n",
      " 7   primary_cleaner.state.floatbank8_b_air      5840 non-null   float64\n",
      " 8   primary_cleaner.state.floatbank8_b_level    5840 non-null   float64\n",
      " 9   primary_cleaner.state.floatbank8_c_air      5840 non-null   float64\n",
      " 10  primary_cleaner.state.floatbank8_c_level    5840 non-null   float64\n",
      " 11  primary_cleaner.state.floatbank8_d_air      5840 non-null   float64\n",
      " 12  primary_cleaner.state.floatbank8_d_level    5840 non-null   float64\n",
      " 13  rougher.input.feed_ag                       5840 non-null   float64\n",
      " 14  rougher.input.feed_pb                       5840 non-null   float64\n",
      " 15  rougher.input.feed_rate                     5816 non-null   float64\n",
      " 16  rougher.input.feed_size                     5834 non-null   float64\n",
      " 17  rougher.input.feed_sol                      5789 non-null   float64\n",
      " 18  rougher.input.feed_au                       5840 non-null   float64\n",
      " 19  rougher.input.floatbank10_sulfate           5599 non-null   float64\n",
      " 20  rougher.input.floatbank10_xanthate          5733 non-null   float64\n",
      " 21  rougher.input.floatbank11_sulfate           5801 non-null   float64\n",
      " 22  rougher.input.floatbank11_xanthate          5503 non-null   float64\n",
      " 23  rougher.state.floatbank10_a_air             5839 non-null   float64\n",
      " 24  rougher.state.floatbank10_a_level           5840 non-null   float64\n",
      " 25  rougher.state.floatbank10_b_air             5839 non-null   float64\n",
      " 26  rougher.state.floatbank10_b_level           5840 non-null   float64\n",
      " 27  rougher.state.floatbank10_c_air             5839 non-null   float64\n",
      " 28  rougher.state.floatbank10_c_level           5840 non-null   float64\n",
      " 29  rougher.state.floatbank10_d_air             5839 non-null   float64\n",
      " 30  rougher.state.floatbank10_d_level           5840 non-null   float64\n",
      " 31  rougher.state.floatbank10_e_air             5839 non-null   float64\n",
      " 32  rougher.state.floatbank10_e_level           5840 non-null   float64\n",
      " 33  rougher.state.floatbank10_f_air             5839 non-null   float64\n",
      " 34  rougher.state.floatbank10_f_level           5840 non-null   float64\n",
      " 35  secondary_cleaner.state.floatbank2_a_air    5836 non-null   float64\n",
      " 36  secondary_cleaner.state.floatbank2_a_level  5840 non-null   float64\n",
      " 37  secondary_cleaner.state.floatbank2_b_air    5833 non-null   float64\n",
      " 38  secondary_cleaner.state.floatbank2_b_level  5840 non-null   float64\n",
      " 39  secondary_cleaner.state.floatbank3_a_air    5822 non-null   float64\n",
      " 40  secondary_cleaner.state.floatbank3_a_level  5840 non-null   float64\n",
      " 41  secondary_cleaner.state.floatbank3_b_air    5840 non-null   float64\n",
      " 42  secondary_cleaner.state.floatbank3_b_level  5840 non-null   float64\n",
      " 43  secondary_cleaner.state.floatbank4_a_air    5840 non-null   float64\n",
      " 44  secondary_cleaner.state.floatbank4_a_level  5840 non-null   float64\n",
      " 45  secondary_cleaner.state.floatbank4_b_air    5840 non-null   float64\n",
      " 46  secondary_cleaner.state.floatbank4_b_level  5840 non-null   float64\n",
      " 47  secondary_cleaner.state.floatbank5_a_air    5840 non-null   float64\n",
      " 48  secondary_cleaner.state.floatbank5_a_level  5840 non-null   float64\n",
      " 49  secondary_cleaner.state.floatbank5_b_air    5840 non-null   float64\n",
      " 50  secondary_cleaner.state.floatbank5_b_level  5840 non-null   float64\n",
      " 51  secondary_cleaner.state.floatbank6_a_air    5840 non-null   float64\n",
      " 52  secondary_cleaner.state.floatbank6_a_level  5840 non-null   float64\n",
      "dtypes: float64(52), object(1)\n",
      "memory usage: 2.4+ MB\n"
     ]
    },
    {
     "data": {
      "text/html": [
       "<div>\n",
       "<style scoped>\n",
       "    .dataframe tbody tr th:only-of-type {\n",
       "        vertical-align: middle;\n",
       "    }\n",
       "\n",
       "    .dataframe tbody tr th {\n",
       "        vertical-align: top;\n",
       "    }\n",
       "\n",
       "    .dataframe thead th {\n",
       "        text-align: right;\n",
       "    }\n",
       "</style>\n",
       "<table border=\"1\" class=\"dataframe\">\n",
       "  <thead>\n",
       "    <tr style=\"text-align: right;\">\n",
       "      <th></th>\n",
       "      <th>date</th>\n",
       "      <th>primary_cleaner.input.sulfate</th>\n",
       "      <th>primary_cleaner.input.depressant</th>\n",
       "      <th>primary_cleaner.input.feed_size</th>\n",
       "      <th>primary_cleaner.input.xanthate</th>\n",
       "      <th>primary_cleaner.state.floatbank8_a_air</th>\n",
       "      <th>primary_cleaner.state.floatbank8_a_level</th>\n",
       "      <th>primary_cleaner.state.floatbank8_b_air</th>\n",
       "      <th>primary_cleaner.state.floatbank8_b_level</th>\n",
       "      <th>primary_cleaner.state.floatbank8_c_air</th>\n",
       "      <th>...</th>\n",
       "      <th>secondary_cleaner.state.floatbank4_a_air</th>\n",
       "      <th>secondary_cleaner.state.floatbank4_a_level</th>\n",
       "      <th>secondary_cleaner.state.floatbank4_b_air</th>\n",
       "      <th>secondary_cleaner.state.floatbank4_b_level</th>\n",
       "      <th>secondary_cleaner.state.floatbank5_a_air</th>\n",
       "      <th>secondary_cleaner.state.floatbank5_a_level</th>\n",
       "      <th>secondary_cleaner.state.floatbank5_b_air</th>\n",
       "      <th>secondary_cleaner.state.floatbank5_b_level</th>\n",
       "      <th>secondary_cleaner.state.floatbank6_a_air</th>\n",
       "      <th>secondary_cleaner.state.floatbank6_a_level</th>\n",
       "    </tr>\n",
       "  </thead>\n",
       "  <tbody>\n",
       "    <tr>\n",
       "      <th>0</th>\n",
       "      <td>2016-09-01 00:59:59</td>\n",
       "      <td>210.800909</td>\n",
       "      <td>14.993118</td>\n",
       "      <td>8.080000</td>\n",
       "      <td>1.005021</td>\n",
       "      <td>1398.981301</td>\n",
       "      <td>-500.225577</td>\n",
       "      <td>1399.144926</td>\n",
       "      <td>-499.919735</td>\n",
       "      <td>1400.102998</td>\n",
       "      <td>...</td>\n",
       "      <td>12.023554</td>\n",
       "      <td>-497.795834</td>\n",
       "      <td>8.016656</td>\n",
       "      <td>-501.289139</td>\n",
       "      <td>7.946562</td>\n",
       "      <td>-432.317850</td>\n",
       "      <td>4.872511</td>\n",
       "      <td>-500.037437</td>\n",
       "      <td>26.705889</td>\n",
       "      <td>-499.709414</td>\n",
       "    </tr>\n",
       "    <tr>\n",
       "      <th>1</th>\n",
       "      <td>2016-09-01 01:59:59</td>\n",
       "      <td>215.392455</td>\n",
       "      <td>14.987471</td>\n",
       "      <td>8.080000</td>\n",
       "      <td>0.990469</td>\n",
       "      <td>1398.777912</td>\n",
       "      <td>-500.057435</td>\n",
       "      <td>1398.055362</td>\n",
       "      <td>-499.778182</td>\n",
       "      <td>1396.151033</td>\n",
       "      <td>...</td>\n",
       "      <td>12.058140</td>\n",
       "      <td>-498.695773</td>\n",
       "      <td>8.130979</td>\n",
       "      <td>-499.634209</td>\n",
       "      <td>7.958270</td>\n",
       "      <td>-525.839648</td>\n",
       "      <td>4.878850</td>\n",
       "      <td>-500.162375</td>\n",
       "      <td>25.019940</td>\n",
       "      <td>-499.819438</td>\n",
       "    </tr>\n",
       "    <tr>\n",
       "      <th>2</th>\n",
       "      <td>2016-09-01 02:59:59</td>\n",
       "      <td>215.259946</td>\n",
       "      <td>12.884934</td>\n",
       "      <td>7.786667</td>\n",
       "      <td>0.996043</td>\n",
       "      <td>1398.493666</td>\n",
       "      <td>-500.868360</td>\n",
       "      <td>1398.860436</td>\n",
       "      <td>-499.764529</td>\n",
       "      <td>1398.075709</td>\n",
       "      <td>...</td>\n",
       "      <td>11.962366</td>\n",
       "      <td>-498.767484</td>\n",
       "      <td>8.096893</td>\n",
       "      <td>-500.827423</td>\n",
       "      <td>8.071056</td>\n",
       "      <td>-500.801673</td>\n",
       "      <td>4.905125</td>\n",
       "      <td>-499.828510</td>\n",
       "      <td>24.994862</td>\n",
       "      <td>-500.622559</td>\n",
       "    </tr>\n",
       "    <tr>\n",
       "      <th>3</th>\n",
       "      <td>2016-09-01 03:59:59</td>\n",
       "      <td>215.336236</td>\n",
       "      <td>12.006805</td>\n",
       "      <td>7.640000</td>\n",
       "      <td>0.863514</td>\n",
       "      <td>1399.618111</td>\n",
       "      <td>-498.863574</td>\n",
       "      <td>1397.440120</td>\n",
       "      <td>-499.211024</td>\n",
       "      <td>1400.129303</td>\n",
       "      <td>...</td>\n",
       "      <td>12.033091</td>\n",
       "      <td>-498.350935</td>\n",
       "      <td>8.074946</td>\n",
       "      <td>-499.474407</td>\n",
       "      <td>7.897085</td>\n",
       "      <td>-500.868509</td>\n",
       "      <td>4.931400</td>\n",
       "      <td>-499.963623</td>\n",
       "      <td>24.948919</td>\n",
       "      <td>-498.709987</td>\n",
       "    </tr>\n",
       "    <tr>\n",
       "      <th>4</th>\n",
       "      <td>2016-09-01 04:59:59</td>\n",
       "      <td>199.099327</td>\n",
       "      <td>10.682530</td>\n",
       "      <td>7.530000</td>\n",
       "      <td>0.805575</td>\n",
       "      <td>1401.268123</td>\n",
       "      <td>-500.808305</td>\n",
       "      <td>1398.128818</td>\n",
       "      <td>-499.504543</td>\n",
       "      <td>1402.172226</td>\n",
       "      <td>...</td>\n",
       "      <td>12.025367</td>\n",
       "      <td>-500.786497</td>\n",
       "      <td>8.054678</td>\n",
       "      <td>-500.397500</td>\n",
       "      <td>8.107890</td>\n",
       "      <td>-509.526725</td>\n",
       "      <td>4.957674</td>\n",
       "      <td>-500.360026</td>\n",
       "      <td>25.003331</td>\n",
       "      <td>-500.856333</td>\n",
       "    </tr>\n",
       "  </tbody>\n",
       "</table>\n",
       "<p>5 rows × 53 columns</p>\n",
       "</div>"
      ],
      "text/plain": [
       "                  date  primary_cleaner.input.sulfate  \\\n",
       "0  2016-09-01 00:59:59                     210.800909   \n",
       "1  2016-09-01 01:59:59                     215.392455   \n",
       "2  2016-09-01 02:59:59                     215.259946   \n",
       "3  2016-09-01 03:59:59                     215.336236   \n",
       "4  2016-09-01 04:59:59                     199.099327   \n",
       "\n",
       "   primary_cleaner.input.depressant  primary_cleaner.input.feed_size  \\\n",
       "0                         14.993118                         8.080000   \n",
       "1                         14.987471                         8.080000   \n",
       "2                         12.884934                         7.786667   \n",
       "3                         12.006805                         7.640000   \n",
       "4                         10.682530                         7.530000   \n",
       "\n",
       "   primary_cleaner.input.xanthate  primary_cleaner.state.floatbank8_a_air  \\\n",
       "0                        1.005021                             1398.981301   \n",
       "1                        0.990469                             1398.777912   \n",
       "2                        0.996043                             1398.493666   \n",
       "3                        0.863514                             1399.618111   \n",
       "4                        0.805575                             1401.268123   \n",
       "\n",
       "   primary_cleaner.state.floatbank8_a_level  \\\n",
       "0                               -500.225577   \n",
       "1                               -500.057435   \n",
       "2                               -500.868360   \n",
       "3                               -498.863574   \n",
       "4                               -500.808305   \n",
       "\n",
       "   primary_cleaner.state.floatbank8_b_air  \\\n",
       "0                             1399.144926   \n",
       "1                             1398.055362   \n",
       "2                             1398.860436   \n",
       "3                             1397.440120   \n",
       "4                             1398.128818   \n",
       "\n",
       "   primary_cleaner.state.floatbank8_b_level  \\\n",
       "0                               -499.919735   \n",
       "1                               -499.778182   \n",
       "2                               -499.764529   \n",
       "3                               -499.211024   \n",
       "4                               -499.504543   \n",
       "\n",
       "   primary_cleaner.state.floatbank8_c_air  ...  \\\n",
       "0                             1400.102998  ...   \n",
       "1                             1396.151033  ...   \n",
       "2                             1398.075709  ...   \n",
       "3                             1400.129303  ...   \n",
       "4                             1402.172226  ...   \n",
       "\n",
       "   secondary_cleaner.state.floatbank4_a_air  \\\n",
       "0                                 12.023554   \n",
       "1                                 12.058140   \n",
       "2                                 11.962366   \n",
       "3                                 12.033091   \n",
       "4                                 12.025367   \n",
       "\n",
       "   secondary_cleaner.state.floatbank4_a_level  \\\n",
       "0                                 -497.795834   \n",
       "1                                 -498.695773   \n",
       "2                                 -498.767484   \n",
       "3                                 -498.350935   \n",
       "4                                 -500.786497   \n",
       "\n",
       "   secondary_cleaner.state.floatbank4_b_air  \\\n",
       "0                                  8.016656   \n",
       "1                                  8.130979   \n",
       "2                                  8.096893   \n",
       "3                                  8.074946   \n",
       "4                                  8.054678   \n",
       "\n",
       "   secondary_cleaner.state.floatbank4_b_level  \\\n",
       "0                                 -501.289139   \n",
       "1                                 -499.634209   \n",
       "2                                 -500.827423   \n",
       "3                                 -499.474407   \n",
       "4                                 -500.397500   \n",
       "\n",
       "   secondary_cleaner.state.floatbank5_a_air  \\\n",
       "0                                  7.946562   \n",
       "1                                  7.958270   \n",
       "2                                  8.071056   \n",
       "3                                  7.897085   \n",
       "4                                  8.107890   \n",
       "\n",
       "   secondary_cleaner.state.floatbank5_a_level  \\\n",
       "0                                 -432.317850   \n",
       "1                                 -525.839648   \n",
       "2                                 -500.801673   \n",
       "3                                 -500.868509   \n",
       "4                                 -509.526725   \n",
       "\n",
       "   secondary_cleaner.state.floatbank5_b_air  \\\n",
       "0                                  4.872511   \n",
       "1                                  4.878850   \n",
       "2                                  4.905125   \n",
       "3                                  4.931400   \n",
       "4                                  4.957674   \n",
       "\n",
       "   secondary_cleaner.state.floatbank5_b_level  \\\n",
       "0                                 -500.037437   \n",
       "1                                 -500.162375   \n",
       "2                                 -499.828510   \n",
       "3                                 -499.963623   \n",
       "4                                 -500.360026   \n",
       "\n",
       "   secondary_cleaner.state.floatbank6_a_air  \\\n",
       "0                                 26.705889   \n",
       "1                                 25.019940   \n",
       "2                                 24.994862   \n",
       "3                                 24.948919   \n",
       "4                                 25.003331   \n",
       "\n",
       "   secondary_cleaner.state.floatbank6_a_level  \n",
       "0                                 -499.709414  \n",
       "1                                 -499.819438  \n",
       "2                                 -500.622559  \n",
       "3                                 -498.709987  \n",
       "4                                 -500.856333  \n",
       "\n",
       "[5 rows x 53 columns]"
      ]
     },
     "execution_count": 400,
     "metadata": {},
     "output_type": "execute_result"
    }
   ],
   "source": [
    "test.info()\n",
    "test.head()"
   ]
  },
  {
   "cell_type": "code",
   "execution_count": 401,
   "id": "d6afd70d",
   "metadata": {
    "scrolled": false
   },
   "outputs": [
    {
     "name": "stdout",
     "output_type": "stream",
     "text": [
      "<class 'pandas.core.frame.DataFrame'>\n",
      "RangeIndex: 22716 entries, 0 to 22715\n",
      "Data columns (total 87 columns):\n",
      " #   Column                                              Non-Null Count  Dtype  \n",
      "---  ------                                              --------------  -----  \n",
      " 0   date                                                22716 non-null  object \n",
      " 1   final.output.concentrate_ag                         22627 non-null  float64\n",
      " 2   final.output.concentrate_pb                         22629 non-null  float64\n",
      " 3   final.output.concentrate_sol                        22331 non-null  float64\n",
      " 4   final.output.concentrate_au                         22630 non-null  float64\n",
      " 5   final.output.recovery                               20753 non-null  float64\n",
      " 6   final.output.tail_ag                                22633 non-null  float64\n",
      " 7   final.output.tail_pb                                22516 non-null  float64\n",
      " 8   final.output.tail_sol                               22445 non-null  float64\n",
      " 9   final.output.tail_au                                22635 non-null  float64\n",
      " 10  primary_cleaner.input.sulfate                       21107 non-null  float64\n",
      " 11  primary_cleaner.input.depressant                    21170 non-null  float64\n",
      " 12  primary_cleaner.input.feed_size                     22716 non-null  float64\n",
      " 13  primary_cleaner.input.xanthate                      21565 non-null  float64\n",
      " 14  primary_cleaner.output.concentrate_ag               22618 non-null  float64\n",
      " 15  primary_cleaner.output.concentrate_pb               22268 non-null  float64\n",
      " 16  primary_cleaner.output.concentrate_sol              21918 non-null  float64\n",
      " 17  primary_cleaner.output.concentrate_au               22618 non-null  float64\n",
      " 18  primary_cleaner.output.tail_ag                      22614 non-null  float64\n",
      " 19  primary_cleaner.output.tail_pb                      22594 non-null  float64\n",
      " 20  primary_cleaner.output.tail_sol                     22365 non-null  float64\n",
      " 21  primary_cleaner.output.tail_au                      22617 non-null  float64\n",
      " 22  primary_cleaner.state.floatbank8_a_air              22660 non-null  float64\n",
      " 23  primary_cleaner.state.floatbank8_a_level            22667 non-null  float64\n",
      " 24  primary_cleaner.state.floatbank8_b_air              22660 non-null  float64\n",
      " 25  primary_cleaner.state.floatbank8_b_level            22673 non-null  float64\n",
      " 26  primary_cleaner.state.floatbank8_c_air              22662 non-null  float64\n",
      " 27  primary_cleaner.state.floatbank8_c_level            22673 non-null  float64\n",
      " 28  primary_cleaner.state.floatbank8_d_air              22661 non-null  float64\n",
      " 29  primary_cleaner.state.floatbank8_d_level            22673 non-null  float64\n",
      " 30  rougher.calculation.sulfate_to_au_concentrate       22672 non-null  float64\n",
      " 31  rougher.calculation.floatbank10_sulfate_to_au_feed  22672 non-null  float64\n",
      " 32  rougher.calculation.floatbank11_sulfate_to_au_feed  22672 non-null  float64\n",
      " 33  rougher.calculation.au_pb_ratio                     21089 non-null  float64\n",
      " 34  rougher.input.feed_ag                               22618 non-null  float64\n",
      " 35  rougher.input.feed_pb                               22472 non-null  float64\n",
      " 36  rougher.input.feed_rate                             22163 non-null  float64\n",
      " 37  rougher.input.feed_size                             22277 non-null  float64\n",
      " 38  rougher.input.feed_sol                              22357 non-null  float64\n",
      " 39  rougher.input.feed_au                               22617 non-null  float64\n",
      " 40  rougher.input.floatbank10_sulfate                   21415 non-null  float64\n",
      " 41  rougher.input.floatbank10_xanthate                  22247 non-null  float64\n",
      " 42  rougher.input.floatbank11_sulfate                   22038 non-null  float64\n",
      " 43  rougher.input.floatbank11_xanthate                  20459 non-null  float64\n",
      " 44  rougher.output.concentrate_ag                       22618 non-null  float64\n",
      " 45  rougher.output.concentrate_pb                       22618 non-null  float64\n",
      " 46  rougher.output.concentrate_sol                      22526 non-null  float64\n",
      " 47  rougher.output.concentrate_au                       22618 non-null  float64\n",
      " 48  rougher.output.recovery                             19597 non-null  float64\n",
      " 49  rougher.output.tail_ag                              19979 non-null  float64\n",
      " 50  rougher.output.tail_pb                              22618 non-null  float64\n",
      " 51  rougher.output.tail_sol                             19980 non-null  float64\n",
      " 52  rougher.output.tail_au                              19980 non-null  float64\n",
      " 53  rougher.state.floatbank10_a_air                     22646 non-null  float64\n",
      " 54  rougher.state.floatbank10_a_level                   22647 non-null  float64\n",
      " 55  rougher.state.floatbank10_b_air                     22646 non-null  float64\n",
      " 56  rougher.state.floatbank10_b_level                   22647 non-null  float64\n",
      " 57  rougher.state.floatbank10_c_air                     22646 non-null  float64\n",
      " 58  rougher.state.floatbank10_c_level                   22654 non-null  float64\n",
      " 59  rougher.state.floatbank10_d_air                     22641 non-null  float64\n",
      " 60  rougher.state.floatbank10_d_level                   22649 non-null  float64\n",
      " 61  rougher.state.floatbank10_e_air                     22096 non-null  float64\n",
      " 62  rougher.state.floatbank10_e_level                   22649 non-null  float64\n",
      " 63  rougher.state.floatbank10_f_air                     22641 non-null  float64\n",
      " 64  rougher.state.floatbank10_f_level                   22642 non-null  float64\n",
      " 65  secondary_cleaner.output.tail_ag                    22616 non-null  float64\n",
      " 66  secondary_cleaner.output.tail_pb                    22600 non-null  float64\n",
      " 67  secondary_cleaner.output.tail_sol                   20501 non-null  float64\n",
      " 68  secondary_cleaner.output.tail_au                    22618 non-null  float64\n",
      " 69  secondary_cleaner.state.floatbank2_a_air            22333 non-null  float64\n",
      " 70  secondary_cleaner.state.floatbank2_a_level          22591 non-null  float64\n",
      " 71  secondary_cleaner.state.floatbank2_b_air            22538 non-null  float64\n",
      " 72  secondary_cleaner.state.floatbank2_b_level          22588 non-null  float64\n",
      " 73  secondary_cleaner.state.floatbank3_a_air            22585 non-null  float64\n",
      " 74  secondary_cleaner.state.floatbank3_a_level          22587 non-null  float64\n",
      " 75  secondary_cleaner.state.floatbank3_b_air            22592 non-null  float64\n",
      " 76  secondary_cleaner.state.floatbank3_b_level          22590 non-null  float64\n",
      " 77  secondary_cleaner.state.floatbank4_a_air            22571 non-null  float64\n",
      " 78  secondary_cleaner.state.floatbank4_a_level          22587 non-null  float64\n",
      " 79  secondary_cleaner.state.floatbank4_b_air            22608 non-null  float64\n",
      " 80  secondary_cleaner.state.floatbank4_b_level          22607 non-null  float64\n",
      " 81  secondary_cleaner.state.floatbank5_a_air            22615 non-null  float64\n",
      " 82  secondary_cleaner.state.floatbank5_a_level          22615 non-null  float64\n",
      " 83  secondary_cleaner.state.floatbank5_b_air            22615 non-null  float64\n",
      " 84  secondary_cleaner.state.floatbank5_b_level          22616 non-null  float64\n",
      " 85  secondary_cleaner.state.floatbank6_a_air            22597 non-null  float64\n",
      " 86  secondary_cleaner.state.floatbank6_a_level          22615 non-null  float64\n",
      "dtypes: float64(86), object(1)\n",
      "memory usage: 15.1+ MB\n"
     ]
    },
    {
     "data": {
      "text/html": [
       "<div>\n",
       "<style scoped>\n",
       "    .dataframe tbody tr th:only-of-type {\n",
       "        vertical-align: middle;\n",
       "    }\n",
       "\n",
       "    .dataframe tbody tr th {\n",
       "        vertical-align: top;\n",
       "    }\n",
       "\n",
       "    .dataframe thead th {\n",
       "        text-align: right;\n",
       "    }\n",
       "</style>\n",
       "<table border=\"1\" class=\"dataframe\">\n",
       "  <thead>\n",
       "    <tr style=\"text-align: right;\">\n",
       "      <th></th>\n",
       "      <th>date</th>\n",
       "      <th>final.output.concentrate_ag</th>\n",
       "      <th>final.output.concentrate_pb</th>\n",
       "      <th>final.output.concentrate_sol</th>\n",
       "      <th>final.output.concentrate_au</th>\n",
       "      <th>final.output.recovery</th>\n",
       "      <th>final.output.tail_ag</th>\n",
       "      <th>final.output.tail_pb</th>\n",
       "      <th>final.output.tail_sol</th>\n",
       "      <th>final.output.tail_au</th>\n",
       "      <th>...</th>\n",
       "      <th>secondary_cleaner.state.floatbank4_a_air</th>\n",
       "      <th>secondary_cleaner.state.floatbank4_a_level</th>\n",
       "      <th>secondary_cleaner.state.floatbank4_b_air</th>\n",
       "      <th>secondary_cleaner.state.floatbank4_b_level</th>\n",
       "      <th>secondary_cleaner.state.floatbank5_a_air</th>\n",
       "      <th>secondary_cleaner.state.floatbank5_a_level</th>\n",
       "      <th>secondary_cleaner.state.floatbank5_b_air</th>\n",
       "      <th>secondary_cleaner.state.floatbank5_b_level</th>\n",
       "      <th>secondary_cleaner.state.floatbank6_a_air</th>\n",
       "      <th>secondary_cleaner.state.floatbank6_a_level</th>\n",
       "    </tr>\n",
       "  </thead>\n",
       "  <tbody>\n",
       "    <tr>\n",
       "      <th>0</th>\n",
       "      <td>2016-01-15 00:00:00</td>\n",
       "      <td>6.055403</td>\n",
       "      <td>9.889648</td>\n",
       "      <td>5.507324</td>\n",
       "      <td>42.192020</td>\n",
       "      <td>70.541216</td>\n",
       "      <td>10.411962</td>\n",
       "      <td>0.895447</td>\n",
       "      <td>16.904297</td>\n",
       "      <td>2.143149</td>\n",
       "      <td>...</td>\n",
       "      <td>14.016835</td>\n",
       "      <td>-502.488007</td>\n",
       "      <td>12.099931</td>\n",
       "      <td>-504.715942</td>\n",
       "      <td>9.925633</td>\n",
       "      <td>-498.310211</td>\n",
       "      <td>8.079666</td>\n",
       "      <td>-500.470978</td>\n",
       "      <td>14.151341</td>\n",
       "      <td>-605.841980</td>\n",
       "    </tr>\n",
       "    <tr>\n",
       "      <th>1</th>\n",
       "      <td>2016-01-15 01:00:00</td>\n",
       "      <td>6.029369</td>\n",
       "      <td>9.968944</td>\n",
       "      <td>5.257781</td>\n",
       "      <td>42.701629</td>\n",
       "      <td>69.266198</td>\n",
       "      <td>10.462676</td>\n",
       "      <td>0.927452</td>\n",
       "      <td>16.634514</td>\n",
       "      <td>2.224930</td>\n",
       "      <td>...</td>\n",
       "      <td>13.992281</td>\n",
       "      <td>-505.503262</td>\n",
       "      <td>11.950531</td>\n",
       "      <td>-501.331529</td>\n",
       "      <td>10.039245</td>\n",
       "      <td>-500.169983</td>\n",
       "      <td>7.984757</td>\n",
       "      <td>-500.582168</td>\n",
       "      <td>13.998353</td>\n",
       "      <td>-599.787184</td>\n",
       "    </tr>\n",
       "    <tr>\n",
       "      <th>2</th>\n",
       "      <td>2016-01-15 02:00:00</td>\n",
       "      <td>6.055926</td>\n",
       "      <td>10.213995</td>\n",
       "      <td>5.383759</td>\n",
       "      <td>42.657501</td>\n",
       "      <td>68.116445</td>\n",
       "      <td>10.507046</td>\n",
       "      <td>0.953716</td>\n",
       "      <td>16.208849</td>\n",
       "      <td>2.257889</td>\n",
       "      <td>...</td>\n",
       "      <td>14.015015</td>\n",
       "      <td>-502.520901</td>\n",
       "      <td>11.912783</td>\n",
       "      <td>-501.133383</td>\n",
       "      <td>10.070913</td>\n",
       "      <td>-500.129135</td>\n",
       "      <td>8.013877</td>\n",
       "      <td>-500.517572</td>\n",
       "      <td>14.028663</td>\n",
       "      <td>-601.427363</td>\n",
       "    </tr>\n",
       "    <tr>\n",
       "      <th>3</th>\n",
       "      <td>2016-01-15 03:00:00</td>\n",
       "      <td>6.047977</td>\n",
       "      <td>9.977019</td>\n",
       "      <td>4.858634</td>\n",
       "      <td>42.689819</td>\n",
       "      <td>68.347543</td>\n",
       "      <td>10.422762</td>\n",
       "      <td>0.883763</td>\n",
       "      <td>16.532835</td>\n",
       "      <td>2.146849</td>\n",
       "      <td>...</td>\n",
       "      <td>14.036510</td>\n",
       "      <td>-500.857308</td>\n",
       "      <td>11.999550</td>\n",
       "      <td>-501.193686</td>\n",
       "      <td>9.970366</td>\n",
       "      <td>-499.201640</td>\n",
       "      <td>7.977324</td>\n",
       "      <td>-500.255908</td>\n",
       "      <td>14.005551</td>\n",
       "      <td>-599.996129</td>\n",
       "    </tr>\n",
       "    <tr>\n",
       "      <th>4</th>\n",
       "      <td>2016-01-15 04:00:00</td>\n",
       "      <td>6.148599</td>\n",
       "      <td>10.142511</td>\n",
       "      <td>4.939416</td>\n",
       "      <td>42.774141</td>\n",
       "      <td>66.927016</td>\n",
       "      <td>10.360302</td>\n",
       "      <td>0.792826</td>\n",
       "      <td>16.525686</td>\n",
       "      <td>2.055292</td>\n",
       "      <td>...</td>\n",
       "      <td>14.027298</td>\n",
       "      <td>-499.838632</td>\n",
       "      <td>11.953070</td>\n",
       "      <td>-501.053894</td>\n",
       "      <td>9.925709</td>\n",
       "      <td>-501.686727</td>\n",
       "      <td>7.894242</td>\n",
       "      <td>-500.356035</td>\n",
       "      <td>13.996647</td>\n",
       "      <td>-601.496691</td>\n",
       "    </tr>\n",
       "  </tbody>\n",
       "</table>\n",
       "<p>5 rows × 87 columns</p>\n",
       "</div>"
      ],
      "text/plain": [
       "                  date  final.output.concentrate_ag  \\\n",
       "0  2016-01-15 00:00:00                     6.055403   \n",
       "1  2016-01-15 01:00:00                     6.029369   \n",
       "2  2016-01-15 02:00:00                     6.055926   \n",
       "3  2016-01-15 03:00:00                     6.047977   \n",
       "4  2016-01-15 04:00:00                     6.148599   \n",
       "\n",
       "   final.output.concentrate_pb  final.output.concentrate_sol  \\\n",
       "0                     9.889648                      5.507324   \n",
       "1                     9.968944                      5.257781   \n",
       "2                    10.213995                      5.383759   \n",
       "3                     9.977019                      4.858634   \n",
       "4                    10.142511                      4.939416   \n",
       "\n",
       "   final.output.concentrate_au  final.output.recovery  final.output.tail_ag  \\\n",
       "0                    42.192020              70.541216             10.411962   \n",
       "1                    42.701629              69.266198             10.462676   \n",
       "2                    42.657501              68.116445             10.507046   \n",
       "3                    42.689819              68.347543             10.422762   \n",
       "4                    42.774141              66.927016             10.360302   \n",
       "\n",
       "   final.output.tail_pb  final.output.tail_sol  final.output.tail_au  ...  \\\n",
       "0              0.895447              16.904297              2.143149  ...   \n",
       "1              0.927452              16.634514              2.224930  ...   \n",
       "2              0.953716              16.208849              2.257889  ...   \n",
       "3              0.883763              16.532835              2.146849  ...   \n",
       "4              0.792826              16.525686              2.055292  ...   \n",
       "\n",
       "   secondary_cleaner.state.floatbank4_a_air  \\\n",
       "0                                 14.016835   \n",
       "1                                 13.992281   \n",
       "2                                 14.015015   \n",
       "3                                 14.036510   \n",
       "4                                 14.027298   \n",
       "\n",
       "   secondary_cleaner.state.floatbank4_a_level  \\\n",
       "0                                 -502.488007   \n",
       "1                                 -505.503262   \n",
       "2                                 -502.520901   \n",
       "3                                 -500.857308   \n",
       "4                                 -499.838632   \n",
       "\n",
       "   secondary_cleaner.state.floatbank4_b_air  \\\n",
       "0                                 12.099931   \n",
       "1                                 11.950531   \n",
       "2                                 11.912783   \n",
       "3                                 11.999550   \n",
       "4                                 11.953070   \n",
       "\n",
       "   secondary_cleaner.state.floatbank4_b_level  \\\n",
       "0                                 -504.715942   \n",
       "1                                 -501.331529   \n",
       "2                                 -501.133383   \n",
       "3                                 -501.193686   \n",
       "4                                 -501.053894   \n",
       "\n",
       "   secondary_cleaner.state.floatbank5_a_air  \\\n",
       "0                                  9.925633   \n",
       "1                                 10.039245   \n",
       "2                                 10.070913   \n",
       "3                                  9.970366   \n",
       "4                                  9.925709   \n",
       "\n",
       "   secondary_cleaner.state.floatbank5_a_level  \\\n",
       "0                                 -498.310211   \n",
       "1                                 -500.169983   \n",
       "2                                 -500.129135   \n",
       "3                                 -499.201640   \n",
       "4                                 -501.686727   \n",
       "\n",
       "   secondary_cleaner.state.floatbank5_b_air  \\\n",
       "0                                  8.079666   \n",
       "1                                  7.984757   \n",
       "2                                  8.013877   \n",
       "3                                  7.977324   \n",
       "4                                  7.894242   \n",
       "\n",
       "   secondary_cleaner.state.floatbank5_b_level  \\\n",
       "0                                 -500.470978   \n",
       "1                                 -500.582168   \n",
       "2                                 -500.517572   \n",
       "3                                 -500.255908   \n",
       "4                                 -500.356035   \n",
       "\n",
       "   secondary_cleaner.state.floatbank6_a_air  \\\n",
       "0                                 14.151341   \n",
       "1                                 13.998353   \n",
       "2                                 14.028663   \n",
       "3                                 14.005551   \n",
       "4                                 13.996647   \n",
       "\n",
       "   secondary_cleaner.state.floatbank6_a_level  \n",
       "0                                 -605.841980  \n",
       "1                                 -599.787184  \n",
       "2                                 -601.427363  \n",
       "3                                 -599.996129  \n",
       "4                                 -601.496691  \n",
       "\n",
       "[5 rows x 87 columns]"
      ]
     },
     "execution_count": 401,
     "metadata": {},
     "output_type": "execute_result"
    }
   ],
   "source": [
    "full.info()\n",
    "full.head()"
   ]
  },
  {
   "cell_type": "markdown",
   "id": "b6139ac5",
   "metadata": {},
   "source": [
    "**Informasi yang didapatkan:** \n",
    "- Pada data train, terdapat 87 kolom dan 16860 baris. Akan tetapi terdapat beberapa kolom yang memiliki nilai yang hilang.\n",
    "- Pada data test, terdapat 53 kolom dan 5856 baris. Akan tetapi terdapat beberapa kolom yang memiliki nilai yang hilang.\n",
    "- Pada data full, terdapat 87 kolom dan 22716 baris. Akan tetapi terdapat beberapa kolom yang memiliki nilai yang hilang.\n",
    "- Semua data memiliki satu tipe data yang salah yaitu pada komo `date`.\n",
    "- Beberapa fitur yang tidak diperlukan akan dihapus.\n",
    "- Target kita adalah `rougher.output.recovery` dan `final.output.recovery`."
   ]
  },
  {
   "cell_type": "markdown",
   "id": "19aea9bf",
   "metadata": {},
   "source": [
    "# Memperbaiki Datasets"
   ]
  },
  {
   "cell_type": "markdown",
   "id": "e40c0b70",
   "metadata": {},
   "source": [
    "## Merubah Tipe Data"
   ]
  },
  {
   "cell_type": "code",
   "execution_count": 402,
   "id": "373b53ea",
   "metadata": {},
   "outputs": [],
   "source": [
    "# Merubah tipe data object menjadi datetime\n",
    "train['date'] = pd.to_datetime(train['date'])\n",
    "test['date'] = pd.to_datetime(test['date'])\n",
    "full['date'] = pd.to_datetime(full['date'])"
   ]
  },
  {
   "cell_type": "code",
   "execution_count": 403,
   "id": "b999b93b",
   "metadata": {
    "scrolled": false
   },
   "outputs": [
    {
     "data": {
      "text/plain": [
       "date                                          datetime64[ns]\n",
       "final.output.concentrate_ag                          float64\n",
       "final.output.concentrate_pb                          float64\n",
       "final.output.concentrate_sol                         float64\n",
       "final.output.concentrate_au                          float64\n",
       "                                                   ...      \n",
       "secondary_cleaner.state.floatbank5_a_level           float64\n",
       "secondary_cleaner.state.floatbank5_b_air             float64\n",
       "secondary_cleaner.state.floatbank5_b_level           float64\n",
       "secondary_cleaner.state.floatbank6_a_air             float64\n",
       "secondary_cleaner.state.floatbank6_a_level           float64\n",
       "Length: 87, dtype: object"
      ]
     },
     "execution_count": 403,
     "metadata": {},
     "output_type": "execute_result"
    }
   ],
   "source": [
    "# Memeriksa datatypes\n",
    "train.dtypes"
   ]
  },
  {
   "cell_type": "code",
   "execution_count": 404,
   "id": "57d2d8df",
   "metadata": {},
   "outputs": [
    {
     "data": {
      "text/plain": [
       "date                                          datetime64[ns]\n",
       "primary_cleaner.input.sulfate                        float64\n",
       "primary_cleaner.input.depressant                     float64\n",
       "primary_cleaner.input.feed_size                      float64\n",
       "primary_cleaner.input.xanthate                       float64\n",
       "primary_cleaner.state.floatbank8_a_air               float64\n",
       "primary_cleaner.state.floatbank8_a_level             float64\n",
       "primary_cleaner.state.floatbank8_b_air               float64\n",
       "primary_cleaner.state.floatbank8_b_level             float64\n",
       "primary_cleaner.state.floatbank8_c_air               float64\n",
       "primary_cleaner.state.floatbank8_c_level             float64\n",
       "primary_cleaner.state.floatbank8_d_air               float64\n",
       "primary_cleaner.state.floatbank8_d_level             float64\n",
       "rougher.input.feed_ag                                float64\n",
       "rougher.input.feed_pb                                float64\n",
       "rougher.input.feed_rate                              float64\n",
       "rougher.input.feed_size                              float64\n",
       "rougher.input.feed_sol                               float64\n",
       "rougher.input.feed_au                                float64\n",
       "rougher.input.floatbank10_sulfate                    float64\n",
       "rougher.input.floatbank10_xanthate                   float64\n",
       "rougher.input.floatbank11_sulfate                    float64\n",
       "rougher.input.floatbank11_xanthate                   float64\n",
       "rougher.state.floatbank10_a_air                      float64\n",
       "rougher.state.floatbank10_a_level                    float64\n",
       "rougher.state.floatbank10_b_air                      float64\n",
       "rougher.state.floatbank10_b_level                    float64\n",
       "rougher.state.floatbank10_c_air                      float64\n",
       "rougher.state.floatbank10_c_level                    float64\n",
       "rougher.state.floatbank10_d_air                      float64\n",
       "rougher.state.floatbank10_d_level                    float64\n",
       "rougher.state.floatbank10_e_air                      float64\n",
       "rougher.state.floatbank10_e_level                    float64\n",
       "rougher.state.floatbank10_f_air                      float64\n",
       "rougher.state.floatbank10_f_level                    float64\n",
       "secondary_cleaner.state.floatbank2_a_air             float64\n",
       "secondary_cleaner.state.floatbank2_a_level           float64\n",
       "secondary_cleaner.state.floatbank2_b_air             float64\n",
       "secondary_cleaner.state.floatbank2_b_level           float64\n",
       "secondary_cleaner.state.floatbank3_a_air             float64\n",
       "secondary_cleaner.state.floatbank3_a_level           float64\n",
       "secondary_cleaner.state.floatbank3_b_air             float64\n",
       "secondary_cleaner.state.floatbank3_b_level           float64\n",
       "secondary_cleaner.state.floatbank4_a_air             float64\n",
       "secondary_cleaner.state.floatbank4_a_level           float64\n",
       "secondary_cleaner.state.floatbank4_b_air             float64\n",
       "secondary_cleaner.state.floatbank4_b_level           float64\n",
       "secondary_cleaner.state.floatbank5_a_air             float64\n",
       "secondary_cleaner.state.floatbank5_a_level           float64\n",
       "secondary_cleaner.state.floatbank5_b_air             float64\n",
       "secondary_cleaner.state.floatbank5_b_level           float64\n",
       "secondary_cleaner.state.floatbank6_a_air             float64\n",
       "secondary_cleaner.state.floatbank6_a_level           float64\n",
       "dtype: object"
      ]
     },
     "execution_count": 404,
     "metadata": {},
     "output_type": "execute_result"
    }
   ],
   "source": [
    "# Memeriksa datatypes\n",
    "test.dtypes"
   ]
  },
  {
   "cell_type": "code",
   "execution_count": 405,
   "id": "aa7f56ff",
   "metadata": {
    "scrolled": true
   },
   "outputs": [
    {
     "data": {
      "text/plain": [
       "date                                          datetime64[ns]\n",
       "final.output.concentrate_ag                          float64\n",
       "final.output.concentrate_pb                          float64\n",
       "final.output.concentrate_sol                         float64\n",
       "final.output.concentrate_au                          float64\n",
       "                                                   ...      \n",
       "secondary_cleaner.state.floatbank5_a_level           float64\n",
       "secondary_cleaner.state.floatbank5_b_air             float64\n",
       "secondary_cleaner.state.floatbank5_b_level           float64\n",
       "secondary_cleaner.state.floatbank6_a_air             float64\n",
       "secondary_cleaner.state.floatbank6_a_level           float64\n",
       "Length: 87, dtype: object"
      ]
     },
     "execution_count": 405,
     "metadata": {},
     "output_type": "execute_result"
    }
   ],
   "source": [
    "# Memeriksa datattypes\n",
    "full.dtypes"
   ]
  },
  {
   "cell_type": "markdown",
   "id": "fb9b64f2",
   "metadata": {},
   "source": [
    "## Mengatasi Nilai yang Hilang"
   ]
  },
  {
   "cell_type": "code",
   "execution_count": 406,
   "id": "c6b4d77b",
   "metadata": {},
   "outputs": [
    {
     "data": {
      "text/plain": [
       "date                                          0.000000\n",
       "final.output.concentrate_ag                   0.427046\n",
       "final.output.concentrate_pb                   0.427046\n",
       "final.output.concentrate_sol                  2.194543\n",
       "final.output.concentrate_au                   0.421115\n",
       "                                                ...   \n",
       "secondary_cleaner.state.floatbank5_a_level    0.504152\n",
       "secondary_cleaner.state.floatbank5_b_air      0.504152\n",
       "secondary_cleaner.state.floatbank5_b_level    0.498221\n",
       "secondary_cleaner.state.floatbank6_a_air      0.610913\n",
       "secondary_cleaner.state.floatbank6_a_level    0.504152\n",
       "Length: 87, dtype: float64"
      ]
     },
     "execution_count": 406,
     "metadata": {},
     "output_type": "execute_result"
    }
   ],
   "source": [
    "# Memeriksa berapa persen data yang hilang\n",
    "train.isna().sum()/len(train)*100"
   ]
  },
  {
   "cell_type": "code",
   "execution_count": 407,
   "id": "a795ad50",
   "metadata": {},
   "outputs": [
    {
     "data": {
      "text/plain": [
       "date                                          0.000000\n",
       "primary_cleaner.input.sulfate                 5.157104\n",
       "primary_cleaner.input.depressant              4.849727\n",
       "primary_cleaner.input.feed_size               0.000000\n",
       "primary_cleaner.input.xanthate                2.834699\n",
       "primary_cleaner.state.floatbank8_a_air        0.273224\n",
       "primary_cleaner.state.floatbank8_a_level      0.273224\n",
       "primary_cleaner.state.floatbank8_b_air        0.273224\n",
       "primary_cleaner.state.floatbank8_b_level      0.273224\n",
       "primary_cleaner.state.floatbank8_c_air        0.273224\n",
       "primary_cleaner.state.floatbank8_c_level      0.273224\n",
       "primary_cleaner.state.floatbank8_d_air        0.273224\n",
       "primary_cleaner.state.floatbank8_d_level      0.273224\n",
       "rougher.input.feed_ag                         0.273224\n",
       "rougher.input.feed_pb                         0.273224\n",
       "rougher.input.feed_rate                       0.683060\n",
       "rougher.input.feed_size                       0.375683\n",
       "rougher.input.feed_sol                        1.144126\n",
       "rougher.input.feed_au                         0.273224\n",
       "rougher.input.floatbank10_sulfate             4.388661\n",
       "rougher.input.floatbank10_xanthate            2.100410\n",
       "rougher.input.floatbank11_sulfate             0.939208\n",
       "rougher.input.floatbank11_xanthate            6.028005\n",
       "rougher.state.floatbank10_a_air               0.290301\n",
       "rougher.state.floatbank10_a_level             0.273224\n",
       "rougher.state.floatbank10_b_air               0.290301\n",
       "rougher.state.floatbank10_b_level             0.273224\n",
       "rougher.state.floatbank10_c_air               0.290301\n",
       "rougher.state.floatbank10_c_level             0.273224\n",
       "rougher.state.floatbank10_d_air               0.290301\n",
       "rougher.state.floatbank10_d_level             0.273224\n",
       "rougher.state.floatbank10_e_air               0.290301\n",
       "rougher.state.floatbank10_e_level             0.273224\n",
       "rougher.state.floatbank10_f_air               0.290301\n",
       "rougher.state.floatbank10_f_level             0.273224\n",
       "secondary_cleaner.state.floatbank2_a_air      0.341530\n",
       "secondary_cleaner.state.floatbank2_a_level    0.273224\n",
       "secondary_cleaner.state.floatbank2_b_air      0.392760\n",
       "secondary_cleaner.state.floatbank2_b_level    0.273224\n",
       "secondary_cleaner.state.floatbank3_a_air      0.580601\n",
       "secondary_cleaner.state.floatbank3_a_level    0.273224\n",
       "secondary_cleaner.state.floatbank3_b_air      0.273224\n",
       "secondary_cleaner.state.floatbank3_b_level    0.273224\n",
       "secondary_cleaner.state.floatbank4_a_air      0.273224\n",
       "secondary_cleaner.state.floatbank4_a_level    0.273224\n",
       "secondary_cleaner.state.floatbank4_b_air      0.273224\n",
       "secondary_cleaner.state.floatbank4_b_level    0.273224\n",
       "secondary_cleaner.state.floatbank5_a_air      0.273224\n",
       "secondary_cleaner.state.floatbank5_a_level    0.273224\n",
       "secondary_cleaner.state.floatbank5_b_air      0.273224\n",
       "secondary_cleaner.state.floatbank5_b_level    0.273224\n",
       "secondary_cleaner.state.floatbank6_a_air      0.273224\n",
       "secondary_cleaner.state.floatbank6_a_level    0.273224\n",
       "dtype: float64"
      ]
     },
     "execution_count": 407,
     "metadata": {},
     "output_type": "execute_result"
    }
   ],
   "source": [
    "# Memeriksa berapa persen data yang hilang\n",
    "test.isna().sum()/len(test)*100"
   ]
  },
  {
   "cell_type": "code",
   "execution_count": 408,
   "id": "5332450f",
   "metadata": {},
   "outputs": [
    {
     "data": {
      "text/plain": [
       "date                                          0.000000\n",
       "final.output.concentrate_ag                   0.391794\n",
       "final.output.concentrate_pb                   0.382990\n",
       "final.output.concentrate_sol                  1.694841\n",
       "final.output.concentrate_au                   0.378588\n",
       "                                                ...   \n",
       "secondary_cleaner.state.floatbank5_a_level    0.444621\n",
       "secondary_cleaner.state.floatbank5_b_air      0.444621\n",
       "secondary_cleaner.state.floatbank5_b_level    0.440218\n",
       "secondary_cleaner.state.floatbank6_a_air      0.523860\n",
       "secondary_cleaner.state.floatbank6_a_level    0.444621\n",
       "Length: 87, dtype: float64"
      ]
     },
     "execution_count": 408,
     "metadata": {},
     "output_type": "execute_result"
    }
   ],
   "source": [
    "# Memeriksa berapa persen data yang hilang\n",
    "full.isna().sum()/len(full) * 100"
   ]
  },
  {
   "cell_type": "markdown",
   "id": "30c18de1",
   "metadata": {},
   "source": [
    "Kebanyakan data yang hilang adalah di bawah **5%**. Jadi, tidak masalah untuk data yang hilang dilakukan drop."
   ]
  },
  {
   "cell_type": "code",
   "execution_count": 409,
   "id": "dafb5c0b",
   "metadata": {},
   "outputs": [],
   "source": [
    "# Menghapus data yang hilang\n",
    "train = train.dropna()\n",
    "test = test.dropna()\n",
    "full = full.dropna()"
   ]
  },
  {
   "cell_type": "code",
   "execution_count": 410,
   "id": "dd3377be",
   "metadata": {},
   "outputs": [
    {
     "name": "stdout",
     "output_type": "stream",
     "text": [
      "<class 'pandas.core.frame.DataFrame'>\n",
      "Int64Index: 11017 entries, 0 to 16859\n",
      "Data columns (total 87 columns):\n",
      " #   Column                                              Non-Null Count  Dtype         \n",
      "---  ------                                              --------------  -----         \n",
      " 0   date                                                11017 non-null  datetime64[ns]\n",
      " 1   final.output.concentrate_ag                         11017 non-null  float64       \n",
      " 2   final.output.concentrate_pb                         11017 non-null  float64       \n",
      " 3   final.output.concentrate_sol                        11017 non-null  float64       \n",
      " 4   final.output.concentrate_au                         11017 non-null  float64       \n",
      " 5   final.output.recovery                               11017 non-null  float64       \n",
      " 6   final.output.tail_ag                                11017 non-null  float64       \n",
      " 7   final.output.tail_pb                                11017 non-null  float64       \n",
      " 8   final.output.tail_sol                               11017 non-null  float64       \n",
      " 9   final.output.tail_au                                11017 non-null  float64       \n",
      " 10  primary_cleaner.input.sulfate                       11017 non-null  float64       \n",
      " 11  primary_cleaner.input.depressant                    11017 non-null  float64       \n",
      " 12  primary_cleaner.input.feed_size                     11017 non-null  float64       \n",
      " 13  primary_cleaner.input.xanthate                      11017 non-null  float64       \n",
      " 14  primary_cleaner.output.concentrate_ag               11017 non-null  float64       \n",
      " 15  primary_cleaner.output.concentrate_pb               11017 non-null  float64       \n",
      " 16  primary_cleaner.output.concentrate_sol              11017 non-null  float64       \n",
      " 17  primary_cleaner.output.concentrate_au               11017 non-null  float64       \n",
      " 18  primary_cleaner.output.tail_ag                      11017 non-null  float64       \n",
      " 19  primary_cleaner.output.tail_pb                      11017 non-null  float64       \n",
      " 20  primary_cleaner.output.tail_sol                     11017 non-null  float64       \n",
      " 21  primary_cleaner.output.tail_au                      11017 non-null  float64       \n",
      " 22  primary_cleaner.state.floatbank8_a_air              11017 non-null  float64       \n",
      " 23  primary_cleaner.state.floatbank8_a_level            11017 non-null  float64       \n",
      " 24  primary_cleaner.state.floatbank8_b_air              11017 non-null  float64       \n",
      " 25  primary_cleaner.state.floatbank8_b_level            11017 non-null  float64       \n",
      " 26  primary_cleaner.state.floatbank8_c_air              11017 non-null  float64       \n",
      " 27  primary_cleaner.state.floatbank8_c_level            11017 non-null  float64       \n",
      " 28  primary_cleaner.state.floatbank8_d_air              11017 non-null  float64       \n",
      " 29  primary_cleaner.state.floatbank8_d_level            11017 non-null  float64       \n",
      " 30  rougher.calculation.sulfate_to_au_concentrate       11017 non-null  float64       \n",
      " 31  rougher.calculation.floatbank10_sulfate_to_au_feed  11017 non-null  float64       \n",
      " 32  rougher.calculation.floatbank11_sulfate_to_au_feed  11017 non-null  float64       \n",
      " 33  rougher.calculation.au_pb_ratio                     11017 non-null  float64       \n",
      " 34  rougher.input.feed_ag                               11017 non-null  float64       \n",
      " 35  rougher.input.feed_pb                               11017 non-null  float64       \n",
      " 36  rougher.input.feed_rate                             11017 non-null  float64       \n",
      " 37  rougher.input.feed_size                             11017 non-null  float64       \n",
      " 38  rougher.input.feed_sol                              11017 non-null  float64       \n",
      " 39  rougher.input.feed_au                               11017 non-null  float64       \n",
      " 40  rougher.input.floatbank10_sulfate                   11017 non-null  float64       \n",
      " 41  rougher.input.floatbank10_xanthate                  11017 non-null  float64       \n",
      " 42  rougher.input.floatbank11_sulfate                   11017 non-null  float64       \n",
      " 43  rougher.input.floatbank11_xanthate                  11017 non-null  float64       \n",
      " 44  rougher.output.concentrate_ag                       11017 non-null  float64       \n",
      " 45  rougher.output.concentrate_pb                       11017 non-null  float64       \n",
      " 46  rougher.output.concentrate_sol                      11017 non-null  float64       \n",
      " 47  rougher.output.concentrate_au                       11017 non-null  float64       \n",
      " 48  rougher.output.recovery                             11017 non-null  float64       \n",
      " 49  rougher.output.tail_ag                              11017 non-null  float64       \n",
      " 50  rougher.output.tail_pb                              11017 non-null  float64       \n",
      " 51  rougher.output.tail_sol                             11017 non-null  float64       \n",
      " 52  rougher.output.tail_au                              11017 non-null  float64       \n",
      " 53  rougher.state.floatbank10_a_air                     11017 non-null  float64       \n",
      " 54  rougher.state.floatbank10_a_level                   11017 non-null  float64       \n",
      " 55  rougher.state.floatbank10_b_air                     11017 non-null  float64       \n",
      " 56  rougher.state.floatbank10_b_level                   11017 non-null  float64       \n",
      " 57  rougher.state.floatbank10_c_air                     11017 non-null  float64       \n",
      " 58  rougher.state.floatbank10_c_level                   11017 non-null  float64       \n",
      " 59  rougher.state.floatbank10_d_air                     11017 non-null  float64       \n",
      " 60  rougher.state.floatbank10_d_level                   11017 non-null  float64       \n",
      " 61  rougher.state.floatbank10_e_air                     11017 non-null  float64       \n",
      " 62  rougher.state.floatbank10_e_level                   11017 non-null  float64       \n",
      " 63  rougher.state.floatbank10_f_air                     11017 non-null  float64       \n",
      " 64  rougher.state.floatbank10_f_level                   11017 non-null  float64       \n",
      " 65  secondary_cleaner.output.tail_ag                    11017 non-null  float64       \n",
      " 66  secondary_cleaner.output.tail_pb                    11017 non-null  float64       \n",
      " 67  secondary_cleaner.output.tail_sol                   11017 non-null  float64       \n",
      " 68  secondary_cleaner.output.tail_au                    11017 non-null  float64       \n",
      " 69  secondary_cleaner.state.floatbank2_a_air            11017 non-null  float64       \n",
      " 70  secondary_cleaner.state.floatbank2_a_level          11017 non-null  float64       \n",
      " 71  secondary_cleaner.state.floatbank2_b_air            11017 non-null  float64       \n",
      " 72  secondary_cleaner.state.floatbank2_b_level          11017 non-null  float64       \n",
      " 73  secondary_cleaner.state.floatbank3_a_air            11017 non-null  float64       \n",
      " 74  secondary_cleaner.state.floatbank3_a_level          11017 non-null  float64       \n",
      " 75  secondary_cleaner.state.floatbank3_b_air            11017 non-null  float64       \n",
      " 76  secondary_cleaner.state.floatbank3_b_level          11017 non-null  float64       \n",
      " 77  secondary_cleaner.state.floatbank4_a_air            11017 non-null  float64       \n",
      " 78  secondary_cleaner.state.floatbank4_a_level          11017 non-null  float64       \n",
      " 79  secondary_cleaner.state.floatbank4_b_air            11017 non-null  float64       \n",
      " 80  secondary_cleaner.state.floatbank4_b_level          11017 non-null  float64       \n",
      " 81  secondary_cleaner.state.floatbank5_a_air            11017 non-null  float64       \n",
      " 82  secondary_cleaner.state.floatbank5_a_level          11017 non-null  float64       \n",
      " 83  secondary_cleaner.state.floatbank5_b_air            11017 non-null  float64       \n",
      " 84  secondary_cleaner.state.floatbank5_b_level          11017 non-null  float64       \n",
      " 85  secondary_cleaner.state.floatbank6_a_air            11017 non-null  float64       \n",
      " 86  secondary_cleaner.state.floatbank6_a_level          11017 non-null  float64       \n",
      "dtypes: datetime64[ns](1), float64(86)\n",
      "memory usage: 7.4 MB\n"
     ]
    }
   ],
   "source": [
    "train.info()"
   ]
  },
  {
   "cell_type": "code",
   "execution_count": 411,
   "id": "eb706058",
   "metadata": {},
   "outputs": [
    {
     "name": "stdout",
     "output_type": "stream",
     "text": [
      "<class 'pandas.core.frame.DataFrame'>\n",
      "Int64Index: 5383 entries, 0 to 5855\n",
      "Data columns (total 53 columns):\n",
      " #   Column                                      Non-Null Count  Dtype         \n",
      "---  ------                                      --------------  -----         \n",
      " 0   date                                        5383 non-null   datetime64[ns]\n",
      " 1   primary_cleaner.input.sulfate               5383 non-null   float64       \n",
      " 2   primary_cleaner.input.depressant            5383 non-null   float64       \n",
      " 3   primary_cleaner.input.feed_size             5383 non-null   float64       \n",
      " 4   primary_cleaner.input.xanthate              5383 non-null   float64       \n",
      " 5   primary_cleaner.state.floatbank8_a_air      5383 non-null   float64       \n",
      " 6   primary_cleaner.state.floatbank8_a_level    5383 non-null   float64       \n",
      " 7   primary_cleaner.state.floatbank8_b_air      5383 non-null   float64       \n",
      " 8   primary_cleaner.state.floatbank8_b_level    5383 non-null   float64       \n",
      " 9   primary_cleaner.state.floatbank8_c_air      5383 non-null   float64       \n",
      " 10  primary_cleaner.state.floatbank8_c_level    5383 non-null   float64       \n",
      " 11  primary_cleaner.state.floatbank8_d_air      5383 non-null   float64       \n",
      " 12  primary_cleaner.state.floatbank8_d_level    5383 non-null   float64       \n",
      " 13  rougher.input.feed_ag                       5383 non-null   float64       \n",
      " 14  rougher.input.feed_pb                       5383 non-null   float64       \n",
      " 15  rougher.input.feed_rate                     5383 non-null   float64       \n",
      " 16  rougher.input.feed_size                     5383 non-null   float64       \n",
      " 17  rougher.input.feed_sol                      5383 non-null   float64       \n",
      " 18  rougher.input.feed_au                       5383 non-null   float64       \n",
      " 19  rougher.input.floatbank10_sulfate           5383 non-null   float64       \n",
      " 20  rougher.input.floatbank10_xanthate          5383 non-null   float64       \n",
      " 21  rougher.input.floatbank11_sulfate           5383 non-null   float64       \n",
      " 22  rougher.input.floatbank11_xanthate          5383 non-null   float64       \n",
      " 23  rougher.state.floatbank10_a_air             5383 non-null   float64       \n",
      " 24  rougher.state.floatbank10_a_level           5383 non-null   float64       \n",
      " 25  rougher.state.floatbank10_b_air             5383 non-null   float64       \n",
      " 26  rougher.state.floatbank10_b_level           5383 non-null   float64       \n",
      " 27  rougher.state.floatbank10_c_air             5383 non-null   float64       \n",
      " 28  rougher.state.floatbank10_c_level           5383 non-null   float64       \n",
      " 29  rougher.state.floatbank10_d_air             5383 non-null   float64       \n",
      " 30  rougher.state.floatbank10_d_level           5383 non-null   float64       \n",
      " 31  rougher.state.floatbank10_e_air             5383 non-null   float64       \n",
      " 32  rougher.state.floatbank10_e_level           5383 non-null   float64       \n",
      " 33  rougher.state.floatbank10_f_air             5383 non-null   float64       \n",
      " 34  rougher.state.floatbank10_f_level           5383 non-null   float64       \n",
      " 35  secondary_cleaner.state.floatbank2_a_air    5383 non-null   float64       \n",
      " 36  secondary_cleaner.state.floatbank2_a_level  5383 non-null   float64       \n",
      " 37  secondary_cleaner.state.floatbank2_b_air    5383 non-null   float64       \n",
      " 38  secondary_cleaner.state.floatbank2_b_level  5383 non-null   float64       \n",
      " 39  secondary_cleaner.state.floatbank3_a_air    5383 non-null   float64       \n",
      " 40  secondary_cleaner.state.floatbank3_a_level  5383 non-null   float64       \n",
      " 41  secondary_cleaner.state.floatbank3_b_air    5383 non-null   float64       \n",
      " 42  secondary_cleaner.state.floatbank3_b_level  5383 non-null   float64       \n",
      " 43  secondary_cleaner.state.floatbank4_a_air    5383 non-null   float64       \n",
      " 44  secondary_cleaner.state.floatbank4_a_level  5383 non-null   float64       \n",
      " 45  secondary_cleaner.state.floatbank4_b_air    5383 non-null   float64       \n",
      " 46  secondary_cleaner.state.floatbank4_b_level  5383 non-null   float64       \n",
      " 47  secondary_cleaner.state.floatbank5_a_air    5383 non-null   float64       \n",
      " 48  secondary_cleaner.state.floatbank5_a_level  5383 non-null   float64       \n",
      " 49  secondary_cleaner.state.floatbank5_b_air    5383 non-null   float64       \n",
      " 50  secondary_cleaner.state.floatbank5_b_level  5383 non-null   float64       \n",
      " 51  secondary_cleaner.state.floatbank6_a_air    5383 non-null   float64       \n",
      " 52  secondary_cleaner.state.floatbank6_a_level  5383 non-null   float64       \n",
      "dtypes: datetime64[ns](1), float64(52)\n",
      "memory usage: 2.2 MB\n"
     ]
    }
   ],
   "source": [
    "test.info()"
   ]
  },
  {
   "cell_type": "code",
   "execution_count": 412,
   "id": "6fa12f9c",
   "metadata": {},
   "outputs": [
    {
     "name": "stdout",
     "output_type": "stream",
     "text": [
      "<class 'pandas.core.frame.DataFrame'>\n",
      "Int64Index: 16094 entries, 0 to 22715\n",
      "Data columns (total 87 columns):\n",
      " #   Column                                              Non-Null Count  Dtype         \n",
      "---  ------                                              --------------  -----         \n",
      " 0   date                                                16094 non-null  datetime64[ns]\n",
      " 1   final.output.concentrate_ag                         16094 non-null  float64       \n",
      " 2   final.output.concentrate_pb                         16094 non-null  float64       \n",
      " 3   final.output.concentrate_sol                        16094 non-null  float64       \n",
      " 4   final.output.concentrate_au                         16094 non-null  float64       \n",
      " 5   final.output.recovery                               16094 non-null  float64       \n",
      " 6   final.output.tail_ag                                16094 non-null  float64       \n",
      " 7   final.output.tail_pb                                16094 non-null  float64       \n",
      " 8   final.output.tail_sol                               16094 non-null  float64       \n",
      " 9   final.output.tail_au                                16094 non-null  float64       \n",
      " 10  primary_cleaner.input.sulfate                       16094 non-null  float64       \n",
      " 11  primary_cleaner.input.depressant                    16094 non-null  float64       \n",
      " 12  primary_cleaner.input.feed_size                     16094 non-null  float64       \n",
      " 13  primary_cleaner.input.xanthate                      16094 non-null  float64       \n",
      " 14  primary_cleaner.output.concentrate_ag               16094 non-null  float64       \n",
      " 15  primary_cleaner.output.concentrate_pb               16094 non-null  float64       \n",
      " 16  primary_cleaner.output.concentrate_sol              16094 non-null  float64       \n",
      " 17  primary_cleaner.output.concentrate_au               16094 non-null  float64       \n",
      " 18  primary_cleaner.output.tail_ag                      16094 non-null  float64       \n",
      " 19  primary_cleaner.output.tail_pb                      16094 non-null  float64       \n",
      " 20  primary_cleaner.output.tail_sol                     16094 non-null  float64       \n",
      " 21  primary_cleaner.output.tail_au                      16094 non-null  float64       \n",
      " 22  primary_cleaner.state.floatbank8_a_air              16094 non-null  float64       \n",
      " 23  primary_cleaner.state.floatbank8_a_level            16094 non-null  float64       \n",
      " 24  primary_cleaner.state.floatbank8_b_air              16094 non-null  float64       \n",
      " 25  primary_cleaner.state.floatbank8_b_level            16094 non-null  float64       \n",
      " 26  primary_cleaner.state.floatbank8_c_air              16094 non-null  float64       \n",
      " 27  primary_cleaner.state.floatbank8_c_level            16094 non-null  float64       \n",
      " 28  primary_cleaner.state.floatbank8_d_air              16094 non-null  float64       \n",
      " 29  primary_cleaner.state.floatbank8_d_level            16094 non-null  float64       \n",
      " 30  rougher.calculation.sulfate_to_au_concentrate       16094 non-null  float64       \n",
      " 31  rougher.calculation.floatbank10_sulfate_to_au_feed  16094 non-null  float64       \n",
      " 32  rougher.calculation.floatbank11_sulfate_to_au_feed  16094 non-null  float64       \n",
      " 33  rougher.calculation.au_pb_ratio                     16094 non-null  float64       \n",
      " 34  rougher.input.feed_ag                               16094 non-null  float64       \n",
      " 35  rougher.input.feed_pb                               16094 non-null  float64       \n",
      " 36  rougher.input.feed_rate                             16094 non-null  float64       \n",
      " 37  rougher.input.feed_size                             16094 non-null  float64       \n",
      " 38  rougher.input.feed_sol                              16094 non-null  float64       \n",
      " 39  rougher.input.feed_au                               16094 non-null  float64       \n",
      " 40  rougher.input.floatbank10_sulfate                   16094 non-null  float64       \n",
      " 41  rougher.input.floatbank10_xanthate                  16094 non-null  float64       \n",
      " 42  rougher.input.floatbank11_sulfate                   16094 non-null  float64       \n",
      " 43  rougher.input.floatbank11_xanthate                  16094 non-null  float64       \n",
      " 44  rougher.output.concentrate_ag                       16094 non-null  float64       \n",
      " 45  rougher.output.concentrate_pb                       16094 non-null  float64       \n",
      " 46  rougher.output.concentrate_sol                      16094 non-null  float64       \n",
      " 47  rougher.output.concentrate_au                       16094 non-null  float64       \n",
      " 48  rougher.output.recovery                             16094 non-null  float64       \n",
      " 49  rougher.output.tail_ag                              16094 non-null  float64       \n",
      " 50  rougher.output.tail_pb                              16094 non-null  float64       \n",
      " 51  rougher.output.tail_sol                             16094 non-null  float64       \n",
      " 52  rougher.output.tail_au                              16094 non-null  float64       \n",
      " 53  rougher.state.floatbank10_a_air                     16094 non-null  float64       \n",
      " 54  rougher.state.floatbank10_a_level                   16094 non-null  float64       \n",
      " 55  rougher.state.floatbank10_b_air                     16094 non-null  float64       \n",
      " 56  rougher.state.floatbank10_b_level                   16094 non-null  float64       \n",
      " 57  rougher.state.floatbank10_c_air                     16094 non-null  float64       \n",
      " 58  rougher.state.floatbank10_c_level                   16094 non-null  float64       \n",
      " 59  rougher.state.floatbank10_d_air                     16094 non-null  float64       \n",
      " 60  rougher.state.floatbank10_d_level                   16094 non-null  float64       \n",
      " 61  rougher.state.floatbank10_e_air                     16094 non-null  float64       \n",
      " 62  rougher.state.floatbank10_e_level                   16094 non-null  float64       \n",
      " 63  rougher.state.floatbank10_f_air                     16094 non-null  float64       \n",
      " 64  rougher.state.floatbank10_f_level                   16094 non-null  float64       \n",
      " 65  secondary_cleaner.output.tail_ag                    16094 non-null  float64       \n",
      " 66  secondary_cleaner.output.tail_pb                    16094 non-null  float64       \n",
      " 67  secondary_cleaner.output.tail_sol                   16094 non-null  float64       \n",
      " 68  secondary_cleaner.output.tail_au                    16094 non-null  float64       \n",
      " 69  secondary_cleaner.state.floatbank2_a_air            16094 non-null  float64       \n",
      " 70  secondary_cleaner.state.floatbank2_a_level          16094 non-null  float64       \n",
      " 71  secondary_cleaner.state.floatbank2_b_air            16094 non-null  float64       \n",
      " 72  secondary_cleaner.state.floatbank2_b_level          16094 non-null  float64       \n",
      " 73  secondary_cleaner.state.floatbank3_a_air            16094 non-null  float64       \n",
      " 74  secondary_cleaner.state.floatbank3_a_level          16094 non-null  float64       \n",
      " 75  secondary_cleaner.state.floatbank3_b_air            16094 non-null  float64       \n",
      " 76  secondary_cleaner.state.floatbank3_b_level          16094 non-null  float64       \n",
      " 77  secondary_cleaner.state.floatbank4_a_air            16094 non-null  float64       \n",
      " 78  secondary_cleaner.state.floatbank4_a_level          16094 non-null  float64       \n",
      " 79  secondary_cleaner.state.floatbank4_b_air            16094 non-null  float64       \n",
      " 80  secondary_cleaner.state.floatbank4_b_level          16094 non-null  float64       \n",
      " 81  secondary_cleaner.state.floatbank5_a_air            16094 non-null  float64       \n",
      " 82  secondary_cleaner.state.floatbank5_a_level          16094 non-null  float64       \n",
      " 83  secondary_cleaner.state.floatbank5_b_air            16094 non-null  float64       \n",
      " 84  secondary_cleaner.state.floatbank5_b_level          16094 non-null  float64       \n",
      " 85  secondary_cleaner.state.floatbank6_a_air            16094 non-null  float64       \n",
      " 86  secondary_cleaner.state.floatbank6_a_level          16094 non-null  float64       \n",
      "dtypes: datetime64[ns](1), float64(86)\n",
      "memory usage: 10.8 MB\n"
     ]
    }
   ],
   "source": [
    "full.info()"
   ]
  },
  {
   "cell_type": "markdown",
   "id": "5db22e14",
   "metadata": {},
   "source": [
    "## Menghitung Perolehan Emas"
   ]
  },
  {
   "cell_type": "code",
   "execution_count": 413,
   "id": "c20d4c9a",
   "metadata": {},
   "outputs": [
    {
     "name": "stdout",
     "output_type": "stream",
     "text": [
      "0    87.107763\n",
      "1    86.843261\n",
      "2    86.842308\n",
      "3    87.226430\n",
      "4    86.688794\n",
      "dtype: float64\n",
      "Perolehan skor MAE: 9.460144184559453e-15\n"
     ]
    }
   ],
   "source": [
    "'''Untuk menghitung perolehan emas kita memerlukan 3 variabel:\n",
    "- C: Merupakan konsentrat tepat setelah proses flotasi. Yang mana hal ini merupakan concentrate_au.\n",
    "- F: Merupakan presentase emas dalam umpan sebelum proses flotasi. Yang mana hal ini merupakan feed_au.\n",
    "- T: Merupakan presentase emas dalam ekor yang lebih kasar. Yang mana hal ini merupakan tail_au.\n",
    "'''\n",
    "\n",
    "# Fungsi untuk menghitung perolehan emas\n",
    "def calculate_recovery(c, f, t):\n",
    "    formula = ((c*(f-t))/(f*(c-t))) * 100\n",
    "    return formula\n",
    "\n",
    "recovery = train['rougher.output.recovery']\n",
    "concentrate = train['rougher.output.concentrate_au']\n",
    "feed = train['rougher.input.feed_au']\n",
    "tail = train['rougher.output.tail_au']\n",
    "\n",
    "# Penerapan fungi untuk menghitung perolehan emas\n",
    "calculated = calculate_recovery(concentrate, feed, tail)\n",
    "print(calculated.head())\n",
    "\n",
    "# Menghitung nilai\n",
    "mae = mean_absolute_error(recovery, calculated)\n",
    "print('Perolehan skor MAE:', mae)"
   ]
  },
  {
   "cell_type": "markdown",
   "id": "a6517a0c",
   "metadata": {},
   "source": [
    "**Dari Informasi di Atas:** Nilai perhitungan perolehan emas dan perhitungan asli sudah benar. Dilihat dari metriks MAE yang mendekati angka 0."
   ]
  },
  {
   "cell_type": "markdown",
   "id": "eb27d237",
   "metadata": {},
   "source": [
    "## Fitur yang kurang dari test set"
   ]
  },
  {
   "cell_type": "code",
   "execution_count": 414,
   "id": "0661da8c",
   "metadata": {},
   "outputs": [
    {
     "name": "stdout",
     "output_type": "stream",
     "text": [
      "<class 'pandas.core.frame.DataFrame'>\n",
      "Int64Index: 11017 entries, 0 to 16859\n",
      "Data columns (total 34 columns):\n",
      " #   Column                                              Non-Null Count  Dtype  \n",
      "---  ------                                              --------------  -----  \n",
      " 0   final.output.concentrate_ag                         11017 non-null  float64\n",
      " 1   final.output.concentrate_pb                         11017 non-null  float64\n",
      " 2   final.output.concentrate_sol                        11017 non-null  float64\n",
      " 3   final.output.concentrate_au                         11017 non-null  float64\n",
      " 4   final.output.recovery                               11017 non-null  float64\n",
      " 5   final.output.tail_ag                                11017 non-null  float64\n",
      " 6   final.output.tail_pb                                11017 non-null  float64\n",
      " 7   final.output.tail_sol                               11017 non-null  float64\n",
      " 8   final.output.tail_au                                11017 non-null  float64\n",
      " 9   primary_cleaner.output.concentrate_ag               11017 non-null  float64\n",
      " 10  primary_cleaner.output.concentrate_pb               11017 non-null  float64\n",
      " 11  primary_cleaner.output.concentrate_sol              11017 non-null  float64\n",
      " 12  primary_cleaner.output.concentrate_au               11017 non-null  float64\n",
      " 13  primary_cleaner.output.tail_ag                      11017 non-null  float64\n",
      " 14  primary_cleaner.output.tail_pb                      11017 non-null  float64\n",
      " 15  primary_cleaner.output.tail_sol                     11017 non-null  float64\n",
      " 16  primary_cleaner.output.tail_au                      11017 non-null  float64\n",
      " 17  rougher.calculation.sulfate_to_au_concentrate       11017 non-null  float64\n",
      " 18  rougher.calculation.floatbank10_sulfate_to_au_feed  11017 non-null  float64\n",
      " 19  rougher.calculation.floatbank11_sulfate_to_au_feed  11017 non-null  float64\n",
      " 20  rougher.calculation.au_pb_ratio                     11017 non-null  float64\n",
      " 21  rougher.output.concentrate_ag                       11017 non-null  float64\n",
      " 22  rougher.output.concentrate_pb                       11017 non-null  float64\n",
      " 23  rougher.output.concentrate_sol                      11017 non-null  float64\n",
      " 24  rougher.output.concentrate_au                       11017 non-null  float64\n",
      " 25  rougher.output.recovery                             11017 non-null  float64\n",
      " 26  rougher.output.tail_ag                              11017 non-null  float64\n",
      " 27  rougher.output.tail_pb                              11017 non-null  float64\n",
      " 28  rougher.output.tail_sol                             11017 non-null  float64\n",
      " 29  rougher.output.tail_au                              11017 non-null  float64\n",
      " 30  secondary_cleaner.output.tail_ag                    11017 non-null  float64\n",
      " 31  secondary_cleaner.output.tail_pb                    11017 non-null  float64\n",
      " 32  secondary_cleaner.output.tail_sol                   11017 non-null  float64\n",
      " 33  secondary_cleaner.output.tail_au                    11017 non-null  float64\n",
      "dtypes: float64(34)\n",
      "memory usage: 2.9 MB\n"
     ]
    }
   ],
   "source": [
    "# Mencari fitur yang tidak ada di test set\n",
    "df = pd.DataFrame()\n",
    "list_columns = list(test.columns)\n",
    "for col in list(train.columns):\n",
    "    if col not in list_columns: # Jika fitur di train set tidak ada di test set\n",
    "        df[col] = train[col] # Memunculkan fitur yang sama dengan train set\n",
    "df.info()"
   ]
  },
  {
   "cell_type": "markdown",
   "id": "80969015",
   "metadata": {},
   "source": [
    "**Fitur-fitur yang tidak ada di test set:**\n",
    "- Ada 9 paramater di stage `final`.\n",
    "- Ada 8 parameter di stage `primary_cleaner`.\n",
    "- Ada 13 parameter di stage `rougher`.\n",
    "- Ada 4 parameter di stage `secondary_cleaner`.\n",
    "- Total ada 34 fitur yang tidak tersedia di test set.\n",
    "\n",
    "Dengan kata lain, kita tidak menggunakan data ini untuk tahap selanjutnya yaitu analisis data."
   ]
  },
  {
   "cell_type": "markdown",
   "id": "b45b2c37",
   "metadata": {},
   "source": [
    "# Analisis Data"
   ]
  },
  {
   "cell_type": "markdown",
   "id": "2516c0a5",
   "metadata": {},
   "source": [
    "## Konsentrasi Au, Ag, Pb"
   ]
  },
  {
   "cell_type": "code",
   "execution_count": 415,
   "id": "7a4958fb",
   "metadata": {},
   "outputs": [],
   "source": [
    "'''Untuk mengetahui bagiaman perubahan konsentrasi dari setiap logam, maka dibuat tabel histogram untuk mengamati perubahannya.\n",
    "Data yang digunakan adalah data training dan kolom yang digunakan adalah kolom dari setiap proses floatasi\n",
    "'''\n",
    "\n",
    "# list untuk membuat plot konsentrasi\n",
    "concentrate_au = ['rougher.output.concentrate_au', 'primary_cleaner.output.concentrate_au', 'secondary_cleaner.output.tail_au','final.output.concentrate_au']\n",
    "concentrate_ag = ['rougher.output.concentrate_ag', 'primary_cleaner.output.concentrate_ag', 'secondary_cleaner.output.tail_ag','final.output.concentrate_ag']\n",
    "concentrate_pb = ['rougher.output.concentrate_pb', 'primary_cleaner.output.concentrate_pb', 'secondary_cleaner.output.tail_pb','final.output.concentrate_pb']\n",
    "\n",
    "# Membuat fungsi untuk plot setiap perubahan konsentrasi yang terjadi\n",
    "def plot_concentrate(data, list_stage):\n",
    "    for stage in list_stage:\n",
    "        data[stage].plot(kind='hist', legend=True, alpha=0.4)\n",
    "        plt.xlabel('concentration')"
   ]
  },
  {
   "cell_type": "code",
   "execution_count": 416,
   "id": "62c9f9fe",
   "metadata": {},
   "outputs": [
    {
     "data": {
      "image/png": "[encoded data removed]",
      "text/plain": [
       "<Figure size 432x288 with 1 Axes>"
      ]
     },
     "metadata": {
      "needs_background": "light"
     },
     "output_type": "display_data"
    }
   ],
   "source": [
    "plot_concentrate(train, concentrate_au)"
   ]
  },
  {
   "cell_type": "code",
   "execution_count": 417,
   "id": "1830fe51",
   "metadata": {},
   "outputs": [
    {
     "data": {
      "image/png": "[encoded data removed]",
      "text/plain": [
       "<Figure size 432x288 with 1 Axes>"
      ]
     },
     "metadata": {
      "needs_background": "light"
     },
     "output_type": "display_data"
    }
   ],
   "source": [
    "plot_concentrate(train, concentrate_ag)"
   ]
  },
  {
   "cell_type": "code",
   "execution_count": 418,
   "id": "4f643f9e",
   "metadata": {},
   "outputs": [
    {
     "data": {
      "image/png": "[encoded data removed]",
      "text/plain": [
       "<Figure size 432x288 with 1 Axes>"
      ]
     },
     "metadata": {
      "needs_background": "light"
     },
     "output_type": "display_data"
    }
   ],
   "source": [
    "plot_concentrate(train, concentrate_pb)"
   ]
  },
  {
   "cell_type": "markdown",
   "id": "a0e798f5",
   "metadata": {},
   "source": [
    "**Dari informasi di atas:**\n",
    "- Untuk konsentrasi yang terjadi pada logam Au, terdapat peningkatan mulai dari tahap awal pemurnian sampai pada hasil akhir mempunyai tingkat konsentrasi yang tinggi.\n",
    "- Untuk konsentrasi yang terjadi pada logam Ag, tidak terjadi peningkatan melainkan untuk final konsentratnya itu banyak yang rendah. Tidak terjadi begitu banyak perubahan jumlah konsentrat pada logam ini.\n",
    "- Untuk konsentrasi yang terjadi pada logam Pb, tidak terjadi peningkatan. Bahkan tingkat konsentrasinya sangat rendah. Tapi masih ada peningkatan dalam tahap flotasi, jika dibandingkan dengan logam Ag.\n",
    "\n",
    "Bisa kita simpulkan sementara, Au memiliki tingkat konsentrat tertinggi dibandingkan dengan Pb dan Ag."
   ]
  },
  {
   "cell_type": "markdown",
   "id": "4729d86a",
   "metadata": {},
   "source": [
    "## Membandingkan Distribusi Umpan _training_ dan _test_"
   ]
  },
  {
   "cell_type": "code",
   "execution_count": 419,
   "id": "352b2d18",
   "metadata": {},
   "outputs": [
    {
     "data": {
      "text/plain": [
       "Text(0.5, 0, 'Feed Size')"
      ]
     },
     "execution_count": 419,
     "metadata": {},
     "output_type": "execute_result"
    },
    {
     "data": {
      "image/png": "[encoded data removed]",
      "text/plain": [
       "<Figure size 432x288 with 1 Axes>"
      ]
     },
     "metadata": {
      "needs_background": "light"
     },
     "output_type": "display_data"
    }
   ],
   "source": [
    "# Membuat plot histogram\n",
    "train['rougher.input.feed_size'].plot(kind='hist', legend=True, alpha=0.5, bins=40)\n",
    "test['rougher.input.feed_size'].plot(kind='hist', legend=True, alpha=0.5, bins=40)\n",
    "plt.xlabel('Feed Size')"
   ]
  },
  {
   "cell_type": "code",
   "execution_count": 420,
   "id": "16a6aa30",
   "metadata": {},
   "outputs": [
    {
     "data": {
      "text/plain": [
       "count    11017.000000\n",
       "mean        57.215128\n",
       "std         18.913146\n",
       "min          9.659576\n",
       "25%         48.397242\n",
       "50%         53.843359\n",
       "75%         61.461770\n",
       "max        484.967466\n",
       "Name: rougher.input.feed_size, dtype: float64"
      ]
     },
     "execution_count": 420,
     "metadata": {},
     "output_type": "execute_result"
    }
   ],
   "source": [
    "train['rougher.input.feed_size'].describe()"
   ]
  },
  {
   "cell_type": "code",
   "execution_count": 421,
   "id": "a42ae55a",
   "metadata": {},
   "outputs": [
    {
     "data": {
      "text/plain": [
       "count    5383.000000\n",
       "mean       56.338644\n",
       "std        21.836788\n",
       "min         0.046369\n",
       "25%        43.913766\n",
       "50%        50.924232\n",
       "75%        62.364984\n",
       "max       477.445473\n",
       "Name: rougher.input.feed_size, dtype: float64"
      ]
     },
     "execution_count": 421,
     "metadata": {},
     "output_type": "execute_result"
    }
   ],
   "source": [
    "test['rougher.input.feed_size'].describe()"
   ]
  },
  {
   "cell_type": "markdown",
   "id": "a9a28605",
   "metadata": {},
   "source": [
    "**Berdasarkan Informasi Di Atas:** Distribusi ukuran partikel umpan dalam training set dan test set terlihat tidak jauh berbeda. Meskipun frekuensinya jauh karena jumlah data dari kedua data set."
   ]
  },
  {
   "cell_type": "markdown",
   "id": "631456d6",
   "metadata": {},
   "source": [
    "## Total Konsentrasi Di Tahapan Berbeda"
   ]
  },
  {
   "cell_type": "code",
   "execution_count": 422,
   "id": "4a25f33c",
   "metadata": {},
   "outputs": [],
   "source": [
    "# Tahapan feed\n",
    "input_feed = ['rougher.input.feed_au', 'rougher.input.feed_pb', 'rougher.input.feed_ag', 'rougher.input.feed_sol']\n",
    "\n",
    "# Tahapan yang lebih kasar\n",
    "output_rougher = ['rougher.output.concentrate_au', 'rougher.output.concentrate_pb', 'rougher.output.concentrate_ag', 'rougher.output.concentrate_sol']\n",
    "\n",
    "# Tahapan final\n",
    "final_output = ['final.output.concentrate_au', 'final.output.concentrate_ag', 'final.output.concentrate_pb', 'final.output.concentrate_sol']"
   ]
  },
  {
   "cell_type": "code",
   "execution_count": 423,
   "id": "c6e79471",
   "metadata": {},
   "outputs": [],
   "source": [
    "# Menjumlahkan semua nilai konsentrasi pada subtansi dan tahap yang berbeda\n",
    "full['total_input_feed'] = full[input_feed].sum(axis=1).reset_index(drop=True)\n",
    "full['total_output_rougher'] = full[output_rougher].sum(axis=1).reset_index(drop=True)\n",
    "full['total_final_output'] = full[final_output].sum(axis=1).reset_index(drop=True)"
   ]
  },
  {
   "cell_type": "code",
   "execution_count": 424,
   "id": "fa25475b",
   "metadata": {},
   "outputs": [
    {
     "data": {
      "text/plain": [
       "<AxesSubplot:>"
      ]
     },
     "execution_count": 424,
     "metadata": {},
     "output_type": "execute_result"
    },
    {
     "data": {
      "image/png": "[encoded data removed]",
      "text/plain": [
       "<Figure size 432x288 with 1 Axes>"
      ]
     },
     "metadata": {
      "needs_background": "light"
     },
     "output_type": "display_data"
    }
   ],
   "source": [
    "full['total_input_feed'].hist(bins=40, label='Input Concentrate')"
   ]
  },
  {
   "cell_type": "code",
   "execution_count": 425,
   "id": "2fb7d83c",
   "metadata": {},
   "outputs": [
    {
     "data": {
      "text/plain": [
       "<AxesSubplot:>"
      ]
     },
     "execution_count": 425,
     "metadata": {},
     "output_type": "execute_result"
    },
    {
     "data": {
      "image/png": "[encoded data removed]",
      "text/plain": [
       "<Figure size 432x288 with 1 Axes>"
      ]
     },
     "metadata": {
      "needs_background": "light"
     },
     "output_type": "display_data"
    }
   ],
   "source": [
    "full.boxplot(column='total_input_feed')"
   ]
  },
  {
   "cell_type": "code",
   "execution_count": 426,
   "id": "42d19ff6",
   "metadata": {},
   "outputs": [
    {
     "data": {
      "text/plain": [
       "<AxesSubplot:>"
      ]
     },
     "execution_count": 426,
     "metadata": {},
     "output_type": "execute_result"
    },
    {
     "data": {
      "image/png": "[encoded data removed]",
      "text/plain": [
       "<Figure size 432x288 with 1 Axes>"
      ]
     },
     "metadata": {
      "needs_background": "light"
     },
     "output_type": "display_data"
    }
   ],
   "source": [
    "full['total_output_rougher'].hist(bins=40, label='Output Concentrate')"
   ]
  },
  {
   "cell_type": "code",
   "execution_count": 427,
   "id": "9d3fd122",
   "metadata": {},
   "outputs": [
    {
     "data": {
      "text/plain": [
       "<AxesSubplot:>"
      ]
     },
     "execution_count": 427,
     "metadata": {},
     "output_type": "execute_result"
    },
    {
     "data": {
      "image/png": "[encoded data removed]",
      "text/plain": [
       "<Figure size 432x288 with 1 Axes>"
      ]
     },
     "metadata": {
      "needs_background": "light"
     },
     "output_type": "display_data"
    }
   ],
   "source": [
    "full.boxplot(column='total_output_rougher')"
   ]
  },
  {
   "cell_type": "code",
   "execution_count": 428,
   "id": "4fbe32d1",
   "metadata": {},
   "outputs": [
    {
     "data": {
      "text/plain": [
       "<AxesSubplot:>"
      ]
     },
     "execution_count": 428,
     "metadata": {},
     "output_type": "execute_result"
    },
    {
     "data": {
      "image/png": "[encoded data removed]",
      "text/plain": [
       "<Figure size 432x288 with 1 Axes>"
      ]
     },
     "metadata": {
      "needs_background": "light"
     },
     "output_type": "display_data"
    }
   ],
   "source": [
    "full['total_final_output'].hist(bins=40, label='Final Concentrate')"
   ]
  },
  {
   "cell_type": "code",
   "execution_count": 429,
   "id": "52a62970",
   "metadata": {},
   "outputs": [
    {
     "data": {
      "text/plain": [
       "<AxesSubplot:>"
      ]
     },
     "execution_count": 429,
     "metadata": {},
     "output_type": "execute_result"
    },
    {
     "data": {
      "image/png": "[encoded data removed]",
      "text/plain": [
       "<Figure size 432x288 with 1 Axes>"
      ]
     },
     "metadata": {
      "needs_background": "light"
     },
     "output_type": "display_data"
    }
   ],
   "source": [
    "full.boxplot(column='total_final_output')"
   ]
  },
  {
   "cell_type": "markdown",
   "id": "8cb909ef",
   "metadata": {},
   "source": [
    "Jika dilihat berdasarkan histogram yang dibuat, nilai yang dijumlahkan memiliki begitu banyak outlier. Data pada histogram juga menunjukkan bahwa data lebih condong ke kanan. Hal ini akan mempengaruhi analisis dan pembuatan model. Maka dari itu, kita akan menghapus outlier yang ada di data train."
   ]
  },
  {
   "cell_type": "markdown",
   "id": "f6c080b3",
   "metadata": {},
   "source": [
    "## Menghilangkan Outlier"
   ]
  },
  {
   "cell_type": "code",
   "execution_count": 430,
   "id": "ec78a790",
   "metadata": {},
   "outputs": [],
   "source": [
    "# def find_outlier(data):\n",
    "#     Q1 = data.quantile(0.25)\n",
    "#     Q3 = data.quantile(0.75)\n",
    "#     IQR = Q3-Q1\n",
    "#     upper_limit = Q3+(1.5*IQR)\n",
    "#     lower_limit = Q1-(1.5*IQR)\n",
    "    \n",
    "#     # plot batas atas\n",
    "#     data.to_frame().boxplot(column=[0])\n",
    "#     plt.hlines(y=upper_limit, xmin=0.9, xmax=1.1, color='red')\n",
    "    \n",
    "#     #plot batas bawah\n",
    "#     data.to_frame().boxplot(column=[0])\n",
    "#     plt.hlines(y=lower_limit, xmin=0.9, xmax=1.1, color='red')\n",
    "#     return lower_limit, upper_limit"
   ]
  },
  {
   "cell_type": "markdown",
   "id": "206a3ae1",
   "metadata": {},
   "source": [
    "### Data Feed"
   ]
  },
  {
   "cell_type": "code",
   "execution_count": 431,
   "id": "f1f2461c",
   "metadata": {},
   "outputs": [],
   "source": [
    "# Menentukan Q1, Q2, dan IQR\n",
    "Q1_feed = full['total_input_feed'].quantile(0.25)\n",
    "Q3_feed = full['total_input_feed'].quantile(0.75)\n",
    "IQR_feed = Q3_feed-Q1_feed"
   ]
  },
  {
   "cell_type": "code",
   "execution_count": 432,
   "id": "07c2517b",
   "metadata": {},
   "outputs": [],
   "source": [
    "# Menentukan batas atas dan batas bawah\n",
    "batas_atas_feed = Q3_feed+(1.5*IQR_feed)\n",
    "batas_bawah_feed = Q1_feed-(1.5*IQR_feed)"
   ]
  },
  {
   "cell_type": "code",
   "execution_count": 433,
   "id": "c103aa87",
   "metadata": {},
   "outputs": [
    {
     "data": {
      "text/plain": [
       "74.88299766799092"
      ]
     },
     "execution_count": 433,
     "metadata": {},
     "output_type": "execute_result"
    },
    {
     "data": {
      "image/png": "[encoded data removed]",
      "text/plain": [
       "<Figure size 432x288 with 1 Axes>"
      ]
     },
     "metadata": {
      "needs_background": "light"
     },
     "output_type": "display_data"
    }
   ],
   "source": [
    "# boxplot dengan memunculkan batas atas dan batas bawah\n",
    "full.boxplot(column='total_input_feed')\n",
    "plt.hlines(y=batas_atas_feed, xmin=0.9, xmax=1.1, color='red')\n",
    "batas_atas_feed"
   ]
  },
  {
   "cell_type": "code",
   "execution_count": 434,
   "id": "90334eff",
   "metadata": {},
   "outputs": [
    {
     "data": {
      "text/plain": [
       "42.575928501312646"
      ]
     },
     "execution_count": 434,
     "metadata": {},
     "output_type": "execute_result"
    },
    {
     "data": {
      "image/png": "[encoded data removed]",
      "text/plain": [
       "<Figure size 432x288 with 1 Axes>"
      ]
     },
     "metadata": {
      "needs_background": "light"
     },
     "output_type": "display_data"
    }
   ],
   "source": [
    "full.boxplot(column='total_input_feed')\n",
    "plt.hlines(y=batas_bawah_feed, xmin=0.9, xmax=1.1, color='red')\n",
    "batas_bawah_feed"
   ]
  },
  {
   "cell_type": "markdown",
   "id": "290c6804",
   "metadata": {},
   "source": [
    "### Data Output "
   ]
  },
  {
   "cell_type": "code",
   "execution_count": 435,
   "id": "070ebf7d",
   "metadata": {},
   "outputs": [],
   "source": [
    "# Menentukan Q1, Q2, dan IQR\n",
    "Q1_output = full['total_output_rougher'].quantile(0.25)\n",
    "Q3_output = full['total_output_rougher'].quantile(0.75)\n",
    "IQR_output = Q3_output-Q1_output"
   ]
  },
  {
   "cell_type": "code",
   "execution_count": 436,
   "id": "574b7420",
   "metadata": {},
   "outputs": [],
   "source": [
    "# Menentukan batas atas dan batas bawah\n",
    "batas_atas_output = Q3_output+(1.5*IQR_output)\n",
    "batas_bawah_output = Q1_output-(1.5*IQR_output)"
   ]
  },
  {
   "cell_type": "code",
   "execution_count": 437,
   "id": "1671db0c",
   "metadata": {},
   "outputs": [
    {
     "data": {
      "text/plain": [
       "87.51640117856937"
      ]
     },
     "execution_count": 437,
     "metadata": {},
     "output_type": "execute_result"
    },
    {
     "data": {
      "image/png": "[encoded data removed]",
      "text/plain": [
       "<Figure size 432x288 with 1 Axes>"
      ]
     },
     "metadata": {
      "needs_background": "light"
     },
     "output_type": "display_data"
    }
   ],
   "source": [
    "# boxplot dengan memunculkan batas atas dan batas bawah\n",
    "full.boxplot(column='total_output_rougher')\n",
    "plt.hlines(y=batas_atas_output, xmin=0.9, xmax=1.1, color='red')\n",
    "batas_atas_output"
   ]
  },
  {
   "cell_type": "code",
   "execution_count": 438,
   "id": "bf61ad28",
   "metadata": {},
   "outputs": [
    {
     "data": {
      "text/plain": [
       "53.81409291459028"
      ]
     },
     "execution_count": 438,
     "metadata": {},
     "output_type": "execute_result"
    },
    {
     "data": {
      "image/png": "[encoded data removed]",
      "text/plain": [
       "<Figure size 432x288 with 1 Axes>"
      ]
     },
     "metadata": {
      "needs_background": "light"
     },
     "output_type": "display_data"
    }
   ],
   "source": [
    "full.boxplot(column='total_output_rougher')\n",
    "plt.hlines(y=batas_bawah_output, xmin=0.9, xmax=1.1, color='red')\n",
    "batas_bawah_output"
   ]
  },
  {
   "cell_type": "markdown",
   "id": "527b316e",
   "metadata": {},
   "source": [
    "### Data Final"
   ]
  },
  {
   "cell_type": "code",
   "execution_count": 439,
   "id": "1bfeaef0",
   "metadata": {},
   "outputs": [],
   "source": [
    "# Menentukan Q1, Q2, dan IQR\n",
    "Q1_final = full['total_final_output'].quantile(0.25)\n",
    "Q3_final = full['total_final_output'].quantile(0.75)\n",
    "IQR_final = Q3_final-Q1_final"
   ]
  },
  {
   "cell_type": "code",
   "execution_count": 440,
   "id": "f4f94549",
   "metadata": {},
   "outputs": [],
   "source": [
    "# Menentukan batas atas dan batas bawah\n",
    "batas_atas_final = Q3_final+(1.5*IQR_final)\n",
    "batas_bawah_final = Q1_final-(1.5*IQR_final)"
   ]
  },
  {
   "cell_type": "code",
   "execution_count": 441,
   "id": "65134b9e",
   "metadata": {},
   "outputs": [
    {
     "data": {
      "text/plain": [
       "77.0477645580381"
      ]
     },
     "execution_count": 441,
     "metadata": {},
     "output_type": "execute_result"
    },
    {
     "data": {
      "image/png": "[encoded data removed]",
      "text/plain": [
       "<Figure size 432x288 with 1 Axes>"
      ]
     },
     "metadata": {
      "needs_background": "light"
     },
     "output_type": "display_data"
    }
   ],
   "source": [
    "# boxplot dengan memunculkan batas atas dan batas bawah\n",
    "full.boxplot(column='total_final_output')\n",
    "plt.hlines(y=batas_atas_final, xmin=0.9, xmax=1.1, color='red')\n",
    "batas_atas_final"
   ]
  },
  {
   "cell_type": "code",
   "execution_count": 442,
   "id": "e3f7ce71",
   "metadata": {},
   "outputs": [
    {
     "data": {
      "text/plain": [
       "63.275708947684315"
      ]
     },
     "execution_count": 442,
     "metadata": {},
     "output_type": "execute_result"
    },
    {
     "data": {
      "image/png": "[encoded data removed]",
      "text/plain": [
       "<Figure size 432x288 with 1 Axes>"
      ]
     },
     "metadata": {
      "needs_background": "light"
     },
     "output_type": "display_data"
    }
   ],
   "source": [
    "full.boxplot(column='total_final_output')\n",
    "plt.hlines(y=batas_bawah_final, xmin=0.9, xmax=1.1, color='red')\n",
    "batas_bawah_final"
   ]
  },
  {
   "cell_type": "markdown",
   "id": "355b1d3e",
   "metadata": {},
   "source": [
    "**Berdasarkan informasi di atas:** \n",
    "- Data feed memiliki batas atas **73.56** dan batas bawah sekitar **41.11**.\n",
    "- Data output memiliki batas atas **86.59** dan batas bawah sekitar **52.79**.\n",
    "- Data final memiliki batas atas **76.41** dan batas bawah sekitar **62.81**.\n",
    "\n",
    "Data akan difilter dengan tidak mengambil nilai outliernya."
   ]
  },
  {
   "cell_type": "code",
   "execution_count": 443,
   "id": "f93bf03f",
   "metadata": {},
   "outputs": [
    {
     "data": {
      "text/plain": [
       "(11409, 90)"
      ]
     },
     "execution_count": 443,
     "metadata": {},
     "output_type": "execute_result"
    }
   ],
   "source": [
    "# Filter data berdasarkan nilai batas bawah dan batas atas\n",
    "full_without_outlier = full.query('42.57< total_input_feed <74.88')\n",
    "full_without_outlier = full_without_outlier.query('53.81< total_output_rougher <87.51')\n",
    "full_without_outlier = full_without_outlier.query('63.27< total_final_output <77.04')\n",
    "full_without_outlier.shape"
   ]
  },
  {
   "cell_type": "code",
   "execution_count": 444,
   "id": "8df8a694",
   "metadata": {},
   "outputs": [
    {
     "data": {
      "text/plain": [
       "<AxesSubplot:>"
      ]
     },
     "execution_count": 444,
     "metadata": {},
     "output_type": "execute_result"
    },
    {
     "data": {
      "image/png": "[encoded data removed]",
      "text/plain": [
       "<Figure size 432x288 with 1 Axes>"
      ]
     },
     "metadata": {
      "needs_background": "light"
     },
     "output_type": "display_data"
    }
   ],
   "source": [
    "full_without_outlier['total_input_feed'].hist(bins=40)"
   ]
  },
  {
   "cell_type": "code",
   "execution_count": 445,
   "id": "6e2fbcc5",
   "metadata": {},
   "outputs": [
    {
     "data": {
      "text/plain": [
       "<AxesSubplot:>"
      ]
     },
     "execution_count": 445,
     "metadata": {},
     "output_type": "execute_result"
    },
    {
     "data": {
      "image/png": "[encoded data removed]",
      "text/plain": [
       "<Figure size 432x288 with 1 Axes>"
      ]
     },
     "metadata": {
      "needs_background": "light"
     },
     "output_type": "display_data"
    }
   ],
   "source": [
    "full_without_outlier['total_output_rougher'].hist(bins=40)"
   ]
  },
  {
   "cell_type": "code",
   "execution_count": 446,
   "id": "4549957d",
   "metadata": {},
   "outputs": [
    {
     "data": {
      "text/plain": [
       "<AxesSubplot:>"
      ]
     },
     "execution_count": 446,
     "metadata": {},
     "output_type": "execute_result"
    },
    {
     "data": {
      "image/png": "[encoded data removed]",
      "text/plain": [
       "<Figure size 432x288 with 1 Axes>"
      ]
     },
     "metadata": {
      "needs_background": "light"
     },
     "output_type": "display_data"
    }
   ],
   "source": [
    "full_without_outlier['total_final_output'].hist(bins=40)"
   ]
  },
  {
   "cell_type": "markdown",
   "id": "20051256",
   "metadata": {},
   "source": [
    "Data sudah terhindar dari outlier. Sekarang yang dilakukan adalah melengkapi data-data yang kurang pada `test set`."
   ]
  },
  {
   "cell_type": "markdown",
   "id": "5123fa72",
   "metadata": {},
   "source": [
    "## Menggabungkan Data"
   ]
  },
  {
   "cell_type": "code",
   "execution_count": 447,
   "id": "69dee73f",
   "metadata": {},
   "outputs": [
    {
     "name": "stdout",
     "output_type": "stream",
     "text": [
      "Ukuran data: (7595, 87)\n"
     ]
    }
   ],
   "source": [
    "# Menghilangkan outlier di train set\n",
    "total_data = full_without_outlier[['date', 'total_output_rougher']]\n",
    "train_model = train.merge(total_data, how='left', on='date')\n",
    "\n",
    "train_model = train_model[train_model['total_output_rougher'].notnull()]\n",
    "train_model = train_model.drop(['total_output_rougher'], axis=1)\n",
    "print(\"Ukuran data:\", train_model.shape)"
   ]
  },
  {
   "cell_type": "code",
   "execution_count": 448,
   "id": "c6bdf28d",
   "metadata": {},
   "outputs": [
    {
     "name": "stdout",
     "output_type": "stream",
     "text": [
      "Ukuran target: (7595, 2)\n",
      "Ukuran features (7595, 52)\n"
     ]
    }
   ],
   "source": [
    "# Menentukan target dan features pada train set\n",
    "train_targets = train_model[['rougher.output.recovery', 'final.output.recovery']]\n",
    "print(\"Ukuran target:\", train_targets.shape)\n",
    "\n",
    "'''Karena kolom di test set tidak sama dengan yang di train set, maka kolom pada train set\n",
    "akan disamakan dengan test set.\n",
    "'''\n",
    "train_features = train_model.loc[:, list(test.columns)].drop(['date'], axis=1)\n",
    "print(\"Ukuran features\", train_features.shape)"
   ]
  },
  {
   "cell_type": "markdown",
   "id": "516fc3d6",
   "metadata": {},
   "source": [
    "Karena pada test set tidak ada kolom target yaitu `rougher.output.recovery` dan `final.output.recovery`. Maka kita ambil nilai kolom itu di data full. Bukan hanyak itu, untuk menghilangkan outlier juga di test set, kita juga akan mengambil kolom `concentrate`. Jadi, total ada 10 kolom"
   ]
  },
  {
   "cell_type": "code",
   "execution_count": 449,
   "id": "1e3612ed",
   "metadata": {},
   "outputs": [
    {
     "data": {
      "text/html": [
       "<div>\n",
       "<style scoped>\n",
       "    .dataframe tbody tr th:only-of-type {\n",
       "        vertical-align: middle;\n",
       "    }\n",
       "\n",
       "    .dataframe tbody tr th {\n",
       "        vertical-align: top;\n",
       "    }\n",
       "\n",
       "    .dataframe thead th {\n",
       "        text-align: right;\n",
       "    }\n",
       "</style>\n",
       "<table border=\"1\" class=\"dataframe\">\n",
       "  <thead>\n",
       "    <tr style=\"text-align: right;\">\n",
       "      <th></th>\n",
       "      <th>date</th>\n",
       "      <th>rougher.output.recovery</th>\n",
       "      <th>final.output.recovery</th>\n",
       "      <th>rougher.output.concentrate_au</th>\n",
       "      <th>rougher.output.concentrate_pb</th>\n",
       "      <th>rougher.output.concentrate_ag</th>\n",
       "      <th>rougher.output.concentrate_sol</th>\n",
       "      <th>final.output.concentrate_au</th>\n",
       "      <th>final.output.concentrate_ag</th>\n",
       "      <th>final.output.concentrate_pb</th>\n",
       "      <th>final.output.concentrate_sol</th>\n",
       "    </tr>\n",
       "  </thead>\n",
       "  <tbody>\n",
       "    <tr>\n",
       "      <th>0</th>\n",
       "      <td>2016-01-15 00:00:00</td>\n",
       "      <td>87.107763</td>\n",
       "      <td>70.541216</td>\n",
       "      <td>19.793808</td>\n",
       "      <td>7.101074</td>\n",
       "      <td>11.500771</td>\n",
       "      <td>28.029297</td>\n",
       "      <td>42.192020</td>\n",
       "      <td>6.055403</td>\n",
       "      <td>9.889648</td>\n",
       "      <td>5.507324</td>\n",
       "    </tr>\n",
       "    <tr>\n",
       "      <th>1</th>\n",
       "      <td>2016-01-15 01:00:00</td>\n",
       "      <td>86.843261</td>\n",
       "      <td>69.266198</td>\n",
       "      <td>20.050975</td>\n",
       "      <td>7.278807</td>\n",
       "      <td>11.615865</td>\n",
       "      <td>28.067063</td>\n",
       "      <td>42.701629</td>\n",
       "      <td>6.029369</td>\n",
       "      <td>9.968944</td>\n",
       "      <td>5.257781</td>\n",
       "    </tr>\n",
       "    <tr>\n",
       "      <th>2</th>\n",
       "      <td>2016-01-15 02:00:00</td>\n",
       "      <td>86.842308</td>\n",
       "      <td>68.116445</td>\n",
       "      <td>19.737170</td>\n",
       "      <td>7.216833</td>\n",
       "      <td>11.695753</td>\n",
       "      <td>27.454037</td>\n",
       "      <td>42.657501</td>\n",
       "      <td>6.055926</td>\n",
       "      <td>10.213995</td>\n",
       "      <td>5.383759</td>\n",
       "    </tr>\n",
       "    <tr>\n",
       "      <th>3</th>\n",
       "      <td>2016-01-15 03:00:00</td>\n",
       "      <td>87.226430</td>\n",
       "      <td>68.347543</td>\n",
       "      <td>19.320810</td>\n",
       "      <td>7.175616</td>\n",
       "      <td>11.915047</td>\n",
       "      <td>27.341277</td>\n",
       "      <td>42.689819</td>\n",
       "      <td>6.047977</td>\n",
       "      <td>9.977019</td>\n",
       "      <td>4.858634</td>\n",
       "    </tr>\n",
       "    <tr>\n",
       "      <th>4</th>\n",
       "      <td>2016-01-15 04:00:00</td>\n",
       "      <td>86.688794</td>\n",
       "      <td>66.927016</td>\n",
       "      <td>19.216101</td>\n",
       "      <td>7.240205</td>\n",
       "      <td>12.411054</td>\n",
       "      <td>27.041023</td>\n",
       "      <td>42.774141</td>\n",
       "      <td>6.148599</td>\n",
       "      <td>10.142511</td>\n",
       "      <td>4.939416</td>\n",
       "    </tr>\n",
       "  </tbody>\n",
       "</table>\n",
       "</div>"
      ],
      "text/plain": [
       "                 date  rougher.output.recovery  final.output.recovery  \\\n",
       "0 2016-01-15 00:00:00                87.107763              70.541216   \n",
       "1 2016-01-15 01:00:00                86.843261              69.266198   \n",
       "2 2016-01-15 02:00:00                86.842308              68.116445   \n",
       "3 2016-01-15 03:00:00                87.226430              68.347543   \n",
       "4 2016-01-15 04:00:00                86.688794              66.927016   \n",
       "\n",
       "   rougher.output.concentrate_au  rougher.output.concentrate_pb  \\\n",
       "0                      19.793808                       7.101074   \n",
       "1                      20.050975                       7.278807   \n",
       "2                      19.737170                       7.216833   \n",
       "3                      19.320810                       7.175616   \n",
       "4                      19.216101                       7.240205   \n",
       "\n",
       "   rougher.output.concentrate_ag  rougher.output.concentrate_sol  \\\n",
       "0                      11.500771                       28.029297   \n",
       "1                      11.615865                       28.067063   \n",
       "2                      11.695753                       27.454037   \n",
       "3                      11.915047                       27.341277   \n",
       "4                      12.411054                       27.041023   \n",
       "\n",
       "   final.output.concentrate_au  final.output.concentrate_ag  \\\n",
       "0                    42.192020                     6.055403   \n",
       "1                    42.701629                     6.029369   \n",
       "2                    42.657501                     6.055926   \n",
       "3                    42.689819                     6.047977   \n",
       "4                    42.774141                     6.148599   \n",
       "\n",
       "   final.output.concentrate_pb  final.output.concentrate_sol  \n",
       "0                     9.889648                      5.507324  \n",
       "1                     9.968944                      5.257781  \n",
       "2                    10.213995                      5.383759  \n",
       "3                     9.977019                      4.858634  \n",
       "4                    10.142511                      4.939416  "
      ]
     },
     "execution_count": 449,
     "metadata": {},
     "output_type": "execute_result"
    }
   ],
   "source": [
    "# Menghilangkan outlier di test set\n",
    "data_set = ['date', 'rougher.output.recovery', 'final.output.recovery', 'rougher.output.concentrate_au', \n",
    "          'rougher.output.concentrate_pb', 'rougher.output.concentrate_ag', \n",
    "          'rougher.output.concentrate_sol', 'final.output.concentrate_au', \n",
    "          'final.output.concentrate_ag', 'final.output.concentrate_pb', 'final.output.concentrate_sol']\n",
    "data_sub_full = full.loc[:, list(data_set)]\n",
    "data_sub_full.head()"
   ]
  },
  {
   "cell_type": "code",
   "execution_count": 450,
   "id": "1a3e2ddc",
   "metadata": {},
   "outputs": [
    {
     "data": {
      "text/html": [
       "<div>\n",
       "<style scoped>\n",
       "    .dataframe tbody tr th:only-of-type {\n",
       "        vertical-align: middle;\n",
       "    }\n",
       "\n",
       "    .dataframe tbody tr th {\n",
       "        vertical-align: top;\n",
       "    }\n",
       "\n",
       "    .dataframe thead th {\n",
       "        text-align: right;\n",
       "    }\n",
       "</style>\n",
       "<table border=\"1\" class=\"dataframe\">\n",
       "  <thead>\n",
       "    <tr style=\"text-align: right;\">\n",
       "      <th></th>\n",
       "      <th>date</th>\n",
       "      <th>primary_cleaner.input.sulfate</th>\n",
       "      <th>primary_cleaner.input.depressant</th>\n",
       "      <th>primary_cleaner.input.feed_size</th>\n",
       "      <th>primary_cleaner.input.xanthate</th>\n",
       "      <th>primary_cleaner.state.floatbank8_a_air</th>\n",
       "      <th>primary_cleaner.state.floatbank8_a_level</th>\n",
       "      <th>primary_cleaner.state.floatbank8_b_air</th>\n",
       "      <th>primary_cleaner.state.floatbank8_b_level</th>\n",
       "      <th>primary_cleaner.state.floatbank8_c_air</th>\n",
       "      <th>...</th>\n",
       "      <th>rougher.output.recovery</th>\n",
       "      <th>final.output.recovery</th>\n",
       "      <th>rougher.output.concentrate_au</th>\n",
       "      <th>rougher.output.concentrate_pb</th>\n",
       "      <th>rougher.output.concentrate_ag</th>\n",
       "      <th>rougher.output.concentrate_sol</th>\n",
       "      <th>final.output.concentrate_au</th>\n",
       "      <th>final.output.concentrate_ag</th>\n",
       "      <th>final.output.concentrate_pb</th>\n",
       "      <th>final.output.concentrate_sol</th>\n",
       "    </tr>\n",
       "  </thead>\n",
       "  <tbody>\n",
       "    <tr>\n",
       "      <th>0</th>\n",
       "      <td>2016-09-01 00:59:59</td>\n",
       "      <td>210.800909</td>\n",
       "      <td>14.993118</td>\n",
       "      <td>8.080000</td>\n",
       "      <td>1.005021</td>\n",
       "      <td>1398.981301</td>\n",
       "      <td>-500.225577</td>\n",
       "      <td>1399.144926</td>\n",
       "      <td>-499.919735</td>\n",
       "      <td>1400.102998</td>\n",
       "      <td>...</td>\n",
       "      <td>89.993421</td>\n",
       "      <td>70.273583</td>\n",
       "      <td>22.186207</td>\n",
       "      <td>8.227045</td>\n",
       "      <td>15.734654</td>\n",
       "      <td>33.791932</td>\n",
       "      <td>40.743891</td>\n",
       "      <td>7.578381</td>\n",
       "      <td>10.466295</td>\n",
       "      <td>11.990938</td>\n",
       "    </tr>\n",
       "    <tr>\n",
       "      <th>1</th>\n",
       "      <td>2016-09-01 01:59:59</td>\n",
       "      <td>215.392455</td>\n",
       "      <td>14.987471</td>\n",
       "      <td>8.080000</td>\n",
       "      <td>0.990469</td>\n",
       "      <td>1398.777912</td>\n",
       "      <td>-500.057435</td>\n",
       "      <td>1398.055362</td>\n",
       "      <td>-499.778182</td>\n",
       "      <td>1396.151033</td>\n",
       "      <td>...</td>\n",
       "      <td>88.089657</td>\n",
       "      <td>68.910432</td>\n",
       "      <td>22.638279</td>\n",
       "      <td>8.309476</td>\n",
       "      <td>15.966410</td>\n",
       "      <td>34.204715</td>\n",
       "      <td>39.604292</td>\n",
       "      <td>7.813838</td>\n",
       "      <td>10.581152</td>\n",
       "      <td>12.216172</td>\n",
       "    </tr>\n",
       "    <tr>\n",
       "      <th>2</th>\n",
       "      <td>2016-09-01 02:59:59</td>\n",
       "      <td>215.259946</td>\n",
       "      <td>12.884934</td>\n",
       "      <td>7.786667</td>\n",
       "      <td>0.996043</td>\n",
       "      <td>1398.493666</td>\n",
       "      <td>-500.868360</td>\n",
       "      <td>1398.860436</td>\n",
       "      <td>-499.764529</td>\n",
       "      <td>1398.075709</td>\n",
       "      <td>...</td>\n",
       "      <td>88.412756</td>\n",
       "      <td>68.143213</td>\n",
       "      <td>21.788301</td>\n",
       "      <td>7.816041</td>\n",
       "      <td>15.885583</td>\n",
       "      <td>33.777118</td>\n",
       "      <td>40.724190</td>\n",
       "      <td>7.623392</td>\n",
       "      <td>10.424024</td>\n",
       "      <td>12.313710</td>\n",
       "    </tr>\n",
       "    <tr>\n",
       "      <th>3</th>\n",
       "      <td>2016-09-01 03:59:59</td>\n",
       "      <td>215.336236</td>\n",
       "      <td>12.006805</td>\n",
       "      <td>7.640000</td>\n",
       "      <td>0.863514</td>\n",
       "      <td>1399.618111</td>\n",
       "      <td>-498.863574</td>\n",
       "      <td>1397.440120</td>\n",
       "      <td>-499.211024</td>\n",
       "      <td>1400.129303</td>\n",
       "      <td>...</td>\n",
       "      <td>87.360133</td>\n",
       "      <td>67.776393</td>\n",
       "      <td>23.222572</td>\n",
       "      <td>7.796154</td>\n",
       "      <td>15.541272</td>\n",
       "      <td>34.775256</td>\n",
       "      <td>39.290997</td>\n",
       "      <td>8.552457</td>\n",
       "      <td>10.503229</td>\n",
       "      <td>13.074570</td>\n",
       "    </tr>\n",
       "    <tr>\n",
       "      <th>4</th>\n",
       "      <td>2016-09-01 04:59:59</td>\n",
       "      <td>199.099327</td>\n",
       "      <td>10.682530</td>\n",
       "      <td>7.530000</td>\n",
       "      <td>0.805575</td>\n",
       "      <td>1401.268123</td>\n",
       "      <td>-500.808305</td>\n",
       "      <td>1398.128818</td>\n",
       "      <td>-499.504543</td>\n",
       "      <td>1402.172226</td>\n",
       "      <td>...</td>\n",
       "      <td>83.236367</td>\n",
       "      <td>61.467078</td>\n",
       "      <td>23.741428</td>\n",
       "      <td>7.769400</td>\n",
       "      <td>14.758769</td>\n",
       "      <td>34.633033</td>\n",
       "      <td>40.254524</td>\n",
       "      <td>8.078781</td>\n",
       "      <td>10.222788</td>\n",
       "      <td>12.475427</td>\n",
       "    </tr>\n",
       "  </tbody>\n",
       "</table>\n",
       "<p>5 rows × 63 columns</p>\n",
       "</div>"
      ],
      "text/plain": [
       "                 date  primary_cleaner.input.sulfate  \\\n",
       "0 2016-09-01 00:59:59                     210.800909   \n",
       "1 2016-09-01 01:59:59                     215.392455   \n",
       "2 2016-09-01 02:59:59                     215.259946   \n",
       "3 2016-09-01 03:59:59                     215.336236   \n",
       "4 2016-09-01 04:59:59                     199.099327   \n",
       "\n",
       "   primary_cleaner.input.depressant  primary_cleaner.input.feed_size  \\\n",
       "0                         14.993118                         8.080000   \n",
       "1                         14.987471                         8.080000   \n",
       "2                         12.884934                         7.786667   \n",
       "3                         12.006805                         7.640000   \n",
       "4                         10.682530                         7.530000   \n",
       "\n",
       "   primary_cleaner.input.xanthate  primary_cleaner.state.floatbank8_a_air  \\\n",
       "0                        1.005021                             1398.981301   \n",
       "1                        0.990469                             1398.777912   \n",
       "2                        0.996043                             1398.493666   \n",
       "3                        0.863514                             1399.618111   \n",
       "4                        0.805575                             1401.268123   \n",
       "\n",
       "   primary_cleaner.state.floatbank8_a_level  \\\n",
       "0                               -500.225577   \n",
       "1                               -500.057435   \n",
       "2                               -500.868360   \n",
       "3                               -498.863574   \n",
       "4                               -500.808305   \n",
       "\n",
       "   primary_cleaner.state.floatbank8_b_air  \\\n",
       "0                             1399.144926   \n",
       "1                             1398.055362   \n",
       "2                             1398.860436   \n",
       "3                             1397.440120   \n",
       "4                             1398.128818   \n",
       "\n",
       "   primary_cleaner.state.floatbank8_b_level  \\\n",
       "0                               -499.919735   \n",
       "1                               -499.778182   \n",
       "2                               -499.764529   \n",
       "3                               -499.211024   \n",
       "4                               -499.504543   \n",
       "\n",
       "   primary_cleaner.state.floatbank8_c_air  ...  rougher.output.recovery  \\\n",
       "0                             1400.102998  ...                89.993421   \n",
       "1                             1396.151033  ...                88.089657   \n",
       "2                             1398.075709  ...                88.412756   \n",
       "3                             1400.129303  ...                87.360133   \n",
       "4                             1402.172226  ...                83.236367   \n",
       "\n",
       "   final.output.recovery  rougher.output.concentrate_au  \\\n",
       "0              70.273583                      22.186207   \n",
       "1              68.910432                      22.638279   \n",
       "2              68.143213                      21.788301   \n",
       "3              67.776393                      23.222572   \n",
       "4              61.467078                      23.741428   \n",
       "\n",
       "   rougher.output.concentrate_pb  rougher.output.concentrate_ag  \\\n",
       "0                       8.227045                      15.734654   \n",
       "1                       8.309476                      15.966410   \n",
       "2                       7.816041                      15.885583   \n",
       "3                       7.796154                      15.541272   \n",
       "4                       7.769400                      14.758769   \n",
       "\n",
       "   rougher.output.concentrate_sol  final.output.concentrate_au  \\\n",
       "0                       33.791932                    40.743891   \n",
       "1                       34.204715                    39.604292   \n",
       "2                       33.777118                    40.724190   \n",
       "3                       34.775256                    39.290997   \n",
       "4                       34.633033                    40.254524   \n",
       "\n",
       "   final.output.concentrate_ag  final.output.concentrate_pb  \\\n",
       "0                     7.578381                    10.466295   \n",
       "1                     7.813838                    10.581152   \n",
       "2                     7.623392                    10.424024   \n",
       "3                     8.552457                    10.503229   \n",
       "4                     8.078781                    10.222788   \n",
       "\n",
       "   final.output.concentrate_sol  \n",
       "0                     11.990938  \n",
       "1                     12.216172  \n",
       "2                     12.313710  \n",
       "3                     13.074570  \n",
       "4                     12.475427  \n",
       "\n",
       "[5 rows x 63 columns]"
      ]
     },
     "execution_count": 450,
     "metadata": {},
     "output_type": "execute_result"
    }
   ],
   "source": [
    "# Menggabungkan test set dengan data full\n",
    "new_test = test.merge(data_sub_full, on='date')\n",
    "new_test.head()"
   ]
  },
  {
   "cell_type": "code",
   "execution_count": 451,
   "id": "b313da76",
   "metadata": {},
   "outputs": [
    {
     "name": "stdout",
     "output_type": "stream",
     "text": [
      "Ukuran data: (3814, 63)\n"
     ]
    }
   ],
   "source": [
    "# Menghilangkan outlier di test set\n",
    "total = full_without_outlier[['date', 'total_output_rougher']]\n",
    "test_model = new_test.merge(total_data, how='left', on='date')\n",
    "\n",
    "test_model = test_model[test_model['total_output_rougher'].notnull()]\n",
    "test_model = test_model.drop(['total_output_rougher'], axis=1)\n",
    "print(\"Ukuran data:\", test_model.shape)"
   ]
  },
  {
   "cell_type": "code",
   "execution_count": 452,
   "id": "196477af",
   "metadata": {},
   "outputs": [
    {
     "name": "stdout",
     "output_type": "stream",
     "text": [
      "Ukuran target: (3814, 2)\n",
      "Ukuran target: (3814, 52)\n"
     ]
    }
   ],
   "source": [
    "# Menentukan target dan features pada test set\n",
    "test_targets = test_model[['rougher.output.recovery', 'final.output.recovery']]\n",
    "print(\"Ukuran target:\", test_targets.shape)\n",
    "\n",
    "'''Karena kolom di test set tidak sama dengan yang di train set, maka kolom pada train set\n",
    "akan disamakan dengan test set.\n",
    "'''\n",
    "test_features = test_model.loc[:, list(test.columns)].drop(['date'], axis=1)\n",
    "print(\"Ukuran target:\", test_features.shape)"
   ]
  },
  {
   "cell_type": "code",
   "execution_count": 457,
   "id": "1285042c",
   "metadata": {},
   "outputs": [
    {
     "data": {
      "text/html": [
       "<div>\n",
       "<style scoped>\n",
       "    .dataframe tbody tr th:only-of-type {\n",
       "        vertical-align: middle;\n",
       "    }\n",
       "\n",
       "    .dataframe tbody tr th {\n",
       "        vertical-align: top;\n",
       "    }\n",
       "\n",
       "    .dataframe thead th {\n",
       "        text-align: right;\n",
       "    }\n",
       "</style>\n",
       "<table border=\"1\" class=\"dataframe\">\n",
       "  <thead>\n",
       "    <tr style=\"text-align: right;\">\n",
       "      <th></th>\n",
       "      <th>primary_cleaner.input.sulfate</th>\n",
       "      <th>primary_cleaner.input.depressant</th>\n",
       "      <th>primary_cleaner.input.feed_size</th>\n",
       "      <th>primary_cleaner.input.xanthate</th>\n",
       "      <th>primary_cleaner.state.floatbank8_a_air</th>\n",
       "      <th>primary_cleaner.state.floatbank8_a_level</th>\n",
       "      <th>primary_cleaner.state.floatbank8_b_air</th>\n",
       "      <th>primary_cleaner.state.floatbank8_b_level</th>\n",
       "      <th>primary_cleaner.state.floatbank8_c_air</th>\n",
       "      <th>primary_cleaner.state.floatbank8_c_level</th>\n",
       "      <th>...</th>\n",
       "      <th>secondary_cleaner.state.floatbank4_a_air</th>\n",
       "      <th>secondary_cleaner.state.floatbank4_a_level</th>\n",
       "      <th>secondary_cleaner.state.floatbank4_b_air</th>\n",
       "      <th>secondary_cleaner.state.floatbank4_b_level</th>\n",
       "      <th>secondary_cleaner.state.floatbank5_a_air</th>\n",
       "      <th>secondary_cleaner.state.floatbank5_a_level</th>\n",
       "      <th>secondary_cleaner.state.floatbank5_b_air</th>\n",
       "      <th>secondary_cleaner.state.floatbank5_b_level</th>\n",
       "      <th>secondary_cleaner.state.floatbank6_a_air</th>\n",
       "      <th>secondary_cleaner.state.floatbank6_a_level</th>\n",
       "    </tr>\n",
       "  </thead>\n",
       "  <tbody>\n",
       "    <tr>\n",
       "      <th>0</th>\n",
       "      <td>-0.254536</td>\n",
       "      <td>0.282972</td>\n",
       "      <td>-0.381642</td>\n",
       "      <td>0.510268</td>\n",
       "      <td>-0.299720</td>\n",
       "      <td>-0.242329</td>\n",
       "      <td>-0.299403</td>\n",
       "      <td>-0.777241</td>\n",
       "      <td>-0.275836</td>\n",
       "      <td>-0.212091</td>\n",
       "      <td>...</td>\n",
       "      <td>-0.772676</td>\n",
       "      <td>-0.570880</td>\n",
       "      <td>-0.369041</td>\n",
       "      <td>-0.970198</td>\n",
       "      <td>-0.987461</td>\n",
       "      <td>-0.483945</td>\n",
       "      <td>-0.692742</td>\n",
       "      <td>-0.504134</td>\n",
       "      <td>-1.356499</td>\n",
       "      <td>-2.386653</td>\n",
       "    </tr>\n",
       "    <tr>\n",
       "      <th>1</th>\n",
       "      <td>-0.297388</td>\n",
       "      <td>0.333169</td>\n",
       "      <td>-0.381642</td>\n",
       "      <td>0.551573</td>\n",
       "      <td>-0.115044</td>\n",
       "      <td>-0.304573</td>\n",
       "      <td>-0.129145</td>\n",
       "      <td>-0.266591</td>\n",
       "      <td>-0.097135</td>\n",
       "      <td>-0.231473</td>\n",
       "      <td>...</td>\n",
       "      <td>-0.777596</td>\n",
       "      <td>-0.623262</td>\n",
       "      <td>-0.395463</td>\n",
       "      <td>-0.916451</td>\n",
       "      <td>-0.969243</td>\n",
       "      <td>-0.527106</td>\n",
       "      <td>-0.707713</td>\n",
       "      <td>-0.506545</td>\n",
       "      <td>-1.385373</td>\n",
       "      <td>-2.236432</td>\n",
       "    </tr>\n",
       "    <tr>\n",
       "      <th>2</th>\n",
       "      <td>-0.350395</td>\n",
       "      <td>0.638029</td>\n",
       "      <td>-0.381642</td>\n",
       "      <td>0.517714</td>\n",
       "      <td>0.062623</td>\n",
       "      <td>-0.276238</td>\n",
       "      <td>0.040555</td>\n",
       "      <td>-0.289498</td>\n",
       "      <td>0.080807</td>\n",
       "      <td>-0.277946</td>\n",
       "      <td>...</td>\n",
       "      <td>-0.773041</td>\n",
       "      <td>-0.571452</td>\n",
       "      <td>-0.402139</td>\n",
       "      <td>-0.913305</td>\n",
       "      <td>-0.964164</td>\n",
       "      <td>-0.526158</td>\n",
       "      <td>-0.703119</td>\n",
       "      <td>-0.505145</td>\n",
       "      <td>-1.379653</td>\n",
       "      <td>-2.277126</td>\n",
       "    </tr>\n",
       "    <tr>\n",
       "      <th>3</th>\n",
       "      <td>-0.395791</td>\n",
       "      <td>0.639780</td>\n",
       "      <td>-0.381642</td>\n",
       "      <td>0.533973</td>\n",
       "      <td>0.051515</td>\n",
       "      <td>-0.306035</td>\n",
       "      <td>0.042447</td>\n",
       "      <td>-0.260761</td>\n",
       "      <td>0.069181</td>\n",
       "      <td>-0.273700</td>\n",
       "      <td>...</td>\n",
       "      <td>-0.768734</td>\n",
       "      <td>-0.542552</td>\n",
       "      <td>-0.386794</td>\n",
       "      <td>-0.914262</td>\n",
       "      <td>-0.980288</td>\n",
       "      <td>-0.504633</td>\n",
       "      <td>-0.708885</td>\n",
       "      <td>-0.499471</td>\n",
       "      <td>-1.384015</td>\n",
       "      <td>-2.241616</td>\n",
       "    </tr>\n",
       "    <tr>\n",
       "      <th>4</th>\n",
       "      <td>-0.521233</td>\n",
       "      <td>0.816556</td>\n",
       "      <td>-0.381642</td>\n",
       "      <td>0.572980</td>\n",
       "      <td>0.061109</td>\n",
       "      <td>-0.244306</td>\n",
       "      <td>0.047855</td>\n",
       "      <td>-0.280713</td>\n",
       "      <td>0.064240</td>\n",
       "      <td>-0.278486</td>\n",
       "      <td>...</td>\n",
       "      <td>-0.770580</td>\n",
       "      <td>-0.524855</td>\n",
       "      <td>-0.395014</td>\n",
       "      <td>-0.912042</td>\n",
       "      <td>-0.987449</td>\n",
       "      <td>-0.562306</td>\n",
       "      <td>-0.721991</td>\n",
       "      <td>-0.501642</td>\n",
       "      <td>-1.385695</td>\n",
       "      <td>-2.278846</td>\n",
       "    </tr>\n",
       "  </tbody>\n",
       "</table>\n",
       "<p>5 rows × 52 columns</p>\n",
       "</div>"
      ],
      "text/plain": [
       "   primary_cleaner.input.sulfate  primary_cleaner.input.depressant  \\\n",
       "0                      -0.254536                          0.282972   \n",
       "1                      -0.297388                          0.333169   \n",
       "2                      -0.350395                          0.638029   \n",
       "3                      -0.395791                          0.639780   \n",
       "4                      -0.521233                          0.816556   \n",
       "\n",
       "   primary_cleaner.input.feed_size  primary_cleaner.input.xanthate  \\\n",
       "0                        -0.381642                        0.510268   \n",
       "1                        -0.381642                        0.551573   \n",
       "2                        -0.381642                        0.517714   \n",
       "3                        -0.381642                        0.533973   \n",
       "4                        -0.381642                        0.572980   \n",
       "\n",
       "   primary_cleaner.state.floatbank8_a_air  \\\n",
       "0                               -0.299720   \n",
       "1                               -0.115044   \n",
       "2                                0.062623   \n",
       "3                                0.051515   \n",
       "4                                0.061109   \n",
       "\n",
       "   primary_cleaner.state.floatbank8_a_level  \\\n",
       "0                                 -0.242329   \n",
       "1                                 -0.304573   \n",
       "2                                 -0.276238   \n",
       "3                                 -0.306035   \n",
       "4                                 -0.244306   \n",
       "\n",
       "   primary_cleaner.state.floatbank8_b_air  \\\n",
       "0                               -0.299403   \n",
       "1                               -0.129145   \n",
       "2                                0.040555   \n",
       "3                                0.042447   \n",
       "4                                0.047855   \n",
       "\n",
       "   primary_cleaner.state.floatbank8_b_level  \\\n",
       "0                                 -0.777241   \n",
       "1                                 -0.266591   \n",
       "2                                 -0.289498   \n",
       "3                                 -0.260761   \n",
       "4                                 -0.280713   \n",
       "\n",
       "   primary_cleaner.state.floatbank8_c_air  \\\n",
       "0                               -0.275836   \n",
       "1                               -0.097135   \n",
       "2                                0.080807   \n",
       "3                                0.069181   \n",
       "4                                0.064240   \n",
       "\n",
       "   primary_cleaner.state.floatbank8_c_level  ...  \\\n",
       "0                                 -0.212091  ...   \n",
       "1                                 -0.231473  ...   \n",
       "2                                 -0.277946  ...   \n",
       "3                                 -0.273700  ...   \n",
       "4                                 -0.278486  ...   \n",
       "\n",
       "   secondary_cleaner.state.floatbank4_a_air  \\\n",
       "0                                 -0.772676   \n",
       "1                                 -0.777596   \n",
       "2                                 -0.773041   \n",
       "3                                 -0.768734   \n",
       "4                                 -0.770580   \n",
       "\n",
       "   secondary_cleaner.state.floatbank4_a_level  \\\n",
       "0                                   -0.570880   \n",
       "1                                   -0.623262   \n",
       "2                                   -0.571452   \n",
       "3                                   -0.542552   \n",
       "4                                   -0.524855   \n",
       "\n",
       "   secondary_cleaner.state.floatbank4_b_air  \\\n",
       "0                                 -0.369041   \n",
       "1                                 -0.395463   \n",
       "2                                 -0.402139   \n",
       "3                                 -0.386794   \n",
       "4                                 -0.395014   \n",
       "\n",
       "   secondary_cleaner.state.floatbank4_b_level  \\\n",
       "0                                   -0.970198   \n",
       "1                                   -0.916451   \n",
       "2                                   -0.913305   \n",
       "3                                   -0.914262   \n",
       "4                                   -0.912042   \n",
       "\n",
       "   secondary_cleaner.state.floatbank5_a_air  \\\n",
       "0                                 -0.987461   \n",
       "1                                 -0.969243   \n",
       "2                                 -0.964164   \n",
       "3                                 -0.980288   \n",
       "4                                 -0.987449   \n",
       "\n",
       "   secondary_cleaner.state.floatbank5_a_level  \\\n",
       "0                                   -0.483945   \n",
       "1                                   -0.527106   \n",
       "2                                   -0.526158   \n",
       "3                                   -0.504633   \n",
       "4                                   -0.562306   \n",
       "\n",
       "   secondary_cleaner.state.floatbank5_b_air  \\\n",
       "0                                 -0.692742   \n",
       "1                                 -0.707713   \n",
       "2                                 -0.703119   \n",
       "3                                 -0.708885   \n",
       "4                                 -0.721991   \n",
       "\n",
       "   secondary_cleaner.state.floatbank5_b_level  \\\n",
       "0                                   -0.504134   \n",
       "1                                   -0.506545   \n",
       "2                                   -0.505145   \n",
       "3                                   -0.499471   \n",
       "4                                   -0.501642   \n",
       "\n",
       "   secondary_cleaner.state.floatbank6_a_air  \\\n",
       "0                                 -1.356499   \n",
       "1                                 -1.385373   \n",
       "2                                 -1.379653   \n",
       "3                                 -1.384015   \n",
       "4                                 -1.385695   \n",
       "\n",
       "   secondary_cleaner.state.floatbank6_a_level  \n",
       "0                                   -2.386653  \n",
       "1                                   -2.236432  \n",
       "2                                   -2.277126  \n",
       "3                                   -2.241616  \n",
       "4                                   -2.278846  \n",
       "\n",
       "[5 rows x 52 columns]"
      ]
     },
     "execution_count": 457,
     "metadata": {},
     "output_type": "execute_result"
    }
   ],
   "source": [
    "# Menerapkan standard scaler\n",
    "scaler = StandardScaler()\n",
    "\n",
    "all_features = list(train_features.columns)\n",
    "scaler.fit(train_features[all_features])\n",
    "\n",
    "train_features[all_features] = scaler.transform(train_features[all_features])\n",
    "test_features[all_features] = scaler.transform(test_features[all_features])\n",
    "train_features.head()"
   ]
  },
  {
   "cell_type": "markdown",
   "id": "1f54477c",
   "metadata": {},
   "source": [
    "Data sudah dihilangkan dari outlier dan sudah dipisahkan antara target dan juga fitur-fiturnya. Dengan begini, data sudah siap diterapkan dalam model."
   ]
  },
  {
   "cell_type": "markdown",
   "id": "97c2c0c1",
   "metadata": {},
   "source": [
    "<div class=\"alert alert-success\">\n",
    "<b>Mr. X's comment v.1</b> <a class=\"tocSkip\"></a>\n",
    "\n",
    "Bagus, semua berjalan lancar.\n",
    "\n",
    "</div>"
   ]
  },
  {
   "cell_type": "markdown",
   "id": "19d47d27",
   "metadata": {},
   "source": [
    "# Membuat Model"
   ]
  },
  {
   "cell_type": "markdown",
   "id": "e454ab36",
   "metadata": {},
   "source": [
    "## Membuat Fungsi sMAPE"
   ]
  },
  {
   "cell_type": "code",
   "execution_count": 474,
   "id": "59b93948",
   "metadata": {},
   "outputs": [],
   "source": [
    "# Fungsi untuk membuat sMAPE\n",
    "def smape_calculation(target, predictions):\n",
    "    smape_rougher = (np.mean((np.abs(target.iloc[:,0] - predictions[:,0])/\\\n",
    "                             ((np.abs(target.iloc[:,0]) + np.abs(predictions[:,0])) / 2))) * 100)\n",
    "    smape_final = (np.mean((np.abs(target.iloc[:,1] - predictions[:,1])/\\\n",
    "                             ((np.abs(target.iloc[:,1]) + np.abs(predictions[:,1])) / 2))) * 100)\n",
    "    sMAPE = 0.25 * smape_rougher + 0.75 * smape_final # rumus final sMAPE\n",
    "    return sMAPE\n",
    "sMAPE_score = make_scorer(smape_calculation) # membuat score dengan persen error"
   ]
  },
  {
   "cell_type": "markdown",
   "id": "d83111c7",
   "metadata": {},
   "source": [
    "<div class=\"alert alert-success\">\n",
    "<b>Mr. X's comment v.1</b> <a class=\"tocSkip\"></a>\n",
    "\n",
    "Bagus, semua berjalan lancar.\n",
    "\n",
    "</div>"
   ]
  },
  {
   "cell_type": "markdown",
   "id": "dadaefc7",
   "metadata": {},
   "source": [
    "## Melatih Model Linear Regression"
   ]
  },
  {
   "cell_type": "code",
   "execution_count": 471,
   "id": "e5e0c58a",
   "metadata": {
    "scrolled": false
   },
   "outputs": [
    {
     "name": "stdout",
     "output_type": "stream",
     "text": [
      "[11.83667808  9.92743648  9.22576411 13.61946762 19.48758429]\n",
      "Rata-rata score yang diperoleh dari model: 12.819386115777931\n"
     ]
    }
   ],
   "source": [
    "LR = LinearRegression()\n",
    "lr_score = cross_val_score(LR, train_features, train_targets, scoring=sMAPE_score,cv=5)\n",
    "print(lr_score)\n",
    "print(\"Rata-rata score yang diperoleh dari model:\", lr_score.mean())"
   ]
  },
  {
   "cell_type": "markdown",
   "id": "c8fa2d1c",
   "metadata": {},
   "source": [
    "## Melatih Model Decision Tree Regressor"
   ]
  },
  {
   "cell_type": "code",
   "execution_count": 472,
   "id": "3b66a09a",
   "metadata": {},
   "outputs": [
    {
     "name": "stdout",
     "output_type": "stream",
     "text": [
      "Depth: 1 Rata-rata Score: 10.086161276542782\n",
      "Depth: 2 Rata-rata Score: 9.220560020826044\n",
      "Depth: 3 Rata-rata Score: 9.223653822461975\n",
      "Depth: 4 Rata-rata Score: 9.291460591093808\n",
      "Depth: 5 Rata-rata Score: 9.591734731643882\n",
      "Depth: 6 Rata-rata Score: 9.82506796740157\n",
      "Depth: 7 Rata-rata Score: 11.628634869119196\n",
      "Depth: 8 Rata-rata Score: 11.676297749867732\n",
      "Depth: 9 Rata-rata Score: 12.190722717825258\n"
     ]
    }
   ],
   "source": [
    "STATE= 12345\n",
    "for depth in range(1, 10):\n",
    "    DST = DecisionTreeRegressor(random_state=STATE, max_depth=depth)\n",
    "    dst_score = cross_val_score(DST, train_features, train_targets, scoring=sMAPE_score,cv=5)\n",
    "    print(\"Depth:\", depth, \"Rata-rata Score:\", dst_score.mean())"
   ]
  },
  {
   "cell_type": "markdown",
   "id": "3c1f832d",
   "metadata": {},
   "source": [
    "## Melatih Model Random Forest"
   ]
  },
  {
   "cell_type": "code",
   "execution_count": 473,
   "id": "89b3eaba",
   "metadata": {},
   "outputs": [
    {
     "name": "stdout",
     "output_type": "stream",
     "text": [
      "Depth: 1 Rata-rata score: 10.0584619383074\n",
      "Depth: 2 Rata-rata score: 9.203119576201562\n",
      "Depth: 3 Rata-rata score: 9.047974122318447\n",
      "Depth: 4 Rata-rata score: 9.010630706147847\n",
      "Depth: 5 Rata-rata score: 9.119986064954222\n",
      "Depth: 6 Rata-rata score: 9.503370050385664\n",
      "Depth: 7 Rata-rata score: 9.553845368904506\n",
      "Depth: 8 Rata-rata score: 9.701977943961886\n",
      "Depth: 9 Rata-rata score: 9.963663796152767\n"
     ]
    }
   ],
   "source": [
    "for depth in range(1, 10):\n",
    "    RFT = RandomForestRegressor(n_estimators=20, max_depth=depth,random_state=STATE)\n",
    "    rft_score = cross_val_score(RFT, train_features, train_targets, scoring=sMAPE_score,cv=5)\n",
    "    print(\"Depth:\", depth, \"Rata-rata score:\", rft_score.mean())"
   ]
  },
  {
   "cell_type": "markdown",
   "id": "b1c9c942",
   "metadata": {},
   "source": [
    "**Dari informasi di atas dapat disimpulkan:** Model yang paling baik adalah model random forest regression dengan estimator 20 dan kedalaman 4, karena memiliki nilai yang paling dekat angka 0."
   ]
  },
  {
   "cell_type": "markdown",
   "id": "31ddf0f7",
   "metadata": {},
   "source": [
    "## Menerapkan Model Pada _test set_"
   ]
  },
  {
   "cell_type": "code",
   "execution_count": 154,
   "id": "5e3907e0",
   "metadata": {},
   "outputs": [
    {
     "name": "stdout",
     "output_type": "stream",
     "text": [
      "Hasil sMAPE pada test set adalah: 8.928113927005542\n"
     ]
    }
   ],
   "source": [
    "model = RandomForestRegressor(n_estimators=20, max_depth=4, random_state=STATE)\n",
    "model.fit(train_features, train_targets)\n",
    "predictions = model.predict(test_features)\n",
    "print(\"Hasil sMAPE pada test set adalah:\", smape_calculation(test_targets, predictions))"
   ]
  },
  {
   "cell_type": "markdown",
   "id": "37b34373",
   "metadata": {},
   "source": [
    "# Kesimpulan"
   ]
  },
  {
   "cell_type": "markdown",
   "id": "91c5df1b",
   "metadata": {},
   "source": [
    "Analisis Data:\n",
    "- Berdasarkan analisis data, perolehan Au meningkat dilihat dari final outputnya.\n",
    "- Untuk Ag, hasil pemurniannya menunjukkan kerendahan .\n",
    "- Untuk Pb, hasil pemurniannya sangat rendah jika dibandingkan dengan kedua subtansi Au dan Ag.\n",
    "- Data menunjukkan begitu banyak outlier ketika menghitung total rougher, final, dan input.\n",
    "\n",
    "Pengembangan Model:\n",
    "- Berdasarkan nilai sMAPE dan juga penggunaan cross validation, nilai yang paling rendah ditunjukkan pada model Random Forest dengan estimator 20 dan kedalaman 4.\n",
    "- Ketika diujikan Random Forest menggunakan test set. Mendapatkan sMAPE sebesar **8.92**."
   ]
  },
  {
   "cell_type": "code",
   "execution_count": null,
   "id": "3ef3e59c",
   "metadata": {},
   "outputs": [],
   "source": []
  }
 ],
 "metadata": {
  "kernelspec": {
   "display_name": "Python 3 (ipykernel)",
   "language": "python",
   "name": "python3"
  },
  "language_info": {
   "codemirror_mode": {
    "name": "ipython",
    "version": 3
   },
   "file_extension": ".py",
   "mimetype": "text/x-python",
   "name": "python",
   "nbconvert_exporter": "python",
   "pygments_lexer": "ipython3",
   "version": "3.9.13"
  },
  "toc": {
   "base_numbering": 1,
   "nav_menu": {},
   "number_sections": true,
   "sideBar": true,
   "skip_h1_title": true,
   "title_cell": "Table of Contents",
   "title_sidebar": "Contents",
   "toc_cell": false,
   "toc_position": {},
   "toc_section_display": true,
   "toc_window_display": false
  }
 },
 "nbformat": 4,
 "nbformat_minor": 5
}
